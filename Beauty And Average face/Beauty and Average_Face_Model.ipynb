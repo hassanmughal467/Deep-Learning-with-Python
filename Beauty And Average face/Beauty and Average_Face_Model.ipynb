{
 "cells": [
  {
   "cell_type": "code",
   "execution_count": 1,
   "metadata": {},
   "outputs": [],
   "source": [
    "from PIL import Image\n",
    "import numpy as np\n",
    "import os, shutil"
   ]
  },
  {
   "cell_type": "code",
   "execution_count": 2,
   "metadata": {},
   "outputs": [],
   "source": [
    "base_dir = 'D:/c/Desktop/PIAIC/Artificial Intelligent/3rd Quarter/deep learning/sir nasir/Complte chptrs 5 material/Beauty_Detection_Model/588139_1060756_bundle_archive'"
   ]
  },
  {
   "cell_type": "code",
   "execution_count": 3,
   "metadata": {},
   "outputs": [],
   "source": [
    "train_dir = os.path.join(base_dir, 'train') \n",
    "validation_dir = os.path.join(base_dir, 'valid') \n",
    "test_dir = os.path.join(base_dir, 'test')"
   ]
  },
  {
   "cell_type": "code",
   "execution_count": 4,
   "metadata": {},
   "outputs": [],
   "source": [
    "train_beautiful_dir = os.path.join(train_dir, 'beautiful')\n",
    "train_average_dir = os.path.join(train_dir, 'average')\n",
    "validation_beautiful_dir = os.path.join(validation_dir, 'beautiful')\n",
    "validation_average_dir = os.path.join(validation_dir, 'average')\n",
    "test_beautiful_dir = os.path.join(test_dir, 'beautiful')\n",
    "test_average_dir = os.path.join(test_dir, 'average')"
   ]
  },
  {
   "cell_type": "code",
   "execution_count": 5,
   "metadata": {},
   "outputs": [
    {
     "name": "stdout",
     "output_type": "stream",
     "text": [
      "total training beautiful images: 2000\n",
      "total training average images: 2000\n",
      "total validation beautiful images: 150\n",
      "total validation average images: 150\n",
      "total test beautiful images: 150\n",
      "total test average images: 150\n"
     ]
    }
   ],
   "source": [
    "print('total training beautiful images:', len(os.listdir(train_beautiful_dir)))\n",
    "\n",
    "print('total training average images:', len(os.listdir(train_average_dir)))\n",
    "\n",
    "print('total validation beautiful images:', len(os.listdir(validation_beautiful_dir)))\n",
    "\n",
    "print('total validation average images:', len(os.listdir(validation_average_dir)))\n",
    "\n",
    "print('total test beautiful images:', len(os.listdir(test_beautiful_dir)))\n",
    "\n",
    "print('total test average images:', len(os.listdir(test_average_dir)))"
   ]
  },
  {
   "cell_type": "markdown",
   "metadata": {},
   "source": [
    "# Building your network"
   ]
  },
  {
   "cell_type": "code",
   "execution_count": 6,
   "metadata": {},
   "outputs": [
    {
     "name": "stderr",
     "output_type": "stream",
     "text": [
      "Using TensorFlow backend.\n"
     ]
    }
   ],
   "source": [
    "from keras import layers\n",
    "from keras import models\n",
    "model = models.Sequential()\n",
    "model.add(layers.Conv2D(32, (3, 3), activation='relu',\n",
    "input_shape=(150, 150, 3)))\n",
    "model.add(layers.MaxPooling2D((2, 2)))\n",
    "model.add(layers.Conv2D(64, (3, 3), activation='relu'))\n",
    "model.add(layers.MaxPooling2D((2, 2)))\n",
    "model.add(layers.Conv2D(128, (3, 3), activation='relu'))\n",
    "model.add(layers.MaxPooling2D((2, 2)))\n",
    "model.add(layers.Conv2D(128, (3, 3), activation='relu'))\n",
    "model.add(layers.MaxPooling2D((2, 2)))\n",
    "# Dense Classifier\n",
    "model.add(layers.Flatten())\n",
    "model.add(layers.Dense(512, activation='relu'))\n",
    "model.add(layers.Dense(1, activation='sigmoid'))"
   ]
  },
  {
   "cell_type": "code",
   "execution_count": 7,
   "metadata": {},
   "outputs": [
    {
     "name": "stdout",
     "output_type": "stream",
     "text": [
      "Model: \"sequential_1\"\n",
      "_________________________________________________________________\n",
      "Layer (type)                 Output Shape              Param #   \n",
      "=================================================================\n",
      "conv2d_1 (Conv2D)            (None, 148, 148, 32)      896       \n",
      "_________________________________________________________________\n",
      "max_pooling2d_1 (MaxPooling2 (None, 74, 74, 32)        0         \n",
      "_________________________________________________________________\n",
      "conv2d_2 (Conv2D)            (None, 72, 72, 64)        18496     \n",
      "_________________________________________________________________\n",
      "max_pooling2d_2 (MaxPooling2 (None, 36, 36, 64)        0         \n",
      "_________________________________________________________________\n",
      "conv2d_3 (Conv2D)            (None, 34, 34, 128)       73856     \n",
      "_________________________________________________________________\n",
      "max_pooling2d_3 (MaxPooling2 (None, 17, 17, 128)       0         \n",
      "_________________________________________________________________\n",
      "conv2d_4 (Conv2D)            (None, 15, 15, 128)       147584    \n",
      "_________________________________________________________________\n",
      "max_pooling2d_4 (MaxPooling2 (None, 7, 7, 128)         0         \n",
      "_________________________________________________________________\n",
      "flatten_1 (Flatten)          (None, 6272)              0         \n",
      "_________________________________________________________________\n",
      "dense_1 (Dense)              (None, 512)               3211776   \n",
      "_________________________________________________________________\n",
      "dense_2 (Dense)              (None, 1)                 513       \n",
      "=================================================================\n",
      "Total params: 3,453,121\n",
      "Trainable params: 3,453,121\n",
      "Non-trainable params: 0\n",
      "_________________________________________________________________\n"
     ]
    }
   ],
   "source": [
    "model.summary()"
   ]
  },
  {
   "cell_type": "markdown",
   "metadata": {},
   "source": [
    "# Compile Model"
   ]
  },
  {
   "cell_type": "code",
   "execution_count": 8,
   "metadata": {},
   "outputs": [],
   "source": [
    "from keras import optimizers\n",
    "model.compile(loss='binary_crossentropy',\n",
    "optimizer=optimizers.RMSprop(lr=1e-4),\n",
    "metrics=['acc'])"
   ]
  },
  {
   "cell_type": "markdown",
   "metadata": {},
   "source": [
    "# Data preprocessing Using ImageGenerator¶"
   ]
  },
  {
   "cell_type": "code",
   "execution_count": 9,
   "metadata": {},
   "outputs": [
    {
     "name": "stdout",
     "output_type": "stream",
     "text": [
      "Found 4000 images belonging to 2 classes.\n",
      "Found 300 images belonging to 2 classes.\n"
     ]
    }
   ],
   "source": [
    "from keras.preprocessing.image import ImageDataGenerator\n",
    "train_datagen = ImageDataGenerator(rescale=1./255)\n",
    "test_datagen = ImageDataGenerator(rescale=1./255)\n",
    "train_generator = train_datagen.flow_from_directory(train_dir,\n",
    "                                                    target_size=(150, 150),\n",
    "                                                    batch_size=20,\n",
    "                                                    class_mode='binary')\n",
    "validation_generator = test_datagen.flow_from_directory(validation_dir,\n",
    "                                                        target_size=(150, 150),\n",
    "                                                        batch_size=20,\n",
    "                                                        class_mode='binary')"
   ]
  },
  {
   "cell_type": "markdown",
   "metadata": {},
   "source": [
    "# Fitting the model using a batch generator"
   ]
  },
  {
   "cell_type": "code",
   "execution_count": 10,
   "metadata": {},
   "outputs": [
    {
     "name": "stdout",
     "output_type": "stream",
     "text": [
      "Epoch 1/30\n",
      "100/100 [==============================] - 88s 876ms/step - loss: 0.6313 - acc: 0.6240 - val_loss: 0.4791 - val_acc: 0.7790\n",
      "Epoch 2/30\n",
      "100/100 [==============================] - 70s 697ms/step - loss: 0.5267 - acc: 0.7415 - val_loss: 0.3742 - val_acc: 0.8120\n",
      "Epoch 3/30\n",
      "100/100 [==============================] - 62s 616ms/step - loss: 0.4774 - acc: 0.7770 - val_loss: 0.5481 - val_acc: 0.8170\n",
      "Epoch 4/30\n",
      "100/100 [==============================] - 62s 622ms/step - loss: 0.4426 - acc: 0.8035 - val_loss: 0.3058 - val_acc: 0.7610\n",
      "Epoch 5/30\n",
      "100/100 [==============================] - 62s 624ms/step - loss: 0.4202 - acc: 0.8050 - val_loss: 0.3881 - val_acc: 0.7970\n",
      "Epoch 6/30\n",
      "100/100 [==============================] - 62s 624ms/step - loss: 0.4015 - acc: 0.8215 - val_loss: 0.5086 - val_acc: 0.8180\n",
      "Epoch 7/30\n",
      "100/100 [==============================] - 63s 630ms/step - loss: 0.3706 - acc: 0.8385 - val_loss: 0.3125 - val_acc: 0.8300\n",
      "Epoch 8/30\n",
      "100/100 [==============================] - 63s 628ms/step - loss: 0.3805 - acc: 0.8310 - val_loss: 0.3479 - val_acc: 0.8090\n",
      "Epoch 9/30\n",
      "100/100 [==============================] - 63s 627ms/step - loss: 0.3468 - acc: 0.8610 - val_loss: 0.2421 - val_acc: 0.8120\n",
      "Epoch 10/30\n",
      "100/100 [==============================] - 62s 624ms/step - loss: 0.3333 - acc: 0.8565 - val_loss: 0.3154 - val_acc: 0.8620\n",
      "Epoch 11/30\n",
      "100/100 [==============================] - 63s 628ms/step - loss: 0.3318 - acc: 0.8605 - val_loss: 0.5654 - val_acc: 0.8080\n",
      "Epoch 12/30\n",
      "100/100 [==============================] - 63s 628ms/step - loss: 0.2956 - acc: 0.8820 - val_loss: 0.2916 - val_acc: 0.8700\n",
      "Epoch 13/30\n",
      "100/100 [==============================] - 63s 628ms/step - loss: 0.2792 - acc: 0.8865 - val_loss: 0.5886 - val_acc: 0.8530\n",
      "Epoch 14/30\n",
      "100/100 [==============================] - 63s 627ms/step - loss: 0.2775 - acc: 0.8915 - val_loss: 0.6429 - val_acc: 0.7340\n",
      "Epoch 15/30\n",
      "100/100 [==============================] - 188s 2s/step - loss: 0.2688 - acc: 0.8915 - val_loss: 0.4210 - val_acc: 0.8850\n",
      "Epoch 16/30\n",
      "100/100 [==============================] - 67s 674ms/step - loss: 0.2480 - acc: 0.9045 - val_loss: 0.2650 - val_acc: 0.8840\n",
      "Epoch 17/30\n",
      "100/100 [==============================] - 69s 694ms/step - loss: 0.2244 - acc: 0.9165 - val_loss: 0.3508 - val_acc: 0.8920\n",
      "Epoch 18/30\n",
      "100/100 [==============================] - 69s 688ms/step - loss: 0.2390 - acc: 0.8985 - val_loss: 0.4737 - val_acc: 0.8950\n",
      "Epoch 19/30\n",
      "100/100 [==============================] - 71s 709ms/step - loss: 0.2038 - acc: 0.9215 - val_loss: 0.1298 - val_acc: 0.9150\n",
      "Epoch 20/30\n",
      "100/100 [==============================] - 75s 750ms/step - loss: 0.2112 - acc: 0.9220 - val_loss: 0.1228 - val_acc: 0.9000\n",
      "Epoch 21/30\n",
      "100/100 [==============================] - 72s 716ms/step - loss: 0.1936 - acc: 0.9295 - val_loss: 0.2930 - val_acc: 0.8970\n",
      "Epoch 22/30\n",
      "100/100 [==============================] - 70s 698ms/step - loss: 0.1839 - acc: 0.9215 - val_loss: 0.2468 - val_acc: 0.9140\n",
      "Epoch 23/30\n",
      "100/100 [==============================] - 68s 683ms/step - loss: 0.1537 - acc: 0.9450 - val_loss: 0.3071 - val_acc: 0.8490\n",
      "Epoch 24/30\n",
      "100/100 [==============================] - 68s 680ms/step - loss: 0.1763 - acc: 0.9270 - val_loss: 0.0898 - val_acc: 0.8960\n",
      "Epoch 25/30\n",
      "100/100 [==============================] - 69s 690ms/step - loss: 0.1504 - acc: 0.9460 - val_loss: 0.1983 - val_acc: 0.8990\n",
      "Epoch 26/30\n",
      "100/100 [==============================] - 70s 695ms/step - loss: 0.1508 - acc: 0.9425 - val_loss: 0.2708 - val_acc: 0.9110\n",
      "Epoch 27/30\n",
      "100/100 [==============================] - 73s 730ms/step - loss: 0.1333 - acc: 0.9555 - val_loss: 0.1335 - val_acc: 0.8750\n",
      "Epoch 28/30\n",
      "100/100 [==============================] - 72s 722ms/step - loss: 0.1387 - acc: 0.9445 - val_loss: 0.1950 - val_acc: 0.9310\n",
      "Epoch 29/30\n",
      "100/100 [==============================] - 71s 711ms/step - loss: 0.1167 - acc: 0.9560 - val_loss: 0.0490 - val_acc: 0.9380\n",
      "Epoch 30/30\n",
      "100/100 [==============================] - 71s 714ms/step - loss: 0.1136 - acc: 0.9510 - val_loss: 0.2194 - val_acc: 0.9280\n"
     ]
    }
   ],
   "source": [
    "history = model.fit_generator(train_generator,steps_per_epoch=100,\n",
    "                              epochs=30,validation_data=validation_generator,\n",
    "                              validation_steps=50)"
   ]
  },
  {
   "cell_type": "markdown",
   "metadata": {},
   "source": [
    "# Displaying curves of loss and accuracy during training"
   ]
  },
  {
   "cell_type": "code",
   "execution_count": 11,
   "metadata": {},
   "outputs": [
    {
     "data": {
      "text/plain": [
       "<matplotlib.legend.Legend at 0x26faa1afeb8>"
      ]
     },
     "execution_count": 11,
     "metadata": {},
     "output_type": "execute_result"
    }
   ],
   "source": [
    "import matplotlib.pyplot as plt\n",
    "acc = history.history['acc']\n",
    "val_acc = history.history['val_acc']\n",
    "loss = history.history['loss']\n",
    "val_loss = history.history['val_loss']\n",
    "epochs = range(1, len(acc) + 1)\n",
    "plt.plot(epochs, acc, 'bo', label='Training acc')\n",
    "plt.plot(epochs, val_acc, 'b', label='Validation acc')\n",
    "plt.title('Training and validation accuracy')\n",
    "plt.legend()\n",
    "plt.figure()\n",
    "plt.plot(epochs, loss, 'bo', label='Training loss')\n",
    "plt.plot(epochs, val_loss, 'b', label='Validation loss')\n",
    "plt.title('Training and validation loss')\n",
    "plt.legend()"
   ]
  },
  {
   "cell_type": "markdown",
   "metadata": {},
   "source": [
    "# Using data augmentation\n",
    "Defining a new convnet that includes dropout\n"
   ]
  },
  {
   "cell_type": "code",
   "execution_count": 12,
   "metadata": {},
   "outputs": [],
   "source": [
    "model = models.Sequential()\n",
    "model.add(layers.Conv2D(32, (3, 3), activation='relu',\n",
    "input_shape=(150, 150, 3)))\n",
    "model.add(layers.MaxPooling2D((2, 2)))\n",
    "model.add(layers.Conv2D(64, (3, 3), activation='relu'))\n",
    "model.add(layers.MaxPooling2D((2, 2)))\n",
    "model.add(layers.Conv2D(128, (3, 3), activation='relu'))\n",
    "model.add(layers.MaxPooling2D((2, 2)))\n",
    "model.add(layers.Conv2D(128, (3, 3), activation='relu'))\n",
    "model.add(layers.MaxPooling2D((2, 2)))\n",
    "model.add(layers.Flatten())\n",
    "model.add(layers.Dropout(0.5))\n",
    "model.add(layers.Dense(512, activation='relu'))\n",
    "model.add(layers.Dense(1, activation='sigmoid'))\n",
    "model.compile(loss='binary_crossentropy',\n",
    "optimizer=optimizers.RMSprop(lr=1e-4),\n",
    "metrics=['acc'])"
   ]
  },
  {
   "cell_type": "code",
   "execution_count": 13,
   "metadata": {},
   "outputs": [],
   "source": [
    "train_datagen = ImageDataGenerator(\n",
    "rescale=1./255,\n",
    "rotation_range=40,\n",
    "width_shift_range=0.2,\n",
    "height_shift_range=0.2,\n",
    "shear_range=0.2,\n",
    "zoom_range=0.2,\n",
    "horizontal_flip=True,)"
   ]
  },
  {
   "cell_type": "code",
   "execution_count": 14,
   "metadata": {},
   "outputs": [
    {
     "name": "stdout",
     "output_type": "stream",
     "text": [
      "Found 4000 images belonging to 2 classes.\n",
      "Found 300 images belonging to 2 classes.\n",
      "Epoch 1/100\n",
      "100/100 [==============================] - 135s 1s/step - loss: 0.6620 - acc: 0.6022 - val_loss: 0.5295 - val_acc: 0.7133\n",
      "Epoch 2/100\n",
      "100/100 [==============================] - 107s 1s/step - loss: 0.5750 - acc: 0.6991 - val_loss: 0.6387 - val_acc: 0.7800\n",
      "Epoch 3/100\n",
      "100/100 [==============================] - 106s 1s/step - loss: 0.5304 - acc: 0.7431 - val_loss: 0.6593 - val_acc: 0.7933\n",
      "Epoch 4/100\n",
      "100/100 [==============================] - 112s 1s/step - loss: 0.4993 - acc: 0.7650 - val_loss: 0.6080 - val_acc: 0.7267\n",
      "Epoch 5/100\n",
      "100/100 [==============================] - 108s 1s/step - loss: 0.4905 - acc: 0.7713 - val_loss: 0.5286 - val_acc: 0.6600\n",
      "Epoch 6/100\n",
      "100/100 [==============================] - 113s 1s/step - loss: 0.4696 - acc: 0.7881 - val_loss: 0.2809 - val_acc: 0.7500\n",
      "Epoch 7/100\n",
      "100/100 [==============================] - 108s 1s/step - loss: 0.4491 - acc: 0.7959 - val_loss: 0.3947 - val_acc: 0.8200\n",
      "Epoch 8/100\n",
      "100/100 [==============================] - 111s 1s/step - loss: 0.4338 - acc: 0.8106 - val_loss: 0.3262 - val_acc: 0.8000\n",
      "Epoch 9/100\n",
      "100/100 [==============================] - 111s 1s/step - loss: 0.4412 - acc: 0.8016 - val_loss: 0.6591 - val_acc: 0.7900\n",
      "Epoch 10/100\n",
      "100/100 [==============================] - 107s 1s/step - loss: 0.4093 - acc: 0.8159 - val_loss: 0.4529 - val_acc: 0.7800\n",
      "Epoch 11/100\n",
      "100/100 [==============================] - 107s 1s/step - loss: 0.3902 - acc: 0.8375 - val_loss: 0.5741 - val_acc: 0.7467\n",
      "Epoch 12/100\n",
      "100/100 [==============================] - 371s 4s/step - loss: 0.4009 - acc: 0.8272 - val_loss: 0.4588 - val_acc: 0.7933\n",
      "Epoch 13/100\n",
      "100/100 [==============================] - 127s 1s/step - loss: 0.3649 - acc: 0.8391 - val_loss: 0.4061 - val_acc: 0.8200\n",
      "Epoch 14/100\n",
      "100/100 [==============================] - 110s 1s/step - loss: 0.3772 - acc: 0.8350 - val_loss: 0.2077 - val_acc: 0.7667\n",
      "Epoch 15/100\n",
      "100/100 [==============================] - 113s 1s/step - loss: 0.3542 - acc: 0.8487 - val_loss: 0.1658 - val_acc: 0.8567\n",
      "Epoch 16/100\n",
      "100/100 [==============================] - 116s 1s/step - loss: 0.3542 - acc: 0.8487 - val_loss: 0.3379 - val_acc: 0.7433\n",
      "Epoch 17/100\n",
      "100/100 [==============================] - 115s 1s/step - loss: 0.3378 - acc: 0.8528 - val_loss: 0.5255 - val_acc: 0.8600\n",
      "Epoch 18/100\n",
      "100/100 [==============================] - 114s 1s/step - loss: 0.3328 - acc: 0.8641 - val_loss: 0.2645 - val_acc: 0.8600\n",
      "Epoch 19/100\n",
      "100/100 [==============================] - 114s 1s/step - loss: 0.3419 - acc: 0.8616 - val_loss: 0.1270 - val_acc: 0.8800\n",
      "Epoch 20/100\n",
      "100/100 [==============================] - 121s 1s/step - loss: 0.3332 - acc: 0.8616 - val_loss: 0.2264 - val_acc: 0.8833\n",
      "Epoch 21/100\n",
      "100/100 [==============================] - 115s 1s/step - loss: 0.3056 - acc: 0.8731 - val_loss: 0.5088 - val_acc: 0.8533\n",
      "Epoch 22/100\n",
      "100/100 [==============================] - 111s 1s/step - loss: 0.3131 - acc: 0.8684 - val_loss: 0.3261 - val_acc: 0.8767\n",
      "Epoch 23/100\n",
      "100/100 [==============================] - 110s 1s/step - loss: 0.3071 - acc: 0.8703 - val_loss: 0.1140 - val_acc: 0.8967\n",
      "Epoch 24/100\n",
      "100/100 [==============================] - 111s 1s/step - loss: 0.2793 - acc: 0.8891 - val_loss: 0.1808 - val_acc: 0.8967\n",
      "Epoch 25/100\n",
      "100/100 [==============================] - 112s 1s/step - loss: 0.2881 - acc: 0.8884 - val_loss: 0.0539 - val_acc: 0.9000\n",
      "Epoch 26/100\n",
      "100/100 [==============================] - 112s 1s/step - loss: 0.2820 - acc: 0.8809 - val_loss: 0.1764 - val_acc: 0.9133\n",
      "Epoch 27/100\n",
      "100/100 [==============================] - 113s 1s/step - loss: 0.2694 - acc: 0.8856 - val_loss: 0.9462 - val_acc: 0.9000\n",
      "Epoch 28/100\n",
      "100/100 [==============================] - 114s 1s/step - loss: 0.2732 - acc: 0.8888 - val_loss: 0.3606 - val_acc: 0.9200\n",
      "Epoch 29/100\n",
      "100/100 [==============================] - 113s 1s/step - loss: 0.2542 - acc: 0.9003 - val_loss: 0.1797 - val_acc: 0.9200\n",
      "Epoch 30/100\n",
      "100/100 [==============================] - 113s 1s/step - loss: 0.2703 - acc: 0.8872 - val_loss: 0.4233 - val_acc: 0.8900\n",
      "Epoch 31/100\n",
      "100/100 [==============================] - 117s 1s/step - loss: 0.2515 - acc: 0.8988 - val_loss: 0.1055 - val_acc: 0.9367\n",
      "Epoch 32/100\n",
      "100/100 [==============================] - 126s 1s/step - loss: 0.2502 - acc: 0.8938 - val_loss: 0.0517 - val_acc: 0.9433\n",
      "Epoch 33/100\n",
      "100/100 [==============================] - 120s 1s/step - loss: 0.2480 - acc: 0.9025 - val_loss: 0.6348 - val_acc: 0.9333\n",
      "Epoch 34/100\n",
      "100/100 [==============================] - 122s 1s/step - loss: 0.2399 - acc: 0.9000 - val_loss: 0.0638 - val_acc: 0.9400\n",
      "Epoch 35/100\n",
      "100/100 [==============================] - 113s 1s/step - loss: 0.2328 - acc: 0.9075 - val_loss: 0.4038 - val_acc: 0.9300\n",
      "Epoch 36/100\n",
      "100/100 [==============================] - 115s 1s/step - loss: 0.2186 - acc: 0.9109 - val_loss: 0.0216 - val_acc: 0.9300\n",
      "Epoch 37/100\n",
      "100/100 [==============================] - 109s 1s/step - loss: 0.2223 - acc: 0.9156 - val_loss: 0.0581 - val_acc: 0.9433\n",
      "Epoch 38/100\n",
      "100/100 [==============================] - 114s 1s/step - loss: 0.2208 - acc: 0.9131 - val_loss: 0.0617 - val_acc: 0.9467\n",
      "Epoch 39/100\n",
      "100/100 [==============================] - 108s 1s/step - loss: 0.2192 - acc: 0.9150 - val_loss: 0.2432 - val_acc: 0.9333\n",
      "Epoch 40/100\n",
      "100/100 [==============================] - 131s 1s/step - loss: 0.2074 - acc: 0.9209 - val_loss: 0.2653 - val_acc: 0.9433\n",
      "Epoch 41/100\n",
      "100/100 [==============================] - 151s 2s/step - loss: 0.2189 - acc: 0.9144 - val_loss: 0.1436 - val_acc: 0.9500\n",
      "Epoch 42/100\n",
      "100/100 [==============================] - 187s 2s/step - loss: 0.1996 - acc: 0.9262 - val_loss: 0.0939 - val_acc: 0.9567\n",
      "Epoch 43/100\n",
      "100/100 [==============================] - 173s 2s/step - loss: 0.2070 - acc: 0.9259 - val_loss: 0.3200 - val_acc: 0.9500\n",
      "Epoch 44/100\n",
      "100/100 [==============================] - 152s 2s/step - loss: 0.2014 - acc: 0.9241 - val_loss: 0.0542 - val_acc: 0.9367\n",
      "Epoch 45/100\n",
      "100/100 [==============================] - 161s 2s/step - loss: 0.2010 - acc: 0.9191 - val_loss: 0.0398 - val_acc: 0.9300\n",
      "Epoch 46/100\n",
      "100/100 [==============================] - 163s 2s/step - loss: 0.1858 - acc: 0.9322 - val_loss: 0.0176 - val_acc: 0.9500\n",
      "Epoch 47/100\n",
      "100/100 [==============================] - 164s 2s/step - loss: 0.1909 - acc: 0.9319 - val_loss: 0.1604 - val_acc: 0.9133\n",
      "Epoch 48/100\n",
      "100/100 [==============================] - 172s 2s/step - loss: 0.1810 - acc: 0.9306 - val_loss: 0.4716 - val_acc: 0.9400\n",
      "Epoch 49/100\n",
      "100/100 [==============================] - 169s 2s/step - loss: 0.1691 - acc: 0.9375 - val_loss: 0.4842 - val_acc: 0.9333\n",
      "Epoch 50/100\n",
      "100/100 [==============================] - 180s 2s/step - loss: 0.1870 - acc: 0.9294 - val_loss: 0.0627 - val_acc: 0.9467\n",
      "Epoch 51/100\n",
      "100/100 [==============================] - 162s 2s/step - loss: 0.1776 - acc: 0.9347 - val_loss: 0.1812 - val_acc: 0.9600\n",
      "Epoch 52/100\n",
      "100/100 [==============================] - 141s 1s/step - loss: 0.1773 - acc: 0.9334 - val_loss: 0.0203 - val_acc: 0.9567\n",
      "Epoch 53/100\n",
      "100/100 [==============================] - 144s 1s/step - loss: 0.1810 - acc: 0.9319 - val_loss: 0.2420 - val_acc: 0.9667\n",
      "Epoch 54/100\n",
      "100/100 [==============================] - 143s 1s/step - loss: 0.1718 - acc: 0.9347 - val_loss: 0.0105 - val_acc: 0.9600\n",
      "Epoch 55/100\n",
      "100/100 [==============================] - 149s 1s/step - loss: 0.1768 - acc: 0.9344 - val_loss: 0.0592 - val_acc: 0.9567\n",
      "Epoch 56/100\n",
      "100/100 [==============================] - 141s 1s/step - loss: 0.1632 - acc: 0.9397 - val_loss: 0.0148 - val_acc: 0.9533\n",
      "Epoch 57/100\n",
      "100/100 [==============================] - 133s 1s/step - loss: 0.1682 - acc: 0.9384 - val_loss: 0.0271 - val_acc: 0.9633\n",
      "Epoch 58/100\n",
      "100/100 [==============================] - 121s 1s/step - loss: 0.1538 - acc: 0.9431 - val_loss: 0.3998 - val_acc: 0.9533\n",
      "Epoch 59/100\n",
      "100/100 [==============================] - 124s 1s/step - loss: 0.1649 - acc: 0.9378 - val_loss: 0.0763 - val_acc: 0.9533\n",
      "Epoch 60/100\n",
      "100/100 [==============================] - 121s 1s/step - loss: 0.1695 - acc: 0.9372 - val_loss: 0.0495 - val_acc: 0.9733\n",
      "Epoch 61/100\n"
     ]
    },
    {
     "name": "stdout",
     "output_type": "stream",
     "text": [
      "100/100 [==============================] - 125s 1s/step - loss: 0.1659 - acc: 0.9362 - val_loss: 0.0168 - val_acc: 0.9700\n",
      "Epoch 62/100\n",
      "100/100 [==============================] - 125s 1s/step - loss: 0.1548 - acc: 0.9444 - val_loss: 0.1121 - val_acc: 0.9667\n",
      "Epoch 63/100\n",
      "100/100 [==============================] - 124s 1s/step - loss: 0.1633 - acc: 0.9409 - val_loss: 0.1030 - val_acc: 0.9667\n",
      "Epoch 64/100\n",
      "100/100 [==============================] - 131s 1s/step - loss: 0.1605 - acc: 0.9425 - val_loss: 0.2522 - val_acc: 0.9633\n",
      "Epoch 65/100\n",
      "100/100 [==============================] - 165s 2s/step - loss: 0.1621 - acc: 0.9397 - val_loss: 0.0822 - val_acc: 0.9600\n",
      "Epoch 66/100\n",
      "100/100 [==============================] - 166s 2s/step - loss: 0.1465 - acc: 0.9478 - val_loss: 0.2488 - val_acc: 0.9767\n",
      "Epoch 67/100\n",
      "100/100 [==============================] - 161s 2s/step - loss: 0.1526 - acc: 0.9450 - val_loss: 0.0087 - val_acc: 0.9700\n",
      "Epoch 68/100\n",
      "100/100 [==============================] - 155s 2s/step - loss: 0.1594 - acc: 0.9388 - val_loss: 0.0168 - val_acc: 0.9767\n",
      "Epoch 69/100\n",
      "100/100 [==============================] - 154s 2s/step - loss: 0.1368 - acc: 0.9522 - val_loss: 0.0035 - val_acc: 0.9767\n",
      "Epoch 70/100\n",
      "100/100 [==============================] - 147s 1s/step - loss: 0.1420 - acc: 0.9478 - val_loss: 0.0215 - val_acc: 0.9733\n",
      "Epoch 71/100\n",
      "100/100 [==============================] - 148s 1s/step - loss: 0.1428 - acc: 0.9491 - val_loss: 0.0696 - val_acc: 0.9767\n",
      "Epoch 72/100\n",
      "100/100 [==============================] - 146s 1s/step - loss: 0.1418 - acc: 0.9478 - val_loss: 0.2839 - val_acc: 0.9667\n",
      "Epoch 73/100\n",
      "100/100 [==============================] - 149s 1s/step - loss: 0.1335 - acc: 0.9522 - val_loss: 0.0034 - val_acc: 0.9733\n",
      "Epoch 74/100\n",
      "100/100 [==============================] - 152s 2s/step - loss: 0.1551 - acc: 0.9422 - val_loss: 0.1908 - val_acc: 0.9733\n",
      "Epoch 75/100\n",
      "100/100 [==============================] - 158s 2s/step - loss: 0.1357 - acc: 0.9531 - val_loss: 0.2340 - val_acc: 0.9733\n",
      "Epoch 76/100\n",
      "100/100 [==============================] - 155s 2s/step - loss: 0.1446 - acc: 0.9475 - val_loss: 0.0165 - val_acc: 0.9700\n",
      "Epoch 77/100\n",
      "100/100 [==============================] - 157s 2s/step - loss: 0.1424 - acc: 0.9491 - val_loss: 0.0858 - val_acc: 0.9833\n",
      "Epoch 78/100\n",
      "100/100 [==============================] - 156s 2s/step - loss: 0.1432 - acc: 0.9494 - val_loss: 0.0528 - val_acc: 0.9767\n",
      "Epoch 79/100\n",
      "100/100 [==============================] - 158s 2s/step - loss: 0.1447 - acc: 0.9497 - val_loss: 0.1385 - val_acc: 0.9733\n",
      "Epoch 80/100\n",
      "100/100 [==============================] - 157s 2s/step - loss: 0.1313 - acc: 0.9534 - val_loss: 0.0016 - val_acc: 0.9867\n",
      "Epoch 81/100\n",
      "100/100 [==============================] - 160s 2s/step - loss: 0.1198 - acc: 0.9597 - val_loss: 0.0059 - val_acc: 0.9800\n",
      "Epoch 82/100\n",
      "100/100 [==============================] - 201s 2s/step - loss: 0.1345 - acc: 0.9506 - val_loss: 0.0447 - val_acc: 0.9667\n",
      "Epoch 83/100\n",
      "100/100 [==============================] - 258s 3s/step - loss: 0.1350 - acc: 0.9491 - val_loss: 0.1430 - val_acc: 0.9767\n",
      "Epoch 84/100\n",
      "100/100 [==============================] - 261s 3s/step - loss: 0.1299 - acc: 0.9559 - val_loss: 0.0294 - val_acc: 0.9800\n",
      "Epoch 85/100\n",
      "100/100 [==============================] - 264s 3s/step - loss: 0.1263 - acc: 0.9566 - val_loss: 0.0138 - val_acc: 0.9800\n",
      "Epoch 86/100\n",
      "100/100 [==============================] - 268s 3s/step - loss: 0.1262 - acc: 0.9547 - val_loss: 0.0083 - val_acc: 0.9733\n",
      "Epoch 87/100\n",
      "100/100 [==============================] - 269s 3s/step - loss: 0.1191 - acc: 0.9541 - val_loss: 0.1132 - val_acc: 0.9667\n",
      "Epoch 88/100\n",
      "100/100 [==============================] - 269s 3s/step - loss: 0.1238 - acc: 0.9553 - val_loss: 0.0754 - val_acc: 0.9800\n",
      "Epoch 89/100\n",
      "100/100 [==============================] - 269s 3s/step - loss: 0.1237 - acc: 0.9556 - val_loss: 0.2803 - val_acc: 0.9767\n",
      "Epoch 90/100\n",
      "100/100 [==============================] - 264s 3s/step - loss: 0.1235 - acc: 0.9588 - val_loss: 0.0458 - val_acc: 0.9467\n",
      "Epoch 91/100\n",
      "100/100 [==============================] - 155s 2s/step - loss: 0.1301 - acc: 0.9534 - val_loss: 0.2489 - val_acc: 0.9733\n",
      "Epoch 92/100\n",
      "100/100 [==============================] - 156s 2s/step - loss: 0.1212 - acc: 0.9578 - val_loss: 0.0117 - val_acc: 0.9667\n",
      "Epoch 93/100\n",
      "100/100 [==============================] - 155s 2s/step - loss: 0.1210 - acc: 0.9588 - val_loss: 0.0555 - val_acc: 0.9833\n",
      "Epoch 94/100\n",
      "100/100 [==============================] - 156s 2s/step - loss: 0.1232 - acc: 0.9578 - val_loss: 0.0284 - val_acc: 0.9633\n",
      "Epoch 95/100\n",
      "100/100 [==============================] - 127s 1s/step - loss: 0.1184 - acc: 0.9578 - val_loss: 0.2497 - val_acc: 0.9200\n",
      "Epoch 96/100\n",
      "100/100 [==============================] - 119s 1s/step - loss: 0.1246 - acc: 0.9600 - val_loss: 0.0056 - val_acc: 0.9800\n",
      "Epoch 97/100\n",
      "100/100 [==============================] - 120s 1s/step - loss: 0.1189 - acc: 0.9597 - val_loss: 0.0039 - val_acc: 0.9867\n",
      "Epoch 98/100\n",
      "100/100 [==============================] - 119s 1s/step - loss: 0.1181 - acc: 0.9600 - val_loss: 0.0105 - val_acc: 0.9867\n",
      "Epoch 99/100\n",
      "100/100 [==============================] - 119s 1s/step - loss: 0.1169 - acc: 0.9597 - val_loss: 0.0115 - val_acc: 0.9833\n",
      "Epoch 100/100\n",
      "100/100 [==============================] - 117s 1s/step - loss: 0.1116 - acc: 0.9591 - val_loss: 0.0143 - val_acc: 0.9733\n"
     ]
    }
   ],
   "source": [
    "test_datagen = ImageDataGenerator(rescale=1./255)\n",
    "train_generator = train_datagen.flow_from_directory(\n",
    "train_dir,\n",
    "target_size=(150, 150),\n",
    "batch_size=32,\n",
    "class_mode='binary')\n",
    "validation_generator = test_datagen.flow_from_directory(\n",
    "validation_dir,\n",
    "target_size=(150, 150),\n",
    "batch_size=32,\n",
    "class_mode='binary')\n",
    "history = model.fit_generator(\n",
    "train_generator,\n",
    "steps_per_epoch=100,\n",
    "epochs=100,\n",
    "validation_data=validation_generator,\n",
    "validation_steps=50)"
   ]
  },
  {
   "cell_type": "markdown",
   "metadata": {},
   "source": [
    "# Displaying curves of loss and accuracy during training"
   ]
  },
  {
   "cell_type": "code",
   "execution_count": 15,
   "metadata": {},
   "outputs": [
    {
     "data": {
      "text/plain": [
       "<matplotlib.legend.Legend at 0x26faad42f28>"
      ]
     },
     "execution_count": 15,
     "metadata": {},
     "output_type": "execute_result"
    },
    {
     "data": {
      "image/png": "[encoded data removed]",
      "text/plain": [
       "<Figure size 432x288 with 1 Axes>"
      ]
     },
     "metadata": {
      "needs_background": "light"
     },
     "output_type": "display_data"
    },
    {
     "data": {
      "image/png": "[encoded data removed]",
      "text/plain": [
       "<Figure size 432x288 with 1 Axes>"
      ]
     },
     "metadata": {
      "needs_background": "light"
     },
     "output_type": "display_data"
    }
   ],
   "source": [
    "import matplotlib.pyplot as plt\n",
    "acc = history.history['acc']\n",
    "val_acc = history.history['val_acc']\n",
    "loss = history.history['loss']\n",
    "val_loss = history.history['val_loss']\n",
    "epochs = range(1, len(acc) + 1)\n",
    "plt.plot(epochs, acc, 'bo', label='Training acc')\n",
    "plt.plot(epochs, val_acc, 'b', label='Validation acc')\n",
    "plt.title('Training and validation accuracy')\n",
    "plt.legend()\n",
    "plt.figure()\n",
    "plt.plot(epochs, loss, 'bo', label='Training loss')\n",
    "plt.plot(epochs, val_loss, 'b', label='Validation loss')\n",
    "plt.title('Training and validation loss')\n",
    "plt.legend()"
   ]
  },
  {
   "cell_type": "code",
   "execution_count": null,
   "metadata": {},
   "outputs": [],
   "source": [
    "\n",
    "model.save(\"Using augmented_beauty_model.h5\")"
   ]
  },
  {
   "cell_type": "code",
   "execution_count": null,
   "metadata": {},
   "outputs": [],
   "source": []
  }
 ],
 "metadata": {
  "kernelspec": {
   "display_name": "Python 3",
   "language": "python",
   "name": "python3"
  },
  "language_info": {
   "codemirror_mode": {
    "name": "ipython",
    "version": 3
   },
   "file_extension": ".py",
   "mimetype": "text/x-python",
   "name": "python",
   "nbconvert_exporter": "python",
   "pygments_lexer": "ipython3",
   "version": "3.7.3"
  }
 },
 "nbformat": 4,
 "nbformat_minor": 2
}
