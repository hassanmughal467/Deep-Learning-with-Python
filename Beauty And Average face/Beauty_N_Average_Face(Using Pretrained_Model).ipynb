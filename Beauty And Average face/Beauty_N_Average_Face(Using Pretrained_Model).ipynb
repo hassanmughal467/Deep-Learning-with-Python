{
 "cells": [
  {
   "cell_type": "markdown",
   "metadata": {},
   "source": [
    "# Using a pretrained convnet"
   ]
  },
  {
   "cell_type": "markdown",
   "metadata": {},
   "source": [
    "# Fine Tuning\n",
    "###### Thus the steps for fine-tuning a network are as follow:\n",
    "###### 1 Add your custom network on top of an already-trained base network.\n",
    "###### 2 Freeze the base network.\n",
    "###### 3 Train the part you added.\n",
    "###### 4 Unfreeze some layers in the base network.\n",
    "###### 5 Jointly train both these layers and the part you added."
   ]
  },
  {
   "cell_type": "code",
   "execution_count": 1,
   "metadata": {},
   "outputs": [
    {
     "name": "stderr",
     "output_type": "stream",
     "text": [
      "Using TensorFlow backend.\n"
     ]
    }
   ],
   "source": [
    "from keras.applications import VGG16\n",
    "conv_base = VGG16(weights='imagenet',\n",
    "include_top=False,\n",
    "input_shape=(150, 150, 3))"
   ]
  },
  {
   "cell_type": "code",
   "execution_count": 2,
   "metadata": {},
   "outputs": [
    {
     "name": "stdout",
     "output_type": "stream",
     "text": [
      "Model: \"vgg16\"\n",
      "_________________________________________________________________\n",
      "Layer (type)                 Output Shape              Param #   \n",
      "=================================================================\n",
      "input_1 (InputLayer)         (None, 150, 150, 3)       0         \n",
      "_________________________________________________________________\n",
      "block1_conv1 (Conv2D)        (None, 150, 150, 64)      1792      \n",
      "_________________________________________________________________\n",
      "block1_conv2 (Conv2D)        (None, 150, 150, 64)      36928     \n",
      "_________________________________________________________________\n",
      "block1_pool (MaxPooling2D)   (None, 75, 75, 64)        0         \n",
      "_________________________________________________________________\n",
      "block2_conv1 (Conv2D)        (None, 75, 75, 128)       73856     \n",
      "_________________________________________________________________\n",
      "block2_conv2 (Conv2D)        (None, 75, 75, 128)       147584    \n",
      "_________________________________________________________________\n",
      "block2_pool (MaxPooling2D)   (None, 37, 37, 128)       0         \n",
      "_________________________________________________________________\n",
      "block3_conv1 (Conv2D)        (None, 37, 37, 256)       295168    \n",
      "_________________________________________________________________\n",
      "block3_conv2 (Conv2D)        (None, 37, 37, 256)       590080    \n",
      "_________________________________________________________________\n",
      "block3_conv3 (Conv2D)        (None, 37, 37, 256)       590080    \n",
      "_________________________________________________________________\n",
      "block3_pool (MaxPooling2D)   (None, 18, 18, 256)       0         \n",
      "_________________________________________________________________\n",
      "block4_conv1 (Conv2D)        (None, 18, 18, 512)       1180160   \n",
      "_________________________________________________________________\n",
      "block4_conv2 (Conv2D)        (None, 18, 18, 512)       2359808   \n",
      "_________________________________________________________________\n",
      "block4_conv3 (Conv2D)        (None, 18, 18, 512)       2359808   \n",
      "_________________________________________________________________\n",
      "block4_pool (MaxPooling2D)   (None, 9, 9, 512)         0         \n",
      "_________________________________________________________________\n",
      "block5_conv1 (Conv2D)        (None, 9, 9, 512)         2359808   \n",
      "_________________________________________________________________\n",
      "block5_conv2 (Conv2D)        (None, 9, 9, 512)         2359808   \n",
      "_________________________________________________________________\n",
      "block5_conv3 (Conv2D)        (None, 9, 9, 512)         2359808   \n",
      "_________________________________________________________________\n",
      "block5_pool (MaxPooling2D)   (None, 4, 4, 512)         0         \n",
      "=================================================================\n",
      "Total params: 14,714,688\n",
      "Trainable params: 14,714,688\n",
      "Non-trainable params: 0\n",
      "_________________________________________________________________\n"
     ]
    }
   ],
   "source": [
    "conv_base.summary()"
   ]
  },
  {
   "cell_type": "code",
   "execution_count": 3,
   "metadata": {},
   "outputs": [],
   "source": [
    "import os\n",
    "import numpy as np\n",
    "from keras.preprocessing.image import ImageDataGenerator\n",
    "base_dir = 'D:/c/Desktop/PIAIC/Artificial Intelligent/3rd Quarter/deep learning/sir nasir/Complte chptrs 5 material/Beauty_Detection_Model/588139_1060756_bundle_archive'\n",
    "train_dir = os.path.join(base_dir, 'train')\n",
    "validation_dir = os.path.join(base_dir, 'valid')\n",
    "test_dir = os.path.join(base_dir, 'test')"
   ]
  },
  {
   "cell_type": "markdown",
   "metadata": {},
   "source": [
    "# Unfreezed Conv2D top layer for Fine Tuning"
   ]
  },
  {
   "cell_type": "code",
   "execution_count": 4,
   "metadata": {},
   "outputs": [],
   "source": [
    "from keras import models\n",
    "from keras import layers\n",
    "model = models.Sequential()\n",
    "model.add(conv_base)\n",
    "model.add(layers.Flatten())\n",
    "model.add(layers.Dense(256, activation='relu'))\n",
    "model.add(layers.Dense(1, activation='sigmoid'))"
   ]
  },
  {
   "cell_type": "code",
   "execution_count": 5,
   "metadata": {},
   "outputs": [
    {
     "name": "stdout",
     "output_type": "stream",
     "text": [
      "Model: \"sequential_1\"\n",
      "_________________________________________________________________\n",
      "Layer (type)                 Output Shape              Param #   \n",
      "=================================================================\n",
      "vgg16 (Model)                (None, 4, 4, 512)         14714688  \n",
      "_________________________________________________________________\n",
      "flatten_1 (Flatten)          (None, 8192)              0         \n",
      "_________________________________________________________________\n",
      "dense_1 (Dense)              (None, 256)               2097408   \n",
      "_________________________________________________________________\n",
      "dense_2 (Dense)              (None, 1)                 257       \n",
      "=================================================================\n",
      "Total params: 16,812,353\n",
      "Trainable params: 16,812,353\n",
      "Non-trainable params: 0\n",
      "_________________________________________________________________\n"
     ]
    }
   ],
   "source": [
    "model.summary()"
   ]
  },
  {
   "cell_type": "markdown",
   "metadata": {},
   "source": [
    "# Freezing all layers up to a specific one\n"
   ]
  },
  {
   "cell_type": "code",
   "execution_count": 8,
   "metadata": {},
   "outputs": [],
   "source": [
    "conv_base.trainable = True\n",
    "set_trainable = False\n",
    "for layer in conv_base.layers:\n",
    "    if layer.name == 'block5_conv1':\n",
    "        set_trainable = True\n",
    "    if set_trainable:\n",
    "        layer.trainable = True\n",
    "    else:\n",
    "        layer.trainable = False"
   ]
  },
  {
   "cell_type": "markdown",
   "metadata": {},
   "source": [
    "# Training the model end to end with a frozen convolutional base"
   ]
  },
  {
   "cell_type": "code",
   "execution_count": 9,
   "metadata": {},
   "outputs": [
    {
     "name": "stdout",
     "output_type": "stream",
     "text": [
      "Found 4000 images belonging to 2 classes.\n",
      "Found 300 images belonging to 2 classes.\n"
     ]
    }
   ],
   "source": [
    "from keras.preprocessing.image import ImageDataGenerator\n",
    "from keras import optimizers\n",
    "train_datagen = ImageDataGenerator(\n",
    "        rescale=1./255,\n",
    "        rotation_range=40,\n",
    "        width_shift_range=0.2,\n",
    "        height_shift_range=0.2,\n",
    "        shear_range=0.2,\n",
    "        zoom_range=0.2,\n",
    "        horizontal_flip=True,\n",
    "        fill_mode='nearest')\n",
    "test_datagen = ImageDataGenerator(rescale=1./255)\n",
    "train_generator = train_datagen.flow_from_directory(\n",
    "        train_dir,\n",
    "        target_size=(150, 150),\n",
    "        batch_size=20,\n",
    "        class_mode='binary')\n",
    "validation_generator = test_datagen.flow_from_directory(\n",
    "            validation_dir,\n",
    "            target_size=(150, 150),\n",
    "            batch_size=20,\n",
    "            class_mode='binary')"
   ]
  },
  {
   "cell_type": "code",
   "execution_count": 10,
   "metadata": {},
   "outputs": [],
   "source": [
    "model.compile(loss='binary_crossentropy',\n",
    "            optimizer=optimizers.RMSprop(lr=2e-5),\n",
    "            metrics=['acc'])"
   ]
  },
  {
   "cell_type": "code",
   "execution_count": 11,
   "metadata": {},
   "outputs": [
    {
     "name": "stdout",
     "output_type": "stream",
     "text": [
      "Epoch 1/30\n",
      "100/100 [==============================] - 372s 4s/step - loss: 0.4618 - acc: 0.7790 - val_loss: 0.5972 - val_acc: 0.7550\n",
      "Epoch 2/30\n",
      "100/100 [==============================] - 418s 4s/step - loss: 0.3408 - acc: 0.8485 - val_loss: 0.6918 - val_acc: 0.7610\n",
      "Epoch 3/30\n",
      "100/100 [==============================] - 1133s 11s/step - loss: 0.2810 - acc: 0.8870 - val_loss: 0.7890 - val_acc: 0.7910\n",
      "Epoch 4/30\n",
      "100/100 [==============================] - 392s 4s/step - loss: 0.2688 - acc: 0.8910 - val_loss: 0.1423 - val_acc: 0.9560\n",
      "Epoch 5/30\n",
      "100/100 [==============================] - 387s 4s/step - loss: 0.2539 - acc: 0.8955 - val_loss: 0.1379 - val_acc: 0.9140\n",
      "Epoch 6/30\n",
      "100/100 [==============================] - 399s 4s/step - loss: 0.2268 - acc: 0.9095 - val_loss: 0.2977 - val_acc: 0.8410\n",
      "Epoch 7/30\n",
      "100/100 [==============================] - 417s 4s/step - loss: 0.2258 - acc: 0.9050 - val_loss: 0.1312 - val_acc: 0.9610\n",
      "Epoch 8/30\n",
      "100/100 [==============================] - 403s 4s/step - loss: 0.2069 - acc: 0.9225 - val_loss: 0.1964 - val_acc: 0.8580\n",
      "Epoch 9/30\n",
      "100/100 [==============================] - 421s 4s/step - loss: 0.2114 - acc: 0.9180 - val_loss: 0.0659 - val_acc: 0.9550\n",
      "Epoch 10/30\n",
      "100/100 [==============================] - 419s 4s/step - loss: 0.1900 - acc: 0.9305 - val_loss: 0.1498 - val_acc: 0.9370\n",
      "Epoch 11/30\n",
      "100/100 [==============================] - 410s 4s/step - loss: 0.1834 - acc: 0.9235 - val_loss: 0.1213 - val_acc: 0.9480\n",
      "Epoch 12/30\n",
      "100/100 [==============================] - 416s 4s/step - loss: 0.1909 - acc: 0.9295 - val_loss: 0.2670 - val_acc: 0.9760\n",
      "Epoch 13/30\n",
      "100/100 [==============================] - 398s 4s/step - loss: 0.1951 - acc: 0.9245 - val_loss: 0.0821 - val_acc: 0.9400\n",
      "Epoch 14/30\n",
      "100/100 [==============================] - 411s 4s/step - loss: 0.1769 - acc: 0.9340 - val_loss: 0.0789 - val_acc: 0.9290\n",
      "Epoch 15/30\n",
      "100/100 [==============================] - 425s 4s/step - loss: 0.1752 - acc: 0.9325 - val_loss: 0.3010 - val_acc: 0.9230\n",
      "Epoch 16/30\n",
      "100/100 [==============================] - 401s 4s/step - loss: 0.1607 - acc: 0.9375 - val_loss: 0.1371 - val_acc: 0.9500\n",
      "Epoch 17/30\n",
      "100/100 [==============================] - 391s 4s/step - loss: 0.1665 - acc: 0.9405 - val_loss: 0.6521 - val_acc: 0.7840\n",
      "Epoch 18/30\n",
      "100/100 [==============================] - 390s 4s/step - loss: 0.1717 - acc: 0.9360 - val_loss: 0.2431 - val_acc: 0.9270\n",
      "Epoch 19/30\n",
      "100/100 [==============================] - 396s 4s/step - loss: 0.1549 - acc: 0.9340 - val_loss: 0.0539 - val_acc: 0.9770\n",
      "Epoch 20/30\n",
      "100/100 [==============================] - 401s 4s/step - loss: 0.1582 - acc: 0.9400 - val_loss: 0.1780 - val_acc: 0.9470\n",
      "Epoch 21/30\n",
      "100/100 [==============================] - 420s 4s/step - loss: 0.1541 - acc: 0.9375 - val_loss: 0.2893 - val_acc: 0.9130\n",
      "Epoch 22/30\n",
      "100/100 [==============================] - 407s 4s/step - loss: 0.1478 - acc: 0.9450 - val_loss: 0.0368 - val_acc: 0.9250\n",
      "Epoch 23/30\n",
      "100/100 [==============================] - 412s 4s/step - loss: 0.1410 - acc: 0.9405 - val_loss: 0.3507 - val_acc: 0.9620\n",
      "Epoch 24/30\n",
      "100/100 [==============================] - 395s 4s/step - loss: 0.1578 - acc: 0.9425 - val_loss: 0.2223 - val_acc: 0.9580\n",
      "Epoch 25/30\n",
      "100/100 [==============================] - 401s 4s/step - loss: 0.1241 - acc: 0.9465 - val_loss: 0.0144 - val_acc: 0.9440\n",
      "Epoch 26/30\n",
      "100/100 [==============================] - 402s 4s/step - loss: 0.1555 - acc: 0.9390 - val_loss: 0.0205 - val_acc: 0.9820\n",
      "Epoch 27/30\n",
      "100/100 [==============================] - 398s 4s/step - loss: 0.1275 - acc: 0.9530 - val_loss: 0.0303 - val_acc: 0.9690\n",
      "Epoch 28/30\n",
      "100/100 [==============================] - 382s 4s/step - loss: 0.1503 - acc: 0.9465 - val_loss: 0.2688 - val_acc: 0.9700\n",
      "Epoch 29/30\n",
      "100/100 [==============================] - 392s 4s/step - loss: 0.1334 - acc: 0.9465 - val_loss: 0.0154 - val_acc: 0.9670\n",
      "Epoch 30/30\n",
      "100/100 [==============================] - 415s 4s/step - loss: 0.1428 - acc: 0.9490 - val_loss: 0.1629 - val_acc: 0.9480\n"
     ]
    }
   ],
   "source": [
    "history = model.fit_generator(train_generator,steps_per_epoch=100,epochs=30,validation_data=validation_generator,validation_steps=50)"
   ]
  },
  {
   "cell_type": "code",
   "execution_count": 13,
   "metadata": {},
   "outputs": [
    {
     "data": {
      "image/png": "[encoded data removed]",
      "text/plain": [
       "<Figure size 432x288 with 1 Axes>"
      ]
     },
     "metadata": {
      "needs_background": "light"
     },
     "output_type": "display_data"
    },
    {
     "data": {
      "image/png": "[encoded data removed]",
      "text/plain": [
       "<Figure size 432x288 with 1 Axes>"
      ]
     },
     "metadata": {
      "needs_background": "light"
     },
     "output_type": "display_data"
    }
   ],
   "source": [
    "import matplotlib.pyplot as plt\n",
    "acc = history.history['acc']\n",
    "val_acc = history.history['val_acc']\n",
    "loss = history.history['loss']\n",
    "val_loss = history.history['val_loss']\n",
    "epochs = range(1, len(acc) + 1)\n",
    "plt.plot(epochs, acc, 'bo', label='Training acc')\n",
    "plt.plot(epochs, val_acc, 'b', label='Validation acc')\n",
    "plt.title('Training and validation accuracy')\n",
    "plt.legend()\n",
    "plt.figure()\n",
    "plt.plot(epochs, loss, 'bo', label='Training loss')\n",
    "plt.plot(epochs, val_loss, 'b', label='Validation loss')\n",
    "plt.title('Training and validation loss')\n",
    "plt.legend()\n",
    "plt.show()"
   ]
  },
  {
   "cell_type": "code",
   "execution_count": 14,
   "metadata": {},
   "outputs": [],
   "source": [
    "model.save(\"Beauty_N_Average_FineTune.h5\")"
   ]
  },
  {
   "cell_type": "code",
   "execution_count": null,
   "metadata": {},
   "outputs": [],
   "source": []
  }
 ],
 "metadata": {
  "kernelspec": {
   "display_name": "Python 3",
   "language": "python",
   "name": "python3"
  },
  "language_info": {
   "codemirror_mode": {
    "name": "ipython",
    "version": 3
   },
   "file_extension": ".py",
   "mimetype": "text/x-python",
   "name": "python",
   "nbconvert_exporter": "python",
   "pygments_lexer": "ipython3",
   "version": "3.7.3"
  }
 },
 "nbformat": 4,
 "nbformat_minor": 2
}
