{
 "cells": [
  {
   "cell_type": "markdown",
   "metadata": {},
   "source": [
    "# Using a pretrained convnet"
   ]
  },
  {
   "cell_type": "code",
   "execution_count": 1,
   "metadata": {},
   "outputs": [
    {
     "name": "stderr",
     "output_type": "stream",
     "text": [
      "Using TensorFlow backend.\n"
     ]
    }
   ],
   "source": [
    "from keras.applications import VGG16\n",
    "conv_base = VGG16(weights='imagenet',\n",
    "include_top=False,\n",
    "input_shape=(150, 150, 3))"
   ]
  },
  {
   "cell_type": "markdown",
   "metadata": {},
   "source": [
    "# **FAST FEATURE EXTRACTION WITHOUT DATA AUGMENTATION\n",
    "Extracting features using the pretrained convolutional base**"
   ]
  },
  {
   "cell_type": "code",
   "execution_count": 2,
   "metadata": {},
   "outputs": [],
   "source": [
    "import os\n",
    "import numpy as np\n",
    "from keras.preprocessing.image import ImageDataGenerator\n",
    "base_dir = 'D:/c/Desktop/PIAIC/Artificial Intelligent/3rd Quarter/deep learning/sir nasir/Complte chptrs 5 material/Beauty_Detection_Model/588139_1060756_bundle_archive'\n",
    "train_dir = os.path.join(base_dir, 'train')\n",
    "validation_dir = os.path.join(base_dir, 'valid')\n",
    "test_dir = os.path.join(base_dir, 'test')"
   ]
  },
  {
   "cell_type": "code",
   "execution_count": 3,
   "metadata": {},
   "outputs": [],
   "source": [
    "datagen = ImageDataGenerator(rescale=1./255)\n",
    "batch_size = 20\n",
    "def extract_features(directory, sample_count):\n",
    "    features = np.zeros(shape=(sample_count, 4, 4, 512))\n",
    "    labels = np.zeros(shape=(sample_count))\n",
    "    generator = datagen.flow_from_directory(\n",
    "        directory,\n",
    "        target_size=(150, 150),\n",
    "        batch_size=batch_size,\n",
    "        class_mode='binary')\n",
    "    i=0\n",
    "    for inputs_batch, labels_batch in generator:\n",
    "        features_batch = conv_base.predict(inputs_batch) #feature map\n",
    "        features[i * batch_size : (i + 1) * batch_size] = features_batch\n",
    "        labels[i * batch_size : (i + 1) * batch_size] = labels_batch\n",
    "        i += 1\n",
    "        if i * batch_size >= sample_count:\n",
    "            break\n",
    "        return features, labels"
   ]
  },
  {
   "cell_type": "code",
   "execution_count": 4,
   "metadata": {},
   "outputs": [
    {
     "name": "stdout",
     "output_type": "stream",
     "text": [
      "Found 4000 images belonging to 2 classes.\n",
      "Found 300 images belonging to 2 classes.\n",
      "Found 300 images belonging to 2 classes.\n"
     ]
    }
   ],
   "source": [
    "train_features, train_labels = extract_features(train_dir, 2000)\n",
    "validation_features, validation_labels = extract_features(validation_dir, 1000)\n",
    "test_features, test_labels = extract_features(test_dir, 1000)\n",
    "train_features = np.reshape(train_features, (2000, 4*4* 512))\n",
    "validation_features = np.reshape(validation_features, (1000, 4*4* 512))\n",
    "test_features = np.reshape(test_features, (1000, 4*4* 512))"
   ]
  },
  {
   "cell_type": "markdown",
   "metadata": {},
   "source": [
    "# Defining and training the densely connected classifier"
   ]
  },
  {
   "cell_type": "code",
   "execution_count": 5,
   "metadata": {},
   "outputs": [],
   "source": [
    "from keras import models\n",
    "from keras import layers\n",
    "from keras import optimizers\n",
    "model = models.Sequential()\n",
    "model.add(layers.Dense(256, activation='relu', input_dim=4 * 4 * 512))\n",
    "model.add(layers.Dropout(0.5))\n",
    "model.add(layers.Dense(1, activation='sigmoid'))"
   ]
  },
  {
   "cell_type": "code",
   "execution_count": 6,
   "metadata": {},
   "outputs": [],
   "source": [
    "model.compile(optimizer=optimizers.RMSprop(lr=2e-5),\n",
    "              loss='binary_crossentropy',\n",
    "              metrics=['acc'])"
   ]
  },
  {
   "cell_type": "code",
   "execution_count": 7,
   "metadata": {},
   "outputs": [
    {
     "name": "stdout",
     "output_type": "stream",
     "text": [
      "Train on 2000 samples, validate on 1000 samples\n",
      "Epoch 1/30\n",
      "2000/2000 [==============================] - 4s 2ms/step - loss: 0.6933 - acc: 0.9860 - val_loss: 0.6891 - val_acc: 0.9900\n",
      "Epoch 2/30\n",
      "2000/2000 [==============================] - 4s 2ms/step - loss: 0.6875 - acc: 0.9955 - val_loss: 0.6839 - val_acc: 0.9910\n",
      "Epoch 3/30\n",
      "2000/2000 [==============================] - 4s 2ms/step - loss: 0.6812 - acc: 0.9975 - val_loss: 0.6770 - val_acc: 0.9930\n",
      "Epoch 4/30\n",
      "2000/2000 [==============================] - 4s 2ms/step - loss: 0.6743 - acc: 0.9965 - val_loss: 0.6703 - val_acc: 0.9930\n",
      "Epoch 5/30\n",
      "2000/2000 [==============================] - 4s 2ms/step - loss: 0.6677 - acc: 0.9965 - val_loss: 0.6634 - val_acc: 0.9950\n",
      "Epoch 6/30\n",
      "2000/2000 [==============================] - 4s 2ms/step - loss: 0.6607 - acc: 0.9960 - val_loss: 0.6562 - val_acc: 0.9940\n",
      "Epoch 7/30\n",
      "2000/2000 [==============================] - 4s 2ms/step - loss: 0.6536 - acc: 0.9975 - val_loss: 0.6491 - val_acc: 0.9940\n",
      "Epoch 8/30\n",
      "2000/2000 [==============================] - 4s 2ms/step - loss: 0.6458 - acc: 0.9980 - val_loss: 0.6415 - val_acc: 0.9940\n",
      "Epoch 9/30\n",
      "2000/2000 [==============================] - 4s 2ms/step - loss: 0.6363 - acc: 0.9990 - val_loss: 0.6341 - val_acc: 0.9960\n",
      "Epoch 10/30\n",
      "2000/2000 [==============================] - 4s 2ms/step - loss: 0.6297 - acc: 0.9990 - val_loss: 0.6257 - val_acc: 0.9950\n",
      "Epoch 11/30\n",
      "2000/2000 [==============================] - 4s 2ms/step - loss: 0.6205 - acc: 0.9985 - val_loss: 0.6177 - val_acc: 0.9950\n",
      "Epoch 12/30\n",
      "2000/2000 [==============================] - 4s 2ms/step - loss: 0.6139 - acc: 0.9980 - val_loss: 0.6091 - val_acc: 0.9970\n",
      "Epoch 13/30\n",
      "2000/2000 [==============================] - 4s 2ms/step - loss: 0.6040 - acc: 1.0000 - val_loss: 0.6009 - val_acc: 0.9950\n",
      "Epoch 14/30\n",
      "2000/2000 [==============================] - 4s 2ms/step - loss: 0.5949 - acc: 0.9990 - val_loss: 0.5917 - val_acc: 0.9950\n",
      "Epoch 15/30\n",
      "2000/2000 [==============================] - 4s 2ms/step - loss: 0.5872 - acc: 0.9990 - val_loss: 0.5829 - val_acc: 0.9950\n",
      "Epoch 16/30\n",
      "2000/2000 [==============================] - 4s 2ms/step - loss: 0.5762 - acc: 1.0000 - val_loss: 0.5738 - val_acc: 0.9970\n",
      "Epoch 17/30\n",
      "2000/2000 [==============================] - 4s 2ms/step - loss: 0.5684 - acc: 0.9995 - val_loss: 0.5649 - val_acc: 0.9970\n",
      "Epoch 18/30\n",
      "2000/2000 [==============================] - 4s 2ms/step - loss: 0.5581 - acc: 0.9995 - val_loss: 0.5557 - val_acc: 0.9970\n",
      "Epoch 19/30\n",
      "2000/2000 [==============================] - 4s 2ms/step - loss: 0.5497 - acc: 0.9995 - val_loss: 0.5466 - val_acc: 0.9950\n",
      "Epoch 20/30\n",
      "2000/2000 [==============================] - 4s 2ms/step - loss: 0.5399 - acc: 0.9995 - val_loss: 0.5368 - val_acc: 0.9970\n",
      "Epoch 21/30\n",
      "2000/2000 [==============================] - 4s 2ms/step - loss: 0.5301 - acc: 0.9990 - val_loss: 0.5274 - val_acc: 0.9970\n",
      "Epoch 22/30\n",
      "2000/2000 [==============================] - 4s 2ms/step - loss: 0.5201 - acc: 1.0000 - val_loss: 0.5176 - val_acc: 0.9970\n",
      "Epoch 23/30\n",
      "2000/2000 [==============================] - 4s 2ms/step - loss: 0.5107 - acc: 1.0000 - val_loss: 0.5079 - val_acc: 0.9950\n",
      "Epoch 24/30\n",
      "2000/2000 [==============================] - 4s 2ms/step - loss: 0.5008 - acc: 1.0000 - val_loss: 0.4981 - val_acc: 0.9950\n",
      "Epoch 25/30\n",
      "2000/2000 [==============================] - 4s 2ms/step - loss: 0.4911 - acc: 0.9990 - val_loss: 0.4885 - val_acc: 0.9970\n",
      "Epoch 26/30\n",
      "2000/2000 [==============================] - 4s 2ms/step - loss: 0.4807 - acc: 1.0000 - val_loss: 0.4784 - val_acc: 0.9970\n",
      "Epoch 27/30\n",
      "2000/2000 [==============================] - 4s 2ms/step - loss: 0.4729 - acc: 0.9995 - val_loss: 0.4683 - val_acc: 0.9970\n",
      "Epoch 28/30\n",
      "2000/2000 [==============================] - 4s 2ms/step - loss: 0.4619 - acc: 0.9995 - val_loss: 0.4584 - val_acc: 0.9970\n",
      "Epoch 29/30\n",
      "2000/2000 [==============================] - 4s 2ms/step - loss: 0.4503 - acc: 1.0000 - val_loss: 0.4484 - val_acc: 0.9970\n",
      "Epoch 30/30\n",
      "2000/2000 [==============================] - 4s 2ms/step - loss: 0.4406 - acc: 0.9995 - val_loss: 0.4386 - val_acc: 0.9970\n"
     ]
    }
   ],
   "source": [
    "history = model.fit(train_features, train_labels,\n",
    "                    epochs=30,\n",
    "                    batch_size=20,\n",
    "                    validation_data=(validation_features, validation_labels))"
   ]
  },
  {
   "cell_type": "markdown",
   "metadata": {},
   "source": [
    "# Plotting the results"
   ]
  },
  {
   "cell_type": "code",
   "execution_count": 9,
   "metadata": {},
   "outputs": [
    {
     "data": {
      "image/png": "[encoded data removed]",
      "text/plain": [
       "<Figure size 432x288 with 1 Axes>"
      ]
     },
     "metadata": {
      "needs_background": "light"
     },
     "output_type": "display_data"
    },
    {
     "data": {
      "image/png": "[encoded data removed]",
      "text/plain": [
       "<Figure size 432x288 with 1 Axes>"
      ]
     },
     "metadata": {
      "needs_background": "light"
     },
     "output_type": "display_data"
    }
   ],
   "source": [
    "import matplotlib.pyplot as plt\n",
    "acc = history.history['acc']\n",
    "val_acc = history.history['val_acc']\n",
    "loss = history.history['loss']\n",
    "val_loss = history.history['val_loss']\n",
    "epochs = range(1, len(acc) + 1)\n",
    "plt.plot(epochs, acc, 'bo', label='Training acc')\n",
    "plt.plot(epochs, val_acc, 'b', label='Validation acc')\n",
    "plt.title('Training and validation accuracy')\n",
    "plt.legend()\n",
    "plt.figure()\n",
    "plt.plot(epochs, loss, 'bo', label='Training loss')\n",
    "plt.plot(epochs, val_loss, 'b', label='Validation loss')\n",
    "plt.title('Training and validation loss')\n",
    "plt.legend()\n",
    "plt.show()"
   ]
  },
  {
   "cell_type": "markdown",
   "metadata": {},
   "source": [
    "# FEATURE EXTRACTION WITH DATA AUGMENTATION\n",
    "### Adding a densely connected classifier on top of the convolutional base"
   ]
  },
  {
   "cell_type": "code",
   "execution_count": 10,
   "metadata": {},
   "outputs": [],
   "source": [
    "from keras import models\n",
    "from keras import layers\n",
    "model = models.Sequential()\n",
    "model.add(conv_base)\n",
    "model.add(layers.Flatten())\n",
    "model.add(layers.Dense(256, activation='relu'))\n",
    "model.add(layers.Dense(1, activation='sigmoid'))"
   ]
  },
  {
   "cell_type": "code",
   "execution_count": 11,
   "metadata": {},
   "outputs": [
    {
     "name": "stdout",
     "output_type": "stream",
     "text": [
      "Model: \"sequential_2\"\n",
      "_________________________________________________________________\n",
      "Layer (type)                 Output Shape              Param #   \n",
      "=================================================================\n",
      "vgg16 (Model)                (None, 4, 4, 512)         14714688  \n",
      "_________________________________________________________________\n",
      "flatten_1 (Flatten)          (None, 8192)              0         \n",
      "_________________________________________________________________\n",
      "dense_3 (Dense)              (None, 256)               2097408   \n",
      "_________________________________________________________________\n",
      "dense_4 (Dense)              (None, 1)                 257       \n",
      "=================================================================\n",
      "Total params: 16,812,353\n",
      "Trainable params: 16,812,353\n",
      "Non-trainable params: 0\n",
      "_________________________________________________________________\n"
     ]
    }
   ],
   "source": [
    "model.summary()"
   ]
  },
  {
   "cell_type": "code",
   "execution_count": 12,
   "metadata": {},
   "outputs": [
    {
     "name": "stdout",
     "output_type": "stream",
     "text": [
      "This is the number of trainable weights before freezing the conv base: 30\n",
      "This is the number of trainable weights after freezing the conv base: 4\n"
     ]
    }
   ],
   "source": [
    "print('This is the number of trainable weights before freezing the conv base:', len(model.trainable_weights))\n",
    "conv_base.trainable = False\n",
    "print('This is the number of trainable weights after freezing the conv base:', len(model.trainable_weights))"
   ]
  },
  {
   "cell_type": "markdown",
   "metadata": {},
   "source": [
    "# Training the model end to end with a frozen convolutional base"
   ]
  },
  {
   "cell_type": "code",
   "execution_count": 13,
   "metadata": {},
   "outputs": [
    {
     "name": "stdout",
     "output_type": "stream",
     "text": [
      "Found 4000 images belonging to 2 classes.\n",
      "Found 300 images belonging to 2 classes.\n"
     ]
    }
   ],
   "source": [
    "from keras.preprocessing.image import ImageDataGenerator\n",
    "from keras import optimizers\n",
    "train_datagen = ImageDataGenerator(\n",
    "        rescale=1./255,\n",
    "        rotation_range=40,\n",
    "        width_shift_range=0.2,\n",
    "        height_shift_range=0.2,\n",
    "        shear_range=0.2,\n",
    "        zoom_range=0.2,\n",
    "        horizontal_flip=True,\n",
    "        fill_mode='nearest')\n",
    "test_datagen = ImageDataGenerator(rescale=1./255)\n",
    "train_generator = train_datagen.flow_from_directory(\n",
    "        train_dir,\n",
    "        target_size=(150, 150),\n",
    "        batch_size=20,\n",
    "        class_mode='binary')\n",
    "validation_generator = test_datagen.flow_from_directory(\n",
    "            validation_dir,\n",
    "            target_size=(150, 150),\n",
    "            batch_size=20,\n",
    "            class_mode='binary')"
   ]
  },
  {
   "cell_type": "code",
   "execution_count": 14,
   "metadata": {},
   "outputs": [],
   "source": [
    "model.compile(loss='binary_crossentropy',\n",
    "            optimizer=optimizers.RMSprop(lr=2e-5),\n",
    "            metrics=['acc'])"
   ]
  },
  {
   "cell_type": "code",
   "execution_count": 15,
   "metadata": {},
   "outputs": [
    {
     "name": "stdout",
     "output_type": "stream",
     "text": [
      "Epoch 1/30\n",
      "100/100 [==============================] - 285s 3s/step - loss: 0.6312 - acc: 0.6450 - val_loss: 0.5562 - val_acc: 0.7450\n",
      "Epoch 2/30\n",
      "100/100 [==============================] - 313s 3s/step - loss: 0.5017 - acc: 0.7635 - val_loss: 0.5319 - val_acc: 0.6450\n",
      "Epoch 3/30\n",
      "100/100 [==============================] - 327s 3s/step - loss: 0.4755 - acc: 0.7800 - val_loss: 0.7120 - val_acc: 0.7560\n",
      "Epoch 4/30\n",
      "100/100 [==============================] - 317s 3s/step - loss: 0.4255 - acc: 0.8195 - val_loss: 0.5883 - val_acc: 0.7890\n",
      "Epoch 5/30\n",
      "100/100 [==============================] - 314s 3s/step - loss: 0.4184 - acc: 0.8170 - val_loss: 0.5299 - val_acc: 0.7800\n",
      "Epoch 6/30\n",
      "100/100 [==============================] - 315s 3s/step - loss: 0.4028 - acc: 0.8325 - val_loss: 0.2600 - val_acc: 0.7650\n",
      "Epoch 7/30\n",
      "100/100 [==============================] - 305s 3s/step - loss: 0.3924 - acc: 0.8230 - val_loss: 0.5747 - val_acc: 0.7770\n",
      "Epoch 8/30\n",
      "100/100 [==============================] - 305s 3s/step - loss: 0.3718 - acc: 0.8450 - val_loss: 0.5337 - val_acc: 0.7910\n",
      "Epoch 9/30\n",
      "100/100 [==============================] - 306s 3s/step - loss: 0.3782 - acc: 0.8375 - val_loss: 0.2847 - val_acc: 0.8450\n",
      "Epoch 10/30\n",
      "100/100 [==============================] - 313s 3s/step - loss: 0.3515 - acc: 0.8560 - val_loss: 0.4534 - val_acc: 0.8050\n",
      "Epoch 11/30\n",
      "100/100 [==============================] - 322s 3s/step - loss: 0.3529 - acc: 0.8620 - val_loss: 0.6635 - val_acc: 0.7920\n",
      "Epoch 12/30\n",
      "100/100 [==============================] - 324s 3s/step - loss: 0.3473 - acc: 0.8540 - val_loss: 0.3494 - val_acc: 0.8190\n",
      "Epoch 13/30\n",
      "100/100 [==============================] - 326s 3s/step - loss: 0.3540 - acc: 0.8525 - val_loss: 0.1844 - val_acc: 0.7960\n",
      "Epoch 14/30\n",
      "100/100 [==============================] - 345s 3s/step - loss: 0.3306 - acc: 0.8650 - val_loss: 0.6576 - val_acc: 0.8190\n",
      "Epoch 15/30\n",
      "100/100 [==============================] - 342s 3s/step - loss: 0.3281 - acc: 0.8760 - val_loss: 0.3337 - val_acc: 0.7960\n",
      "Epoch 16/30\n",
      "100/100 [==============================] - 314s 3s/step - loss: 0.3241 - acc: 0.8670 - val_loss: 0.3492 - val_acc: 0.7920\n",
      "Epoch 17/30\n",
      "100/100 [==============================] - 297s 3s/step - loss: 0.3401 - acc: 0.8530 - val_loss: 0.2885 - val_acc: 0.8350\n",
      "Epoch 18/30\n",
      "100/100 [==============================] - 310s 3s/step - loss: 0.3178 - acc: 0.8710 - val_loss: 0.3475 - val_acc: 0.8290\n",
      "Epoch 19/30\n",
      "100/100 [==============================] - 308s 3s/step - loss: 0.3118 - acc: 0.8670 - val_loss: 0.4700 - val_acc: 0.8320\n",
      "Epoch 20/30\n",
      "100/100 [==============================] - 313s 3s/step - loss: 0.3154 - acc: 0.8695 - val_loss: 0.4703 - val_acc: 0.8530\n",
      "Epoch 21/30\n",
      "100/100 [==============================] - 311s 3s/step - loss: 0.2992 - acc: 0.8840 - val_loss: 0.5114 - val_acc: 0.8160\n",
      "Epoch 22/30\n",
      "100/100 [==============================] - 309s 3s/step - loss: 0.3075 - acc: 0.8785 - val_loss: 0.6656 - val_acc: 0.8050\n",
      "Epoch 23/30\n",
      "100/100 [==============================] - 313s 3s/step - loss: 0.3060 - acc: 0.8690 - val_loss: 0.2823 - val_acc: 0.8300\n",
      "Epoch 24/30\n",
      "100/100 [==============================] - 303s 3s/step - loss: 0.3031 - acc: 0.8775 - val_loss: 0.2049 - val_acc: 0.7920\n",
      "Epoch 25/30\n",
      "100/100 [==============================] - 328s 3s/step - loss: 0.3112 - acc: 0.8700 - val_loss: 0.3184 - val_acc: 0.8620\n",
      "Epoch 26/30\n",
      "100/100 [==============================] - 308s 3s/step - loss: 0.3000 - acc: 0.8770 - val_loss: 0.2168 - val_acc: 0.8630\n",
      "Epoch 27/30\n",
      "100/100 [==============================] - 312s 3s/step - loss: 0.3063 - acc: 0.8710 - val_loss: 0.4187 - val_acc: 0.8500\n",
      "Epoch 28/30\n",
      "100/100 [==============================] - 312s 3s/step - loss: 0.3012 - acc: 0.8835 - val_loss: 0.2934 - val_acc: 0.8610\n",
      "Epoch 29/30\n",
      "100/100 [==============================] - 300s 3s/step - loss: 0.2887 - acc: 0.8865 - val_loss: 0.2473 - val_acc: 0.8640\n",
      "Epoch 30/30\n",
      "100/100 [==============================] - 312s 3s/step - loss: 0.2912 - acc: 0.8845 - val_loss: 0.8587 - val_acc: 0.8130\n"
     ]
    }
   ],
   "source": [
    "history = model.fit_generator(train_generator,steps_per_epoch=100,epochs=30,validation_data=validation_generator,validation_steps=50)"
   ]
  },
  {
   "cell_type": "markdown",
   "metadata": {},
   "source": [
    "# Displaying curves of loss and accuracy during training"
   ]
  },
  {
   "cell_type": "code",
   "execution_count": 16,
   "metadata": {},
   "outputs": [
    {
     "data": {
      "text/plain": [
       "<matplotlib.legend.Legend at 0x1bc94f6ec18>"
      ]
     },
     "execution_count": 16,
     "metadata": {},
     "output_type": "execute_result"
    },
    {
     "data": {
      "image/png": "[encoded data removed]",
      "text/plain": [
       "<Figure size 432x288 with 1 Axes>"
      ]
     },
     "metadata": {
      "needs_background": "light"
     },
     "output_type": "display_data"
    },
    {
     "data": {
      "image/png": "[encoded data removed]",
      "text/plain": [
       "<Figure size 432x288 with 1 Axes>"
      ]
     },
     "metadata": {
      "needs_background": "light"
     },
     "output_type": "display_data"
    }
   ],
   "source": [
    "import matplotlib.pyplot as plt\n",
    "acc = history.history['acc']\n",
    "val_acc = history.history['val_acc']\n",
    "loss = history.history['loss']\n",
    "val_loss = history.history['val_loss']\n",
    "epochs = range(1, len(acc) + 1)\n",
    "plt.plot(epochs, acc, 'bo', label='Training acc')\n",
    "plt.plot(epochs, val_acc, 'b', label='Validation acc')\n",
    "plt.title('Training and validation accuracy')\n",
    "plt.legend()\n",
    "plt.figure()\n",
    "plt.plot(epochs, loss, 'bo', label='Training loss')\n",
    "plt.plot(epochs, val_loss, 'b', label='Validation loss')\n",
    "plt.title('Training and validation loss')\n",
    "plt.legend()"
   ]
  },
  {
   "cell_type": "code",
   "execution_count": null,
   "metadata": {},
   "outputs": [],
   "source": []
  }
 ],
 "metadata": {
  "kernelspec": {
   "display_name": "Python 3",
   "language": "python",
   "name": "python3"
  },
  "language_info": {
   "codemirror_mode": {
    "name": "ipython",
    "version": 3
   },
   "file_extension": ".py",
   "mimetype": "text/x-python",
   "name": "python",
   "nbconvert_exporter": "python",
   "pygments_lexer": "ipython3",
   "version": "3.7.3"
  }
 },
 "nbformat": 4,
 "nbformat_minor": 2
}
