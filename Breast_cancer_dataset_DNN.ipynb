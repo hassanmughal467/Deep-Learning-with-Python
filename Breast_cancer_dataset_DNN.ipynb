{
 "cells": [
  {
   "cell_type": "code",
   "execution_count": 1,
   "metadata": {},
   "outputs": [],
   "source": [
    "import pandas as pd\n",
    "import numpy as np"
   ]
  },
  {
   "cell_type": "code",
   "execution_count": 2,
   "metadata": {},
   "outputs": [],
   "source": [
    "data=pd.read_csv(\"D:/c/Desktop/PIAIC/Models/dataset/breast-cancer-data/data.csv\")"
   ]
  },
  {
   "cell_type": "code",
   "execution_count": 3,
   "metadata": {},
   "outputs": [
    {
     "data": {
      "text/html": [
       "<div>\n",
       "<style scoped>\n",
       "    .dataframe tbody tr th:only-of-type {\n",
       "        vertical-align: middle;\n",
       "    }\n",
       "\n",
       "    .dataframe tbody tr th {\n",
       "        vertical-align: top;\n",
       "    }\n",
       "\n",
       "    .dataframe thead th {\n",
       "        text-align: right;\n",
       "    }\n",
       "</style>\n",
       "<table border=\"1\" class=\"dataframe\">\n",
       "  <thead>\n",
       "    <tr style=\"text-align: right;\">\n",
       "      <th></th>\n",
       "      <th>id</th>\n",
       "      <th>diagnosis</th>\n",
       "      <th>radius_mean</th>\n",
       "      <th>texture_mean</th>\n",
       "      <th>perimeter_mean</th>\n",
       "      <th>area_mean</th>\n",
       "      <th>smoothness_mean</th>\n",
       "      <th>compactness_mean</th>\n",
       "      <th>concavity_mean</th>\n",
       "      <th>concave points_mean</th>\n",
       "      <th>...</th>\n",
       "      <th>texture_worst</th>\n",
       "      <th>perimeter_worst</th>\n",
       "      <th>area_worst</th>\n",
       "      <th>smoothness_worst</th>\n",
       "      <th>compactness_worst</th>\n",
       "      <th>concavity_worst</th>\n",
       "      <th>concave points_worst</th>\n",
       "      <th>symmetry_worst</th>\n",
       "      <th>fractal_dimension_worst</th>\n",
       "      <th>Unnamed: 32</th>\n",
       "    </tr>\n",
       "  </thead>\n",
       "  <tbody>\n",
       "    <tr>\n",
       "      <th>0</th>\n",
       "      <td>842302</td>\n",
       "      <td>M</td>\n",
       "      <td>17.99</td>\n",
       "      <td>10.38</td>\n",
       "      <td>122.80</td>\n",
       "      <td>1001.0</td>\n",
       "      <td>0.11840</td>\n",
       "      <td>0.27760</td>\n",
       "      <td>0.3001</td>\n",
       "      <td>0.14710</td>\n",
       "      <td>...</td>\n",
       "      <td>17.33</td>\n",
       "      <td>184.60</td>\n",
       "      <td>2019.0</td>\n",
       "      <td>0.1622</td>\n",
       "      <td>0.6656</td>\n",
       "      <td>0.7119</td>\n",
       "      <td>0.2654</td>\n",
       "      <td>0.4601</td>\n",
       "      <td>0.11890</td>\n",
       "      <td>NaN</td>\n",
       "    </tr>\n",
       "    <tr>\n",
       "      <th>1</th>\n",
       "      <td>842517</td>\n",
       "      <td>M</td>\n",
       "      <td>20.57</td>\n",
       "      <td>17.77</td>\n",
       "      <td>132.90</td>\n",
       "      <td>1326.0</td>\n",
       "      <td>0.08474</td>\n",
       "      <td>0.07864</td>\n",
       "      <td>0.0869</td>\n",
       "      <td>0.07017</td>\n",
       "      <td>...</td>\n",
       "      <td>23.41</td>\n",
       "      <td>158.80</td>\n",
       "      <td>1956.0</td>\n",
       "      <td>0.1238</td>\n",
       "      <td>0.1866</td>\n",
       "      <td>0.2416</td>\n",
       "      <td>0.1860</td>\n",
       "      <td>0.2750</td>\n",
       "      <td>0.08902</td>\n",
       "      <td>NaN</td>\n",
       "    </tr>\n",
       "    <tr>\n",
       "      <th>2</th>\n",
       "      <td>84300903</td>\n",
       "      <td>M</td>\n",
       "      <td>19.69</td>\n",
       "      <td>21.25</td>\n",
       "      <td>130.00</td>\n",
       "      <td>1203.0</td>\n",
       "      <td>0.10960</td>\n",
       "      <td>0.15990</td>\n",
       "      <td>0.1974</td>\n",
       "      <td>0.12790</td>\n",
       "      <td>...</td>\n",
       "      <td>25.53</td>\n",
       "      <td>152.50</td>\n",
       "      <td>1709.0</td>\n",
       "      <td>0.1444</td>\n",
       "      <td>0.4245</td>\n",
       "      <td>0.4504</td>\n",
       "      <td>0.2430</td>\n",
       "      <td>0.3613</td>\n",
       "      <td>0.08758</td>\n",
       "      <td>NaN</td>\n",
       "    </tr>\n",
       "    <tr>\n",
       "      <th>3</th>\n",
       "      <td>84348301</td>\n",
       "      <td>M</td>\n",
       "      <td>11.42</td>\n",
       "      <td>20.38</td>\n",
       "      <td>77.58</td>\n",
       "      <td>386.1</td>\n",
       "      <td>0.14250</td>\n",
       "      <td>0.28390</td>\n",
       "      <td>0.2414</td>\n",
       "      <td>0.10520</td>\n",
       "      <td>...</td>\n",
       "      <td>26.50</td>\n",
       "      <td>98.87</td>\n",
       "      <td>567.7</td>\n",
       "      <td>0.2098</td>\n",
       "      <td>0.8663</td>\n",
       "      <td>0.6869</td>\n",
       "      <td>0.2575</td>\n",
       "      <td>0.6638</td>\n",
       "      <td>0.17300</td>\n",
       "      <td>NaN</td>\n",
       "    </tr>\n",
       "    <tr>\n",
       "      <th>4</th>\n",
       "      <td>84358402</td>\n",
       "      <td>M</td>\n",
       "      <td>20.29</td>\n",
       "      <td>14.34</td>\n",
       "      <td>135.10</td>\n",
       "      <td>1297.0</td>\n",
       "      <td>0.10030</td>\n",
       "      <td>0.13280</td>\n",
       "      <td>0.1980</td>\n",
       "      <td>0.10430</td>\n",
       "      <td>...</td>\n",
       "      <td>16.67</td>\n",
       "      <td>152.20</td>\n",
       "      <td>1575.0</td>\n",
       "      <td>0.1374</td>\n",
       "      <td>0.2050</td>\n",
       "      <td>0.4000</td>\n",
       "      <td>0.1625</td>\n",
       "      <td>0.2364</td>\n",
       "      <td>0.07678</td>\n",
       "      <td>NaN</td>\n",
       "    </tr>\n",
       "  </tbody>\n",
       "</table>\n",
       "<p>5 rows × 33 columns</p>\n",
       "</div>"
      ],
      "text/plain": [
       "         id diagnosis  radius_mean  texture_mean  perimeter_mean  area_mean  \\\n",
       "0    842302         M        17.99         10.38          122.80     1001.0   \n",
       "1    842517         M        20.57         17.77          132.90     1326.0   \n",
       "2  84300903         M        19.69         21.25          130.00     1203.0   \n",
       "3  84348301         M        11.42         20.38           77.58      386.1   \n",
       "4  84358402         M        20.29         14.34          135.10     1297.0   \n",
       "\n",
       "   smoothness_mean  compactness_mean  concavity_mean  concave points_mean  \\\n",
       "0          0.11840           0.27760          0.3001              0.14710   \n",
       "1          0.08474           0.07864          0.0869              0.07017   \n",
       "2          0.10960           0.15990          0.1974              0.12790   \n",
       "3          0.14250           0.28390          0.2414              0.10520   \n",
       "4          0.10030           0.13280          0.1980              0.10430   \n",
       "\n",
       "   ...  texture_worst  perimeter_worst  area_worst  smoothness_worst  \\\n",
       "0  ...          17.33           184.60      2019.0            0.1622   \n",
       "1  ...          23.41           158.80      1956.0            0.1238   \n",
       "2  ...          25.53           152.50      1709.0            0.1444   \n",
       "3  ...          26.50            98.87       567.7            0.2098   \n",
       "4  ...          16.67           152.20      1575.0            0.1374   \n",
       "\n",
       "   compactness_worst  concavity_worst  concave points_worst  symmetry_worst  \\\n",
       "0             0.6656           0.7119                0.2654          0.4601   \n",
       "1             0.1866           0.2416                0.1860          0.2750   \n",
       "2             0.4245           0.4504                0.2430          0.3613   \n",
       "3             0.8663           0.6869                0.2575          0.6638   \n",
       "4             0.2050           0.4000                0.1625          0.2364   \n",
       "\n",
       "   fractal_dimension_worst  Unnamed: 32  \n",
       "0                  0.11890          NaN  \n",
       "1                  0.08902          NaN  \n",
       "2                  0.08758          NaN  \n",
       "3                  0.17300          NaN  \n",
       "4                  0.07678          NaN  \n",
       "\n",
       "[5 rows x 33 columns]"
      ]
     },
     "execution_count": 3,
     "metadata": {},
     "output_type": "execute_result"
    }
   ],
   "source": [
    "data.head()"
   ]
  },
  {
   "cell_type": "code",
   "execution_count": 4,
   "metadata": {},
   "outputs": [
    {
     "data": {
      "text/html": [
       "<div>\n",
       "<style scoped>\n",
       "    .dataframe tbody tr th:only-of-type {\n",
       "        vertical-align: middle;\n",
       "    }\n",
       "\n",
       "    .dataframe tbody tr th {\n",
       "        vertical-align: top;\n",
       "    }\n",
       "\n",
       "    .dataframe thead th {\n",
       "        text-align: right;\n",
       "    }\n",
       "</style>\n",
       "<table border=\"1\" class=\"dataframe\">\n",
       "  <thead>\n",
       "    <tr style=\"text-align: right;\">\n",
       "      <th></th>\n",
       "      <th>id</th>\n",
       "      <th>diagnosis</th>\n",
       "      <th>radius_mean</th>\n",
       "      <th>texture_mean</th>\n",
       "      <th>perimeter_mean</th>\n",
       "      <th>area_mean</th>\n",
       "      <th>smoothness_mean</th>\n",
       "      <th>compactness_mean</th>\n",
       "      <th>concavity_mean</th>\n",
       "      <th>concave points_mean</th>\n",
       "      <th>...</th>\n",
       "      <th>radius_worst</th>\n",
       "      <th>texture_worst</th>\n",
       "      <th>perimeter_worst</th>\n",
       "      <th>area_worst</th>\n",
       "      <th>smoothness_worst</th>\n",
       "      <th>compactness_worst</th>\n",
       "      <th>concavity_worst</th>\n",
       "      <th>concave points_worst</th>\n",
       "      <th>symmetry_worst</th>\n",
       "      <th>fractal_dimension_worst</th>\n",
       "    </tr>\n",
       "  </thead>\n",
       "  <tbody>\n",
       "    <tr>\n",
       "      <th>0</th>\n",
       "      <td>842302</td>\n",
       "      <td>M</td>\n",
       "      <td>17.99</td>\n",
       "      <td>10.38</td>\n",
       "      <td>122.80</td>\n",
       "      <td>1001.0</td>\n",
       "      <td>0.11840</td>\n",
       "      <td>0.27760</td>\n",
       "      <td>0.3001</td>\n",
       "      <td>0.14710</td>\n",
       "      <td>...</td>\n",
       "      <td>25.38</td>\n",
       "      <td>17.33</td>\n",
       "      <td>184.60</td>\n",
       "      <td>2019.0</td>\n",
       "      <td>0.1622</td>\n",
       "      <td>0.6656</td>\n",
       "      <td>0.7119</td>\n",
       "      <td>0.2654</td>\n",
       "      <td>0.4601</td>\n",
       "      <td>0.11890</td>\n",
       "    </tr>\n",
       "    <tr>\n",
       "      <th>1</th>\n",
       "      <td>842517</td>\n",
       "      <td>M</td>\n",
       "      <td>20.57</td>\n",
       "      <td>17.77</td>\n",
       "      <td>132.90</td>\n",
       "      <td>1326.0</td>\n",
       "      <td>0.08474</td>\n",
       "      <td>0.07864</td>\n",
       "      <td>0.0869</td>\n",
       "      <td>0.07017</td>\n",
       "      <td>...</td>\n",
       "      <td>24.99</td>\n",
       "      <td>23.41</td>\n",
       "      <td>158.80</td>\n",
       "      <td>1956.0</td>\n",
       "      <td>0.1238</td>\n",
       "      <td>0.1866</td>\n",
       "      <td>0.2416</td>\n",
       "      <td>0.1860</td>\n",
       "      <td>0.2750</td>\n",
       "      <td>0.08902</td>\n",
       "    </tr>\n",
       "    <tr>\n",
       "      <th>2</th>\n",
       "      <td>84300903</td>\n",
       "      <td>M</td>\n",
       "      <td>19.69</td>\n",
       "      <td>21.25</td>\n",
       "      <td>130.00</td>\n",
       "      <td>1203.0</td>\n",
       "      <td>0.10960</td>\n",
       "      <td>0.15990</td>\n",
       "      <td>0.1974</td>\n",
       "      <td>0.12790</td>\n",
       "      <td>...</td>\n",
       "      <td>23.57</td>\n",
       "      <td>25.53</td>\n",
       "      <td>152.50</td>\n",
       "      <td>1709.0</td>\n",
       "      <td>0.1444</td>\n",
       "      <td>0.4245</td>\n",
       "      <td>0.4504</td>\n",
       "      <td>0.2430</td>\n",
       "      <td>0.3613</td>\n",
       "      <td>0.08758</td>\n",
       "    </tr>\n",
       "    <tr>\n",
       "      <th>3</th>\n",
       "      <td>84348301</td>\n",
       "      <td>M</td>\n",
       "      <td>11.42</td>\n",
       "      <td>20.38</td>\n",
       "      <td>77.58</td>\n",
       "      <td>386.1</td>\n",
       "      <td>0.14250</td>\n",
       "      <td>0.28390</td>\n",
       "      <td>0.2414</td>\n",
       "      <td>0.10520</td>\n",
       "      <td>...</td>\n",
       "      <td>14.91</td>\n",
       "      <td>26.50</td>\n",
       "      <td>98.87</td>\n",
       "      <td>567.7</td>\n",
       "      <td>0.2098</td>\n",
       "      <td>0.8663</td>\n",
       "      <td>0.6869</td>\n",
       "      <td>0.2575</td>\n",
       "      <td>0.6638</td>\n",
       "      <td>0.17300</td>\n",
       "    </tr>\n",
       "    <tr>\n",
       "      <th>4</th>\n",
       "      <td>84358402</td>\n",
       "      <td>M</td>\n",
       "      <td>20.29</td>\n",
       "      <td>14.34</td>\n",
       "      <td>135.10</td>\n",
       "      <td>1297.0</td>\n",
       "      <td>0.10030</td>\n",
       "      <td>0.13280</td>\n",
       "      <td>0.1980</td>\n",
       "      <td>0.10430</td>\n",
       "      <td>...</td>\n",
       "      <td>22.54</td>\n",
       "      <td>16.67</td>\n",
       "      <td>152.20</td>\n",
       "      <td>1575.0</td>\n",
       "      <td>0.1374</td>\n",
       "      <td>0.2050</td>\n",
       "      <td>0.4000</td>\n",
       "      <td>0.1625</td>\n",
       "      <td>0.2364</td>\n",
       "      <td>0.07678</td>\n",
       "    </tr>\n",
       "  </tbody>\n",
       "</table>\n",
       "<p>5 rows × 32 columns</p>\n",
       "</div>"
      ],
      "text/plain": [
       "         id diagnosis  radius_mean  texture_mean  perimeter_mean  area_mean  \\\n",
       "0    842302         M        17.99         10.38          122.80     1001.0   \n",
       "1    842517         M        20.57         17.77          132.90     1326.0   \n",
       "2  84300903         M        19.69         21.25          130.00     1203.0   \n",
       "3  84348301         M        11.42         20.38           77.58      386.1   \n",
       "4  84358402         M        20.29         14.34          135.10     1297.0   \n",
       "\n",
       "   smoothness_mean  compactness_mean  concavity_mean  concave points_mean  \\\n",
       "0          0.11840           0.27760          0.3001              0.14710   \n",
       "1          0.08474           0.07864          0.0869              0.07017   \n",
       "2          0.10960           0.15990          0.1974              0.12790   \n",
       "3          0.14250           0.28390          0.2414              0.10520   \n",
       "4          0.10030           0.13280          0.1980              0.10430   \n",
       "\n",
       "   ...  radius_worst  texture_worst  perimeter_worst  area_worst  \\\n",
       "0  ...         25.38          17.33           184.60      2019.0   \n",
       "1  ...         24.99          23.41           158.80      1956.0   \n",
       "2  ...         23.57          25.53           152.50      1709.0   \n",
       "3  ...         14.91          26.50            98.87       567.7   \n",
       "4  ...         22.54          16.67           152.20      1575.0   \n",
       "\n",
       "   smoothness_worst  compactness_worst  concavity_worst  concave points_worst  \\\n",
       "0            0.1622             0.6656           0.7119                0.2654   \n",
       "1            0.1238             0.1866           0.2416                0.1860   \n",
       "2            0.1444             0.4245           0.4504                0.2430   \n",
       "3            0.2098             0.8663           0.6869                0.2575   \n",
       "4            0.1374             0.2050           0.4000                0.1625   \n",
       "\n",
       "   symmetry_worst  fractal_dimension_worst  \n",
       "0          0.4601                  0.11890  \n",
       "1          0.2750                  0.08902  \n",
       "2          0.3613                  0.08758  \n",
       "3          0.6638                  0.17300  \n",
       "4          0.2364                  0.07678  \n",
       "\n",
       "[5 rows x 32 columns]"
      ]
     },
     "execution_count": 4,
     "metadata": {},
     "output_type": "execute_result"
    }
   ],
   "source": [
    "data=data.iloc[:,:32]\n",
    "data.head()"
   ]
  },
  {
   "cell_type": "markdown",
   "metadata": {},
   "source": [
    "# Random Values"
   ]
  },
  {
   "cell_type": "code",
   "execution_count": 5,
   "metadata": {},
   "outputs": [
    {
     "data": {
      "text/plain": [
       "array([[89346, 'B', 9.0, ..., 0.013890000000000001, 0.2991, 0.07804],\n",
       "       [914769, 'M', 18.49, ..., 0.1663, 0.251, 0.09445],\n",
       "       [871201, 'M', 19.59, ..., 0.2247, 0.3643, 0.09222999999999999],\n",
       "       ...,\n",
       "       [868223, 'B', 11.71, ..., 0.06967999999999999, 0.1712, 0.07343],\n",
       "       [9112367, 'B', 13.21, ..., 0.06005, 0.2444, 0.06788],\n",
       "       [864496, 'B', 8.726, ..., 0.105, 0.2926, 0.1017]], dtype=object)"
      ]
     },
     "execution_count": 5,
     "metadata": {},
     "output_type": "execute_result"
    }
   ],
   "source": [
    "data=data.sample(frac=1).values\n",
    "data"
   ]
  },
  {
   "cell_type": "code",
   "execution_count": 6,
   "metadata": {},
   "outputs": [
    {
     "data": {
      "text/plain": [
       "569"
      ]
     },
     "execution_count": 6,
     "metadata": {},
     "output_type": "execute_result"
    }
   ],
   "source": [
    "len(data)"
   ]
  },
  {
   "cell_type": "markdown",
   "metadata": {},
   "source": [
    "# Preparing Data"
   ]
  },
  {
   "cell_type": "code",
   "execution_count": 7,
   "metadata": {},
   "outputs": [
    {
     "data": {
      "text/plain": [
       "array([[9.0, 14.4, 56.36, ..., 0.013890000000000001, 0.2991, 0.07804],\n",
       "       [18.49, 17.52, 121.3, ..., 0.1663, 0.251, 0.09445],\n",
       "       [19.59, 18.15, 130.7, ..., 0.2247, 0.3643, 0.09222999999999999],\n",
       "       ...,\n",
       "       [11.71, 16.67, 74.72, ..., 0.06967999999999999, 0.1712, 0.07343],\n",
       "       [13.21, 25.25, 84.1, ..., 0.06005, 0.2444, 0.06788],\n",
       "       [8.726, 15.83, 55.84, ..., 0.105, 0.2926, 0.1017]], dtype=object)"
      ]
     },
     "execution_count": 7,
     "metadata": {},
     "output_type": "execute_result"
    }
   ],
   "source": [
    "sample=data[:,2:]\n",
    "sample"
   ]
  },
  {
   "cell_type": "code",
   "execution_count": 8,
   "metadata": {},
   "outputs": [
    {
     "name": "stdout",
     "output_type": "stream",
     "text": [
      "['B' 'M' 'M' 'B' 'M' 'B' 'B' 'B' 'M' 'B' 'B' 'B' 'B' 'M' 'M' 'B' 'B' 'B'\n",
      " 'B' 'B' 'B' 'M' 'B' 'B' 'B' 'B' 'M' 'B' 'M' 'M' 'B' 'M' 'M' 'M' 'B' 'B'\n",
      " 'M' 'B' 'B' 'B' 'B' 'B' 'M' 'B' 'B' 'M' 'M' 'B' 'M' 'B' 'B' 'B' 'M' 'B'\n",
      " 'M' 'B' 'B' 'B' 'M' 'M' 'B' 'B' 'B' 'M' 'B' 'B' 'B' 'B' 'B' 'B' 'B' 'M'\n",
      " 'M' 'B' 'B' 'B' 'M' 'B' 'B' 'B' 'B' 'B' 'B' 'M' 'B' 'B' 'B' 'M' 'M' 'B'\n",
      " 'B' 'M' 'B' 'B' 'M' 'M' 'B' 'M' 'M' 'M' 'B' 'M' 'B' 'M' 'M' 'B' 'B' 'M'\n",
      " 'M' 'B' 'B' 'B' 'B' 'M' 'B' 'B' 'B' 'B' 'B' 'M' 'B' 'B' 'B' 'B' 'B' 'B'\n",
      " 'B' 'B' 'B' 'M' 'M' 'M' 'B' 'B' 'M' 'B' 'M' 'B' 'M' 'B' 'M' 'M' 'B' 'M'\n",
      " 'B' 'M' 'M' 'B' 'B' 'B' 'M' 'M' 'M' 'M' 'B' 'B' 'B' 'B' 'B' 'M' 'M' 'M'\n",
      " 'B' 'B' 'B' 'M' 'B' 'M' 'B' 'B' 'M' 'B' 'B' 'B' 'B' 'B' 'B' 'M' 'B' 'B'\n",
      " 'B' 'B' 'B' 'M' 'B' 'B' 'B' 'B' 'B' 'B' 'M' 'B' 'B' 'M' 'B' 'M' 'B' 'B'\n",
      " 'B' 'B' 'B' 'B' 'M' 'B' 'M' 'B' 'B' 'B' 'B' 'M' 'M' 'B' 'B' 'B' 'M' 'B'\n",
      " 'B' 'B' 'B' 'B' 'B' 'B' 'M' 'M' 'M' 'B' 'B' 'B' 'M' 'M' 'M' 'B' 'M' 'M'\n",
      " 'B' 'M' 'M' 'B' 'B' 'B' 'B' 'M' 'M' 'B' 'M' 'B' 'B' 'B' 'M' 'B' 'B' 'B'\n",
      " 'M' 'M' 'M' 'B' 'B' 'B' 'M' 'B' 'B' 'B' 'M' 'B' 'M' 'B' 'M' 'M' 'M' 'B'\n",
      " 'B' 'M' 'M' 'B' 'B' 'M' 'B' 'B' 'B' 'B' 'B' 'B' 'B' 'B' 'B' 'B' 'B' 'B'\n",
      " 'B' 'M' 'B' 'B' 'B' 'M' 'B' 'B' 'M' 'B' 'M' 'B' 'B' 'B' 'B' 'B' 'B' 'M'\n",
      " 'B' 'B' 'B' 'M' 'M' 'B' 'B' 'B' 'B' 'B' 'B' 'M' 'B' 'M' 'B' 'B' 'B' 'B'\n",
      " 'M' 'M' 'B' 'M' 'B' 'M' 'M' 'B' 'B' 'B' 'B' 'M' 'M' 'B' 'B' 'M' 'B' 'M'\n",
      " 'M' 'B' 'B' 'M' 'B' 'B' 'B' 'M' 'M' 'B' 'B' 'B' 'M' 'B' 'B' 'B' 'B' 'M'\n",
      " 'M' 'B' 'M' 'B' 'M' 'M' 'M' 'B' 'M' 'M' 'B' 'M' 'B' 'B' 'B' 'M' 'B' 'M'\n",
      " 'M' 'M' 'B' 'B' 'B' 'B' 'M' 'M' 'B' 'B' 'B' 'B' 'B' 'B' 'B' 'B' 'M' 'M'\n",
      " 'B' 'M' 'M' 'B' 'M' 'B' 'M' 'B' 'B' 'M' 'M' 'M' 'B' 'M' 'M' 'B' 'B' 'B'\n",
      " 'B' 'M' 'M' 'B' 'B' 'B' 'B' 'M' 'B' 'M' 'M' 'M' 'M' 'M' 'B' 'B' 'M' 'B'\n",
      " 'B' 'M' 'B' 'B' 'B' 'B' 'B' 'M' 'B' 'M' 'B' 'M' 'B' 'B' 'B' 'M' 'M' 'B'\n",
      " 'B' 'B' 'B' 'M' 'M' 'M' 'B' 'B' 'B' 'B' 'M' 'B' 'B' 'M' 'M' 'B' 'M' 'B'\n",
      " 'B' 'M' 'B' 'B' 'M' 'B' 'B' 'B' 'B' 'B' 'B' 'B' 'B' 'B' 'M' 'M' 'B' 'M'\n",
      " 'B' 'B' 'B' 'M' 'M' 'B' 'M' 'M' 'B' 'M' 'B' 'M' 'M' 'M' 'B' 'B' 'M' 'B'\n",
      " 'M' 'B' 'M' 'M' 'B' 'B' 'M' 'B' 'M' 'B' 'B' 'B' 'M' 'M' 'B' 'B' 'M' 'B'\n",
      " 'B' 'B' 'B' 'B' 'M' 'M' 'B' 'M' 'M' 'B' 'B' 'M' 'B' 'B' 'M' 'M' 'M' 'M'\n",
      " 'B' 'B' 'B' 'B' 'B' 'M' 'M' 'B' 'M' 'B' 'B' 'M' 'M' 'B' 'B' 'M' 'B' 'M'\n",
      " 'B' 'B' 'M' 'M' 'B' 'M' 'M' 'B' 'B' 'B' 'B']\n",
      "['B' 'B' 'B' 'M' 'M' 'B' 'B' 'M' 'B' 'B' 'B' 'B' 'B' 'M' 'M' 'B' 'M' 'M'\n",
      " 'B' 'B' 'M' 'B' 'B' 'M' 'M' 'M' 'M' 'B' 'B' 'B' 'B' 'B' 'M' 'M' 'B' 'M'\n",
      " 'B' 'B' 'M' 'M' 'B' 'B' 'M' 'B' 'M' 'B' 'B' 'M' 'M' 'B' 'M' 'M' 'B' 'B'\n",
      " 'B' 'B']\n"
     ]
    }
   ],
   "source": [
    "label=data[:,1]\n",
    "print(label)\n",
    "#for testinf purpose\n",
    "y_label=data[513:,1]\n",
    "print(y_label)"
   ]
  },
  {
   "cell_type": "markdown",
   "metadata": {},
   "source": [
    "# One hot Encoding\n"
   ]
  },
  {
   "cell_type": "code",
   "execution_count": 9,
   "metadata": {},
   "outputs": [
    {
     "data": {
      "text/plain": [
       "array([0, 1, 1, 0, 1, 0, 0, 0, 1, 0, 0, 0, 0, 1, 1, 0, 0, 0, 0, 0, 0, 1,\n",
       "       0, 0, 0, 0, 1, 0, 1, 1, 0, 1, 1, 1, 0, 0, 1, 0, 0, 0, 0, 0, 1, 0,\n",
       "       0, 1, 1, 0, 1, 0, 0, 0, 1, 0, 1, 0, 0, 0, 1, 1, 0, 0, 0, 1, 0, 0,\n",
       "       0, 0, 0, 0, 0, 1, 1, 0, 0, 0, 1, 0, 0, 0, 0, 0, 0, 1, 0, 0, 0, 1,\n",
       "       1, 0, 0, 1, 0, 0, 1, 1, 0, 1, 1, 1, 0, 1, 0, 1, 1, 0, 0, 1, 1, 0,\n",
       "       0, 0, 0, 1, 0, 0, 0, 0, 0, 1, 0, 0, 0, 0, 0, 0, 0, 0, 0, 1, 1, 1,\n",
       "       0, 0, 1, 0, 1, 0, 1, 0, 1, 1, 0, 1, 0, 1, 1, 0, 0, 0, 1, 1, 1, 1,\n",
       "       0, 0, 0, 0, 0, 1, 1, 1, 0, 0, 0, 1, 0, 1, 0, 0, 1, 0, 0, 0, 0, 0,\n",
       "       0, 1, 0, 0, 0, 0, 0, 1, 0, 0, 0, 0, 0, 0, 1, 0, 0, 1, 0, 1, 0, 0,\n",
       "       0, 0, 0, 0, 1, 0, 1, 0, 0, 0, 0, 1, 1, 0, 0, 0, 1, 0, 0, 0, 0, 0,\n",
       "       0, 0, 1, 1, 1, 0, 0, 0, 1, 1, 1, 0, 1, 1, 0, 1, 1, 0, 0, 0, 0, 1,\n",
       "       1, 0, 1, 0, 0, 0, 1, 0, 0, 0, 1, 1, 1, 0, 0, 0, 1, 0, 0, 0, 1, 0,\n",
       "       1, 0, 1, 1, 1, 0, 0, 1, 1, 0, 0, 1, 0, 0, 0, 0, 0, 0, 0, 0, 0, 0,\n",
       "       0, 0, 0, 1, 0, 0, 0, 1, 0, 0, 1, 0, 1, 0, 0, 0, 0, 0, 0, 1, 0, 0,\n",
       "       0, 1, 1, 0, 0, 0, 0, 0, 0, 1, 0, 1, 0, 0, 0, 0, 1, 1, 0, 1, 0, 1,\n",
       "       1, 0, 0, 0, 0, 1, 1, 0, 0, 1, 0, 1, 1, 0, 0, 1, 0, 0, 0, 1, 1, 0,\n",
       "       0, 0, 1, 0, 0, 0, 0, 1, 1, 0, 1, 0, 1, 1, 1, 0, 1, 1, 0, 1, 0, 0,\n",
       "       0, 1, 0, 1, 1, 1, 0, 0, 0, 0, 1, 1, 0, 0, 0, 0, 0, 0, 0, 0, 1, 1,\n",
       "       0, 1, 1, 0, 1, 0, 1, 0, 0, 1, 1, 1, 0, 1, 1, 0, 0, 0, 0, 1, 1, 0,\n",
       "       0, 0, 0, 1, 0, 1, 1, 1, 1, 1, 0, 0, 1, 0, 0, 1, 0, 0, 0, 0, 0, 1,\n",
       "       0, 1, 0, 1, 0, 0, 0, 1, 1, 0, 0, 0, 0, 1, 1, 1, 0, 0, 0, 0, 1, 0,\n",
       "       0, 1, 1, 0, 1, 0, 0, 1, 0, 0, 1, 0, 0, 0, 0, 0, 0, 0, 0, 0, 1, 1,\n",
       "       0, 1, 0, 0, 0, 1, 1, 0, 1, 1, 0, 1, 0, 1, 1, 1, 0, 0, 1, 0, 1, 0,\n",
       "       1, 1, 0, 0, 1, 0, 1, 0, 0, 0, 1, 1, 0, 0, 1, 0, 0, 0, 0, 0, 1, 1,\n",
       "       0, 1, 1, 0, 0, 1, 0, 0, 1, 1, 1, 1, 0, 0, 0, 0, 0, 1, 1, 0, 1, 0,\n",
       "       0, 1, 1, 0, 0, 1, 0, 1, 0, 0, 1, 1, 0, 1, 1, 0, 0, 0, 0])"
      ]
     },
     "execution_count": 9,
     "metadata": {},
     "output_type": "execute_result"
    }
   ],
   "source": [
    "from sklearn.preprocessing import LabelEncoder\n",
    "# encode class values as integers\n",
    "le = LabelEncoder()\n",
    "label = le.fit_transform(label)\n",
    "label"
   ]
  },
  {
   "cell_type": "code",
   "execution_count": 10,
   "metadata": {},
   "outputs": [
    {
     "name": "stderr",
     "output_type": "stream",
     "text": [
      "Using TensorFlow backend.\n"
     ]
    }
   ],
   "source": [
    "from keras.utils import to_categorical\n",
    "labels = to_categorical(label)"
   ]
  },
  {
   "cell_type": "code",
   "execution_count": 11,
   "metadata": {},
   "outputs": [
    {
     "name": "stdout",
     "output_type": "stream",
     "text": [
      "[[9.0 14.4 56.36 ... 0.013890000000000001 0.2991 0.07804]\n",
      " [18.49 17.52 121.3 ... 0.1663 0.251 0.09445]\n",
      " [19.59 18.15 130.7 ... 0.2247 0.3643 0.09222999999999999]\n",
      " ...\n",
      " [15.08 25.74 98.0 ... 0.1526 0.2654 0.09437999999999999]\n",
      " [10.48 14.98 67.49 ... 0.0931 0.302 0.09646]\n",
      " [23.29 26.67 158.9 ... 0.2733 0.3198 0.08762]]\n"
     ]
    }
   ],
   "source": [
    "xtrain=sample[:513,:]\n",
    "print(xtrain)\n",
    "xlabel=label[:513]\n",
    "#print(xlabel)"
   ]
  },
  {
   "cell_type": "code",
   "execution_count": 12,
   "metadata": {},
   "outputs": [],
   "source": [
    "test=sample[513:,:]\n",
    "ylabel=label[513:]"
   ]
  },
  {
   "cell_type": "markdown",
   "metadata": {},
   "source": [
    "# Normalize"
   ]
  },
  {
   "cell_type": "markdown",
   "metadata": {},
   "source": [
    "# Let’s build the network"
   ]
  },
  {
   "cell_type": "code",
   "execution_count": 35,
   "metadata": {},
   "outputs": [],
   "source": [
    "from keras import models\n",
    "from keras import layers\n",
    "from keras import regularizers\n",
    "network = models.Sequential() \n",
    "#kernel_regularizer=regularizers.l2(0.001)\n",
    "network.add(layers.Dense(64, activation='relu',kernel_regularizer=regularizers.l2(0.001),input_dim=30))\n",
    "network.add(layers.Dense(1, activation='sigmoid'))"
   ]
  },
  {
   "cell_type": "markdown",
   "metadata": {},
   "source": [
    "# The compilation step"
   ]
  },
  {
   "cell_type": "code",
   "execution_count": 36,
   "metadata": {},
   "outputs": [],
   "source": [
    "from keras import optimizers\n",
    "#optimizers.RMSprop(lr=0.002)\n",
    "network.compile(optimizer='adam',\n",
    "                loss='binary_crossentropy',\n",
    "                metrics=['acc'])"
   ]
  },
  {
   "cell_type": "code",
   "execution_count": 37,
   "metadata": {},
   "outputs": [
    {
     "name": "stdout",
     "output_type": "stream",
     "text": [
      "Train on 410 samples, validate on 103 samples\n",
      "Epoch 1/62\n",
      "410/410 [==============================] - 0s 346us/step - loss: 15.8326 - acc: 0.2976 - val_loss: 10.3044 - val_acc: 0.2524\n",
      "Epoch 2/62\n",
      "410/410 [==============================] - 0s 49us/step - loss: 6.0971 - acc: 0.3366 - val_loss: 5.0242 - val_acc: 0.4563\n",
      "Epoch 3/62\n",
      "410/410 [==============================] - 0s 49us/step - loss: 2.1068 - acc: 0.5439 - val_loss: 3.1910 - val_acc: 0.6602\n",
      "Epoch 4/62\n",
      "410/410 [==============================] - 0s 49us/step - loss: 1.0382 - acc: 0.7049 - val_loss: 1.6360 - val_acc: 0.7379\n",
      "Epoch 5/62\n",
      "410/410 [==============================] - 0s 49us/step - loss: 0.6746 - acc: 0.8049 - val_loss: 1.3479 - val_acc: 0.6990\n",
      "Epoch 6/62\n",
      "410/410 [==============================] - 0s 58us/step - loss: 0.5462 - acc: 0.8171 - val_loss: 1.1842 - val_acc: 0.8058\n",
      "Epoch 7/62\n",
      "410/410 [==============================] - 0s 59us/step - loss: 0.5038 - acc: 0.8707 - val_loss: 1.0457 - val_acc: 0.8155\n",
      "Epoch 8/62\n",
      "410/410 [==============================] - 0s 49us/step - loss: 0.4395 - acc: 0.8732 - val_loss: 0.8715 - val_acc: 0.7961\n",
      "Epoch 9/62\n",
      "410/410 [==============================] - 0s 49us/step - loss: 0.4084 - acc: 0.8829 - val_loss: 0.8942 - val_acc: 0.8447\n",
      "Epoch 10/62\n",
      "410/410 [==============================] - 0s 59us/step - loss: 0.3728 - acc: 0.8829 - val_loss: 0.6827 - val_acc: 0.8252\n",
      "Epoch 11/62\n",
      "410/410 [==============================] - 0s 49us/step - loss: 0.4378 - acc: 0.8829 - val_loss: 0.8069 - val_acc: 0.8544\n",
      "Epoch 12/62\n",
      "410/410 [==============================] - 0s 49us/step - loss: 0.4044 - acc: 0.8780 - val_loss: 0.5866 - val_acc: 0.8738\n",
      "Epoch 13/62\n",
      "410/410 [==============================] - 0s 49us/step - loss: 0.3644 - acc: 0.8951 - val_loss: 0.6505 - val_acc: 0.8447\n",
      "Epoch 14/62\n",
      "410/410 [==============================] - 0s 59us/step - loss: 0.3473 - acc: 0.9000 - val_loss: 0.4995 - val_acc: 0.8641\n",
      "Epoch 15/62\n",
      "410/410 [==============================] - 0s 59us/step - loss: 0.3349 - acc: 0.9024 - val_loss: 0.5119 - val_acc: 0.8544\n",
      "Epoch 16/62\n",
      "410/410 [==============================] - 0s 49us/step - loss: 0.3988 - acc: 0.8902 - val_loss: 0.6054 - val_acc: 0.8641\n",
      "Epoch 17/62\n",
      "410/410 [==============================] - 0s 49us/step - loss: 0.3273 - acc: 0.9098 - val_loss: 0.4372 - val_acc: 0.8738\n",
      "Epoch 18/62\n",
      "410/410 [==============================] - 0s 49us/step - loss: 0.3099 - acc: 0.9049 - val_loss: 0.4591 - val_acc: 0.8738\n",
      "Epoch 19/62\n",
      "410/410 [==============================] - 0s 59us/step - loss: 0.3339 - acc: 0.8927 - val_loss: 0.5611 - val_acc: 0.8155\n",
      "Epoch 20/62\n",
      "410/410 [==============================] - 0s 59us/step - loss: 0.4564 - acc: 0.8512 - val_loss: 0.8025 - val_acc: 0.8350\n",
      "Epoch 21/62\n",
      "410/410 [==============================] - 0s 49us/step - loss: 0.5237 - acc: 0.8537 - val_loss: 0.4386 - val_acc: 0.8738\n",
      "Epoch 22/62\n",
      "410/410 [==============================] - 0s 49us/step - loss: 0.3913 - acc: 0.8610 - val_loss: 0.6777 - val_acc: 0.7864\n",
      "Epoch 23/62\n",
      "410/410 [==============================] - 0s 49us/step - loss: 0.4026 - acc: 0.8951 - val_loss: 0.5262 - val_acc: 0.8932\n",
      "Epoch 24/62\n",
      "410/410 [==============================] - 0s 59us/step - loss: 0.3437 - acc: 0.9000 - val_loss: 0.3973 - val_acc: 0.8932\n",
      "Epoch 25/62\n",
      "410/410 [==============================] - 0s 59us/step - loss: 0.2593 - acc: 0.9098 - val_loss: 0.4667 - val_acc: 0.8835\n",
      "Epoch 26/62\n",
      "410/410 [==============================] - 0s 58us/step - loss: 0.2528 - acc: 0.9195 - val_loss: 0.4610 - val_acc: 0.9029\n",
      "Epoch 27/62\n",
      "410/410 [==============================] - 0s 59us/step - loss: 0.3257 - acc: 0.9049 - val_loss: 0.5508 - val_acc: 0.8350\n",
      "Epoch 28/62\n",
      "410/410 [==============================] - 0s 59us/step - loss: 0.2864 - acc: 0.9146 - val_loss: 0.3381 - val_acc: 0.9029\n",
      "Epoch 29/62\n",
      "410/410 [==============================] - 0s 49us/step - loss: 0.2374 - acc: 0.9195 - val_loss: 0.3399 - val_acc: 0.8932\n",
      "Epoch 30/62\n",
      "410/410 [==============================] - 0s 49us/step - loss: 0.2833 - acc: 0.9146 - val_loss: 0.3172 - val_acc: 0.9029\n",
      "Epoch 31/62\n",
      "410/410 [==============================] - 0s 59us/step - loss: 0.2203 - acc: 0.9220 - val_loss: 0.3861 - val_acc: 0.9029\n",
      "Epoch 32/62\n",
      "410/410 [==============================] - 0s 49us/step - loss: 0.2689 - acc: 0.9000 - val_loss: 0.3200 - val_acc: 0.8835\n",
      "Epoch 33/62\n",
      "410/410 [==============================] - 0s 49us/step - loss: 0.2819 - acc: 0.9122 - val_loss: 0.3247 - val_acc: 0.9126\n",
      "Epoch 34/62\n",
      "410/410 [==============================] - 0s 49us/step - loss: 0.2606 - acc: 0.9244 - val_loss: 0.3289 - val_acc: 0.9029\n",
      "Epoch 35/62\n",
      "410/410 [==============================] - 0s 49us/step - loss: 0.2368 - acc: 0.9146 - val_loss: 0.2771 - val_acc: 0.9029\n",
      "Epoch 36/62\n",
      "410/410 [==============================] - 0s 49us/step - loss: 0.2032 - acc: 0.9244 - val_loss: 0.3359 - val_acc: 0.9029\n",
      "Epoch 37/62\n",
      "410/410 [==============================] - 0s 49us/step - loss: 0.2191 - acc: 0.9268 - val_loss: 0.2841 - val_acc: 0.9029\n",
      "Epoch 38/62\n",
      "410/410 [==============================] - 0s 49us/step - loss: 0.2262 - acc: 0.9317 - val_loss: 0.3169 - val_acc: 0.9029\n",
      "Epoch 39/62\n",
      "410/410 [==============================] - 0s 59us/step - loss: 0.2399 - acc: 0.9171 - val_loss: 0.2732 - val_acc: 0.9126\n",
      "Epoch 40/62\n",
      "410/410 [==============================] - 0s 59us/step - loss: 0.2345 - acc: 0.9195 - val_loss: 0.2985 - val_acc: 0.9029\n",
      "Epoch 41/62\n",
      "410/410 [==============================] - 0s 49us/step - loss: 0.2103 - acc: 0.9195 - val_loss: 0.2922 - val_acc: 0.9029\n",
      "Epoch 42/62\n",
      "410/410 [==============================] - 0s 59us/step - loss: 0.2766 - acc: 0.8976 - val_loss: 0.4861 - val_acc: 0.8544\n",
      "Epoch 43/62\n",
      "410/410 [==============================] - 0s 58us/step - loss: 0.3043 - acc: 0.9122 - val_loss: 0.2633 - val_acc: 0.9126\n",
      "Epoch 44/62\n",
      "410/410 [==============================] - 0s 49us/step - loss: 0.3078 - acc: 0.9024 - val_loss: 0.3018 - val_acc: 0.9126\n",
      "Epoch 45/62\n",
      "410/410 [==============================] - 0s 49us/step - loss: 0.2930 - acc: 0.9146 - val_loss: 0.2756 - val_acc: 0.9126\n",
      "Epoch 46/62\n",
      "410/410 [==============================] - 0s 49us/step - loss: 0.2068 - acc: 0.9195 - val_loss: 0.3580 - val_acc: 0.9029\n",
      "Epoch 47/62\n",
      "410/410 [==============================] - 0s 49us/step - loss: 0.2293 - acc: 0.9146 - val_loss: 0.4444 - val_acc: 0.8835\n",
      "Epoch 48/62\n",
      "410/410 [==============================] - 0s 49us/step - loss: 0.2449 - acc: 0.9244 - val_loss: 0.2975 - val_acc: 0.9029\n",
      "Epoch 49/62\n",
      "410/410 [==============================] - 0s 49us/step - loss: 0.2423 - acc: 0.9268 - val_loss: 0.2645 - val_acc: 0.9320\n",
      "Epoch 50/62\n",
      "410/410 [==============================] - 0s 49us/step - loss: 0.2837 - acc: 0.9073 - val_loss: 0.2602 - val_acc: 0.9126\n",
      "Epoch 51/62\n",
      "410/410 [==============================] - 0s 49us/step - loss: 0.2565 - acc: 0.9073 - val_loss: 0.3989 - val_acc: 0.9126\n",
      "Epoch 52/62\n",
      "410/410 [==============================] - 0s 49us/step - loss: 0.2477 - acc: 0.9146 - val_loss: 0.5559 - val_acc: 0.8252\n",
      "Epoch 53/62\n",
      "410/410 [==============================] - 0s 49us/step - loss: 0.2721 - acc: 0.9024 - val_loss: 0.3889 - val_acc: 0.9029\n",
      "Epoch 54/62\n",
      "410/410 [==============================] - 0s 58us/step - loss: 0.2271 - acc: 0.9341 - val_loss: 0.4232 - val_acc: 0.8932\n",
      "Epoch 55/62\n",
      "410/410 [==============================] - 0s 49us/step - loss: 0.2373 - acc: 0.9171 - val_loss: 0.2394 - val_acc: 0.9223\n",
      "Epoch 56/62\n",
      "410/410 [==============================] - 0s 49us/step - loss: 0.1846 - acc: 0.9415 - val_loss: 0.3208 - val_acc: 0.9126\n",
      "Epoch 57/62\n",
      "410/410 [==============================] - 0s 59us/step - loss: 0.2389 - acc: 0.9195 - val_loss: 0.2325 - val_acc: 0.9029\n",
      "Epoch 58/62\n",
      "410/410 [==============================] - 0s 59us/step - loss: 0.1778 - acc: 0.9390 - val_loss: 0.2647 - val_acc: 0.9223\n",
      "Epoch 59/62\n",
      "410/410 [==============================] - 0s 49us/step - loss: 0.2077 - acc: 0.9317 - val_loss: 0.2513 - val_acc: 0.9029\n",
      "Epoch 60/62\n",
      "410/410 [==============================] - 0s 49us/step - loss: 0.2359 - acc: 0.9049 - val_loss: 0.2383 - val_acc: 0.9029\n",
      "Epoch 61/62\n",
      "410/410 [==============================] - 0s 49us/step - loss: 0.1901 - acc: 0.9390 - val_loss: 0.2658 - val_acc: 0.9126\n"
     ]
    },
    {
     "name": "stdout",
     "output_type": "stream",
     "text": [
      "Epoch 62/62\n",
      "410/410 [==============================] - 0s 59us/step - loss: 0.1929 - acc: 0.9317 - val_loss: 0.2974 - val_acc: 0.9126\n"
     ]
    }
   ],
   "source": [
    "hist=network.fit(xtrain, xlabel, epochs=62, batch_size=30,validation_split=0.2)"
   ]
  },
  {
   "cell_type": "code",
   "execution_count": 38,
   "metadata": {},
   "outputs": [
    {
     "data": {
      "image/png": "[encoded data removed]",
      "text/plain": [
       "<Figure size 432x288 with 1 Axes>"
      ]
     },
     "metadata": {
      "needs_background": "light"
     },
     "output_type": "display_data"
    },
    {
     "data": {
      "image/png": "[encoded data removed]",
      "text/plain": [
       "<Figure size 432x288 with 1 Axes>"
      ]
     },
     "metadata": {
      "needs_background": "light"
     },
     "output_type": "display_data"
    }
   ],
   "source": [
    "import matplotlib.pyplot as plt\n",
    "loss_values=hist.history['loss']\n",
    "val_loss_values=hist.history['val_loss']\n",
    "epochs=range(1,len(loss_values)+1)\n",
    "plt.plot(epochs,loss_values,'bo',label='Training loss')\n",
    "plt.plot(epochs,val_loss_values,'b',label='Validation loss')\n",
    "plt.title('Training and Validation loss')\n",
    "plt.xlabel('Epochs')\n",
    "plt.ylabel('Loss')\n",
    "plt.legend()\n",
    "plt.show()\n",
    "plt.clf\n",
    "acc_values=hist.history['acc']\n",
    "val_acc_values=hist.history['val_acc']\n",
    "epochs=range(1,len(acc_values)+1)\n",
    "plt.plot(epochs,acc_values,'bo',label='Training acc')\n",
    "plt.plot(epochs,val_acc_values,'b',label='Validation acc')\n",
    "plt.title('Training and Validation accuracy')\n",
    "plt.xlabel('Epochs')\n",
    "plt.ylabel('acc')\n",
    "plt.legend()\n",
    "plt.show()"
   ]
  },
  {
   "cell_type": "markdown",
   "metadata": {},
   "source": [
    "# Test Predict"
   ]
  },
  {
   "cell_type": "code",
   "execution_count": 39,
   "metadata": {},
   "outputs": [
    {
     "name": "stdout",
     "output_type": "stream",
     "text": [
      "56/56 [==============================] - 0s 0us/step\n"
     ]
    }
   ],
   "source": [
    "evaluation = network.evaluate(test,  ylabel)"
   ]
  },
  {
   "cell_type": "code",
   "execution_count": 40,
   "metadata": {},
   "outputs": [
    {
     "data": {
      "text/plain": [
       "[0.13872377574443817, 0.9464285969734192]"
      ]
     },
     "execution_count": 40,
     "metadata": {},
     "output_type": "execute_result"
    }
   ],
   "source": [
    "evaluation"
   ]
  },
  {
   "cell_type": "code",
   "execution_count": 41,
   "metadata": {},
   "outputs": [],
   "source": [
    "network.save(\"breast_Cancer_dataset.h5\")"
   ]
  },
  {
   "cell_type": "markdown",
   "metadata": {},
   "source": [
    "# Prediction"
   ]
  },
  {
   "cell_type": "code",
   "execution_count": null,
   "metadata": {},
   "outputs": [],
   "source": []
  },
  {
   "cell_type": "code",
   "execution_count": 386,
   "metadata": {},
   "outputs": [
    {
     "name": "stdout",
     "output_type": "stream",
     "text": [
      "The data is : [9.333 21.94 59.01 264.0 0.0924 0.05605 0.03996 0.012819999999999998\n",
      " 0.1692 0.06576 0.3013 1.879 2.121 17.86 0.01094 0.018340000000000002\n",
      " 0.03996 0.012819999999999998 0.03759 0.0046229999999999995 9.845 25.05\n",
      " 62.86 295.8 0.1103 0.08298 0.07993 0.025639999999999996 0.2435 0.07393] and I have predicted that it's a [[0]] i.e B\n",
      "Actual data : [9.333 21.94 59.01 264.0 0.0924 0.05605 0.03996 0.012819999999999998\n",
      " 0.1692 0.06576 0.3013 1.879 2.121 17.86 0.01094 0.018340000000000002\n",
      " 0.03996 0.012819999999999998 0.03759 0.0046229999999999995 9.845 25.05\n",
      " 62.86 295.8 0.1103 0.08298 0.07993 0.025639999999999996 0.2435 0.07393] actual label : 0\n"
     ]
    }
   ],
   "source": [
    "i=52\n",
    "prediction =  network.predict_classes(test[i].reshape(1,30))\n",
    "if prediction == 0:\n",
    "  print(\"The data is :\",test[i],\"and I have predicted that it's a\",prediction,\"i.e B\")\n",
    "  print(\"Actual data :\",test[i] , \"actual label :\",ylabel[i])\n",
    "\n",
    "elif prediction == 1:\n",
    "  print(\"The data is :\",test[i],\"and I have predicted that it's a\",prediction,\"i.e M\")\n",
    "  print(\"Actual data :\",test[i] , \"actual label :\",ylabel[i])"
   ]
  },
  {
   "cell_type": "code",
   "execution_count": 388,
   "metadata": {},
   "outputs": [
    {
     "data": {
      "text/plain": [
       "'B'"
      ]
     },
     "execution_count": 388,
     "metadata": {},
     "output_type": "execute_result"
    }
   ],
   "source": [
    "y_label[52]"
   ]
  },
  {
   "cell_type": "code",
   "execution_count": null,
   "metadata": {},
   "outputs": [],
   "source": []
  }
 ],
 "metadata": {
  "kernelspec": {
   "display_name": "Python 3",
   "language": "python",
   "name": "python3"
  },
  "language_info": {
   "codemirror_mode": {
    "name": "ipython",
    "version": 3
   },
   "file_extension": ".py",
   "mimetype": "text/x-python",
   "name": "python",
   "nbconvert_exporter": "python",
   "pygments_lexer": "ipython3",
   "version": "3.7.3"
  }
 },
 "nbformat": 4,
 "nbformat_minor": 2
}
