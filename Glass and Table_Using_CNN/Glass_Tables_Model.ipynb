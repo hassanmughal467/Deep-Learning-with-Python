{
 "cells": [
  {
   "cell_type": "code",
   "execution_count": 1,
   "metadata": {},
   "outputs": [
    {
     "name": "stderr",
     "output_type": "stream",
     "text": [
      "Using TensorFlow backend.\n"
     ]
    }
   ],
   "source": [
    "import numpy as np\n",
    "import pandas as pd\n",
    "import keras\n",
    "from PIL import Image\n",
    "import os, shutil"
   ]
  },
  {
   "cell_type": "code",
   "execution_count": 2,
   "metadata": {},
   "outputs": [],
   "source": [
    "original_dataset_dir=\"D:/c/Desktop/PIAIC/Artificial Intelligent/3rd Quarter/deep learning/sir nasir/Complte chptrs 5 material/Glass and Table_model/glass_and_table_dataset/training/training\""
   ]
  },
  {
   "cell_type": "code",
   "execution_count": 3,
   "metadata": {},
   "outputs": [],
   "source": [
    "base_dir = 'D:/c/Desktop/PIAIC/Artificial Intelligent/3rd Quarter/deep learning/sir nasir\\Complte chptrs 5 material\\Glass and Table_model\\working directory'"
   ]
  },
  {
   "cell_type": "code",
   "execution_count": 3,
   "metadata": {},
   "outputs": [],
   "source": [
    "train_dir = os.path.join(base_dir, 'train') \n",
    "os.mkdir(train_dir)\n",
    "validation_dir = os.path.join(base_dir, 'validation')\n",
    "os.mkdir(validation_dir)\n",
    "test_dir = os.path.join(base_dir, 'test')\n",
    "os.mkdir(test_dir)"
   ]
  },
  {
   "cell_type": "code",
   "execution_count": 4,
   "metadata": {},
   "outputs": [],
   "source": [
    "train_glass_dir = os.path.join(train_dir, 'glass')\n",
    "os.mkdir(train_glass_dir)\n",
    "train_tables_dir = os.path.join(train_dir, 'tables')\n",
    "os.mkdir(train_tables_dir)\n",
    "validation_glass_dir = os.path.join(validation_dir, 'glass')\n",
    "os.mkdir(validation_glass_dir)\n",
    "validation_table_dir = os.path.join(validation_dir, 'tables')\n",
    "os.mkdir(validation_table_dir)\n",
    "test_glass_dir = os.path.join(test_dir, 'glass')\n",
    "os.mkdir(test_glass_dir)\n",
    "test_tables_dir = os.path.join(test_dir, 'tables')\n",
    "os.mkdir(test_tables_dir)"
   ]
  },
  {
   "cell_type": "markdown",
   "metadata": {},
   "source": [
    "# Train Data"
   ]
  },
  {
   "cell_type": "code",
   "execution_count": 12,
   "metadata": {},
   "outputs": [],
   "source": [
    "fnames = ['glass_{}.jpg'.format(i) for i in range(1,1000)]\n",
    "for fname in fnames:\n",
    "    src = os.path.join(original_dataset_dir, fname)\n",
    "    dst = os.path.join(train_glass_dir, fname) \n",
    "    shutil.copyfile(src, dst)\n",
    " #copy images from one to another"
   ]
  },
  {
   "cell_type": "code",
   "execution_count": 13,
   "metadata": {},
   "outputs": [],
   "source": [
    "fnames = ['table_{}.jpg'.format(i) for i in range(1,1000)]\n",
    "for fname in fnames:\n",
    "    src = os.path.join(original_dataset_dir, fname)\n",
    "    dst = os.path.join(train_tables_dir, fname) \n",
    "    shutil.copyfile(src, dst)\n",
    " #copy images from one to another"
   ]
  },
  {
   "cell_type": "markdown",
   "metadata": {},
   "source": [
    "# Validation data"
   ]
  },
  {
   "cell_type": "code",
   "execution_count": 14,
   "metadata": {},
   "outputs": [],
   "source": [
    "fnames = ['glass_{}.jpg'.format(i) for i in range(1000,1500)]\n",
    "for fname in fnames:\n",
    "    src = os.path.join(original_dataset_dir, fname)\n",
    "    dst = os.path.join(validation_glass_dir, fname) \n",
    "    shutil.copyfile(src, dst)\n",
    " #copy images from one to another"
   ]
  },
  {
   "cell_type": "code",
   "execution_count": 16,
   "metadata": {},
   "outputs": [],
   "source": [
    "fnames = ['table_{}.jpg'.format(i) for i in range(1000,1500)]\n",
    "for fname in fnames:\n",
    "    src = os.path.join(original_dataset_dir, fname)\n",
    "    dst = os.path.join(validation_table_dir, fname) \n",
    "    shutil.copyfile(src, dst)\n",
    " #copy images from one to another"
   ]
  },
  {
   "cell_type": "markdown",
   "metadata": {},
   "source": [
    "# Test data"
   ]
  },
  {
   "cell_type": "code",
   "execution_count": 17,
   "metadata": {},
   "outputs": [],
   "source": [
    "fnames = ['glass_{}.jpg'.format(i) for i in range(1500,2000)]\n",
    "for fname in fnames:\n",
    "    src = os.path.join(original_dataset_dir, fname)\n",
    "    dst = os.path.join(test_glass_dir, fname) \n",
    "    shutil.copyfile(src, dst)\n",
    " #copy images from one to another"
   ]
  },
  {
   "cell_type": "code",
   "execution_count": 19,
   "metadata": {},
   "outputs": [],
   "source": [
    "fnames = ['table_{}.jpg'.format(i) for i in range(1500,2000)]\n",
    "for fname in fnames:\n",
    "    src = os.path.join(original_dataset_dir, fname)\n",
    "    dst = os.path.join(test_tables_dir, fname) \n",
    "    shutil.copyfile(src, dst)\n",
    " #copy images from one to another"
   ]
  },
  {
   "cell_type": "code",
   "execution_count": 21,
   "metadata": {},
   "outputs": [
    {
     "name": "stdout",
     "output_type": "stream",
     "text": [
      "total training cat images: 999\n",
      "total training dog images: 999\n",
      "total validation cat images: 500\n",
      "total validation dog images: 500\n",
      "total test cat images: 500\n",
      "total test dog images: 500\n"
     ]
    }
   ],
   "source": [
    "print('total training cat images:', len(os.listdir(train_glass_dir)))\n",
    "\n",
    "print('total training dog images:', len(os.listdir(train_tables_dir)))\n",
    "\n",
    "print('total validation cat images:', len(os.listdir(validation_glass_dir)))\n",
    "\n",
    "print('total validation dog images:', len(os.listdir(validation_table_dir)))\n",
    "\n",
    "print('total test cat images:', len(os.listdir(test_glass_dir)))\n",
    "\n",
    "print('total test dog images:', len(os.listdir(test_tables_dir)))"
   ]
  },
  {
   "cell_type": "code",
   "execution_count": 31,
   "metadata": {},
   "outputs": [],
   "source": [
    "img=Image.open('D:/c/Desktop/PIAIC/Artificial Intelligent/3rd Quarter/deep learning/sir nasir/Complte chptrs 5 material/Glass and Table_model/working directory/train/glass/glass_10.jpg')"
   ]
  },
  {
   "cell_type": "code",
   "execution_count": 32,
   "metadata": {},
   "outputs": [
    {
     "data": {
      "text/plain": [
       "(800, 800, 3)"
      ]
     },
     "execution_count": 32,
     "metadata": {},
     "output_type": "execute_result"
    }
   ],
   "source": [
    "imgarray=np.asarray(img)\n",
    "imgarray.shape"
   ]
  },
  {
   "cell_type": "markdown",
   "metadata": {},
   "source": [
    "# Building your network\n"
   ]
  },
  {
   "cell_type": "code",
   "execution_count": 33,
   "metadata": {},
   "outputs": [],
   "source": [
    "from keras import layers\n",
    "from keras import models\n",
    "model = models.Sequential()\n",
    "model.add(layers.Conv2D(32, (3, 3), activation='relu',\n",
    "input_shape=(150, 150, 3)))\n",
    "model.add(layers.MaxPooling2D((2, 2)))\n",
    "model.add(layers.Conv2D(64, (3, 3), activation='relu'))\n",
    "model.add(layers.MaxPooling2D((2, 2)))\n",
    "model.add(layers.Conv2D(128, (3, 3), activation='relu'))\n",
    "model.add(layers.MaxPooling2D((2, 2)))\n",
    "model.add(layers.Conv2D(128, (3, 3), activation='relu'))\n",
    "model.add(layers.MaxPooling2D((2, 2)))\n",
    "# Dense Classifier\n",
    "model.add(layers.Flatten())\n",
    "model.add(layers.Dense(512, activation='relu'))\n",
    "model.add(layers.Dense(1, activation='sigmoid'))"
   ]
  },
  {
   "cell_type": "code",
   "execution_count": 34,
   "metadata": {},
   "outputs": [
    {
     "name": "stdout",
     "output_type": "stream",
     "text": [
      "Model: \"sequential_1\"\n",
      "_________________________________________________________________\n",
      "Layer (type)                 Output Shape              Param #   \n",
      "=================================================================\n",
      "conv2d_1 (Conv2D)            (None, 148, 148, 32)      896       \n",
      "_________________________________________________________________\n",
      "max_pooling2d_1 (MaxPooling2 (None, 74, 74, 32)        0         \n",
      "_________________________________________________________________\n",
      "conv2d_2 (Conv2D)            (None, 72, 72, 64)        18496     \n",
      "_________________________________________________________________\n",
      "max_pooling2d_2 (MaxPooling2 (None, 36, 36, 64)        0         \n",
      "_________________________________________________________________\n",
      "conv2d_3 (Conv2D)            (None, 34, 34, 128)       73856     \n",
      "_________________________________________________________________\n",
      "max_pooling2d_3 (MaxPooling2 (None, 17, 17, 128)       0         \n",
      "_________________________________________________________________\n",
      "conv2d_4 (Conv2D)            (None, 15, 15, 128)       147584    \n",
      "_________________________________________________________________\n",
      "max_pooling2d_4 (MaxPooling2 (None, 7, 7, 128)         0         \n",
      "_________________________________________________________________\n",
      "flatten_1 (Flatten)          (None, 6272)              0         \n",
      "_________________________________________________________________\n",
      "dense_1 (Dense)              (None, 512)               3211776   \n",
      "_________________________________________________________________\n",
      "dense_2 (Dense)              (None, 1)                 513       \n",
      "=================================================================\n",
      "Total params: 3,453,121\n",
      "Trainable params: 3,453,121\n",
      "Non-trainable params: 0\n",
      "_________________________________________________________________\n"
     ]
    }
   ],
   "source": [
    "model.summary()"
   ]
  },
  {
   "cell_type": "markdown",
   "metadata": {},
   "source": [
    "# Configuring the model for training\n"
   ]
  },
  {
   "cell_type": "code",
   "execution_count": 35,
   "metadata": {},
   "outputs": [],
   "source": [
    "from keras import optimizers\n",
    "model.compile(loss='binary_crossentropy',\n",
    "optimizer=optimizers.RMSprop(lr=1e-4),\n",
    "metrics=['acc'])"
   ]
  },
  {
   "cell_type": "markdown",
   "metadata": {},
   "source": [
    "# Data preprocessing"
   ]
  },
  {
   "cell_type": "code",
   "execution_count": 36,
   "metadata": {},
   "outputs": [
    {
     "name": "stdout",
     "output_type": "stream",
     "text": [
      "Found 1998 images belonging to 2 classes.\n",
      "Found 1000 images belonging to 2 classes.\n"
     ]
    }
   ],
   "source": [
    "from keras.preprocessing.image import ImageDataGenerator\n",
    "train_datagen = ImageDataGenerator(rescale=1./255)\n",
    "test_datagen = ImageDataGenerator(rescale=1./255)\n",
    "train_generator = train_datagen.flow_from_directory(train_dir,\n",
    "                                                    target_size=(150, 150),\n",
    "                                                    batch_size=20,\n",
    "                                                    class_mode='binary')\n",
    "validation_generator = test_datagen.flow_from_directory(validation_dir,\n",
    "                                                        target_size=(150, 150),\n",
    "                                                        batch_size=20,\n",
    "                                                        class_mode='binary')"
   ]
  },
  {
   "cell_type": "markdown",
   "metadata": {},
   "source": [
    "# Fitting the model using a batch generator"
   ]
  },
  {
   "cell_type": "code",
   "execution_count": 37,
   "metadata": {},
   "outputs": [
    {
     "name": "stdout",
     "output_type": "stream",
     "text": [
      "Epoch 1/30\n",
      "100/100 [==============================] - 115s 1s/step - loss: 0.5758 - acc: 0.6952 - val_loss: 0.2125 - val_acc: 0.8440\n",
      "Epoch 2/30\n",
      "100/100 [==============================] - 86s 855ms/step - loss: 0.3826 - acc: 0.8363 - val_loss: 0.4718 - val_acc: 0.8850\n",
      "Epoch 3/30\n",
      "100/100 [==============================] - 87s 871ms/step - loss: 0.3176 - acc: 0.8659 - val_loss: 0.0993 - val_acc: 0.8960\n",
      "Epoch 4/30\n",
      "100/100 [==============================] - 87s 869ms/step - loss: 0.2916 - acc: 0.8794 - val_loss: 0.2102 - val_acc: 0.9030\n",
      "Epoch 5/30\n",
      "100/100 [==============================] - 88s 883ms/step - loss: 0.2582 - acc: 0.8974 - val_loss: 0.1203 - val_acc: 0.9010\n",
      "Epoch 6/30\n",
      "100/100 [==============================] - 87s 874ms/step - loss: 0.2347 - acc: 0.9129 - val_loss: 0.1467 - val_acc: 0.8710\n",
      "Epoch 7/30\n",
      "100/100 [==============================] - 89s 886ms/step - loss: 0.2110 - acc: 0.9179 - val_loss: 0.1012 - val_acc: 0.9110\n",
      "Epoch 8/30\n",
      "100/100 [==============================] - 90s 901ms/step - loss: 0.2030 - acc: 0.9169 - val_loss: 0.0952 - val_acc: 0.9000\n",
      "Epoch 9/30\n",
      "100/100 [==============================] - 92s 924ms/step - loss: 0.1928 - acc: 0.9319 - val_loss: 0.0925 - val_acc: 0.9040\n",
      "Epoch 10/30\n",
      "100/100 [==============================] - 85s 852ms/step - loss: 0.1691 - acc: 0.9384 - val_loss: 0.4538 - val_acc: 0.8760\n",
      "Epoch 11/30\n",
      "100/100 [==============================] - 85s 853ms/step - loss: 0.1679 - acc: 0.9379 - val_loss: 0.1678 - val_acc: 0.8880\n",
      "Epoch 12/30\n",
      "100/100 [==============================] - 86s 862ms/step - loss: 0.1441 - acc: 0.9494 - val_loss: 0.1981 - val_acc: 0.9190\n",
      "Epoch 13/30\n",
      "100/100 [==============================] - 86s 863ms/step - loss: 0.1353 - acc: 0.9535 - val_loss: 0.2874 - val_acc: 0.9210\n",
      "Epoch 14/30\n",
      "100/100 [==============================] - 86s 855ms/step - loss: 0.1249 - acc: 0.9520 - val_loss: 0.1799 - val_acc: 0.9280\n",
      "Epoch 15/30\n",
      "100/100 [==============================] - 85s 854ms/step - loss: 0.1066 - acc: 0.9600 - val_loss: 0.1799 - val_acc: 0.9310\n",
      "Epoch 16/30\n",
      "100/100 [==============================] - 85s 846ms/step - loss: 0.1049 - acc: 0.9640 - val_loss: 0.0737 - val_acc: 0.9300\n",
      "Epoch 17/30\n",
      "100/100 [==============================] - 86s 856ms/step - loss: 0.0949 - acc: 0.9685 - val_loss: 0.2375 - val_acc: 0.9270\n",
      "Epoch 18/30\n",
      "100/100 [==============================] - 85s 852ms/step - loss: 0.0823 - acc: 0.9690 - val_loss: 0.5456 - val_acc: 0.9070\n",
      "Epoch 19/30\n",
      "100/100 [==============================] - 86s 855ms/step - loss: 0.0765 - acc: 0.9695 - val_loss: 0.1288 - val_acc: 0.9250\n",
      "Epoch 20/30\n",
      "100/100 [==============================] - 85s 854ms/step - loss: 0.0665 - acc: 0.9755 - val_loss: 0.0570 - val_acc: 0.9320\n",
      "Epoch 21/30\n",
      "100/100 [==============================] - 87s 867ms/step - loss: 0.0593 - acc: 0.9800 - val_loss: 0.1397 - val_acc: 0.9230\n",
      "Epoch 22/30\n",
      "100/100 [==============================] - 86s 862ms/step - loss: 0.0505 - acc: 0.9870 - val_loss: 0.0786 - val_acc: 0.9240\n",
      "Epoch 23/30\n",
      "100/100 [==============================] - 86s 859ms/step - loss: 0.0497 - acc: 0.9815 - val_loss: 0.0096 - val_acc: 0.9310\n",
      "Epoch 24/30\n",
      "100/100 [==============================] - 85s 853ms/step - loss: 0.0357 - acc: 0.9910 - val_loss: 0.0219 - val_acc: 0.9190\n",
      "Epoch 25/30\n",
      "100/100 [==============================] - 86s 860ms/step - loss: 0.0384 - acc: 0.9880 - val_loss: 0.1518 - val_acc: 0.9120\n",
      "Epoch 26/30\n",
      "100/100 [==============================] - 87s 872ms/step - loss: 0.0333 - acc: 0.9895 - val_loss: 0.1856 - val_acc: 0.9330\n",
      "Epoch 27/30\n",
      "100/100 [==============================] - 85s 849ms/step - loss: 0.0312 - acc: 0.9885 - val_loss: 0.0596 - val_acc: 0.9270\n",
      "Epoch 28/30\n",
      "100/100 [==============================] - 86s 855ms/step - loss: 0.0217 - acc: 0.9940 - val_loss: 0.6251 - val_acc: 0.9260\n",
      "Epoch 29/30\n",
      "100/100 [==============================] - 86s 856ms/step - loss: 0.0190 - acc: 0.9935 - val_loss: 0.3653 - val_acc: 0.9240\n",
      "Epoch 30/30\n",
      "100/100 [==============================] - 87s 865ms/step - loss: 0.0165 - acc: 0.9960 - val_loss: 0.4406 - val_acc: 0.8980\n"
     ]
    }
   ],
   "source": [
    "history = model.fit_generator(train_generator,steps_per_epoch=100,\n",
    "                              epochs=30,validation_data=validation_generator,\n",
    "                              validation_steps=50)"
   ]
  },
  {
   "cell_type": "markdown",
   "metadata": {},
   "source": [
    "# Displaying curves of loss and accuracy during training"
   ]
  },
  {
   "cell_type": "code",
   "execution_count": 39,
   "metadata": {},
   "outputs": [
    {
     "data": {
      "text/plain": [
       "<matplotlib.legend.Legend at 0x2350a92df60>"
      ]
     },
     "execution_count": 39,
     "metadata": {},
     "output_type": "execute_result"
    },
    {
     "data": {
      "image/png": "[encoded data removed]",
      "text/plain": [
       "<Figure size 432x288 with 1 Axes>"
      ]
     },
     "metadata": {
      "needs_background": "light"
     },
     "output_type": "display_data"
    },
    {
     "data": {
      "image/png": "[encoded data removed]",
      "text/plain": [
       "<Figure size 432x288 with 1 Axes>"
      ]
     },
     "metadata": {
      "needs_background": "light"
     },
     "output_type": "display_data"
    }
   ],
   "source": [
    "import matplotlib.pyplot as plt\n",
    "acc = history.history['acc']\n",
    "val_acc = history.history['val_acc']\n",
    "loss = history.history['loss']\n",
    "val_loss = history.history['val_loss']\n",
    "epochs = range(1, len(acc) + 1)\n",
    "plt.plot(epochs, acc, 'bo', label='Training acc')\n",
    "plt.plot(epochs, val_acc, 'b', label='Validation acc')\n",
    "plt.title('Training and validation accuracy')\n",
    "plt.legend()\n",
    "plt.figure()\n",
    "plt.plot(epochs, loss, 'bo', label='Training loss')\n",
    "plt.plot(epochs, val_loss, 'b', label='Validation loss')\n",
    "plt.title('Training and validation loss')\n",
    "plt.legend()"
   ]
  },
  {
   "cell_type": "markdown",
   "metadata": {},
   "source": [
    "# Using data augmentation\n",
    "Defining a new convnet that includes dropout"
   ]
  },
  {
   "cell_type": "code",
   "execution_count": 41,
   "metadata": {},
   "outputs": [],
   "source": [
    "model = models.Sequential()\n",
    "model.add(layers.Conv2D(32, (3, 3), activation='relu',\n",
    "input_shape=(150, 150, 3)))\n",
    "model.add(layers.MaxPooling2D((2, 2)))\n",
    "model.add(layers.Conv2D(64, (3, 3), activation='relu'))\n",
    "model.add(layers.MaxPooling2D((2, 2)))\n",
    "model.add(layers.Conv2D(128, (3, 3), activation='relu'))\n",
    "model.add(layers.MaxPooling2D((2, 2)))\n",
    "model.add(layers.Conv2D(128, (3, 3), activation='relu'))\n",
    "model.add(layers.MaxPooling2D((2, 2)))\n",
    "model.add(layers.Flatten())\n",
    "model.add(layers.Dropout(0.5))\n",
    "model.add(layers.Dense(512, activation='relu'))\n",
    "model.add(layers.Dense(1, activation='sigmoid'))\n",
    "model.compile(loss='binary_crossentropy',\n",
    "optimizer=optimizers.RMSprop(lr=1e-4),\n",
    "metrics=['acc'])"
   ]
  },
  {
   "cell_type": "code",
   "execution_count": 42,
   "metadata": {},
   "outputs": [],
   "source": [
    "train_datagen = ImageDataGenerator(\n",
    "rescale=1./255,\n",
    "rotation_range=40,\n",
    "width_shift_range=0.2,\n",
    "height_shift_range=0.2,\n",
    "shear_range=0.2,\n",
    "zoom_range=0.2,\n",
    "horizontal_flip=True,)\n"
   ]
  },
  {
   "cell_type": "code",
   "execution_count": 43,
   "metadata": {},
   "outputs": [
    {
     "name": "stdout",
     "output_type": "stream",
     "text": [
      "Found 1998 images belonging to 2 classes.\n",
      "Found 1000 images belonging to 2 classes.\n",
      "Epoch 1/100\n",
      "100/100 [==============================] - 150s 2s/step - loss: 0.6217 - acc: 0.6470 - val_loss: 0.4337 - val_acc: 0.8452\n",
      "Epoch 2/100\n",
      "100/100 [==============================] - 157s 2s/step - loss: 0.4884 - acc: 0.7640 - val_loss: 0.3572 - val_acc: 0.8447\n",
      "Epoch 3/100\n",
      "100/100 [==============================] - 164s 2s/step - loss: 0.4354 - acc: 0.8031 - val_loss: 0.2268 - val_acc: 0.8813\n",
      "Epoch 4/100\n",
      "100/100 [==============================] - 156s 2s/step - loss: 0.4089 - acc: 0.8193 - val_loss: 0.7520 - val_acc: 0.7519\n",
      "Epoch 5/100\n",
      "100/100 [==============================] - 155s 2s/step - loss: 0.3949 - acc: 0.8164 - val_loss: 0.4420 - val_acc: 0.8014\n",
      "Epoch 6/100\n",
      "100/100 [==============================] - 160s 2s/step - loss: 0.3581 - acc: 0.8477 - val_loss: 0.2473 - val_acc: 0.9027\n",
      "Epoch 7/100\n",
      "100/100 [==============================] - 153s 2s/step - loss: 0.3585 - acc: 0.8448 - val_loss: 0.4017 - val_acc: 0.8496\n",
      "Epoch 8/100\n",
      "100/100 [==============================] - 154s 2s/step - loss: 0.3523 - acc: 0.8420 - val_loss: 0.3478 - val_acc: 0.8686\n",
      "Epoch 9/100\n",
      "100/100 [==============================] - 153s 2s/step - loss: 0.3306 - acc: 0.8558 - val_loss: 0.3464 - val_acc: 0.8847\n",
      "Epoch 10/100\n",
      "100/100 [==============================] - 155s 2s/step - loss: 0.3458 - acc: 0.8505 - val_loss: 0.2491 - val_acc: 0.9093\n",
      "Epoch 11/100\n",
      "100/100 [==============================] - 158s 2s/step - loss: 0.3217 - acc: 0.8575 - val_loss: 0.2599 - val_acc: 0.9072\n",
      "Epoch 12/100\n",
      "100/100 [==============================] - 158s 2s/step - loss: 0.3262 - acc: 0.8561 - val_loss: 0.2124 - val_acc: 0.9201\n",
      "Epoch 13/100\n",
      "100/100 [==============================] - 166s 2s/step - loss: 0.3135 - acc: 0.8748 - val_loss: 0.5401 - val_acc: 0.8802\n",
      "Epoch 14/100\n",
      "100/100 [==============================] - 148s 1s/step - loss: 0.3036 - acc: 0.8686 - val_loss: 0.1330 - val_acc: 0.9067\n",
      "Epoch 15/100\n",
      "100/100 [==============================] - 149s 1s/step - loss: 0.3091 - acc: 0.8666 - val_loss: 0.2479 - val_acc: 0.9246\n",
      "Epoch 16/100\n",
      "100/100 [==============================] - 148s 1s/step - loss: 0.2933 - acc: 0.8771 - val_loss: 0.0974 - val_acc: 0.9162\n",
      "Epoch 17/100\n",
      "100/100 [==============================] - 150s 1s/step - loss: 0.2908 - acc: 0.8759 - val_loss: 0.2167 - val_acc: 0.9213\n",
      "Epoch 18/100\n",
      "100/100 [==============================] - 164s 2s/step - loss: 0.2792 - acc: 0.8786 - val_loss: 0.1372 - val_acc: 0.9091\n",
      "Epoch 19/100\n",
      "100/100 [==============================] - 158s 2s/step - loss: 0.2732 - acc: 0.8843 - val_loss: 0.5260 - val_acc: 0.9105\n",
      "Epoch 20/100\n",
      "100/100 [==============================] - 158s 2s/step - loss: 0.2612 - acc: 0.8837 - val_loss: 0.2165 - val_acc: 0.9059\n",
      "Epoch 21/100\n",
      "100/100 [==============================] - 157s 2s/step - loss: 0.2731 - acc: 0.8916 - val_loss: 0.2519 - val_acc: 0.9270\n",
      "Epoch 22/100\n",
      "100/100 [==============================] - 156s 2s/step - loss: 0.2554 - acc: 0.8948 - val_loss: 0.2078 - val_acc: 0.9330\n",
      "Epoch 23/100\n",
      "100/100 [==============================] - 158s 2s/step - loss: 0.2511 - acc: 0.9035 - val_loss: 0.2256 - val_acc: 0.9232\n",
      "Epoch 24/100\n",
      "100/100 [==============================] - 156s 2s/step - loss: 0.2532 - acc: 0.8966 - val_loss: 0.4193 - val_acc: 0.9130\n",
      "Epoch 25/100\n",
      "100/100 [==============================] - 153s 2s/step - loss: 0.2563 - acc: 0.8919 - val_loss: 0.1166 - val_acc: 0.9085\n",
      "Epoch 26/100\n",
      "100/100 [==============================] - 154s 2s/step - loss: 0.2588 - acc: 0.8935 - val_loss: 0.1573 - val_acc: 0.9245\n",
      "Epoch 27/100\n",
      "100/100 [==============================] - 151s 2s/step - loss: 0.2652 - acc: 0.8910 - val_loss: 0.2193 - val_acc: 0.9336\n",
      "Epoch 28/100\n",
      "100/100 [==============================] - 148s 1s/step - loss: 0.2388 - acc: 0.9042 - val_loss: 0.1682 - val_acc: 0.9220\n",
      "Epoch 29/100\n",
      "100/100 [==============================] - 146s 1s/step - loss: 0.2436 - acc: 0.9035 - val_loss: 0.2291 - val_acc: 0.9265\n",
      "Epoch 30/100\n",
      "100/100 [==============================] - 148s 1s/step - loss: 0.2477 - acc: 0.8973 - val_loss: 0.1142 - val_acc: 0.9296\n",
      "Epoch 31/100\n",
      "100/100 [==============================] - 158s 2s/step - loss: 0.2357 - acc: 0.9054 - val_loss: 0.1723 - val_acc: 0.9085\n",
      "Epoch 32/100\n",
      "100/100 [==============================] - 155s 2s/step - loss: 0.2258 - acc: 0.9125 - val_loss: 0.2707 - val_acc: 0.9298\n",
      "Epoch 33/100\n",
      "100/100 [==============================] - 156s 2s/step - loss: 0.2245 - acc: 0.9131 - val_loss: 0.1319 - val_acc: 0.9251\n",
      "Epoch 34/100\n",
      "100/100 [==============================] - 156s 2s/step - loss: 0.2251 - acc: 0.9092 - val_loss: 0.1491 - val_acc: 0.9259\n",
      "Epoch 35/100\n",
      "100/100 [==============================] - 158s 2s/step - loss: 0.2155 - acc: 0.9104 - val_loss: 0.1149 - val_acc: 0.9296\n",
      "Epoch 36/100\n",
      "100/100 [==============================] - 149s 1s/step - loss: 0.2162 - acc: 0.9147 - val_loss: 0.1289 - val_acc: 0.9304\n",
      "Epoch 37/100\n",
      "100/100 [==============================] - 146s 1s/step - loss: 0.2134 - acc: 0.9137 - val_loss: 0.1900 - val_acc: 0.9213\n",
      "Epoch 38/100\n",
      "100/100 [==============================] - 165s 2s/step - loss: 0.2094 - acc: 0.9131 - val_loss: 0.0972 - val_acc: 0.9265\n",
      "Epoch 39/100\n",
      "100/100 [==============================] - 172s 2s/step - loss: 0.2147 - acc: 0.9151 - val_loss: 0.0893 - val_acc: 0.9175\n",
      "Epoch 40/100\n",
      "100/100 [==============================] - 184s 2s/step - loss: 0.2093 - acc: 0.9155 - val_loss: 0.2571 - val_acc: 0.9369\n",
      "Epoch 41/100\n",
      "100/100 [==============================] - 153s 2s/step - loss: 0.1987 - acc: 0.9207 - val_loss: 0.2069 - val_acc: 0.9330\n",
      "Epoch 42/100\n",
      "100/100 [==============================] - 151s 2s/step - loss: 0.2139 - acc: 0.9140 - val_loss: 0.5187 - val_acc: 0.9289\n",
      "Epoch 43/100\n",
      "100/100 [==============================] - 151s 2s/step - loss: 0.1989 - acc: 0.9208 - val_loss: 0.1573 - val_acc: 0.9285\n",
      "Epoch 44/100\n",
      "100/100 [==============================] - 163s 2s/step - loss: 0.1997 - acc: 0.9177 - val_loss: 0.3122 - val_acc: 0.9346\n",
      "Epoch 45/100\n",
      "100/100 [==============================] - 162s 2s/step - loss: 0.1962 - acc: 0.9248 - val_loss: 0.0678 - val_acc: 0.9330\n",
      "Epoch 46/100\n",
      "100/100 [==============================] - 157s 2s/step - loss: 0.1946 - acc: 0.9204 - val_loss: 0.1487 - val_acc: 0.9346\n",
      "Epoch 47/100\n",
      "100/100 [==============================] - 160s 2s/step - loss: 0.2019 - acc: 0.9199 - val_loss: 0.1739 - val_acc: 0.9323\n",
      "Epoch 48/100\n",
      "100/100 [==============================] - 162s 2s/step - loss: 0.1968 - acc: 0.9215 - val_loss: 0.0461 - val_acc: 0.9291\n",
      "Epoch 49/100\n",
      "100/100 [==============================] - 157s 2s/step - loss: 0.1830 - acc: 0.9287 - val_loss: 0.1029 - val_acc: 0.9346\n",
      "Epoch 50/100\n",
      "100/100 [==============================] - 160s 2s/step - loss: 0.1746 - acc: 0.9356 - val_loss: 0.1921 - val_acc: 0.8885\n",
      "Epoch 51/100\n",
      "100/100 [==============================] - 162s 2s/step - loss: 0.1849 - acc: 0.9312 - val_loss: 0.0379 - val_acc: 0.9486\n",
      "Epoch 52/100\n",
      "100/100 [==============================] - 166s 2s/step - loss: 0.1802 - acc: 0.9308 - val_loss: 0.7369 - val_acc: 0.9104\n",
      "Epoch 53/100\n",
      "100/100 [==============================] - 162s 2s/step - loss: 0.1810 - acc: 0.9305 - val_loss: 0.1364 - val_acc: 0.9315\n",
      "Epoch 54/100\n",
      "100/100 [==============================] - 162s 2s/step - loss: 0.1633 - acc: 0.9368 - val_loss: 0.1685 - val_acc: 0.9394\n",
      "Epoch 55/100\n",
      "100/100 [==============================] - 169s 2s/step - loss: 0.1699 - acc: 0.9349 - val_loss: 0.5686 - val_acc: 0.9315\n",
      "Epoch 56/100\n",
      "100/100 [==============================] - 167s 2s/step - loss: 0.1687 - acc: 0.9314 - val_loss: 0.2256 - val_acc: 0.9343\n",
      "Epoch 57/100\n",
      "100/100 [==============================] - 160s 2s/step - loss: 0.1747 - acc: 0.9356 - val_loss: 0.2916 - val_acc: 0.9427\n",
      "Epoch 58/100\n",
      "100/100 [==============================] - 157s 2s/step - loss: 0.1732 - acc: 0.9298 - val_loss: 0.0754 - val_acc: 0.9397\n",
      "Epoch 59/100\n",
      "100/100 [==============================] - 151s 2s/step - loss: 0.1500 - acc: 0.9409 - val_loss: 0.1132 - val_acc: 0.9433\n",
      "Epoch 60/100\n",
      "100/100 [==============================] - 150s 2s/step - loss: 0.1714 - acc: 0.9321 - val_loss: 0.1702 - val_acc: 0.9359\n",
      "Epoch 61/100\n",
      "100/100 [==============================] - 150s 2s/step - loss: 0.1661 - acc: 0.9337 - val_loss: 0.1622 - val_acc: 0.9394\n",
      "Epoch 62/100\n",
      "100/100 [==============================] - 155s 2s/step - loss: 0.1562 - acc: 0.9390 - val_loss: 0.2034 - val_acc: 0.9486\n",
      "Epoch 63/100\n",
      "100/100 [==============================] - 170s 2s/step - loss: 0.1483 - acc: 0.9437 - val_loss: 0.2745 - val_acc: 0.9317\n",
      "Epoch 64/100\n",
      "100/100 [==============================] - 169s 2s/step - loss: 0.1466 - acc: 0.9431 - val_loss: 0.0261 - val_acc: 0.9420\n",
      "Epoch 65/100\n",
      "100/100 [==============================] - 182s 2s/step - loss: 0.1586 - acc: 0.9362 - val_loss: 0.0526 - val_acc: 0.9423\n",
      "Epoch 66/100\n",
      "100/100 [==============================] - 148s 1s/step - loss: 0.1586 - acc: 0.9387 - val_loss: 0.2204 - val_acc: 0.9336\n",
      "Epoch 67/100\n",
      "100/100 [==============================] - 148s 1s/step - loss: 0.1509 - acc: 0.9409 - val_loss: 0.0743 - val_acc: 0.9416\n",
      "Epoch 68/100\n",
      "100/100 [==============================] - 149s 1s/step - loss: 0.1519 - acc: 0.9393 - val_loss: 0.2140 - val_acc: 0.9491\n",
      "Epoch 69/100\n",
      "100/100 [==============================] - 152s 2s/step - loss: 0.1421 - acc: 0.9475 - val_loss: 1.3283 - val_acc: 0.9416\n",
      "Epoch 70/100\n",
      "100/100 [==============================] - 149s 1s/step - loss: 0.1544 - acc: 0.9425 - val_loss: 0.4642 - val_acc: 0.9272\n",
      "Epoch 71/100\n",
      "100/100 [==============================] - 293s 3s/step - loss: 0.1539 - acc: 0.9412 - val_loss: 0.6149 - val_acc: 0.9442\n",
      "Epoch 72/100\n",
      "100/100 [==============================] - 149s 1s/step - loss: 0.1467 - acc: 0.9434 - val_loss: 0.4246 - val_acc: 0.9317\n",
      "Epoch 73/100\n",
      "100/100 [==============================] - 157s 2s/step - loss: 0.1465 - acc: 0.9406 - val_loss: 0.4524 - val_acc: 0.9401\n",
      "Epoch 74/100\n",
      "100/100 [==============================] - 155s 2s/step - loss: 0.1505 - acc: 0.9415 - val_loss: 0.0103 - val_acc: 0.9461\n",
      "Epoch 75/100\n",
      "100/100 [==============================] - 150s 2s/step - loss: 0.1330 - acc: 0.9488 - val_loss: 0.1244 - val_acc: 0.9427\n",
      "Epoch 76/100\n",
      "100/100 [==============================] - 156s 2s/step - loss: 0.1458 - acc: 0.9463 - val_loss: 0.4453 - val_acc: 0.9245\n",
      "Epoch 77/100\n",
      "100/100 [==============================] - 160s 2s/step - loss: 0.1352 - acc: 0.9441 - val_loss: 0.0113 - val_acc: 0.9478\n",
      "Epoch 78/100\n",
      "100/100 [==============================] - 159s 2s/step - loss: 0.1539 - acc: 0.9415 - val_loss: 0.0746 - val_acc: 0.9397\n",
      "Epoch 79/100\n",
      "100/100 [==============================] - 166s 2s/step - loss: 0.1371 - acc: 0.9441 - val_loss: 0.0801 - val_acc: 0.9336\n",
      "Epoch 80/100\n",
      "100/100 [==============================] - 158s 2s/step - loss: 0.1332 - acc: 0.9479 - val_loss: 0.1760 - val_acc: 0.9336\n",
      "Epoch 81/100\n",
      "100/100 [==============================] - 152s 2s/step - loss: 0.1312 - acc: 0.9523 - val_loss: 0.0565 - val_acc: 0.9397\n",
      "Epoch 82/100\n",
      "100/100 [==============================] - 145s 1s/step - loss: 0.1446 - acc: 0.9444 - val_loss: 0.1297 - val_acc: 0.9485\n",
      "Epoch 83/100\n",
      "100/100 [==============================] - 146s 1s/step - loss: 0.1417 - acc: 0.9447 - val_loss: 0.2045 - val_acc: 0.9378\n",
      "Epoch 84/100\n",
      "100/100 [==============================] - 148s 1s/step - loss: 0.1289 - acc: 0.9507 - val_loss: 0.2862 - val_acc: 0.9246\n",
      "Epoch 85/100\n",
      "100/100 [==============================] - 149s 1s/step - loss: 0.1409 - acc: 0.9453 - val_loss: 0.2008 - val_acc: 0.9435\n",
      "Epoch 86/100\n",
      "100/100 [==============================] - 165s 2s/step - loss: 0.1330 - acc: 0.9507 - val_loss: 0.0950 - val_acc: 0.9446\n",
      "Epoch 87/100\n",
      "100/100 [==============================] - 158s 2s/step - loss: 0.1344 - acc: 0.9481 - val_loss: 0.2449 - val_acc: 0.9461\n",
      "Epoch 88/100\n",
      "100/100 [==============================] - 154s 2s/step - loss: 0.1319 - acc: 0.9478 - val_loss: 0.2053 - val_acc: 0.9588\n",
      "Epoch 89/100\n",
      "100/100 [==============================] - 158s 2s/step - loss: 0.1314 - acc: 0.9513 - val_loss: 0.1464 - val_acc: 0.9497\n",
      "Epoch 90/100\n",
      "100/100 [==============================] - 219s 2s/step - loss: 0.1229 - acc: 0.9529 - val_loss: 0.1824 - val_acc: 0.9423\n",
      "Epoch 91/100\n",
      "100/100 [==============================] - 194s 2s/step - loss: 0.1348 - acc: 0.9469 - val_loss: 0.1986 - val_acc: 0.9523\n",
      "Epoch 92/100\n",
      "100/100 [==============================] - 179s 2s/step - loss: 0.1354 - acc: 0.9494 - val_loss: 0.0491 - val_acc: 0.9499\n",
      "Epoch 93/100\n",
      "100/100 [==============================] - 166s 2s/step - loss: 0.1327 - acc: 0.9469 - val_loss: 0.6866 - val_acc: 0.9543\n",
      "Epoch 94/100\n",
      "100/100 [==============================] - 164s 2s/step - loss: 0.1252 - acc: 0.9539 - val_loss: 0.1310 - val_acc: 0.9619\n",
      "Epoch 95/100\n",
      "100/100 [==============================] - 161s 2s/step - loss: 0.1290 - acc: 0.9516 - val_loss: 0.0171 - val_acc: 0.9381\n",
      "Epoch 96/100\n",
      "100/100 [==============================] - 158s 2s/step - loss: 0.1272 - acc: 0.9539 - val_loss: 0.0332 - val_acc: 0.9427\n",
      "Epoch 97/100\n",
      "100/100 [==============================] - 158s 2s/step - loss: 0.1162 - acc: 0.9525 - val_loss: 0.1155 - val_acc: 0.9562\n",
      "Epoch 98/100\n",
      "100/100 [==============================] - 165s 2s/step - loss: 0.1225 - acc: 0.9510 - val_loss: 0.4709 - val_acc: 0.9369\n",
      "Epoch 99/100\n",
      "100/100 [==============================] - 159s 2s/step - loss: 0.1303 - acc: 0.9520 - val_loss: 0.0330 - val_acc: 0.9492\n",
      "Epoch 100/100\n",
      "100/100 [==============================] - 163s 2s/step - loss: 0.1327 - acc: 0.9447 - val_loss: 0.4110 - val_acc: 0.9536\n"
     ]
    }
   ],
   "source": [
    "test_datagen = ImageDataGenerator(rescale=1./255)\n",
    "train_generator = train_datagen.flow_from_directory(\n",
    "train_dir,\n",
    "target_size=(150, 150),\n",
    "batch_size=32,\n",
    "class_mode='binary')\n",
    "validation_generator = test_datagen.flow_from_directory(\n",
    "validation_dir,\n",
    "target_size=(150, 150),\n",
    "batch_size=32,\n",
    "class_mode='binary')\n",
    "history = model.fit_generator(\n",
    "train_generator,\n",
    "steps_per_epoch=100,\n",
    "epochs=100,\n",
    "validation_data=validation_generator,\n",
    "validation_steps=50)"
   ]
  },
  {
   "cell_type": "markdown",
   "metadata": {},
   "source": [
    "# Displaying curves of loss and accuracy during training"
   ]
  },
  {
   "cell_type": "code",
   "execution_count": 44,
   "metadata": {},
   "outputs": [
    {
     "data": {
      "text/plain": [
       "<matplotlib.legend.Legend at 0x2350ae22f28>"
      ]
     },
     "execution_count": 44,
     "metadata": {},
     "output_type": "execute_result"
    },
    {
     "data": {
      "image/png": "[encoded data removed]",
      "text/plain": [
       "<Figure size 432x288 with 1 Axes>"
      ]
     },
     "metadata": {
      "needs_background": "light"
     },
     "output_type": "display_data"
    },
    {
     "data": {
      "image/png": "[encoded data removed]",
      "text/plain": [
       "<Figure size 432x288 with 1 Axes>"
      ]
     },
     "metadata": {
      "needs_background": "light"
     },
     "output_type": "display_data"
    }
   ],
   "source": [
    "import matplotlib.pyplot as plt\n",
    "acc = history.history['acc']\n",
    "val_acc = history.history['val_acc']\n",
    "loss = history.history['loss']\n",
    "val_loss = history.history['val_loss']\n",
    "epochs = range(1, len(acc) + 1)\n",
    "plt.plot(epochs, acc, 'bo', label='Training acc')\n",
    "plt.plot(epochs, val_acc, 'b', label='Validation acc')\n",
    "plt.title('Training and validation accuracy')\n",
    "plt.legend()\n",
    "plt.figure()\n",
    "plt.plot(epochs, loss, 'bo', label='Training loss')\n",
    "plt.plot(epochs, val_loss, 'b', label='Validation loss')\n",
    "plt.title('Training and validation loss')\n",
    "plt.legend()"
   ]
  },
  {
   "cell_type": "code",
   "execution_count": 45,
   "metadata": {},
   "outputs": [],
   "source": [
    "model.save(\"Cats_and_Dogs_Model.h5\")"
   ]
  },
  {
   "cell_type": "code",
   "execution_count": null,
   "metadata": {},
   "outputs": [],
   "source": []
  }
 ],
 "metadata": {
  "kernelspec": {
   "display_name": "Python 3",
   "language": "python",
   "name": "python3"
  },
  "language_info": {
   "codemirror_mode": {
    "name": "ipython",
    "version": 3
   },
   "file_extension": ".py",
   "mimetype": "text/x-python",
   "name": "python",
   "nbconvert_exporter": "python",
   "pygments_lexer": "ipython3",
   "version": "3.7.3"
  }
 },
 "nbformat": 4,
 "nbformat_minor": 2
}
