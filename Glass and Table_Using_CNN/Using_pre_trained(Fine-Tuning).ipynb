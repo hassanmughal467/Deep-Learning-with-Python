{
 "cells": [
  {
   "cell_type": "markdown",
   "metadata": {},
   "source": [
    "# Using a pretrained convnet\n",
    "### Fine Tuning\n",
    "###### Thus the steps for fine-tuning a network are as follow:\n",
    "###### 1 Add your custom network on top of an already-trained base network.\n",
    "###### 2 Freeze the base network.\n",
    "###### 3 Train the part you added.\n",
    "###### 4 Unfreeze some layers in the base network.\n",
    "###### 5 Jointly train both these layers and the part you added."
   ]
  },
  {
   "cell_type": "code",
   "execution_count": 1,
   "metadata": {},
   "outputs": [
    {
     "name": "stderr",
     "output_type": "stream",
     "text": [
      "Using TensorFlow backend.\n"
     ]
    }
   ],
   "source": [
    "from keras.applications import VGG16\n",
    "conv_base = VGG16(weights='imagenet',\n",
    "include_top=False,\n",
    "input_shape=(150, 150, 3))"
   ]
  },
  {
   "cell_type": "code",
   "execution_count": 2,
   "metadata": {},
   "outputs": [
    {
     "name": "stdout",
     "output_type": "stream",
     "text": [
      "Model: \"vgg16\"\n",
      "_________________________________________________________________\n",
      "Layer (type)                 Output Shape              Param #   \n",
      "=================================================================\n",
      "input_1 (InputLayer)         (None, 150, 150, 3)       0         \n",
      "_________________________________________________________________\n",
      "block1_conv1 (Conv2D)        (None, 150, 150, 64)      1792      \n",
      "_________________________________________________________________\n",
      "block1_conv2 (Conv2D)        (None, 150, 150, 64)      36928     \n",
      "_________________________________________________________________\n",
      "block1_pool (MaxPooling2D)   (None, 75, 75, 64)        0         \n",
      "_________________________________________________________________\n",
      "block2_conv1 (Conv2D)        (None, 75, 75, 128)       73856     \n",
      "_________________________________________________________________\n",
      "block2_conv2 (Conv2D)        (None, 75, 75, 128)       147584    \n",
      "_________________________________________________________________\n",
      "block2_pool (MaxPooling2D)   (None, 37, 37, 128)       0         \n",
      "_________________________________________________________________\n",
      "block3_conv1 (Conv2D)        (None, 37, 37, 256)       295168    \n",
      "_________________________________________________________________\n",
      "block3_conv2 (Conv2D)        (None, 37, 37, 256)       590080    \n",
      "_________________________________________________________________\n",
      "block3_conv3 (Conv2D)        (None, 37, 37, 256)       590080    \n",
      "_________________________________________________________________\n",
      "block3_pool (MaxPooling2D)   (None, 18, 18, 256)       0         \n",
      "_________________________________________________________________\n",
      "block4_conv1 (Conv2D)        (None, 18, 18, 512)       1180160   \n",
      "_________________________________________________________________\n",
      "block4_conv2 (Conv2D)        (None, 18, 18, 512)       2359808   \n",
      "_________________________________________________________________\n",
      "block4_conv3 (Conv2D)        (None, 18, 18, 512)       2359808   \n",
      "_________________________________________________________________\n",
      "block4_pool (MaxPooling2D)   (None, 9, 9, 512)         0         \n",
      "_________________________________________________________________\n",
      "block5_conv1 (Conv2D)        (None, 9, 9, 512)         2359808   \n",
      "_________________________________________________________________\n",
      "block5_conv2 (Conv2D)        (None, 9, 9, 512)         2359808   \n",
      "_________________________________________________________________\n",
      "block5_conv3 (Conv2D)        (None, 9, 9, 512)         2359808   \n",
      "_________________________________________________________________\n",
      "block5_pool (MaxPooling2D)   (None, 4, 4, 512)         0         \n",
      "=================================================================\n",
      "Total params: 14,714,688\n",
      "Trainable params: 14,714,688\n",
      "Non-trainable params: 0\n",
      "_________________________________________________________________\n"
     ]
    }
   ],
   "source": [
    "conv_base.summary()"
   ]
  },
  {
   "cell_type": "code",
   "execution_count": 3,
   "metadata": {},
   "outputs": [],
   "source": [
    "import os\n",
    "import numpy as np\n",
    "from keras.preprocessing.image import ImageDataGenerator\n",
    "base_dir = 'D:/c/Desktop/PIAIC/Artificial Intelligent/3rd Quarter/deep learning/sir nasir/Complte chptrs 5 material/Glass and Table_model/working'\n",
    "train_dir = os.path.join(base_dir, 'train')\n",
    "validation_dir = os.path.join(base_dir, 'validation')\n",
    "test_dir = os.path.join(base_dir, 'test')"
   ]
  },
  {
   "cell_type": "markdown",
   "metadata": {},
   "source": [
    "# Unfreezed Conv2D top layer for Fine Tuning\n"
   ]
  },
  {
   "cell_type": "code",
   "execution_count": 4,
   "metadata": {},
   "outputs": [],
   "source": [
    "from keras import models\n",
    "from keras import layers\n",
    "model = models.Sequential()\n",
    "model.add(conv_base)\n",
    "model.add(layers.Flatten())\n",
    "model.add(layers.Dense(256, activation='relu'))\n",
    "model.add(layers.Dense(1, activation='sigmoid'))"
   ]
  },
  {
   "cell_type": "code",
   "execution_count": 5,
   "metadata": {},
   "outputs": [
    {
     "name": "stdout",
     "output_type": "stream",
     "text": [
      "Model: \"sequential_1\"\n",
      "_________________________________________________________________\n",
      "Layer (type)                 Output Shape              Param #   \n",
      "=================================================================\n",
      "vgg16 (Model)                (None, 4, 4, 512)         14714688  \n",
      "_________________________________________________________________\n",
      "flatten_1 (Flatten)          (None, 8192)              0         \n",
      "_________________________________________________________________\n",
      "dense_1 (Dense)              (None, 256)               2097408   \n",
      "_________________________________________________________________\n",
      "dense_2 (Dense)              (None, 1)                 257       \n",
      "=================================================================\n",
      "Total params: 16,812,353\n",
      "Trainable params: 16,812,353\n",
      "Non-trainable params: 0\n",
      "_________________________________________________________________\n"
     ]
    }
   ],
   "source": [
    "model.summary()"
   ]
  },
  {
   "cell_type": "markdown",
   "metadata": {},
   "source": [
    "# Freezing all layers up to a specific one"
   ]
  },
  {
   "cell_type": "code",
   "execution_count": 6,
   "metadata": {},
   "outputs": [],
   "source": [
    "conv_base.trainable = True\n",
    "set_trainable = False\n",
    "for layer in conv_base.layers:\n",
    "    if layer.name == 'block5_conv1':\n",
    "        set_trainable = True\n",
    "    if set_trainable:\n",
    "        layer.trainable = True\n",
    "    else:\n",
    "        layer.trainable = False"
   ]
  },
  {
   "cell_type": "markdown",
   "metadata": {},
   "source": [
    "# Training the model end to end with a frozen convolutional base"
   ]
  },
  {
   "cell_type": "code",
   "execution_count": 7,
   "metadata": {},
   "outputs": [
    {
     "name": "stdout",
     "output_type": "stream",
     "text": [
      "Found 4000 images belonging to 2 classes.\n",
      "Found 2000 images belonging to 2 classes.\n"
     ]
    }
   ],
   "source": [
    "from keras.preprocessing.image import ImageDataGenerator\n",
    "from keras import optimizers\n",
    "train_datagen = ImageDataGenerator(\n",
    "        rescale=1./255,\n",
    "        rotation_range=40,\n",
    "        width_shift_range=0.2,\n",
    "        height_shift_range=0.2,\n",
    "        shear_range=0.2,\n",
    "        zoom_range=0.2,\n",
    "        horizontal_flip=True,\n",
    "        fill_mode='nearest')\n",
    "test_datagen = ImageDataGenerator(rescale=1./255)\n",
    "train_generator = train_datagen.flow_from_directory(\n",
    "        train_dir,\n",
    "        target_size=(150, 150),\n",
    "        batch_size=20,\n",
    "        class_mode='binary')\n",
    "validation_generator = test_datagen.flow_from_directory(\n",
    "            validation_dir,\n",
    "            target_size=(150, 150),\n",
    "            batch_size=20,\n",
    "            class_mode='binary')"
   ]
  },
  {
   "cell_type": "code",
   "execution_count": 8,
   "metadata": {},
   "outputs": [],
   "source": [
    "model.compile(loss='binary_crossentropy',\n",
    "            optimizer=optimizers.RMSprop(lr=2e-5),\n",
    "            metrics=['acc'])"
   ]
  },
  {
   "cell_type": "code",
   "execution_count": 9,
   "metadata": {},
   "outputs": [],
   "source": [
    "from PIL import ImageFile\n",
    "ImageFile.LOAD_TRUNCATED_IMAGES = True"
   ]
  },
  {
   "cell_type": "code",
   "execution_count": 10,
   "metadata": {},
   "outputs": [
    {
     "name": "stdout",
     "output_type": "stream",
     "text": [
      "Epoch 1/30\n",
      " 99/100 [============================>.] - ETA: 3s - loss: 0.2282 - acc: 0.9061"
     ]
    },
    {
     "name": "stderr",
     "output_type": "stream",
     "text": [
      "C:\\Users\\REHMAN COMPUTER\\Anaconda3\\lib\\site-packages\\PIL\\TiffImagePlugin.py:804: UserWarning: Corrupt EXIF data.  Expecting to read 4 bytes but only got 0. \n",
      "  warnings.warn(str(msg))\n"
     ]
    },
    {
     "name": "stdout",
     "output_type": "stream",
     "text": [
      "100/100 [==============================] - 503s 5s/step - loss: 0.2266 - acc: 0.9065 - val_loss: 0.0038 - val_acc: 0.9930\n",
      "Epoch 2/30\n",
      "  9/100 [=>............................] - ETA: 5:33 - loss: 0.1001 - acc: 0.9667"
     ]
    },
    {
     "name": "stderr",
     "output_type": "stream",
     "text": [
      "C:\\Users\\REHMAN COMPUTER\\Anaconda3\\lib\\site-packages\\PIL\\Image.py:993: UserWarning: Palette images with Transparency expressed in bytes should be converted to RGBA images\n",
      "  \"Palette images with Transparency expressed in bytes should be \"\n"
     ]
    },
    {
     "name": "stdout",
     "output_type": "stream",
     "text": [
      "100/100 [==============================] - 517s 5s/step - loss: 0.1064 - acc: 0.9585 - val_loss: 0.0334 - val_acc: 0.9930\n",
      "Epoch 3/30\n",
      "100/100 [==============================] - 523s 5s/step - loss: 0.0947 - acc: 0.9645 - val_loss: 0.0034 - val_acc: 0.9740\n",
      "Epoch 4/30\n",
      "100/100 [==============================] - 510s 5s/step - loss: 0.0864 - acc: 0.9720 - val_loss: 0.0408 - val_acc: 0.9890\n",
      "Epoch 5/30\n",
      "100/100 [==============================] - 465s 5s/step - loss: 0.0769 - acc: 0.9755 - val_loss: 0.0161 - val_acc: 0.9820\n",
      "Epoch 6/30\n",
      "100/100 [==============================] - 462s 5s/step - loss: 0.0559 - acc: 0.9835 - val_loss: 0.0038 - val_acc: 0.9940\n",
      "Epoch 7/30\n",
      "100/100 [==============================] - 484s 5s/step - loss: 0.0506 - acc: 0.9815 - val_loss: 0.0232 - val_acc: 0.9890\n",
      "Epoch 8/30\n",
      "100/100 [==============================] - 462s 5s/step - loss: 0.0494 - acc: 0.9820 - val_loss: 0.0010 - val_acc: 0.9960\n",
      "Epoch 9/30\n",
      "100/100 [==============================] - 458s 5s/step - loss: 0.0502 - acc: 0.9880 - val_loss: 2.7094e-04 - val_acc: 0.9930\n",
      "Epoch 10/30\n",
      "100/100 [==============================] - 464s 5s/step - loss: 0.0455 - acc: 0.9835 - val_loss: 1.8077e-06 - val_acc: 0.9940\n",
      "Epoch 11/30\n",
      "100/100 [==============================] - 458s 5s/step - loss: 0.0389 - acc: 0.9860 - val_loss: 3.0153e-04 - val_acc: 0.9940\n",
      "Epoch 12/30\n",
      "100/100 [==============================] - 440s 4s/step - loss: 0.0342 - acc: 0.9890 - val_loss: 6.8115e-04 - val_acc: 0.9960\n",
      "Epoch 13/30\n",
      "100/100 [==============================] - 437s 4s/step - loss: 0.0378 - acc: 0.9870 - val_loss: 1.8516e-04 - val_acc: 0.9950\n",
      "Epoch 14/30\n",
      "100/100 [==============================] - 4645s 46s/step - loss: 0.0329 - acc: 0.9875 - val_loss: 0.0184 - val_acc: 0.9950\n",
      "Epoch 15/30\n",
      "100/100 [==============================] - 423s 4s/step - loss: 0.0315 - acc: 0.9875 - val_loss: 1.0962e-04 - val_acc: 0.9930\n",
      "Epoch 16/30\n",
      "100/100 [==============================] - 452s 5s/step - loss: 0.0342 - acc: 0.9890 - val_loss: 0.0014 - val_acc: 0.9920\n",
      "Epoch 17/30\n",
      "100/100 [==============================] - 465s 5s/step - loss: 0.0356 - acc: 0.9875 - val_loss: 1.9480e-04 - val_acc: 0.9900\n",
      "Epoch 18/30\n",
      "100/100 [==============================] - 460s 5s/step - loss: 0.0237 - acc: 0.9920 - val_loss: 4.3896e-04 - val_acc: 0.9970\n",
      "Epoch 19/30\n",
      "100/100 [==============================] - 454s 5s/step - loss: 0.0208 - acc: 0.9915 - val_loss: 6.5165e-04 - val_acc: 0.9890\n",
      "Epoch 20/30\n",
      "100/100 [==============================] - 460s 5s/step - loss: 0.0239 - acc: 0.9915 - val_loss: 6.0050e-05 - val_acc: 0.9970\n",
      "Epoch 21/30\n",
      "100/100 [==============================] - 494s 5s/step - loss: 0.0309 - acc: 0.9905 - val_loss: 2.6912e-06 - val_acc: 0.9950\n",
      "Epoch 22/30\n",
      "100/100 [==============================] - 496s 5s/step - loss: 0.0267 - acc: 0.9910 - val_loss: 4.0801e-06 - val_acc: 0.9940\n",
      "Epoch 23/30\n",
      "100/100 [==============================] - 498s 5s/step - loss: 0.0252 - acc: 0.9915 - val_loss: 2.3073e-05 - val_acc: 0.9940\n",
      "Epoch 24/30\n",
      "100/100 [==============================] - 557s 6s/step - loss: 0.0294 - acc: 0.9910 - val_loss: 0.1238 - val_acc: 0.9940\n",
      "Epoch 25/30\n",
      "100/100 [==============================] - 493s 5s/step - loss: 0.0295 - acc: 0.9910 - val_loss: 3.9787e-04 - val_acc: 0.9920\n",
      "Epoch 26/30\n",
      "100/100 [==============================] - 501s 5s/step - loss: 0.0193 - acc: 0.9930 - val_loss: 6.1900e-05 - val_acc: 0.9850\n",
      "Epoch 27/30\n",
      "100/100 [==============================] - 500s 5s/step - loss: 0.0155 - acc: 0.9950 - val_loss: 8.5496e-05 - val_acc: 0.9900\n",
      "Epoch 28/30\n",
      "100/100 [==============================] - 499s 5s/step - loss: 0.0226 - acc: 0.9935 - val_loss: 6.0360e-05 - val_acc: 0.9930\n",
      "Epoch 29/30\n",
      "100/100 [==============================] - 500s 5s/step - loss: 0.0200 - acc: 0.9930 - val_loss: 0.0407 - val_acc: 0.9900\n",
      "Epoch 30/30\n",
      "100/100 [==============================] - 504s 5s/step - loss: 0.0129 - acc: 0.9960 - val_loss: 1.5600e-06 - val_acc: 0.9980\n"
     ]
    }
   ],
   "source": [
    "history = model.fit_generator(train_generator,steps_per_epoch=100,epochs=30,validation_data=validation_generator,validation_steps=50)"
   ]
  },
  {
   "cell_type": "code",
   "execution_count": 12,
   "metadata": {},
   "outputs": [
    {
     "data": {
      "image/png": "[encoded data removed]",
      "text/plain": [
       "<Figure size 432x288 with 1 Axes>"
      ]
     },
     "metadata": {
      "needs_background": "light"
     },
     "output_type": "display_data"
    },
    {
     "data": {
      "image/png": "[encoded data removed]",
      "text/plain": [
       "<Figure size 432x288 with 1 Axes>"
      ]
     },
     "metadata": {
      "needs_background": "light"
     },
     "output_type": "display_data"
    }
   ],
   "source": [
    "import matplotlib.pyplot as plt\n",
    "acc = history.history['acc']\n",
    "val_acc = history.history['val_acc']\n",
    "loss = history.history['loss']\n",
    "val_loss = history.history['val_loss']\n",
    "epochs = range(1, len(acc) + 1)\n",
    "plt.plot(epochs, acc, 'bo', label='Training acc')\n",
    "plt.plot(epochs, val_acc, 'b', label='Validation acc')\n",
    "plt.title('Training and validation accuracy')\n",
    "plt.legend()\n",
    "plt.figure()\n",
    "plt.plot(epochs, loss, 'bo', label='Training loss')\n",
    "plt.plot(epochs, val_loss, 'b', label='Validation loss')\n",
    "plt.title('Training and validation loss')\n",
    "plt.legend()\n",
    "plt.show()"
   ]
  },
  {
   "cell_type": "code",
   "execution_count": 13,
   "metadata": {},
   "outputs": [],
   "source": [
    "model.save(\"Glass_N_Tables_FineTune.h5\")"
   ]
  },
  {
   "cell_type": "code",
   "execution_count": null,
   "metadata": {},
   "outputs": [],
   "source": []
  }
 ],
 "metadata": {
  "kernelspec": {
   "display_name": "Python 3",
   "language": "python",
   "name": "python3"
  },
  "language_info": {
   "codemirror_mode": {
    "name": "ipython",
    "version": 3
   },
   "file_extension": ".py",
   "mimetype": "text/x-python",
   "name": "python",
   "nbconvert_exporter": "python",
   "pygments_lexer": "ipython3",
   "version": "3.7.3"
  }
 },
 "nbformat": 4,
 "nbformat_minor": 2
}
