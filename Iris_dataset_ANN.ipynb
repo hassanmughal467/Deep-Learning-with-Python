{
 "cells": [
  {
   "cell_type": "markdown",
   "metadata": {},
   "source": [
    "\n",
    "# ASSIGNMENT : IRIS MULTI-CLASS CLASSIFICATION\n",
    "\n",
    "###### Purpose :\n",
    "To predict the species of flower .\n",
    "###### Description :\n",
    "The dataset contains a set of 150 records under 5 attributes - Petal Length, Petal Width, Sepal Length, Sepal width and Class(Species).\n",
    "###### Requirements :\n",
    "1) Code must be in tf 2.0 .\n",
    "\n",
    "2) Accuracy must be in between 95-97% .\n",
    "\n",
    "3) Model shouldn't be Overfit (You can add drop out layer for this) ."
   ]
  },
  {
   "cell_type": "markdown",
   "metadata": {},
   "source": [
    "# STEP 1 : Load all the necessary libraries\n"
   ]
  },
  {
   "cell_type": "code",
   "execution_count": 175,
   "metadata": {},
   "outputs": [],
   "source": [
    "import tensorflow as tf\n",
    "from tensorflow.keras.datasets import reuters\n",
    "from tensorflow.keras import models,layers,optimizers,utils\n",
    "import pandas as pd\n",
    "import numpy as np\n",
    "import matplotlib.pyplot as plt"
   ]
  },
  {
   "cell_type": "markdown",
   "metadata": {},
   "source": [
    "# STEP 2 : Data Preparation"
   ]
  },
  {
   "cell_type": "code",
   "execution_count": 176,
   "metadata": {},
   "outputs": [],
   "source": [
    "iris_data=pd.read_csv(\"D:/c/Desktop/PIAIC/Models/dataset/iris.csv\")\n"
   ]
  },
  {
   "cell_type": "code",
   "execution_count": 177,
   "metadata": {},
   "outputs": [],
   "source": [
    "iris=iris_data.sample(frac=1).values"
   ]
  },
  {
   "cell_type": "code",
   "execution_count": 178,
   "metadata": {},
   "outputs": [
    {
     "data": {
      "text/plain": [
       "150"
      ]
     },
     "execution_count": 178,
     "metadata": {},
     "output_type": "execute_result"
    }
   ],
   "source": [
    "len(iris)"
   ]
  },
  {
   "cell_type": "code",
   "execution_count": 179,
   "metadata": {},
   "outputs": [],
   "source": [
    "x_train=iris[:90,:4].astype('float')\n",
    "y_train=iris[:90,4]\n",
    "x_test=iris[90:,:4].astype('float')\n",
    "y_test=iris[90:,4]"
   ]
  },
  {
   "cell_type": "code",
   "execution_count": 180,
   "metadata": {},
   "outputs": [],
   "source": [
    "from sklearn.preprocessing import LabelEncoder\n",
    "# encode class values as integers\n",
    "le = LabelEncoder()\n",
    "train_label= le.fit_transform(y_train)\n",
    "test_label= le.fit_transform(y_test)\n"
   ]
  },
  {
   "cell_type": "code",
   "execution_count": 181,
   "metadata": {},
   "outputs": [
    {
     "name": "stdout",
     "output_type": "stream",
     "text": [
      "[0 1 2 0 0 2 0 2 0 1 1 0 2 2 1 2 1 2 2 1 1 1 1 2 2 1 1 1 2 2 2 0 2 0 1 2 0\n",
      " 2 0 0 0 2 1 2 2 0 0 0 2 0 1 1 1 2 2 2 0 1 0 0]\n"
     ]
    }
   ],
   "source": [
    "print(test_label)"
   ]
  },
  {
   "cell_type": "markdown",
   "metadata": {},
   "source": [
    "# One hot encoding"
   ]
  },
  {
   "cell_type": "code",
   "execution_count": 182,
   "metadata": {},
   "outputs": [],
   "source": [
    "from keras.utils import to_categorical\n",
    "train_labels = to_categorical(train_label)\n",
    "test_labels = to_categorical(test_label)"
   ]
  },
  {
   "cell_type": "code",
   "execution_count": 183,
   "metadata": {},
   "outputs": [
    {
     "name": "stdout",
     "output_type": "stream",
     "text": [
      "[0. 1. 0.]\n"
     ]
    }
   ],
   "source": [
    "print(test_labels[1])"
   ]
  },
  {
   "cell_type": "markdown",
   "metadata": {},
   "source": [
    "# Model Architecture\n"
   ]
  },
  {
   "cell_type": "code",
   "execution_count": 184,
   "metadata": {},
   "outputs": [],
   "source": [
    "from keras import models\n",
    "from keras import layers\n",
    "from keras import regularizers\n",
    "from keras import optimizers\n",
    "#optimizers.RMSprop(lr=0.001)\n",
    "def build_model():\n",
    "    network = models.Sequential() \n",
    "    #network.add(layers.Dropout(0.3))\n",
    "    #,kernel_regularizer=regularizers.l2(0.001)\n",
    "    network.add(layers.Dense(20, activation='relu',input_shape=(4,)))\n",
    "    network.add(layers.Dense(10, activation='relu'))\n",
    "    #network.add(layers.Dense(8, activation='relu',kernel_regularizer=regularizers.l2(0.001)))\n",
    "    network.add(layers.Dense(3, activation='softmax'))\n",
    "    \n",
    "    network.compile(optimizer='RMSprop',\n",
    "             loss='categorical_crossentropy',\n",
    "             metrics=['accuracy'])\n",
    "    return network"
   ]
  },
  {
   "cell_type": "markdown",
   "metadata": {},
   "source": [
    "# K-FOLD"
   ]
  },
  {
   "cell_type": "code",
   "execution_count": 185,
   "metadata": {},
   "outputs": [
    {
     "name": "stdout",
     "output_type": "stream",
     "text": [
      "proccessing fold # 0\n",
      "proccessing fold # 1\n",
      "proccessing fold # 2\n",
      "proccessing fold # 3\n"
     ]
    }
   ],
   "source": [
    "k=4\n",
    "num_val_samples=len(x_train)//k\n",
    "num_epochs=100\n",
    "all_scores=[]\n",
    "all_mae_histories=[]\n",
    "for i in range(k):\n",
    "    print(\"proccessing fold #\",i)\n",
    "    val_data=x_train[i*num_val_samples:(i+1)*num_val_samples]\n",
    "    val_labels=train_labels[i*num_val_samples:(i+1)*num_val_samples]\n",
    "    partial_train_data=np.concatenate([x_train[:i*num_val_samples],x_train[(i+1)*num_val_samples:]],axis=0)\n",
    "    partial_train_labels=np.concatenate([train_labels[:i*num_val_samples],train_labels[(i+1)*num_val_samples:]],axis=0)\n",
    "    model=build_model()\n",
    "    history=network.fit(partial_train_data, partial_train_labels,\n",
    "                      epochs=num_epochs, batch_size=1, verbose=0)\n",
    "    val_mse, val_mae = model.evaluate(val_data, val_labels, verbose=0)\n",
    "    all_scores.append(val_mae)\n",
    "    mae_history = history.history['accuracy']\n",
    "    all_mae_histories.append(mae_history)"
   ]
  },
  {
   "cell_type": "code",
   "execution_count": 186,
   "metadata": {},
   "outputs": [
    {
     "name": "stdout",
     "output_type": "stream",
     "text": [
      "all fold validation error [0.22727273404598236, 0.3636363744735718, 0.0, 0.13636364042758942]\n",
      "Mean of all fold validation error 0.1818181872367859\n",
      "Average mae history [0.9669118, 0.97794116, 0.97794116, 0.9705882, 0.9669118, 0.97794116, 0.97794116, 0.9742647, 0.9742647, 0.97794116, 0.9669118, 0.9705882, 0.97794116, 0.9705882, 0.97794116, 0.9705882, 0.97794116, 0.9742647, 0.97794116, 0.97794116, 0.9742647, 0.97794116, 0.9742647, 0.9742647, 0.97794116, 0.9705882, 0.97794116, 0.9742647, 0.9742647, 0.9742647, 0.9852941, 0.9742647, 0.9705882, 0.9816176, 0.9705882, 0.9742647, 0.9742647, 0.9742647, 0.9705882, 0.97794116, 0.97794116, 0.97794116, 0.9816176, 0.97794116, 0.97794116, 0.9705882, 0.9705882, 0.9705882, 0.9742647, 0.9816176, 0.97794116, 0.96691173, 0.9816176, 0.9742647, 0.97794116, 0.9852941, 0.9742647, 0.97794116, 0.9742647, 0.9742647, 0.9816176, 0.96323526, 0.9742647, 0.9742647, 0.9742647, 0.97794116, 0.9705882, 0.9816176, 0.97794116, 0.96691173, 0.9742647, 0.9816176, 0.97794116, 0.97794116, 0.9742647, 0.97794116, 0.97794116, 0.9889706, 0.97794116, 0.97794116, 0.9742647, 0.97794116, 0.9705882, 0.9816176, 0.97794116, 0.97794116, 0.9705882, 0.9705882, 0.97794116, 0.9816176, 0.9816176, 0.97794116, 0.9742647, 0.97794116, 0.9816176, 0.9742647, 0.9742647, 0.9705882, 0.97794116, 0.9705882]\n"
     ]
    }
   ],
   "source": [
    "avg_mae_history=[np.mean([x[i] for x in all_mae_histories]) for i in range(num_epochs)]\n",
    "print('all fold validation error',all_scores)\n",
    "print('Mean of all fold validation error',np.mean(all_scores))\n",
    "print('Average mae history',avg_mae_history)"
   ]
  },
  {
   "cell_type": "code",
   "execution_count": 161,
   "metadata": {},
   "outputs": [],
   "source": [
    "#hist=network.fit(x_train ,train_labels ,batch_size=20, epochs=25,validation_split=0.1)"
   ]
  },
  {
   "cell_type": "code",
   "execution_count": 162,
   "metadata": {},
   "outputs": [
    {
     "data": {
      "image/png": "[encoded data removed]",
      "text/plain": [
       "<Figure size 432x288 with 1 Axes>"
      ]
     },
     "metadata": {
      "needs_background": "light"
     },
     "output_type": "display_data"
    },
    {
     "data": {
      "image/png": "[encoded data removed]",
      "text/plain": [
       "<Figure size 432x288 with 1 Axes>"
      ]
     },
     "metadata": {
      "needs_background": "light"
     },
     "output_type": "display_data"
    }
   ],
   "source": [
    "import matplotlib.pyplot as plt\n",
    "loss_values=hist.history['loss']\n",
    "val_loss_values=hist.history['val_loss']\n",
    "epochs=range(1,len(loss_values)+1)\n",
    "plt.plot(epochs,loss_values,'bo',label='Training loss')\n",
    "plt.plot(epochs,val_loss_values,'b',label='Validation loss')\n",
    "plt.title('Training and Validation loss')\n",
    "plt.xlabel('Epochs')\n",
    "plt.ylabel('Loss')\n",
    "plt.legend()\n",
    "plt.show()\n",
    "plt.clf\n",
    "acc_values=hist.history['accuracy']\n",
    "val_acc_values=hist.history['val_accuracy']\n",
    "epochs=range(1,len(acc_values)+1)\n",
    "plt.plot(epochs,acc_values,'bo',label='Training acc')\n",
    "plt.plot(epochs,val_acc_values,'b',label='Validation acc')\n",
    "plt.title('Training and Validation accuracy')\n",
    "plt.xlabel('Epochs')\n",
    "plt.ylabel('acc')\n",
    "plt.legend()\n",
    "plt.show()"
   ]
  },
  {
   "cell_type": "markdown",
   "metadata": {},
   "source": [
    "# Prediction"
   ]
  },
  {
   "cell_type": "code",
   "execution_count": 163,
   "metadata": {},
   "outputs": [
    {
     "name": "stdout",
     "output_type": "stream",
     "text": [
      "60/60 [==============================] - 0s 800us/step\n"
     ]
    }
   ],
   "source": [
    "evaluation = network.evaluate(x_test,  test_labels)"
   ]
  },
  {
   "cell_type": "code",
   "execution_count": 187,
   "metadata": {},
   "outputs": [
    {
     "data": {
      "text/plain": [
       "<keras.callbacks.callbacks.History at 0x21c26bf1320>"
      ]
     },
     "execution_count": 187,
     "metadata": {},
     "output_type": "execute_result"
    }
   ],
   "source": [
    "model = build_model()\n",
    "model.fit(x_train, train_labels,\n",
    "          epochs=80, batch_size=16, verbose=0)\n"
   ]
  },
  {
   "cell_type": "code",
   "execution_count": 188,
   "metadata": {},
   "outputs": [
    {
     "name": "stdout",
     "output_type": "stream",
     "text": [
      "60/60 [==============================] - 0s 400us/step\n"
     ]
    },
    {
     "data": {
      "text/plain": [
       "[0.24047336677710215, 0.9666666388511658]"
      ]
     },
     "execution_count": 188,
     "metadata": {},
     "output_type": "execute_result"
    }
   ],
   "source": [
    "evaluation= model.evaluate(x_test, test_labels)\n",
    "evaluation"
   ]
  },
  {
   "cell_type": "markdown",
   "metadata": {},
   "source": [
    "# Saving Model"
   ]
  },
  {
   "cell_type": "code",
   "execution_count": 308,
   "metadata": {},
   "outputs": [],
   "source": [
    "network.save('Iris_dataset.h5')"
   ]
  },
  {
   "cell_type": "markdown",
   "metadata": {},
   "source": [
    "# Model Reload for Prediction"
   ]
  },
  {
   "cell_type": "code",
   "execution_count": 309,
   "metadata": {},
   "outputs": [],
   "source": [
    "from tensorflow.keras.models import load_model\n",
    "model=load_model('Iris_dataset.h5')\n"
   ]
  },
  {
   "cell_type": "markdown",
   "metadata": {},
   "source": [
    "# Prediction"
   ]
  },
  {
   "cell_type": "code",
   "execution_count": 316,
   "metadata": {},
   "outputs": [],
   "source": [
    "i = 59\n",
    "prediction =  model.predict_classes(x_test[i].reshape(1,4))"
   ]
  },
  {
   "cell_type": "code",
   "execution_count": 317,
   "metadata": {},
   "outputs": [
    {
     "name": "stdout",
     "output_type": "stream",
     "text": [
      "The data is : [6.9 3.2 5.7 2.3] and I have predicted that it's a [2] i.e Iris-virginica\n",
      "Actual data : [6.9 3.2 5.7 2.3] actual label : Virginica\n"
     ]
    }
   ],
   "source": [
    "if prediction == 0:\n",
    "  print(\"The data is :\",x_test[i],\"and I have predicted that it's a\",prediction,\"i.e Iris-setosa\")\n",
    "  print(\"Actual data :\",x_test[i] , \"actual label :\",y_test[i])\n",
    "\n",
    "elif prediction == 1:\n",
    "  print(\"The data is :\",x_test[i],\"and I have predicted that it's a\",prediction,\"i.e Iris-versicolor\")\n",
    "  print(\"Actual data :\",x_test[i] , \"actual label :\",y_test[i])\n",
    "\n",
    "else:\n",
    "  print(\"The data is :\",x_test[i],\"and I have predicted that it's a\",prediction,\"i.e Iris-virginica\")\n",
    "  print(\"Actual data :\",x_test[i] , \"actual label :\",y_test[i])\n"
   ]
  },
  {
   "cell_type": "code",
   "execution_count": null,
   "metadata": {},
   "outputs": [],
   "source": []
  }
 ],
 "metadata": {
  "kernelspec": {
   "display_name": "Python 3",
   "language": "python",
   "name": "python3"
  },
  "language_info": {
   "codemirror_mode": {
    "name": "ipython",
    "version": 3
   },
   "file_extension": ".py",
   "mimetype": "text/x-python",
   "name": "python",
   "nbconvert_exporter": "python",
   "pygments_lexer": "ipython3",
   "version": "3.7.3"
  }
 },
 "nbformat": 4,
 "nbformat_minor": 2
}
