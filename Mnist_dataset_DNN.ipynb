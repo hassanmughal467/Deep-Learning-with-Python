{
 "cells": [
  {
   "cell_type": "markdown",
   "metadata": {},
   "source": [
    "# Loading the MNIST dataset in Keras"
   ]
  },
  {
   "cell_type": "code",
   "execution_count": 33,
   "metadata": {},
   "outputs": [
    {
     "data": {
      "text/plain": [
       "(10000, 28, 28)"
      ]
     },
     "execution_count": 33,
     "metadata": {},
     "output_type": "execute_result"
    }
   ],
   "source": [
    "from keras.datasets import mnist\n",
    "(train_images, train_labels), (test_images, test_labels) = mnist.load_data()\n",
    "test_images.shape"
   ]
  },
  {
   "cell_type": "code",
   "execution_count": 34,
   "metadata": {},
   "outputs": [
    {
     "data": {
      "text/plain": [
       "(60000, 28, 28)"
      ]
     },
     "execution_count": 34,
     "metadata": {},
     "output_type": "execute_result"
    }
   ],
   "source": [
    "train_images.shape"
   ]
  },
  {
   "cell_type": "markdown",
   "metadata": {},
   "source": [
    "# Let’s build the network"
   ]
  },
  {
   "cell_type": "code",
   "execution_count": 35,
   "metadata": {},
   "outputs": [],
   "source": [
    "from keras import models\n",
    "from keras import layers\n",
    "from keras import regularizers\n",
    "network = models.Sequential() \n",
    "network.add(layers.Dropout(0.5))\n",
    "network.add(layers.Dense(512, activation='relu',kernel_regularizer=regularizers.l2(0.001),input_shape=(28, 28)))\n",
    "network.add(layers.Dense(256, activation='relu'))\n",
    "network.add(layers.Dense(128, activation='relu'))\n",
    "network.add(layers.Dense(10, activation='softmax'))"
   ]
  },
  {
   "cell_type": "markdown",
   "metadata": {},
   "source": [
    "# The compilation step"
   ]
  },
  {
   "cell_type": "code",
   "execution_count": 36,
   "metadata": {},
   "outputs": [],
   "source": [
    "network.compile(optimizer='rmsprop',\n",
    "                loss='categorical_crossentropy',\n",
    "                metrics=['accuracy'])\n"
   ]
  },
  {
   "cell_type": "markdown",
   "metadata": {},
   "source": [
    "# Normalize"
   ]
  },
  {
   "cell_type": "code",
   "execution_count": 37,
   "metadata": {},
   "outputs": [
    {
     "name": "stdout",
     "output_type": "stream",
     "text": [
      "(784,)\n"
     ]
    }
   ],
   "source": [
    "#Listing 2.4\tPreparing the image data\n",
    "train_images = train_images.reshape((60000, 28 * 28)) \n",
    "train_images = train_images.astype('float32') / 255 \n",
    "test_images = test_images.reshape((10000, 28 * 28)) \n",
    "test_images = test_images.astype('float32') / 255\n",
    "print(test_images[0].shape)"
   ]
  },
  {
   "cell_type": "markdown",
   "metadata": {},
   "source": [
    "# Preparing the labels"
   ]
  },
  {
   "cell_type": "code",
   "execution_count": 38,
   "metadata": {},
   "outputs": [],
   "source": [
    "from keras.utils import to_categorical\n",
    "train_labels = to_categorical(train_labels)\n",
    "test_labels = to_categorical(test_labels)\n"
   ]
  },
  {
   "cell_type": "markdown",
   "metadata": {},
   "source": [
    "# Model Fit"
   ]
  },
  {
   "cell_type": "code",
   "execution_count": 39,
   "metadata": {},
   "outputs": [
    {
     "name": "stdout",
     "output_type": "stream",
     "text": [
      "Train on 42000 samples, validate on 18000 samples\n",
      "Epoch 1/49\n",
      "42000/42000 [==============================] - 3s 61us/step - loss: 0.9203 - accuracy: 0.8020 - val_loss: 0.5705 - val_accuracy: 0.8963\n",
      "Epoch 2/49\n",
      "42000/42000 [==============================] - 2s 58us/step - loss: 0.4954 - accuracy: 0.9064 - val_loss: 0.3564 - val_accuracy: 0.9436\n",
      "Epoch 3/49\n",
      "42000/42000 [==============================] - 2s 58us/step - loss: 0.3848 - accuracy: 0.9264 - val_loss: 0.2562 - val_accuracy: 0.9636\n",
      "Epoch 4/49\n",
      "42000/42000 [==============================] - 3s 64us/step - loss: 0.3214 - accuracy: 0.9362 - val_loss: 0.2497 - val_accuracy: 0.9575\n",
      "Epoch 5/49\n",
      "42000/42000 [==============================] - 2s 59us/step - loss: 0.2860 - accuracy: 0.9432 - val_loss: 0.2164 - val_accuracy: 0.9620\n",
      "Epoch 6/49\n",
      "42000/42000 [==============================] - 2s 58us/step - loss: 0.2626 - accuracy: 0.9454 - val_loss: 0.1989 - val_accuracy: 0.9657\n",
      "Epoch 7/49\n",
      "42000/42000 [==============================] - 2s 58us/step - loss: 0.2422 - accuracy: 0.9505 - val_loss: 0.2099 - val_accuracy: 0.9603\n",
      "Epoch 8/49\n",
      "42000/42000 [==============================] - 2s 59us/step - loss: 0.2248 - accuracy: 0.9542 - val_loss: 0.3456 - val_accuracy: 0.9182\n",
      "Epoch 9/49\n",
      "42000/42000 [==============================] - 2s 59us/step - loss: 0.2181 - accuracy: 0.9547 - val_loss: 0.2013 - val_accuracy: 0.9602\n",
      "Epoch 10/49\n",
      "42000/42000 [==============================] - 2s 59us/step - loss: 0.2066 - accuracy: 0.9572 - val_loss: 0.1693 - val_accuracy: 0.9699\n",
      "Epoch 11/49\n",
      "42000/42000 [==============================] - 2s 59us/step - loss: 0.2027 - accuracy: 0.9577 - val_loss: 0.1688 - val_accuracy: 0.9688\n",
      "Epoch 12/49\n",
      "42000/42000 [==============================] - 2s 59us/step - loss: 0.1979 - accuracy: 0.9588 - val_loss: 0.1478 - val_accuracy: 0.9746\n",
      "Epoch 13/49\n",
      "42000/42000 [==============================] - 2s 60us/step - loss: 0.1913 - accuracy: 0.9613 - val_loss: 0.1521 - val_accuracy: 0.9737\n",
      "Epoch 14/49\n",
      "42000/42000 [==============================] - 3s 60us/step - loss: 0.1874 - accuracy: 0.9617 - val_loss: 0.1564 - val_accuracy: 0.9723\n",
      "Epoch 15/49\n",
      "42000/42000 [==============================] - 3s 61us/step - loss: 0.1809 - accuracy: 0.9626 - val_loss: 0.1440 - val_accuracy: 0.9748\n",
      "Epoch 16/49\n",
      "42000/42000 [==============================] - 2s 59us/step - loss: 0.1789 - accuracy: 0.9618 - val_loss: 0.1926 - val_accuracy: 0.9586\n",
      "Epoch 17/49\n",
      "42000/42000 [==============================] - 3s 60us/step - loss: 0.1748 - accuracy: 0.9636 - val_loss: 0.1507 - val_accuracy: 0.9720\n",
      "Epoch 18/49\n",
      "42000/42000 [==============================] - 3s 60us/step - loss: 0.1711 - accuracy: 0.9644 - val_loss: 0.1401 - val_accuracy: 0.9761\n",
      "Epoch 19/49\n",
      "42000/42000 [==============================] - 3s 60us/step - loss: 0.1691 - accuracy: 0.9650 - val_loss: 0.1423 - val_accuracy: 0.9749\n",
      "Epoch 20/49\n",
      "42000/42000 [==============================] - 3s 61us/step - loss: 0.1681 - accuracy: 0.9641 - val_loss: 0.1375 - val_accuracy: 0.9757\n",
      "Epoch 21/49\n",
      "42000/42000 [==============================] - 3s 61us/step - loss: 0.1656 - accuracy: 0.9651 - val_loss: 0.1395 - val_accuracy: 0.9754\n",
      "Epoch 22/49\n",
      "42000/42000 [==============================] - 3s 61us/step - loss: 0.1667 - accuracy: 0.9660 - val_loss: 0.1646 - val_accuracy: 0.9668\n",
      "Epoch 23/49\n",
      "42000/42000 [==============================] - 3s 61us/step - loss: 0.1622 - accuracy: 0.9666 - val_loss: 0.1385 - val_accuracy: 0.9745\n",
      "Epoch 24/49\n",
      "42000/42000 [==============================] - 3s 62us/step - loss: 0.1620 - accuracy: 0.9660 - val_loss: 0.1477 - val_accuracy: 0.9723\n",
      "Epoch 25/49\n",
      "42000/42000 [==============================] - 3s 60us/step - loss: 0.1612 - accuracy: 0.9659 - val_loss: 0.1331 - val_accuracy: 0.9757\n",
      "Epoch 26/49\n",
      "42000/42000 [==============================] - 3s 61us/step - loss: 0.1567 - accuracy: 0.9675 - val_loss: 0.1285 - val_accuracy: 0.9783\n",
      "Epoch 27/49\n",
      "42000/42000 [==============================] - 3s 60us/step - loss: 0.1525 - accuracy: 0.9679 - val_loss: 0.1307 - val_accuracy: 0.9774\n",
      "Epoch 28/49\n",
      "42000/42000 [==============================] - 3s 62us/step - loss: 0.1536 - accuracy: 0.9666 - val_loss: 0.1710 - val_accuracy: 0.9638\n",
      "Epoch 29/49\n",
      "42000/42000 [==============================] - 3s 61us/step - loss: 0.1525 - accuracy: 0.9682 - val_loss: 0.1388 - val_accuracy: 0.9724\n",
      "Epoch 30/49\n",
      "42000/42000 [==============================] - 3s 61us/step - loss: 0.1498 - accuracy: 0.9693 - val_loss: 0.1516 - val_accuracy: 0.9693\n",
      "Epoch 31/49\n",
      "42000/42000 [==============================] - 3s 63us/step - loss: 0.1483 - accuracy: 0.9692 - val_loss: 0.1497 - val_accuracy: 0.9724\n",
      "Epoch 32/49\n",
      "42000/42000 [==============================] - 3s 61us/step - loss: 0.1486 - accuracy: 0.9684 - val_loss: 0.1370 - val_accuracy: 0.9747\n",
      "Epoch 33/49\n",
      "42000/42000 [==============================] - 3s 61us/step - loss: 0.1497 - accuracy: 0.9685 - val_loss: 0.1366 - val_accuracy: 0.9750\n",
      "Epoch 34/49\n",
      "42000/42000 [==============================] - 3s 61us/step - loss: 0.1485 - accuracy: 0.9690 - val_loss: 0.1208 - val_accuracy: 0.9786\n",
      "Epoch 35/49\n",
      "42000/42000 [==============================] - 3s 61us/step - loss: 0.1444 - accuracy: 0.9681 - val_loss: 0.1338 - val_accuracy: 0.9743\n",
      "Epoch 36/49\n",
      "42000/42000 [==============================] - 3s 61us/step - loss: 0.1459 - accuracy: 0.9692 - val_loss: 0.1286 - val_accuracy: 0.9771\n",
      "Epoch 37/49\n",
      "42000/42000 [==============================] - 3s 64us/step - loss: 0.1443 - accuracy: 0.9708 - val_loss: 0.1346 - val_accuracy: 0.9744\n",
      "Epoch 38/49\n",
      "42000/42000 [==============================] - 3s 63us/step - loss: 0.1448 - accuracy: 0.9695 - val_loss: 0.1550 - val_accuracy: 0.9691\n",
      "Epoch 39/49\n",
      "42000/42000 [==============================] - 3s 61us/step - loss: 0.1431 - accuracy: 0.9696 - val_loss: 0.1227 - val_accuracy: 0.9782\n",
      "Epoch 40/49\n",
      "42000/42000 [==============================] - 3s 61us/step - loss: 0.1400 - accuracy: 0.9715 - val_loss: 0.1188 - val_accuracy: 0.9799\n",
      "Epoch 41/49\n",
      "42000/42000 [==============================] - 3s 60us/step - loss: 0.1379 - accuracy: 0.9708 - val_loss: 0.1171 - val_accuracy: 0.9799\n",
      "Epoch 42/49\n",
      "42000/42000 [==============================] - 3s 61us/step - loss: 0.1398 - accuracy: 0.9703 - val_loss: 0.1360 - val_accuracy: 0.9734\n",
      "Epoch 43/49\n",
      "42000/42000 [==============================] - 3s 61us/step - loss: 0.1383 - accuracy: 0.9709 - val_loss: 0.1223 - val_accuracy: 0.9769\n",
      "Epoch 44/49\n",
      "42000/42000 [==============================] - 3s 63us/step - loss: 0.1380 - accuracy: 0.9707 - val_loss: 0.1178 - val_accuracy: 0.9797\n",
      "Epoch 45/49\n",
      "42000/42000 [==============================] - 3s 64us/step - loss: 0.1372 - accuracy: 0.9703 - val_loss: 0.1230 - val_accuracy: 0.9783\n",
      "Epoch 46/49\n",
      "42000/42000 [==============================] - 3s 63us/step - loss: 0.1369 - accuracy: 0.9709 - val_loss: 0.1166 - val_accuracy: 0.9803\n",
      "Epoch 47/49\n",
      "42000/42000 [==============================] - 3s 63us/step - loss: 0.1380 - accuracy: 0.9710 - val_loss: 0.1203 - val_accuracy: 0.9782\n",
      "Epoch 48/49\n",
      "42000/42000 [==============================] - 3s 63us/step - loss: 0.1361 - accuracy: 0.9710 - val_loss: 0.1283 - val_accuracy: 0.9770\n",
      "Epoch 49/49\n",
      "42000/42000 [==============================] - 3s 63us/step - loss: 0.1342 - accuracy: 0.9720 - val_loss: 0.1201 - val_accuracy: 0.9794\n"
     ]
    }
   ],
   "source": [
    "hist=network.fit(train_images, train_labels, epochs=49, batch_size=328,validation_split=0.3)"
   ]
  },
  {
   "cell_type": "code",
   "execution_count": 40,
   "metadata": {},
   "outputs": [
    {
     "data": {
      "image/png": "[encoded data removed]",
      "text/plain": [
       "<Figure size 432x288 with 1 Axes>"
      ]
     },
     "metadata": {
      "needs_background": "light"
     },
     "output_type": "display_data"
    },
    {
     "data": {
      "image/png": "[encoded data removed]",
      "text/plain": [
       "<Figure size 432x288 with 1 Axes>"
      ]
     },
     "metadata": {
      "needs_background": "light"
     },
     "output_type": "display_data"
    }
   ],
   "source": [
    "import matplotlib.pyplot as plt\n",
    "loss_values=hist.history['loss']\n",
    "val_loss_values=hist.history['val_loss']\n",
    "epochs=range(1,len(loss_values)+1)\n",
    "plt.plot(epochs,loss_values,'bo',label='Training loss')\n",
    "plt.plot(epochs,val_loss_values,'b',label='Validation loss')\n",
    "plt.title('Training and Validation loss')\n",
    "plt.xlabel('Epochs')\n",
    "plt.ylabel('Loss')\n",
    "plt.legend()\n",
    "plt.show()\n",
    "plt.clf\n",
    "acc_values=hist.history['accuracy']\n",
    "val_acc_values=hist.history['val_accuracy']\n",
    "epochs=range(1,len(acc_values)+1)\n",
    "plt.plot(epochs,acc_values,'bo',label='Training acc')\n",
    "plt.plot(epochs,val_acc_values,'b',label='Validation acc')\n",
    "plt.title('Training and Validation accuracy')\n",
    "plt.xlabel('Epochs')\n",
    "plt.ylabel('acc')\n",
    "plt.legend()\n",
    "plt.show()"
   ]
  },
  {
   "cell_type": "code",
   "execution_count": 41,
   "metadata": {},
   "outputs": [
    {
     "name": "stdout",
     "output_type": "stream",
     "text": [
      "10000/10000 [==============================] - 0s 47us/step\n"
     ]
    }
   ],
   "source": [
    "test_loss, test_acc = network.evaluate(test_images, test_labels)"
   ]
  },
  {
   "cell_type": "code",
   "execution_count": 42,
   "metadata": {},
   "outputs": [
    {
     "name": "stdout",
     "output_type": "stream",
     "text": [
      "test_acc: 0.9801999926567078\n"
     ]
    }
   ],
   "source": [
    "print('test_acc:', test_acc) "
   ]
  },
  {
   "cell_type": "markdown",
   "metadata": {},
   "source": [
    "# Model Save"
   ]
  },
  {
   "cell_type": "code",
   "execution_count": 52,
   "metadata": {},
   "outputs": [],
   "source": [
    "network.save(\"Mnist_dataset_DNN.h5\")"
   ]
  },
  {
   "cell_type": "markdown",
   "metadata": {},
   "source": [
    "# Prediction"
   ]
  },
  {
   "cell_type": "code",
   "execution_count": 73,
   "metadata": {},
   "outputs": [
    {
     "data": {
      "text/plain": [
       "(1, 784)"
      ]
     },
     "execution_count": 73,
     "metadata": {},
     "output_type": "execute_result"
    }
   ],
   "source": [
    "s=test_images[80].reshape(1,28*28)\n",
    "s.shape"
   ]
  },
  {
   "cell_type": "code",
   "execution_count": 78,
   "metadata": {},
   "outputs": [
    {
     "data": {
      "text/plain": [
       "array([7], dtype=int64)"
      ]
     },
     "execution_count": 78,
     "metadata": {},
     "output_type": "execute_result"
    },
    {
     "data": {
      "image/png": "[encoded data removed]",
      "text/plain": [
       "<Figure size 432x288 with 1 Axes>"
      ]
     },
     "metadata": {
      "needs_background": "light"
     },
     "output_type": "display_data"
    }
   ],
   "source": [
    "import matplotlib.pyplot as plt\n",
    "plt.imshow(test_images[80].reshape(28,28),cmap='Greys')\n",
    "#Greys and plt.cm.binary are same \n",
    "network.predict_classes(s)"
   ]
  },
  {
   "cell_type": "code",
   "execution_count": 79,
   "metadata": {},
   "outputs": [
    {
     "data": {
      "text/plain": [
       "array([3], dtype=int64)"
      ]
     },
     "execution_count": 79,
     "metadata": {},
     "output_type": "execute_result"
    }
   ],
   "source": [
    "network.predict_classes(test_images[90].reshape(1,28*28))"
   ]
  },
  {
   "cell_type": "code",
   "execution_count": 80,
   "metadata": {},
   "outputs": [
    {
     "data": {
      "text/plain": [
       "array([0., 0., 0., 1., 0., 0., 0., 0., 0., 0.], dtype=float32)"
      ]
     },
     "execution_count": 80,
     "metadata": {},
     "output_type": "execute_result"
    }
   ],
   "source": [
    "\n",
    "test_labels[90]"
   ]
  }
 ],
 "metadata": {
  "kernelspec": {
   "display_name": "Python 3",
   "language": "python",
   "name": "python3"
  },
  "language_info": {
   "codemirror_mode": {
    "name": "ipython",
    "version": 3
   },
   "file_extension": ".py",
   "mimetype": "text/x-python",
   "name": "python",
   "nbconvert_exporter": "python",
   "pygments_lexer": "ipython3",
   "version": "3.7.3"
  }
 },
 "nbformat": 4,
 "nbformat_minor": 2
}
