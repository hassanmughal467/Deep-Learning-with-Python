{
 "cells": [
  {
   "cell_type": "code",
   "execution_count": 2,
   "metadata": {},
   "outputs": [],
   "source": [
    "from PIL import Image\n",
    "import numpy as np\n",
    "import os, shutil"
   ]
  },
  {
   "cell_type": "code",
   "execution_count": 3,
   "metadata": {},
   "outputs": [],
   "source": [
    "base_dir = 'D:/c/Desktop/PIAIC/Artificial Intelligent/3rd Quarter/deep learning/sir nasir/workingDirectory'"
   ]
  },
  {
   "cell_type": "code",
   "execution_count": 4,
   "metadata": {},
   "outputs": [],
   "source": [
    "train_dir = os.path.join(base_dir, 'train') \n",
    "validation_dir = os.path.join(base_dir, 'validation') \n",
    "test_dir = os.path.join(base_dir, 'test')"
   ]
  },
  {
   "cell_type": "code",
   "execution_count": 5,
   "metadata": {},
   "outputs": [],
   "source": [
    "train_cats_dir = os.path.join(train_dir, 'cats')\n",
    "train_dogs_dir = os.path.join(train_dir, 'dogs')\n",
    "validation_cats_dir = os.path.join(validation_dir, 'cats')\n",
    "validation_dogs_dir = os.path.join(validation_dir, 'dogs')\n",
    "test_cats_dir = os.path.join(test_dir, 'cats')\n",
    "test_dogs_dir = os.path.join(test_dir, 'dogs')"
   ]
  },
  {
   "cell_type": "code",
   "execution_count": 6,
   "metadata": {},
   "outputs": [
    {
     "name": "stdout",
     "output_type": "stream",
     "text": [
      "total training cat images: 1000\n",
      "total training dog images: 1000\n",
      "total validation cat images: 500\n",
      "total validation dog images: 500\n",
      "total test cat images: 500\n",
      "total test dog images: 500\n"
     ]
    }
   ],
   "source": [
    "print('total training cat images:', len(os.listdir(train_cats_dir)))\n",
    "\n",
    "print('total training dog images:', len(os.listdir(train_dogs_dir)))\n",
    "\n",
    "print('total validation cat images:', len(os.listdir(validation_cats_dir)))\n",
    "\n",
    "print('total validation dog images:', len(os.listdir(validation_dogs_dir)))\n",
    "\n",
    "print('total test cat images:', len(os.listdir(test_cats_dir)))\n",
    "\n",
    "print('total test dog images:', len(os.listdir(test_dogs_dir)))"
   ]
  },
  {
   "cell_type": "markdown",
   "metadata": {},
   "source": [
    "# Building your network"
   ]
  },
  {
   "cell_type": "code",
   "execution_count": 7,
   "metadata": {},
   "outputs": [
    {
     "name": "stderr",
     "output_type": "stream",
     "text": [
      "Using TensorFlow backend.\n"
     ]
    }
   ],
   "source": [
    "from keras import layers\n",
    "from keras import models\n",
    "model = models.Sequential()\n",
    "model.add(layers.Conv2D(32, (3, 3), activation='relu',\n",
    "input_shape=(150, 150, 3)))\n",
    "model.add(layers.MaxPooling2D((2, 2)))\n",
    "model.add(layers.Conv2D(64, (3, 3), activation='relu'))\n",
    "model.add(layers.MaxPooling2D((2, 2)))\n",
    "model.add(layers.Conv2D(128, (3, 3), activation='relu'))\n",
    "model.add(layers.MaxPooling2D((2, 2)))\n",
    "model.add(layers.Conv2D(128, (3, 3), activation='relu'))\n",
    "model.add(layers.MaxPooling2D((2, 2)))\n",
    "# Dense Classifier\n",
    "model.add(layers.Flatten())\n",
    "model.add(layers.Dense(512, activation='relu'))\n",
    "model.add(layers.Dense(1, activation='sigmoid'))"
   ]
  },
  {
   "cell_type": "code",
   "execution_count": 8,
   "metadata": {},
   "outputs": [
    {
     "name": "stdout",
     "output_type": "stream",
     "text": [
      "Model: \"sequential_1\"\n",
      "_________________________________________________________________\n",
      "Layer (type)                 Output Shape              Param #   \n",
      "=================================================================\n",
      "conv2d_1 (Conv2D)            (None, 148, 148, 32)      896       \n",
      "_________________________________________________________________\n",
      "max_pooling2d_1 (MaxPooling2 (None, 74, 74, 32)        0         \n",
      "_________________________________________________________________\n",
      "conv2d_2 (Conv2D)            (None, 72, 72, 64)        18496     \n",
      "_________________________________________________________________\n",
      "max_pooling2d_2 (MaxPooling2 (None, 36, 36, 64)        0         \n",
      "_________________________________________________________________\n",
      "conv2d_3 (Conv2D)            (None, 34, 34, 128)       73856     \n",
      "_________________________________________________________________\n",
      "max_pooling2d_3 (MaxPooling2 (None, 17, 17, 128)       0         \n",
      "_________________________________________________________________\n",
      "conv2d_4 (Conv2D)            (None, 15, 15, 128)       147584    \n",
      "_________________________________________________________________\n",
      "max_pooling2d_4 (MaxPooling2 (None, 7, 7, 128)         0         \n",
      "_________________________________________________________________\n",
      "flatten_1 (Flatten)          (None, 6272)              0         \n",
      "_________________________________________________________________\n",
      "dense_1 (Dense)              (None, 512)               3211776   \n",
      "_________________________________________________________________\n",
      "dense_2 (Dense)              (None, 1)                 513       \n",
      "=================================================================\n",
      "Total params: 3,453,121\n",
      "Trainable params: 3,453,121\n",
      "Non-trainable params: 0\n",
      "_________________________________________________________________\n"
     ]
    }
   ],
   "source": [
    "model.summary()"
   ]
  },
  {
   "cell_type": "markdown",
   "metadata": {},
   "source": [
    "# Compile Model"
   ]
  },
  {
   "cell_type": "code",
   "execution_count": 9,
   "metadata": {},
   "outputs": [],
   "source": [
    "from keras import optimizers\n",
    "model.compile(loss='binary_crossentropy',\n",
    "optimizer=optimizers.RMSprop(lr=1e-4),\n",
    "metrics=['acc'])"
   ]
  },
  {
   "cell_type": "markdown",
   "metadata": {},
   "source": [
    "# Data preprocessing Using ImageGenerator"
   ]
  },
  {
   "cell_type": "code",
   "execution_count": 10,
   "metadata": {},
   "outputs": [
    {
     "name": "stdout",
     "output_type": "stream",
     "text": [
      "Found 2000 images belonging to 2 classes.\n",
      "Found 1000 images belonging to 2 classes.\n"
     ]
    }
   ],
   "source": [
    "from keras.preprocessing.image import ImageDataGenerator\n",
    "train_datagen = ImageDataGenerator(rescale=1./255)\n",
    "test_datagen = ImageDataGenerator(rescale=1./255)\n",
    "train_generator = train_datagen.flow_from_directory(train_dir,\n",
    "                                                    target_size=(150, 150),\n",
    "                                                    batch_size=20,\n",
    "                                                    class_mode='binary')\n",
    "validation_generator = test_datagen.flow_from_directory(validation_dir,\n",
    "                                                        target_size=(150, 150),\n",
    "                                                        batch_size=20,\n",
    "                                                        class_mode='binary')"
   ]
  },
  {
   "cell_type": "markdown",
   "metadata": {},
   "source": [
    "# Fitting the model using a batch generator"
   ]
  },
  {
   "cell_type": "code",
   "execution_count": 11,
   "metadata": {},
   "outputs": [
    {
     "name": "stdout",
     "output_type": "stream",
     "text": [
      "Epoch 1/30\n",
      "100/100 [==============================] - 82s 816ms/step - loss: 0.6909 - acc: 0.5360 - val_loss: 0.6682 - val_acc: 0.6060\n",
      "Epoch 2/30\n",
      "100/100 [==============================] - 64s 645ms/step - loss: 0.6571 - acc: 0.6105 - val_loss: 0.6509 - val_acc: 0.5970\n",
      "Epoch 3/30\n",
      "100/100 [==============================] - 67s 667ms/step - loss: 0.6097 - acc: 0.6690 - val_loss: 0.5864 - val_acc: 0.6600\n",
      "Epoch 4/30\n",
      "100/100 [==============================] - 64s 637ms/step - loss: 0.5625 - acc: 0.7165 - val_loss: 0.5922 - val_acc: 0.6780\n",
      "Epoch 5/30\n",
      "100/100 [==============================] - 63s 634ms/step - loss: 0.5238 - acc: 0.7350 - val_loss: 0.6475 - val_acc: 0.6540\n",
      "Epoch 6/30\n",
      "100/100 [==============================] - 64s 638ms/step - loss: 0.4990 - acc: 0.7470 - val_loss: 0.3881 - val_acc: 0.6940\n",
      "Epoch 7/30\n",
      "100/100 [==============================] - 64s 641ms/step - loss: 0.4672 - acc: 0.7845 - val_loss: 0.8164 - val_acc: 0.7050\n",
      "Epoch 8/30\n",
      "100/100 [==============================] - 65s 646ms/step - loss: 0.4504 - acc: 0.7785 - val_loss: 0.4366 - val_acc: 0.7240\n",
      "Epoch 9/30\n",
      "100/100 [==============================] - 64s 644ms/step - loss: 0.4223 - acc: 0.8050 - val_loss: 0.5602 - val_acc: 0.7210\n",
      "Epoch 10/30\n",
      "100/100 [==============================] - 65s 646ms/step - loss: 0.4005 - acc: 0.8215 - val_loss: 0.5625 - val_acc: 0.7380\n",
      "Epoch 11/30\n",
      "100/100 [==============================] - 64s 644ms/step - loss: 0.3704 - acc: 0.8365 - val_loss: 0.9342 - val_acc: 0.7120\n",
      "Epoch 12/30\n",
      "100/100 [==============================] - 64s 644ms/step - loss: 0.3536 - acc: 0.8425 - val_loss: 0.3657 - val_acc: 0.7440\n",
      "Epoch 13/30\n",
      "100/100 [==============================] - 64s 642ms/step - loss: 0.3213 - acc: 0.8665 - val_loss: 0.3926 - val_acc: 0.7460\n",
      "Epoch 14/30\n",
      "100/100 [==============================] - 64s 642ms/step - loss: 0.2912 - acc: 0.8790 - val_loss: 0.3292 - val_acc: 0.7430\n",
      "Epoch 15/30\n",
      "100/100 [==============================] - 64s 640ms/step - loss: 0.2770 - acc: 0.8840 - val_loss: 0.5998 - val_acc: 0.7290\n",
      "Epoch 16/30\n",
      "100/100 [==============================] - 64s 640ms/step - loss: 0.2522 - acc: 0.8975 - val_loss: 0.4436 - val_acc: 0.7390\n",
      "Epoch 17/30\n",
      "100/100 [==============================] - 64s 641ms/step - loss: 0.2287 - acc: 0.9125 - val_loss: 0.5195 - val_acc: 0.7440\n",
      "Epoch 18/30\n",
      "100/100 [==============================] - 65s 652ms/step - loss: 0.2058 - acc: 0.9225 - val_loss: 0.7611 - val_acc: 0.7360\n",
      "Epoch 19/30\n",
      "100/100 [==============================] - 66s 664ms/step - loss: 0.1917 - acc: 0.9280 - val_loss: 0.4327 - val_acc: 0.7290\n",
      "Epoch 20/30\n",
      "100/100 [==============================] - 66s 657ms/step - loss: 0.1744 - acc: 0.9385 - val_loss: 0.8792 - val_acc: 0.7500\n",
      "Epoch 21/30\n",
      "100/100 [==============================] - 66s 658ms/step - loss: 0.1564 - acc: 0.9415 - val_loss: 0.3807 - val_acc: 0.7400\n",
      "Epoch 22/30\n",
      "100/100 [==============================] - 65s 649ms/step - loss: 0.1346 - acc: 0.9590 - val_loss: 0.5268 - val_acc: 0.7330\n",
      "Epoch 23/30\n",
      "100/100 [==============================] - 65s 648ms/step - loss: 0.1214 - acc: 0.9580 - val_loss: 0.9138 - val_acc: 0.7460\n",
      "Epoch 24/30\n",
      "100/100 [==============================] - 65s 653ms/step - loss: 0.1042 - acc: 0.9675 - val_loss: 0.7801 - val_acc: 0.7400\n",
      "Epoch 25/30\n",
      "100/100 [==============================] - 65s 646ms/step - loss: 0.0892 - acc: 0.9715 - val_loss: 0.3888 - val_acc: 0.7160\n",
      "Epoch 26/30\n",
      "100/100 [==============================] - 68s 683ms/step - loss: 0.0781 - acc: 0.9775 - val_loss: 1.0355 - val_acc: 0.7250\n",
      "Epoch 27/30\n",
      "100/100 [==============================] - 66s 655ms/step - loss: 0.0676 - acc: 0.9820 - val_loss: 0.9331 - val_acc: 0.7460\n",
      "Epoch 28/30\n",
      "100/100 [==============================] - 65s 646ms/step - loss: 0.0576 - acc: 0.9830 - val_loss: 1.3587 - val_acc: 0.7490\n",
      "Epoch 29/30\n",
      "100/100 [==============================] - 66s 662ms/step - loss: 0.0457 - acc: 0.9890 - val_loss: 0.6987 - val_acc: 0.7360\n",
      "Epoch 30/30\n",
      "100/100 [==============================] - 66s 663ms/step - loss: 0.0426 - acc: 0.9905 - val_loss: 0.6051 - val_acc: 0.7560\n"
     ]
    }
   ],
   "source": [
    "history = model.fit_generator(train_generator,steps_per_epoch=100,\n",
    "                              epochs=30,validation_data=validation_generator,\n",
    "                              validation_steps=50)"
   ]
  },
  {
   "cell_type": "markdown",
   "metadata": {},
   "source": [
    "# Displaying curves of loss and accuracy during training"
   ]
  },
  {
   "cell_type": "code",
   "execution_count": 13,
   "metadata": {},
   "outputs": [
    {
     "data": {
      "text/plain": [
       "<matplotlib.legend.Legend at 0x22100e6cfd0>"
      ]
     },
     "execution_count": 13,
     "metadata": {},
     "output_type": "execute_result"
    },
    {
     "data": {
      "image/png": "[encoded data removed]",
      "text/plain": [
       "<Figure size 432x288 with 1 Axes>"
      ]
     },
     "metadata": {
      "needs_background": "light"
     },
     "output_type": "display_data"
    },
    {
     "data": {
      "image/png": "[encoded data removed]",
      "text/plain": [
       "<Figure size 432x288 with 1 Axes>"
      ]
     },
     "metadata": {
      "needs_background": "light"
     },
     "output_type": "display_data"
    }
   ],
   "source": [
    "import matplotlib.pyplot as plt\n",
    "acc = history.history['acc']\n",
    "val_acc = history.history['val_acc']\n",
    "loss = history.history['loss']\n",
    "val_loss = history.history['val_loss']\n",
    "epochs = range(1, len(acc) + 1)\n",
    "plt.plot(epochs, acc, 'bo', label='Training acc')\n",
    "plt.plot(epochs, val_acc, 'b', label='Validation acc')\n",
    "plt.title('Training and validation accuracy')\n",
    "plt.legend()\n",
    "plt.figure()\n",
    "plt.plot(epochs, loss, 'bo', label='Training loss')\n",
    "plt.plot(epochs, val_loss, 'b', label='Validation loss')\n",
    "plt.title('Training and validation loss')\n",
    "plt.legend()"
   ]
  },
  {
   "cell_type": "markdown",
   "metadata": {},
   "source": [
    "# Using data augmentation"
   ]
  },
  {
   "cell_type": "markdown",
   "metadata": {},
   "source": [
    "# Defining a new convnet that includes dropout"
   ]
  },
  {
   "cell_type": "code",
   "execution_count": 15,
   "metadata": {},
   "outputs": [],
   "source": [
    "model = models.Sequential()\n",
    "model.add(layers.Conv2D(32, (3, 3), activation='relu',\n",
    "input_shape=(150, 150, 3)))\n",
    "model.add(layers.MaxPooling2D((2, 2)))\n",
    "model.add(layers.Conv2D(64, (3, 3), activation='relu'))\n",
    "model.add(layers.MaxPooling2D((2, 2)))\n",
    "model.add(layers.Conv2D(128, (3, 3), activation='relu'))\n",
    "model.add(layers.MaxPooling2D((2, 2)))\n",
    "model.add(layers.Conv2D(128, (3, 3), activation='relu'))\n",
    "model.add(layers.MaxPooling2D((2, 2)))\n",
    "model.add(layers.Flatten())\n",
    "model.add(layers.Dropout(0.5))\n",
    "model.add(layers.Dense(512, activation='relu'))\n",
    "model.add(layers.Dense(1, activation='sigmoid'))\n",
    "model.compile(loss='binary_crossentropy',\n",
    "optimizer=optimizers.RMSprop(lr=1e-4),\n",
    "metrics=['acc'])"
   ]
  },
  {
   "cell_type": "code",
   "execution_count": 16,
   "metadata": {},
   "outputs": [],
   "source": [
    "train_datagen = ImageDataGenerator(\n",
    "rescale=1./255,\n",
    "rotation_range=40,\n",
    "width_shift_range=0.2,\n",
    "height_shift_range=0.2,\n",
    "shear_range=0.2,\n",
    "zoom_range=0.2,\n",
    "horizontal_flip=True,)\n"
   ]
  },
  {
   "cell_type": "code",
   "execution_count": 17,
   "metadata": {},
   "outputs": [
    {
     "name": "stdout",
     "output_type": "stream",
     "text": [
      "Found 2000 images belonging to 2 classes.\n",
      "Found 1000 images belonging to 2 classes.\n",
      "Epoch 1/100\n",
      "100/100 [==============================] - 102s 1s/step - loss: 0.6924 - acc: 0.5182 - val_loss: 0.6955 - val_acc: 0.5387\n",
      "Epoch 2/100\n",
      "100/100 [==============================] - 103s 1s/step - loss: 0.6824 - acc: 0.5578 - val_loss: 0.6917 - val_acc: 0.6018\n",
      "Epoch 3/100\n",
      "100/100 [==============================] - 103s 1s/step - loss: 0.6696 - acc: 0.6018 - val_loss: 0.7824 - val_acc: 0.6168\n",
      "Epoch 4/100\n",
      "100/100 [==============================] - 105s 1s/step - loss: 0.6578 - acc: 0.6140 - val_loss: 0.5989 - val_acc: 0.6321\n",
      "Epoch 5/100\n",
      "100/100 [==============================] - 108s 1s/step - loss: 0.6446 - acc: 0.6310 - val_loss: 0.5800 - val_acc: 0.6662\n",
      "Epoch 6/100\n",
      "100/100 [==============================] - 106s 1s/step - loss: 0.6308 - acc: 0.6514 - val_loss: 0.6955 - val_acc: 0.6108\n",
      "Epoch 7/100\n",
      "100/100 [==============================] - 108s 1s/step - loss: 0.6175 - acc: 0.6638 - val_loss: 0.5724 - val_acc: 0.6669\n",
      "Epoch 8/100\n",
      "100/100 [==============================] - 102s 1s/step - loss: 0.6040 - acc: 0.6733 - val_loss: 0.7072 - val_acc: 0.6997\n",
      "Epoch 9/100\n",
      "100/100 [==============================] - 103s 1s/step - loss: 0.5909 - acc: 0.6988 - val_loss: 0.4606 - val_acc: 0.6849\n",
      "Epoch 10/100\n",
      "100/100 [==============================] - 104s 1s/step - loss: 0.5798 - acc: 0.6954 - val_loss: 0.5367 - val_acc: 0.6802\n",
      "Epoch 11/100\n",
      "100/100 [==============================] - 103s 1s/step - loss: 0.5671 - acc: 0.7030 - val_loss: 0.6649 - val_acc: 0.6624\n",
      "Epoch 12/100\n",
      "100/100 [==============================] - 107s 1s/step - loss: 0.5681 - acc: 0.7032 - val_loss: 0.6119 - val_acc: 0.7126\n",
      "Epoch 13/100\n",
      "100/100 [==============================] - 105s 1s/step - loss: 0.5682 - acc: 0.7045 - val_loss: 0.5253 - val_acc: 0.7223\n",
      "Epoch 14/100\n",
      "100/100 [==============================] - 102s 1s/step - loss: 0.5548 - acc: 0.7161 - val_loss: 0.4717 - val_acc: 0.7373\n",
      "Epoch 15/100\n",
      "100/100 [==============================] - 102s 1s/step - loss: 0.5541 - acc: 0.7090 - val_loss: 0.4980 - val_acc: 0.7448\n",
      "Epoch 16/100\n",
      "100/100 [==============================] - 102s 1s/step - loss: 0.5587 - acc: 0.7048 - val_loss: 0.5521 - val_acc: 0.7429\n",
      "Epoch 17/100\n",
      "100/100 [==============================] - 100s 1s/step - loss: 0.5468 - acc: 0.7247 - val_loss: 0.5110 - val_acc: 0.7386\n",
      "Epoch 18/100\n",
      "100/100 [==============================] - 108s 1s/step - loss: 0.5289 - acc: 0.7352 - val_loss: 0.2914 - val_acc: 0.7281\n",
      "Epoch 19/100\n",
      "100/100 [==============================] - 103s 1s/step - loss: 0.5304 - acc: 0.7304 - val_loss: 0.5113 - val_acc: 0.6897\n",
      "Epoch 20/100\n",
      "100/100 [==============================] - 109s 1s/step - loss: 0.5212 - acc: 0.7396 - val_loss: 0.3896 - val_acc: 0.7468\n",
      "Epoch 21/100\n",
      "100/100 [==============================] - 108s 1s/step - loss: 0.5270 - acc: 0.7340 - val_loss: 0.3779 - val_acc: 0.7475\n",
      "Epoch 22/100\n",
      "100/100 [==============================] - 101s 1s/step - loss: 0.5174 - acc: 0.7304 - val_loss: 0.5223 - val_acc: 0.7468\n",
      "Epoch 23/100\n",
      "100/100 [==============================] - 103s 1s/step - loss: 0.5130 - acc: 0.7440 - val_loss: 0.7032 - val_acc: 0.7462\n",
      "Epoch 24/100\n",
      "100/100 [==============================] - 102s 1s/step - loss: 0.4978 - acc: 0.7579 - val_loss: 0.4039 - val_acc: 0.7668\n",
      "Epoch 25/100\n",
      "100/100 [==============================] - 100s 1s/step - loss: 0.5021 - acc: 0.7652 - val_loss: 0.3796 - val_acc: 0.7436\n",
      "Epoch 26/100\n",
      "100/100 [==============================] - 102s 1s/step - loss: 0.5005 - acc: 0.7557 - val_loss: 0.4406 - val_acc: 0.7792\n",
      "Epoch 27/100\n",
      "100/100 [==============================] - 101s 1s/step - loss: 0.4940 - acc: 0.7588 - val_loss: 0.7040 - val_acc: 0.7313\n",
      "Epoch 28/100\n",
      "100/100 [==============================] - 102s 1s/step - loss: 0.5018 - acc: 0.7431 - val_loss: 0.6244 - val_acc: 0.7259\n",
      "Epoch 29/100\n",
      "100/100 [==============================] - 101s 1s/step - loss: 0.4915 - acc: 0.7626 - val_loss: 0.4690 - val_acc: 0.7771\n",
      "Epoch 30/100\n",
      "100/100 [==============================] - 101s 1s/step - loss: 0.4945 - acc: 0.7544 - val_loss: 0.3772 - val_acc: 0.7690\n",
      "Epoch 31/100\n",
      "100/100 [==============================] - 103s 1s/step - loss: 0.4850 - acc: 0.7629 - val_loss: 0.4973 - val_acc: 0.7481\n",
      "Epoch 32/100\n",
      "100/100 [==============================] - 101s 1s/step - loss: 0.4861 - acc: 0.7670 - val_loss: 0.5513 - val_acc: 0.7951\n",
      "Epoch 33/100\n",
      "100/100 [==============================] - 103s 1s/step - loss: 0.4788 - acc: 0.7683 - val_loss: 0.7942 - val_acc: 0.7595\n",
      "Epoch 34/100\n",
      "100/100 [==============================] - 102s 1s/step - loss: 0.4849 - acc: 0.7679 - val_loss: 0.6234 - val_acc: 0.7700\n",
      "Epoch 35/100\n",
      "100/100 [==============================] - 102s 1s/step - loss: 0.4837 - acc: 0.7683 - val_loss: 0.6452 - val_acc: 0.7741\n",
      "Epoch 36/100\n",
      "100/100 [==============================] - 101s 1s/step - loss: 0.4796 - acc: 0.7594 - val_loss: 0.6359 - val_acc: 0.7661\n",
      "Epoch 37/100\n",
      "100/100 [==============================] - 101s 1s/step - loss: 0.4676 - acc: 0.7780 - val_loss: 0.4142 - val_acc: 0.7760\n",
      "Epoch 38/100\n",
      "100/100 [==============================] - 101s 1s/step - loss: 0.4654 - acc: 0.7702 - val_loss: 0.4494 - val_acc: 0.7912\n",
      "Epoch 39/100\n",
      "100/100 [==============================] - 100s 998ms/step - loss: 0.4750 - acc: 0.7740 - val_loss: 0.4716 - val_acc: 0.7862\n",
      "Epoch 40/100\n",
      "100/100 [==============================] - 101s 1s/step - loss: 0.4552 - acc: 0.7836 - val_loss: 0.3124 - val_acc: 0.7874\n",
      "Epoch 41/100\n",
      "100/100 [==============================] - 99s 995ms/step - loss: 0.4645 - acc: 0.7800 - val_loss: 0.3333 - val_acc: 0.7577\n",
      "Epoch 42/100\n",
      "100/100 [==============================] - 100s 996ms/step - loss: 0.4520 - acc: 0.7891 - val_loss: 0.4540 - val_acc: 0.7291\n",
      "Epoch 43/100\n",
      "100/100 [==============================] - 100s 1s/step - loss: 0.4588 - acc: 0.7863 - val_loss: 0.5315 - val_acc: 0.7906\n",
      "Epoch 44/100\n",
      "100/100 [==============================] - 100s 1s/step - loss: 0.4547 - acc: 0.7924 - val_loss: 0.3517 - val_acc: 0.8046\n",
      "Epoch 45/100\n",
      "100/100 [==============================] - 101s 1s/step - loss: 0.4529 - acc: 0.7908 - val_loss: 0.4348 - val_acc: 0.7912\n",
      "Epoch 46/100\n",
      "100/100 [==============================] - 101s 1s/step - loss: 0.4477 - acc: 0.7879 - val_loss: 0.6389 - val_acc: 0.8096\n",
      "Epoch 47/100\n",
      "100/100 [==============================] - 102s 1s/step - loss: 0.4510 - acc: 0.7910 - val_loss: 0.4351 - val_acc: 0.8048\n",
      "Epoch 48/100\n",
      "100/100 [==============================] - 104s 1s/step - loss: 0.4369 - acc: 0.7962 - val_loss: 0.2876 - val_acc: 0.7932\n",
      "Epoch 49/100\n",
      "100/100 [==============================] - 103s 1s/step - loss: 0.4368 - acc: 0.7942 - val_loss: 0.3216 - val_acc: 0.8014\n",
      "Epoch 50/100\n",
      "100/100 [==============================] - 110s 1s/step - loss: 0.4337 - acc: 0.8021 - val_loss: 0.3080 - val_acc: 0.7983\n",
      "Epoch 51/100\n",
      "100/100 [==============================] - 107s 1s/step - loss: 0.4323 - acc: 0.8027 - val_loss: 0.2894 - val_acc: 0.7989\n",
      "Epoch 52/100\n",
      "100/100 [==============================] - 107s 1s/step - loss: 0.4346 - acc: 0.7902 - val_loss: 0.4708 - val_acc: 0.8035\n",
      "Epoch 53/100\n",
      "100/100 [==============================] - 106s 1s/step - loss: 0.4236 - acc: 0.8065 - val_loss: 0.6286 - val_acc: 0.7982\n",
      "Epoch 54/100\n",
      "100/100 [==============================] - 102s 1s/step - loss: 0.4250 - acc: 0.8011 - val_loss: 0.5541 - val_acc: 0.8009\n",
      "Epoch 55/100\n",
      "100/100 [==============================] - 111s 1s/step - loss: 0.4202 - acc: 0.8046 - val_loss: 0.4879 - val_acc: 0.8128\n",
      "Epoch 56/100\n",
      "100/100 [==============================] - 103s 1s/step - loss: 0.4248 - acc: 0.7996 - val_loss: 0.3029 - val_acc: 0.8080\n",
      "Epoch 57/100\n",
      "100/100 [==============================] - 107s 1s/step - loss: 0.4241 - acc: 0.8068 - val_loss: 0.5659 - val_acc: 0.7564\n",
      "Epoch 58/100\n",
      "100/100 [==============================] - 102s 1s/step - loss: 0.4266 - acc: 0.8008 - val_loss: 0.4519 - val_acc: 0.8065\n",
      "Epoch 59/100\n",
      "100/100 [==============================] - 108s 1s/step - loss: 0.4211 - acc: 0.8074 - val_loss: 0.6521 - val_acc: 0.7841\n",
      "Epoch 60/100\n",
      "100/100 [==============================] - 107s 1s/step - loss: 0.4246 - acc: 0.8003 - val_loss: 0.6621 - val_acc: 0.8033\n",
      "Epoch 61/100\n"
     ]
    },
    {
     "name": "stdout",
     "output_type": "stream",
     "text": [
      "100/100 [==============================] - 108s 1s/step - loss: 0.4151 - acc: 0.8141 - val_loss: 0.3173 - val_acc: 0.8286\n",
      "Epoch 62/100\n",
      "100/100 [==============================] - 107s 1s/step - loss: 0.4180 - acc: 0.8031 - val_loss: 0.4881 - val_acc: 0.8046\n",
      "Epoch 63/100\n",
      "100/100 [==============================] - 108s 1s/step - loss: 0.4134 - acc: 0.8106 - val_loss: 0.4038 - val_acc: 0.7642\n",
      "Epoch 64/100\n",
      "100/100 [==============================] - 107s 1s/step - loss: 0.4126 - acc: 0.8131 - val_loss: 0.4492 - val_acc: 0.7957\n",
      "Epoch 65/100\n",
      "100/100 [==============================] - 107s 1s/step - loss: 0.3920 - acc: 0.8251 - val_loss: 0.3087 - val_acc: 0.7881\n",
      "Epoch 66/100\n",
      "100/100 [==============================] - 105s 1s/step - loss: 0.4145 - acc: 0.8125 - val_loss: 0.6188 - val_acc: 0.7680\n",
      "Epoch 67/100\n",
      "100/100 [==============================] - 112s 1s/step - loss: 0.4008 - acc: 0.8128 - val_loss: 0.4637 - val_acc: 0.8001\n",
      "Epoch 68/100\n",
      "100/100 [==============================] - 116s 1s/step - loss: 0.4045 - acc: 0.8094 - val_loss: 0.5544 - val_acc: 0.7519\n",
      "Epoch 69/100\n",
      "100/100 [==============================] - 110s 1s/step - loss: 0.3959 - acc: 0.8182 - val_loss: 0.3382 - val_acc: 0.8027\n",
      "Epoch 70/100\n",
      "100/100 [==============================] - 114s 1s/step - loss: 0.3940 - acc: 0.8260 - val_loss: 0.4545 - val_acc: 0.8093\n",
      "Epoch 71/100\n",
      "100/100 [==============================] - 111s 1s/step - loss: 0.3880 - acc: 0.8251 - val_loss: 0.3893 - val_acc: 0.8211\n",
      "Epoch 72/100\n",
      "100/100 [==============================] - 110s 1s/step - loss: 0.3909 - acc: 0.8284 - val_loss: 0.3379 - val_acc: 0.8260\n",
      "Epoch 73/100\n",
      "100/100 [==============================] - 111s 1s/step - loss: 0.3869 - acc: 0.8317 - val_loss: 0.4099 - val_acc: 0.8093\n",
      "Epoch 74/100\n",
      "100/100 [==============================] - 112s 1s/step - loss: 0.3795 - acc: 0.8245 - val_loss: 0.5476 - val_acc: 0.8071\n",
      "Epoch 75/100\n",
      "100/100 [==============================] - 115s 1s/step - loss: 0.3842 - acc: 0.8247 - val_loss: 0.3999 - val_acc: 0.7552\n",
      "Epoch 76/100\n",
      "100/100 [==============================] - 113s 1s/step - loss: 0.3888 - acc: 0.8277 - val_loss: 0.4322 - val_acc: 0.8166\n",
      "Epoch 77/100\n",
      "100/100 [==============================] - 113s 1s/step - loss: 0.3813 - acc: 0.8273 - val_loss: 0.3873 - val_acc: 0.8003\n",
      "Epoch 78/100\n",
      "100/100 [==============================] - 113s 1s/step - loss: 0.3670 - acc: 0.8362 - val_loss: 0.3052 - val_acc: 0.8230\n",
      "Epoch 79/100\n",
      "100/100 [==============================] - 111s 1s/step - loss: 0.3700 - acc: 0.8321 - val_loss: 0.3185 - val_acc: 0.8280\n",
      "Epoch 80/100\n",
      "100/100 [==============================] - 110s 1s/step - loss: 0.3676 - acc: 0.8367 - val_loss: 0.3799 - val_acc: 0.8106\n",
      "Epoch 81/100\n",
      "100/100 [==============================] - 112s 1s/step - loss: 0.3808 - acc: 0.8324 - val_loss: 0.4122 - val_acc: 0.7874\n",
      "Epoch 82/100\n",
      "100/100 [==============================] - 109s 1s/step - loss: 0.3708 - acc: 0.8318 - val_loss: 0.3794 - val_acc: 0.8409\n",
      "Epoch 83/100\n",
      "100/100 [==============================] - 108s 1s/step - loss: 0.3645 - acc: 0.8433 - val_loss: 0.4445 - val_acc: 0.8211\n",
      "Epoch 84/100\n",
      "100/100 [==============================] - 109s 1s/step - loss: 0.3535 - acc: 0.8466 - val_loss: 0.2586 - val_acc: 0.8189\n",
      "Epoch 85/100\n",
      "100/100 [==============================] - 110s 1s/step - loss: 0.3620 - acc: 0.8483 - val_loss: 0.5844 - val_acc: 0.7925\n",
      "Epoch 86/100\n",
      "100/100 [==============================] - 112s 1s/step - loss: 0.3516 - acc: 0.8367 - val_loss: 0.5209 - val_acc: 0.8164\n",
      "Epoch 87/100\n",
      "100/100 [==============================] - 111s 1s/step - loss: 0.3568 - acc: 0.8393 - val_loss: 0.4601 - val_acc: 0.7919\n",
      "Epoch 88/100\n",
      "100/100 [==============================] - 110s 1s/step - loss: 0.3558 - acc: 0.8444 - val_loss: 0.3076 - val_acc: 0.8209\n",
      "Epoch 89/100\n",
      "100/100 [==============================] - 109s 1s/step - loss: 0.3704 - acc: 0.8333 - val_loss: 0.3190 - val_acc: 0.8260\n",
      "Epoch 90/100\n",
      "100/100 [==============================] - 111s 1s/step - loss: 0.3496 - acc: 0.8492 - val_loss: 0.3058 - val_acc: 0.8173\n",
      "Epoch 91/100\n",
      "100/100 [==============================] - 113s 1s/step - loss: 0.3448 - acc: 0.8489 - val_loss: 0.4731 - val_acc: 0.8293\n",
      "Epoch 92/100\n",
      "100/100 [==============================] - 111s 1s/step - loss: 0.3490 - acc: 0.8425 - val_loss: 0.3610 - val_acc: 0.8261\n",
      "Epoch 93/100\n",
      "100/100 [==============================] - 111s 1s/step - loss: 0.3527 - acc: 0.8520 - val_loss: 0.3570 - val_acc: 0.8312\n",
      "Epoch 94/100\n",
      "100/100 [==============================] - 112s 1s/step - loss: 0.3361 - acc: 0.8474 - val_loss: 0.3156 - val_acc: 0.8058\n",
      "Epoch 95/100\n",
      "100/100 [==============================] - 111s 1s/step - loss: 0.3481 - acc: 0.8520 - val_loss: 0.2413 - val_acc: 0.8325\n",
      "Epoch 96/100\n",
      "100/100 [==============================] - 111s 1s/step - loss: 0.3333 - acc: 0.8508 - val_loss: 0.1370 - val_acc: 0.8202\n",
      "Epoch 97/100\n",
      "100/100 [==============================] - 108s 1s/step - loss: 0.3415 - acc: 0.8516 - val_loss: 0.5380 - val_acc: 0.8039\n",
      "Epoch 98/100\n",
      "100/100 [==============================] - 109s 1s/step - loss: 0.3467 - acc: 0.8529 - val_loss: 0.6735 - val_acc: 0.8061\n",
      "Epoch 99/100\n",
      "100/100 [==============================] - 112s 1s/step - loss: 0.3324 - acc: 0.8540 - val_loss: 0.5297 - val_acc: 0.8052\n",
      "Epoch 100/100\n",
      "100/100 [==============================] - 102s 1s/step - loss: 0.3341 - acc: 0.8485 - val_loss: 0.3760 - val_acc: 0.8228\n"
     ]
    }
   ],
   "source": [
    "test_datagen = ImageDataGenerator(rescale=1./255)\n",
    "train_generator = train_datagen.flow_from_directory(\n",
    "train_dir,\n",
    "target_size=(150, 150),\n",
    "batch_size=32,\n",
    "class_mode='binary')\n",
    "validation_generator = test_datagen.flow_from_directory(\n",
    "validation_dir,\n",
    "target_size=(150, 150),\n",
    "batch_size=32,\n",
    "class_mode='binary')\n",
    "history = model.fit_generator(\n",
    "train_generator,\n",
    "steps_per_epoch=100,\n",
    "epochs=100,\n",
    "validation_data=validation_generator,\n",
    "validation_steps=50)"
   ]
  },
  {
   "cell_type": "markdown",
   "metadata": {},
   "source": [
    "# Displaying curves of loss and accuracy during training"
   ]
  },
  {
   "cell_type": "code",
   "execution_count": 18,
   "metadata": {},
   "outputs": [
    {
     "data": {
      "text/plain": [
       "<matplotlib.legend.Legend at 0x2210136fb00>"
      ]
     },
     "execution_count": 18,
     "metadata": {},
     "output_type": "execute_result"
    },
    {
     "data": {
      "image/png": "[encoded data removed]",
      "text/plain": [
       "<Figure size 432x288 with 1 Axes>"
      ]
     },
     "metadata": {
      "needs_background": "light"
     },
     "output_type": "display_data"
    },
    {
     "data": {
      "image/png": "[encoded data removed]",
      "text/plain": [
       "<Figure size 432x288 with 1 Axes>"
      ]
     },
     "metadata": {
      "needs_background": "light"
     },
     "output_type": "display_data"
    }
   ],
   "source": [
    "import matplotlib.pyplot as plt\n",
    "acc = history.history['acc']\n",
    "val_acc = history.history['val_acc']\n",
    "loss = history.history['loss']\n",
    "val_loss = history.history['val_loss']\n",
    "epochs = range(1, len(acc) + 1)\n",
    "plt.plot(epochs, acc, 'bo', label='Training acc')\n",
    "plt.plot(epochs, val_acc, 'b', label='Validation acc')\n",
    "plt.title('Training and validation accuracy')\n",
    "plt.legend()\n",
    "plt.figure()\n",
    "plt.plot(epochs, loss, 'bo', label='Training loss')\n",
    "plt.plot(epochs, val_loss, 'b', label='Validation loss')\n",
    "plt.title('Training and validation loss')\n",
    "plt.legend()"
   ]
  },
  {
   "cell_type": "code",
   "execution_count": 19,
   "metadata": {},
   "outputs": [],
   "source": [
    "model.save(\"Cats_and_Dogs_Model.h5\")"
   ]
  },
  {
   "cell_type": "code",
   "execution_count": null,
   "metadata": {},
   "outputs": [],
   "source": []
  }
 ],
 "metadata": {
  "kernelspec": {
   "display_name": "Python 3",
   "language": "python",
   "name": "python3"
  },
  "language_info": {
   "codemirror_mode": {
    "name": "ipython",
    "version": 3
   },
   "file_extension": ".py",
   "mimetype": "text/x-python",
   "name": "python",
   "nbconvert_exporter": "python",
   "pygments_lexer": "ipython3",
   "version": "3.7.3"
  }
 },
 "nbformat": 4,
 "nbformat_minor": 2
}
