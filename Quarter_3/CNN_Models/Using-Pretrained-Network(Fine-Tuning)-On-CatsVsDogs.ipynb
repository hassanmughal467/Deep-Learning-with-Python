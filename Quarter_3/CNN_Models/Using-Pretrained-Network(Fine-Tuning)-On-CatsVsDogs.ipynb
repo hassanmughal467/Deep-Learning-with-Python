{
 "cells": [
  {
   "cell_type": "markdown",
   "metadata": {},
   "source": [
    "# Using a pretrained convnet"
   ]
  },
  {
   "cell_type": "markdown",
   "metadata": {},
   "source": [
    "# Fine Tuning\n",
    "### Thus the steps for fine-tuning a network are as follow:\n",
    "###### 1 Add your custom network on top of an already-trained base network.\n",
    "###### 2 Freeze the base network.\n",
    "###### 3 Train the part you added.\n",
    "###### 4 Unfreeze some layers in the base network.\n",
    "###### 5 Jointly train both these layers and the part you added."
   ]
  },
  {
   "cell_type": "code",
   "execution_count": 1,
   "metadata": {},
   "outputs": [
    {
     "name": "stderr",
     "output_type": "stream",
     "text": [
      "Using TensorFlow backend.\n"
     ]
    }
   ],
   "source": [
    "from keras.applications import VGG16\n",
    "conv_base = VGG16(weights='imagenet',\n",
    "include_top=False,\n",
    "input_shape=(150, 150, 3))"
   ]
  },
  {
   "cell_type": "code",
   "execution_count": 2,
   "metadata": {},
   "outputs": [
    {
     "name": "stdout",
     "output_type": "stream",
     "text": [
      "Model: \"vgg16\"\n",
      "_________________________________________________________________\n",
      "Layer (type)                 Output Shape              Param #   \n",
      "=================================================================\n",
      "input_1 (InputLayer)         (None, 150, 150, 3)       0         \n",
      "_________________________________________________________________\n",
      "block1_conv1 (Conv2D)        (None, 150, 150, 64)      1792      \n",
      "_________________________________________________________________\n",
      "block1_conv2 (Conv2D)        (None, 150, 150, 64)      36928     \n",
      "_________________________________________________________________\n",
      "block1_pool (MaxPooling2D)   (None, 75, 75, 64)        0         \n",
      "_________________________________________________________________\n",
      "block2_conv1 (Conv2D)        (None, 75, 75, 128)       73856     \n",
      "_________________________________________________________________\n",
      "block2_conv2 (Conv2D)        (None, 75, 75, 128)       147584    \n",
      "_________________________________________________________________\n",
      "block2_pool (MaxPooling2D)   (None, 37, 37, 128)       0         \n",
      "_________________________________________________________________\n",
      "block3_conv1 (Conv2D)        (None, 37, 37, 256)       295168    \n",
      "_________________________________________________________________\n",
      "block3_conv2 (Conv2D)        (None, 37, 37, 256)       590080    \n",
      "_________________________________________________________________\n",
      "block3_conv3 (Conv2D)        (None, 37, 37, 256)       590080    \n",
      "_________________________________________________________________\n",
      "block3_pool (MaxPooling2D)   (None, 18, 18, 256)       0         \n",
      "_________________________________________________________________\n",
      "block4_conv1 (Conv2D)        (None, 18, 18, 512)       1180160   \n",
      "_________________________________________________________________\n",
      "block4_conv2 (Conv2D)        (None, 18, 18, 512)       2359808   \n",
      "_________________________________________________________________\n",
      "block4_conv3 (Conv2D)        (None, 18, 18, 512)       2359808   \n",
      "_________________________________________________________________\n",
      "block4_pool (MaxPooling2D)   (None, 9, 9, 512)         0         \n",
      "_________________________________________________________________\n",
      "block5_conv1 (Conv2D)        (None, 9, 9, 512)         2359808   \n",
      "_________________________________________________________________\n",
      "block5_conv2 (Conv2D)        (None, 9, 9, 512)         2359808   \n",
      "_________________________________________________________________\n",
      "block5_conv3 (Conv2D)        (None, 9, 9, 512)         2359808   \n",
      "_________________________________________________________________\n",
      "block5_pool (MaxPooling2D)   (None, 4, 4, 512)         0         \n",
      "=================================================================\n",
      "Total params: 14,714,688\n",
      "Trainable params: 14,714,688\n",
      "Non-trainable params: 0\n",
      "_________________________________________________________________\n"
     ]
    }
   ],
   "source": [
    "conv_base.summary()"
   ]
  },
  {
   "cell_type": "code",
   "execution_count": 3,
   "metadata": {},
   "outputs": [],
   "source": [
    "import os\n",
    "import numpy as np\n",
    "from keras.preprocessing.image import ImageDataGenerator\n",
    "base_dir = 'D:/c/Desktop/PIAIC/Artificial Intelligent/3rd Quarter/deep learning/sir nasir/Complte chptrs 5 material/workingDirectory'\n",
    "train_dir = os.path.join(base_dir, 'train')\n",
    "validation_dir = os.path.join(base_dir, 'validation')\n",
    "test_dir = os.path.join(base_dir, 'test')"
   ]
  },
  {
   "cell_type": "markdown",
   "metadata": {},
   "source": [
    "# Unfreezed Conv2D top layer for Fine Tuning"
   ]
  },
  {
   "cell_type": "code",
   "execution_count": 4,
   "metadata": {},
   "outputs": [],
   "source": [
    "from keras import models\n",
    "from keras import layers\n",
    "model = models.Sequential()\n",
    "model.add(conv_base)\n",
    "model.add(layers.Flatten())\n",
    "model.add(layers.Dense(256, activation='relu'))\n",
    "model.add(layers.Dense(1, activation='sigmoid'))"
   ]
  },
  {
   "cell_type": "code",
   "execution_count": 5,
   "metadata": {},
   "outputs": [
    {
     "name": "stdout",
     "output_type": "stream",
     "text": [
      "Model: \"sequential_1\"\n",
      "_________________________________________________________________\n",
      "Layer (type)                 Output Shape              Param #   \n",
      "=================================================================\n",
      "vgg16 (Model)                (None, 4, 4, 512)         14714688  \n",
      "_________________________________________________________________\n",
      "flatten_1 (Flatten)          (None, 8192)              0         \n",
      "_________________________________________________________________\n",
      "dense_1 (Dense)              (None, 256)               2097408   \n",
      "_________________________________________________________________\n",
      "dense_2 (Dense)              (None, 1)                 257       \n",
      "=================================================================\n",
      "Total params: 16,812,353\n",
      "Trainable params: 16,812,353\n",
      "Non-trainable params: 0\n",
      "_________________________________________________________________\n"
     ]
    }
   ],
   "source": [
    "model.summary()"
   ]
  },
  {
   "cell_type": "markdown",
   "metadata": {},
   "source": [
    "# Freezing all layers up to a specific one"
   ]
  },
  {
   "cell_type": "code",
   "execution_count": 6,
   "metadata": {},
   "outputs": [],
   "source": [
    "conv_base.trainable = True\n",
    "set_trainable = False\n",
    "for layer in conv_base.layers:\n",
    "    if layer.name == 'block5_conv1':\n",
    "        set_trainable = True\n",
    "    if set_trainable:\n",
    "        layer.trainable = True\n",
    "    else:\n",
    "        layer.trainable = False"
   ]
  },
  {
   "cell_type": "markdown",
   "metadata": {},
   "source": [
    "# Training the model end to end with a frozen convolutional base"
   ]
  },
  {
   "cell_type": "code",
   "execution_count": 7,
   "metadata": {},
   "outputs": [
    {
     "name": "stdout",
     "output_type": "stream",
     "text": [
      "Found 2000 images belonging to 2 classes.\n",
      "Found 1000 images belonging to 2 classes.\n"
     ]
    }
   ],
   "source": [
    "from keras.preprocessing.image import ImageDataGenerator\n",
    "from keras import optimizers\n",
    "train_datagen = ImageDataGenerator(\n",
    "        rescale=1./255,\n",
    "        rotation_range=40,\n",
    "        width_shift_range=0.2,\n",
    "        height_shift_range=0.2,\n",
    "        shear_range=0.2,\n",
    "        zoom_range=0.2,\n",
    "        horizontal_flip=True,\n",
    "        fill_mode='nearest')\n",
    "test_datagen = ImageDataGenerator(rescale=1./255)\n",
    "train_generator = train_datagen.flow_from_directory(\n",
    "        train_dir,\n",
    "        target_size=(150, 150),\n",
    "        batch_size=20,\n",
    "        class_mode='binary')\n",
    "validation_generator = test_datagen.flow_from_directory(\n",
    "            validation_dir,\n",
    "            target_size=(150, 150),\n",
    "            batch_size=20,\n",
    "            class_mode='binary')"
   ]
  },
  {
   "cell_type": "code",
   "execution_count": 8,
   "metadata": {},
   "outputs": [],
   "source": [
    "model.compile(loss='binary_crossentropy',\n",
    "            optimizer=optimizers.RMSprop(lr=2e-5),\n",
    "            metrics=['acc'])"
   ]
  },
  {
   "cell_type": "code",
   "execution_count": 9,
   "metadata": {},
   "outputs": [
    {
     "name": "stdout",
     "output_type": "stream",
     "text": [
      "Epoch 1/30\n",
      "100/100 [==============================] - 321s 3s/step - loss: 0.4856 - acc: 0.7550 - val_loss: 0.2421 - val_acc: 0.8740\n",
      "Epoch 2/30\n",
      "100/100 [==============================] - 345s 3s/step - loss: 0.3306 - acc: 0.8600 - val_loss: 0.3172 - val_acc: 0.8780\n",
      "Epoch 3/30\n",
      "100/100 [==============================] - 346s 3s/step - loss: 0.2912 - acc: 0.8710 - val_loss: 0.1706 - val_acc: 0.9260\n",
      "Epoch 4/30\n",
      "100/100 [==============================] - 336s 3s/step - loss: 0.2588 - acc: 0.8895 - val_loss: 0.0687 - val_acc: 0.9280\n",
      "Epoch 5/30\n",
      "100/100 [==============================] - 338s 3s/step - loss: 0.2427 - acc: 0.9060 - val_loss: 0.1709 - val_acc: 0.9260\n",
      "Epoch 6/30\n",
      "100/100 [==============================] - 338s 3s/step - loss: 0.2178 - acc: 0.9055 - val_loss: 0.1801 - val_acc: 0.9280\n",
      "Epoch 7/30\n",
      "100/100 [==============================] - 335s 3s/step - loss: 0.1947 - acc: 0.9135 - val_loss: 0.1967 - val_acc: 0.9340\n",
      "Epoch 8/30\n",
      "100/100 [==============================] - 349s 3s/step - loss: 0.1904 - acc: 0.9190 - val_loss: 0.1308 - val_acc: 0.9340\n",
      "Epoch 9/30\n",
      "100/100 [==============================] - 353s 4s/step - loss: 0.1698 - acc: 0.9330 - val_loss: 0.0828 - val_acc: 0.9330\n",
      "Epoch 10/30\n",
      "100/100 [==============================] - 348s 3s/step - loss: 0.1644 - acc: 0.9275 - val_loss: 0.2285 - val_acc: 0.9290\n",
      "Epoch 11/30\n",
      "100/100 [==============================] - 343s 3s/step - loss: 0.1595 - acc: 0.9350 - val_loss: 0.1273 - val_acc: 0.9340\n",
      "Epoch 12/30\n",
      "100/100 [==============================] - 340s 3s/step - loss: 0.1372 - acc: 0.9470 - val_loss: 0.3541 - val_acc: 0.9320\n",
      "Epoch 13/30\n",
      "100/100 [==============================] - 342s 3s/step - loss: 0.1460 - acc: 0.9390 - val_loss: 0.0680 - val_acc: 0.9370\n",
      "Epoch 14/30\n",
      "100/100 [==============================] - 347s 3s/step - loss: 0.1255 - acc: 0.9475 - val_loss: 0.0015 - val_acc: 0.9380\n",
      "Epoch 15/30\n",
      "100/100 [==============================] - 344s 3s/step - loss: 0.1206 - acc: 0.9550 - val_loss: 0.3120 - val_acc: 0.9200\n",
      "Epoch 16/30\n",
      "100/100 [==============================] - 338s 3s/step - loss: 0.1120 - acc: 0.9530 - val_loss: 0.3724 - val_acc: 0.9450\n",
      "Epoch 17/30\n",
      "100/100 [==============================] - 364s 4s/step - loss: 0.1050 - acc: 0.9560 - val_loss: 0.0890 - val_acc: 0.9350\n",
      "Epoch 18/30\n",
      "100/100 [==============================] - 372s 4s/step - loss: 0.1047 - acc: 0.9550 - val_loss: 0.1980 - val_acc: 0.9340\n",
      "Epoch 19/30\n",
      "100/100 [==============================] - 367s 4s/step - loss: 0.1002 - acc: 0.9660 - val_loss: 0.3878 - val_acc: 0.9360\n",
      "Epoch 20/30\n",
      "100/100 [==============================] - 339s 3s/step - loss: 0.1043 - acc: 0.9605 - val_loss: 0.3870 - val_acc: 0.9210\n",
      "Epoch 21/30\n",
      "100/100 [==============================] - 339s 3s/step - loss: 0.1024 - acc: 0.9600 - val_loss: 0.3619 - val_acc: 0.9390\n",
      "Epoch 22/30\n",
      "100/100 [==============================] - 337s 3s/step - loss: 0.0923 - acc: 0.9645 - val_loss: 0.0441 - val_acc: 0.9350\n",
      "Epoch 23/30\n",
      "100/100 [==============================] - 337s 3s/step - loss: 0.0796 - acc: 0.9730 - val_loss: 0.0066 - val_acc: 0.9300\n",
      "Epoch 24/30\n",
      "100/100 [==============================] - 335s 3s/step - loss: 0.0863 - acc: 0.9625 - val_loss: 0.8932 - val_acc: 0.9310\n",
      "Epoch 25/30\n",
      "100/100 [==============================] - 336s 3s/step - loss: 0.0757 - acc: 0.9730 - val_loss: 0.0673 - val_acc: 0.9280\n",
      "Epoch 26/30\n",
      "100/100 [==============================] - 336s 3s/step - loss: 0.0586 - acc: 0.9765 - val_loss: 0.0018 - val_acc: 0.9430\n",
      "Epoch 27/30\n",
      "100/100 [==============================] - 335s 3s/step - loss: 0.0748 - acc: 0.9705 - val_loss: 0.0162 - val_acc: 0.9440\n",
      "Epoch 28/30\n",
      "100/100 [==============================] - 343s 3s/step - loss: 0.0774 - acc: 0.9710 - val_loss: 0.4393 - val_acc: 0.9340\n",
      "Epoch 29/30\n",
      "100/100 [==============================] - 335s 3s/step - loss: 0.0819 - acc: 0.9690 - val_loss: 0.0910 - val_acc: 0.9440\n",
      "Epoch 30/30\n",
      "100/100 [==============================] - 331s 3s/step - loss: 0.0645 - acc: 0.9755 - val_loss: 0.0177 - val_acc: 0.9420\n"
     ]
    }
   ],
   "source": [
    "history = model.fit_generator(train_generator,steps_per_epoch=100,epochs=30,validation_data=validation_generator,validation_steps=50)"
   ]
  },
  {
   "cell_type": "code",
   "execution_count": 11,
   "metadata": {},
   "outputs": [
    {
     "data": {
      "image/png": "[encoded data removed]",
      "text/plain": [
       "<Figure size 432x288 with 1 Axes>"
      ]
     },
     "metadata": {
      "needs_background": "light"
     },
     "output_type": "display_data"
    },
    {
     "data": {
      "image/png": "[encoded data removed]",
      "text/plain": [
       "<Figure size 432x288 with 1 Axes>"
      ]
     },
     "metadata": {
      "needs_background": "light"
     },
     "output_type": "display_data"
    }
   ],
   "source": [
    "import matplotlib.pyplot as plt\n",
    "acc = history.history['acc']\n",
    "val_acc = history.history['val_acc']\n",
    "loss = history.history['loss']\n",
    "val_loss = history.history['val_loss']\n",
    "epochs = range(1, len(acc) + 1)\n",
    "plt.plot(epochs, acc, 'bo', label='Training acc')\n",
    "plt.plot(epochs, val_acc, 'b', label='Validation acc')\n",
    "plt.title('Training and validation accuracy')\n",
    "plt.legend()\n",
    "plt.figure()\n",
    "plt.plot(epochs, loss, 'bo', label='Training loss')\n",
    "plt.plot(epochs, val_loss, 'b', label='Validation loss')\n",
    "plt.title('Training and validation loss')\n",
    "plt.legend()\n",
    "plt.show()"
   ]
  },
  {
   "cell_type": "code",
   "execution_count": 12,
   "metadata": {},
   "outputs": [],
   "source": [
    "model.save(\"Cat_N_Dog_FineTune.h5\")"
   ]
  },
  {
   "cell_type": "code",
   "execution_count": null,
   "metadata": {},
   "outputs": [],
   "source": []
  }
 ],
 "metadata": {
  "kernelspec": {
   "display_name": "Python 3",
   "language": "python",
   "name": "python3"
  },
  "language_info": {
   "codemirror_mode": {
    "name": "ipython",
    "version": 3
   },
   "file_extension": ".py",
   "mimetype": "text/x-python",
   "name": "python",
   "nbconvert_exporter": "python",
   "pygments_lexer": "ipython3",
   "version": "3.7.3"
  }
 },
 "nbformat": 4,
 "nbformat_minor": 2
}
