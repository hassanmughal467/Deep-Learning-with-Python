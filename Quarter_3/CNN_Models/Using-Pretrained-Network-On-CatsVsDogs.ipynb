{
 "cells": [
  {
   "cell_type": "markdown",
   "metadata": {},
   "source": [
    "# Using a pretrained convnet"
   ]
  },
  {
   "cell_type": "code",
   "execution_count": 1,
   "metadata": {},
   "outputs": [
    {
     "name": "stderr",
     "output_type": "stream",
     "text": [
      "Using TensorFlow backend.\n"
     ]
    }
   ],
   "source": [
    "from keras.applications import VGG16\n",
    "conv_base = VGG16(weights='imagenet',\n",
    "include_top=False,\n",
    "input_shape=(150, 150, 3))"
   ]
  },
  {
   "cell_type": "code",
   "execution_count": 2,
   "metadata": {},
   "outputs": [
    {
     "name": "stdout",
     "output_type": "stream",
     "text": [
      "Model: \"vgg16\"\n",
      "_________________________________________________________________\n",
      "Layer (type)                 Output Shape              Param #   \n",
      "=================================================================\n",
      "input_1 (InputLayer)         (None, 150, 150, 3)       0         \n",
      "_________________________________________________________________\n",
      "block1_conv1 (Conv2D)        (None, 150, 150, 64)      1792      \n",
      "_________________________________________________________________\n",
      "block1_conv2 (Conv2D)        (None, 150, 150, 64)      36928     \n",
      "_________________________________________________________________\n",
      "block1_pool (MaxPooling2D)   (None, 75, 75, 64)        0         \n",
      "_________________________________________________________________\n",
      "block2_conv1 (Conv2D)        (None, 75, 75, 128)       73856     \n",
      "_________________________________________________________________\n",
      "block2_conv2 (Conv2D)        (None, 75, 75, 128)       147584    \n",
      "_________________________________________________________________\n",
      "block2_pool (MaxPooling2D)   (None, 37, 37, 128)       0         \n",
      "_________________________________________________________________\n",
      "block3_conv1 (Conv2D)        (None, 37, 37, 256)       295168    \n",
      "_________________________________________________________________\n",
      "block3_conv2 (Conv2D)        (None, 37, 37, 256)       590080    \n",
      "_________________________________________________________________\n",
      "block3_conv3 (Conv2D)        (None, 37, 37, 256)       590080    \n",
      "_________________________________________________________________\n",
      "block3_pool (MaxPooling2D)   (None, 18, 18, 256)       0         \n",
      "_________________________________________________________________\n",
      "block4_conv1 (Conv2D)        (None, 18, 18, 512)       1180160   \n",
      "_________________________________________________________________\n",
      "block4_conv2 (Conv2D)        (None, 18, 18, 512)       2359808   \n",
      "_________________________________________________________________\n",
      "block4_conv3 (Conv2D)        (None, 18, 18, 512)       2359808   \n",
      "_________________________________________________________________\n",
      "block4_pool (MaxPooling2D)   (None, 9, 9, 512)         0         \n",
      "_________________________________________________________________\n",
      "block5_conv1 (Conv2D)        (None, 9, 9, 512)         2359808   \n",
      "_________________________________________________________________\n",
      "block5_conv2 (Conv2D)        (None, 9, 9, 512)         2359808   \n",
      "_________________________________________________________________\n",
      "block5_conv3 (Conv2D)        (None, 9, 9, 512)         2359808   \n",
      "_________________________________________________________________\n",
      "block5_pool (MaxPooling2D)   (None, 4, 4, 512)         0         \n",
      "=================================================================\n",
      "Total params: 14,714,688\n",
      "Trainable params: 14,714,688\n",
      "Non-trainable params: 0\n",
      "_________________________________________________________________\n"
     ]
    }
   ],
   "source": [
    "conv_base.summary()"
   ]
  },
  {
   "cell_type": "markdown",
   "metadata": {},
   "source": [
    "# **FAST FEATURE EXTRACTION WITHOUT DATA AUGMENTATION\n",
    "### Extracting features using the pretrained convolutional base**"
   ]
  },
  {
   "cell_type": "code",
   "execution_count": 3,
   "metadata": {},
   "outputs": [],
   "source": [
    "import os\n",
    "import numpy as np\n",
    "from keras.preprocessing.image import ImageDataGenerator\n",
    "base_dir = 'D:/c/Desktop/PIAIC/Artificial Intelligent/3rd Quarter/deep learning/sir nasir/Complte chptrs 5 material/workingDirectory'\n",
    "train_dir = os.path.join(base_dir, 'train')\n",
    "validation_dir = os.path.join(base_dir, 'validation')\n",
    "test_dir = os.path.join(base_dir, 'test')"
   ]
  },
  {
   "cell_type": "code",
   "execution_count": 4,
   "metadata": {},
   "outputs": [],
   "source": [
    "datagen = ImageDataGenerator(rescale=1./255)\n",
    "batch_size = 20\n",
    "def extract_features(directory, sample_count):\n",
    "    features = np.zeros(shape=(sample_count, 4, 4, 512))\n",
    "    labels = np.zeros(shape=(sample_count))\n",
    "    generator = datagen.flow_from_directory(\n",
    "        directory,\n",
    "        target_size=(150, 150),\n",
    "        batch_size=batch_size,\n",
    "        class_mode='binary')\n",
    "    i=0\n",
    "    for inputs_batch, labels_batch in generator:\n",
    "        features_batch = conv_base.predict(inputs_batch) #feature map\n",
    "        features[i * batch_size : (i + 1) * batch_size] = features_batch\n",
    "        labels[i * batch_size : (i + 1) * batch_size] = labels_batch\n",
    "        i += 1\n",
    "        if i * batch_size >= sample_count:\n",
    "            break\n",
    "        return features, labels"
   ]
  },
  {
   "cell_type": "code",
   "execution_count": 5,
   "metadata": {},
   "outputs": [
    {
     "name": "stdout",
     "output_type": "stream",
     "text": [
      "Found 2000 images belonging to 2 classes.\n",
      "Found 1000 images belonging to 2 classes.\n",
      "Found 1000 images belonging to 2 classes.\n"
     ]
    }
   ],
   "source": [
    "train_features, train_labels = extract_features(train_dir, 2000)\n",
    "validation_features, validation_labels = extract_features(validation_dir, 1000)\n",
    "test_features, test_labels = extract_features(test_dir, 1000)\n",
    "train_features = np.reshape(train_features, (2000, 4*4* 512))\n",
    "validation_features = np.reshape(validation_features, (1000, 4*4* 512))\n",
    "test_features = np.reshape(test_features, (1000, 4*4* 512))"
   ]
  },
  {
   "cell_type": "markdown",
   "metadata": {},
   "source": [
    "# Defining and training the densely connected classifier"
   ]
  },
  {
   "cell_type": "code",
   "execution_count": 32,
   "metadata": {},
   "outputs": [],
   "source": [
    "from keras import models\n",
    "from keras import layers\n",
    "from keras import optimizers\n",
    "model = models.Sequential()\n",
    "model.add(layers.Dense(256, activation='relu', input_dim=4 * 4 * 512))\n",
    "model.add(layers.Dropout(0.5))\n",
    "model.add(layers.Dense(1, activation='sigmoid'))"
   ]
  },
  {
   "cell_type": "code",
   "execution_count": 33,
   "metadata": {},
   "outputs": [],
   "source": [
    "model.compile(optimizer=optimizers.RMSprop(lr=2e-5),\n",
    "              loss='binary_crossentropy',\n",
    "              metrics=['acc'])"
   ]
  },
  {
   "cell_type": "code",
   "execution_count": 34,
   "metadata": {},
   "outputs": [
    {
     "name": "stdout",
     "output_type": "stream",
     "text": [
      "Train on 2000 samples, validate on 1000 samples\n",
      "Epoch 1/30\n",
      "2000/2000 [==============================] - 4s 2ms/step - loss: 0.6894 - acc: 0.9980 - val_loss: 0.6865 - val_acc: 0.9930\n",
      "Epoch 2/30\n",
      "2000/2000 [==============================] - 4s 2ms/step - loss: 0.6816 - acc: 0.9975 - val_loss: 0.6801 - val_acc: 0.9930\n",
      "Epoch 3/30\n",
      "2000/2000 [==============================] - 4s 2ms/step - loss: 0.6754 - acc: 0.9970 - val_loss: 0.6729 - val_acc: 0.9930\n",
      "Epoch 4/30\n",
      "2000/2000 [==============================] - 4s 2ms/step - loss: 0.6645 - acc: 0.9975 - val_loss: 0.6668 - val_acc: 0.9930\n",
      "Epoch 5/30\n",
      "2000/2000 [==============================] - 4s 2ms/step - loss: 0.6574 - acc: 0.9970 - val_loss: 0.6581 - val_acc: 0.9930\n",
      "Epoch 6/30\n",
      "2000/2000 [==============================] - 4s 2ms/step - loss: 0.6484 - acc: 0.9975 - val_loss: 0.6481 - val_acc: 0.9930\n",
      "Epoch 7/30\n",
      "2000/2000 [==============================] - 4s 2ms/step - loss: 0.6393 - acc: 0.9975 - val_loss: 0.6398 - val_acc: 0.9930\n",
      "Epoch 8/30\n",
      "2000/2000 [==============================] - 4s 2ms/step - loss: 0.6290 - acc: 0.9975 - val_loss: 0.6291 - val_acc: 0.9930\n",
      "Epoch 9/30\n",
      "2000/2000 [==============================] - 4s 2ms/step - loss: 0.6172 - acc: 0.9995 - val_loss: 0.6209 - val_acc: 0.9930\n",
      "Epoch 10/30\n",
      "2000/2000 [==============================] - 4s 2ms/step - loss: 0.6079 - acc: 0.9985 - val_loss: 0.6112 - val_acc: 0.9930\n",
      "Epoch 11/30\n",
      "2000/2000 [==============================] - 4s 2ms/step - loss: 0.5993 - acc: 0.9985 - val_loss: 0.6019 - val_acc: 0.9930\n",
      "Epoch 12/30\n",
      "2000/2000 [==============================] - 4s 2ms/step - loss: 0.5884 - acc: 0.9980 - val_loss: 0.5894 - val_acc: 0.9930\n",
      "Epoch 13/30\n",
      "2000/2000 [==============================] - 4s 2ms/step - loss: 0.5759 - acc: 0.9995 - val_loss: 0.5801 - val_acc: 0.9930\n",
      "Epoch 14/30\n",
      "2000/2000 [==============================] - 4s 2ms/step - loss: 0.5655 - acc: 0.9990 - val_loss: 0.5697 - val_acc: 0.9930\n",
      "Epoch 15/30\n",
      "2000/2000 [==============================] - 4s 2ms/step - loss: 0.5547 - acc: 0.9985 - val_loss: 0.5608 - val_acc: 0.9930\n",
      "Epoch 16/30\n",
      "2000/2000 [==============================] - 4s 2ms/step - loss: 0.5426 - acc: 0.9995 - val_loss: 0.5487 - val_acc: 0.9930\n",
      "Epoch 17/30\n",
      "2000/2000 [==============================] - 4s 2ms/step - loss: 0.5308 - acc: 1.0000 - val_loss: 0.5389 - val_acc: 0.9930\n",
      "Epoch 18/30\n",
      "2000/2000 [==============================] - 4s 2ms/step - loss: 0.5202 - acc: 0.9995 - val_loss: 0.5284 - val_acc: 0.9930\n",
      "Epoch 19/30\n",
      "2000/2000 [==============================] - 4s 2ms/step - loss: 0.5074 - acc: 1.0000 - val_loss: 0.5162 - val_acc: 0.9930\n",
      "Epoch 20/30\n",
      "2000/2000 [==============================] - 4s 2ms/step - loss: 0.4972 - acc: 0.9995 - val_loss: 0.5050 - val_acc: 0.9930\n",
      "Epoch 21/30\n",
      "2000/2000 [==============================] - 4s 2ms/step - loss: 0.4848 - acc: 1.0000 - val_loss: 0.4916 - val_acc: 0.9930\n",
      "Epoch 22/30\n",
      "2000/2000 [==============================] - 4s 2ms/step - loss: 0.4734 - acc: 0.9995 - val_loss: 0.4829 - val_acc: 0.9930\n",
      "Epoch 23/30\n",
      "2000/2000 [==============================] - 4s 2ms/step - loss: 0.4606 - acc: 1.0000 - val_loss: 0.4681 - val_acc: 0.9930\n",
      "Epoch 24/30\n",
      "2000/2000 [==============================] - 4s 2ms/step - loss: 0.4487 - acc: 1.0000 - val_loss: 0.4591 - val_acc: 0.9930\n",
      "Epoch 25/30\n",
      "2000/2000 [==============================] - 4s 2ms/step - loss: 0.4371 - acc: 1.0000 - val_loss: 0.4459 - val_acc: 0.9930\n",
      "Epoch 26/30\n",
      "2000/2000 [==============================] - 4s 2ms/step - loss: 0.4238 - acc: 1.0000 - val_loss: 0.4351 - val_acc: 0.9930\n",
      "Epoch 27/30\n",
      "2000/2000 [==============================] - 4s 2ms/step - loss: 0.4122 - acc: 1.0000 - val_loss: 0.4256 - val_acc: 0.9930\n",
      "Epoch 28/30\n",
      "2000/2000 [==============================] - 4s 2ms/step - loss: 0.3999 - acc: 1.0000 - val_loss: 0.4143 - val_acc: 0.9930\n",
      "Epoch 29/30\n",
      "2000/2000 [==============================] - 4s 2ms/step - loss: 0.3884 - acc: 1.0000 - val_loss: 0.4021 - val_acc: 0.9930\n",
      "Epoch 30/30\n",
      "2000/2000 [==============================] - 4s 2ms/step - loss: 0.3750 - acc: 1.0000 - val_loss: 0.3904 - val_acc: 0.9930\n"
     ]
    }
   ],
   "source": [
    "history = model.fit(train_features, train_labels,\n",
    "                    epochs=30,\n",
    "                    batch_size=20,\n",
    "                    validation_data=(validation_features, validation_labels))"
   ]
  },
  {
   "cell_type": "markdown",
   "metadata": {},
   "source": [
    "# Plotting the results"
   ]
  },
  {
   "cell_type": "code",
   "execution_count": 35,
   "metadata": {},
   "outputs": [
    {
     "data": {
      "image/png": "[encoded data removed]",
      "text/plain": [
       "<Figure size 432x288 with 1 Axes>"
      ]
     },
     "metadata": {
      "needs_background": "light"
     },
     "output_type": "display_data"
    },
    {
     "data": {
      "image/png": "[encoded data removed]",
      "text/plain": [
       "<Figure size 432x288 with 1 Axes>"
      ]
     },
     "metadata": {
      "needs_background": "light"
     },
     "output_type": "display_data"
    }
   ],
   "source": [
    "import matplotlib.pyplot as plt\n",
    "acc = history.history['acc']\n",
    "val_acc = history.history['val_acc']\n",
    "loss = history.history['loss']\n",
    "val_loss = history.history['val_loss']\n",
    "epochs = range(1, len(acc) + 1)\n",
    "plt.plot(epochs, acc, 'bo', label='Training acc')\n",
    "plt.plot(epochs, val_acc, 'b', label='Validation acc')\n",
    "plt.title('Training and validation accuracy')\n",
    "plt.legend()\n",
    "plt.figure()\n",
    "plt.plot(epochs, loss, 'bo', label='Training loss')\n",
    "plt.plot(epochs, val_loss, 'b', label='Validation loss')\n",
    "plt.title('Training and validation loss')\n",
    "plt.legend()\n",
    "plt.show()"
   ]
  },
  {
   "cell_type": "markdown",
   "metadata": {},
   "source": [
    "# FEATURE EXTRACTION WITH DATA AUGMENTATION\n",
    "##### Adding a densely connected classifier on top of the convolutional base\n"
   ]
  },
  {
   "cell_type": "code",
   "execution_count": 36,
   "metadata": {},
   "outputs": [],
   "source": [
    "from keras import models\n",
    "from keras import layers\n",
    "model = models.Sequential()\n",
    "model.add(conv_base)\n",
    "model.add(layers.Flatten())\n",
    "model.add(layers.Dense(256, activation='relu'))\n",
    "model.add(layers.Dense(1, activation='sigmoid'))"
   ]
  },
  {
   "cell_type": "code",
   "execution_count": 37,
   "metadata": {},
   "outputs": [
    {
     "name": "stdout",
     "output_type": "stream",
     "text": [
      "Model: \"sequential_9\"\n",
      "_________________________________________________________________\n",
      "Layer (type)                 Output Shape              Param #   \n",
      "=================================================================\n",
      "vgg16 (Model)                (None, 4, 4, 512)         14714688  \n",
      "_________________________________________________________________\n",
      "flatten_2 (Flatten)          (None, 8192)              0         \n",
      "_________________________________________________________________\n",
      "dense_22 (Dense)             (None, 256)               2097408   \n",
      "_________________________________________________________________\n",
      "dense_23 (Dense)             (None, 1)                 257       \n",
      "=================================================================\n",
      "Total params: 16,812,353\n",
      "Trainable params: 2,097,665\n",
      "Non-trainable params: 14,714,688\n",
      "_________________________________________________________________\n"
     ]
    }
   ],
   "source": [
    "model.summary()"
   ]
  },
  {
   "cell_type": "code",
   "execution_count": 38,
   "metadata": {},
   "outputs": [
    {
     "name": "stdout",
     "output_type": "stream",
     "text": [
      "This is the number of trainable weights before freezing the conv base: 4\n",
      "This is the number of trainable weights after freezing the conv base: 4\n"
     ]
    }
   ],
   "source": [
    "print('This is the number of trainable weights before freezing the conv base:', len(model.trainable_weights))\n",
    "conv_base.trainable = False\n",
    "print('This is the number of trainable weights after freezing the conv base:', len(model.trainable_weights))"
   ]
  },
  {
   "cell_type": "markdown",
   "metadata": {},
   "source": [
    "# Training the model end to end with a frozen convolutional base\n"
   ]
  },
  {
   "cell_type": "code",
   "execution_count": 39,
   "metadata": {},
   "outputs": [
    {
     "name": "stdout",
     "output_type": "stream",
     "text": [
      "Found 2000 images belonging to 2 classes.\n",
      "Found 1000 images belonging to 2 classes.\n"
     ]
    }
   ],
   "source": [
    "from keras.preprocessing.image import ImageDataGenerator\n",
    "from keras import optimizers\n",
    "train_datagen = ImageDataGenerator(\n",
    "        rescale=1./255,\n",
    "        rotation_range=40,\n",
    "        width_shift_range=0.2,\n",
    "        height_shift_range=0.2,\n",
    "        shear_range=0.2,\n",
    "        zoom_range=0.2,\n",
    "        horizontal_flip=True,\n",
    "        fill_mode='nearest')\n",
    "test_datagen = ImageDataGenerator(rescale=1./255)\n",
    "train_generator = train_datagen.flow_from_directory(\n",
    "        train_dir,\n",
    "        target_size=(150, 150),\n",
    "        batch_size=20,\n",
    "        class_mode='binary')\n",
    "validation_generator = test_datagen.flow_from_directory(\n",
    "            validation_dir,\n",
    "            target_size=(150, 150),\n",
    "            batch_size=20,\n",
    "            class_mode='binary')"
   ]
  },
  {
   "cell_type": "code",
   "execution_count": 40,
   "metadata": {},
   "outputs": [],
   "source": [
    "model.compile(loss='binary_crossentropy',\n",
    "            optimizer=optimizers.RMSprop(lr=2e-5),\n",
    "            metrics=['acc'])"
   ]
  },
  {
   "cell_type": "code",
   "execution_count": 41,
   "metadata": {},
   "outputs": [
    {
     "name": "stdout",
     "output_type": "stream",
     "text": [
      "Epoch 1/30\n",
      "100/100 [==============================] - 283s 3s/step - loss: 0.6031 - acc: 0.6960 - val_loss: 0.4767 - val_acc: 0.8000\n",
      "Epoch 2/30\n",
      "100/100 [==============================] - 292s 3s/step - loss: 0.4979 - acc: 0.7805 - val_loss: 0.3528 - val_acc: 0.8420\n",
      "Epoch 3/30\n",
      "100/100 [==============================] - 283s 3s/step - loss: 0.4528 - acc: 0.7850 - val_loss: 0.3188 - val_acc: 0.8710\n",
      "Epoch 4/30\n",
      "100/100 [==============================] - 283s 3s/step - loss: 0.4174 - acc: 0.8115 - val_loss: 0.3554 - val_acc: 0.8780\n",
      "Epoch 5/30\n",
      "100/100 [==============================] - 286s 3s/step - loss: 0.3923 - acc: 0.8300 - val_loss: 0.1599 - val_acc: 0.8760\n",
      "Epoch 6/30\n",
      "100/100 [==============================] - 294s 3s/step - loss: 0.3799 - acc: 0.8300 - val_loss: 0.3521 - val_acc: 0.8870\n",
      "Epoch 7/30\n",
      "100/100 [==============================] - 308s 3s/step - loss: 0.3630 - acc: 0.8495 - val_loss: 0.1867 - val_acc: 0.8870\n",
      "Epoch 8/30\n",
      "100/100 [==============================] - 298s 3s/step - loss: 0.3501 - acc: 0.8465 - val_loss: 0.2034 - val_acc: 0.8940\n",
      "Epoch 9/30\n",
      "100/100 [==============================] - 294s 3s/step - loss: 0.3394 - acc: 0.8530 - val_loss: 0.4291 - val_acc: 0.8870\n",
      "Epoch 10/30\n",
      "100/100 [==============================] - 293s 3s/step - loss: 0.3302 - acc: 0.8605 - val_loss: 0.2187 - val_acc: 0.8910\n",
      "Epoch 11/30\n",
      "100/100 [==============================] - 294s 3s/step - loss: 0.3334 - acc: 0.8495 - val_loss: 0.3657 - val_acc: 0.9020\n",
      "Epoch 12/30\n",
      "100/100 [==============================] - 302s 3s/step - loss: 0.3157 - acc: 0.8680 - val_loss: 0.2511 - val_acc: 0.8920\n",
      "Epoch 13/30\n",
      "100/100 [==============================] - 282s 3s/step - loss: 0.3278 - acc: 0.8595 - val_loss: 0.0974 - val_acc: 0.9000\n",
      "Epoch 14/30\n",
      "100/100 [==============================] - 280s 3s/step - loss: 0.3179 - acc: 0.8575 - val_loss: 0.3249 - val_acc: 0.9020\n",
      "Epoch 15/30\n",
      "100/100 [==============================] - 278s 3s/step - loss: 0.3103 - acc: 0.8650 - val_loss: 0.1955 - val_acc: 0.8890\n",
      "Epoch 16/30\n",
      "100/100 [==============================] - 285s 3s/step - loss: 0.3120 - acc: 0.8690 - val_loss: 0.3487 - val_acc: 0.9010\n",
      "Epoch 17/30\n",
      "100/100 [==============================] - 299s 3s/step - loss: 0.3139 - acc: 0.8680 - val_loss: 0.1998 - val_acc: 0.8990\n",
      "Epoch 18/30\n",
      "100/100 [==============================] - 285s 3s/step - loss: 0.3151 - acc: 0.8620 - val_loss: 0.1925 - val_acc: 0.8990\n",
      "Epoch 19/30\n",
      "100/100 [==============================] - 285s 3s/step - loss: 0.3079 - acc: 0.8630 - val_loss: 0.1653 - val_acc: 0.9010\n",
      "Epoch 20/30\n",
      "100/100 [==============================] - 284s 3s/step - loss: 0.2967 - acc: 0.8725 - val_loss: 0.2405 - val_acc: 0.9010\n",
      "Epoch 21/30\n",
      "100/100 [==============================] - 286s 3s/step - loss: 0.3083 - acc: 0.8635 - val_loss: 0.3064 - val_acc: 0.8970\n",
      "Epoch 22/30\n",
      "100/100 [==============================] - 327s 3s/step - loss: 0.3050 - acc: 0.8620 - val_loss: 0.6448 - val_acc: 0.9040\n",
      "Epoch 23/30\n",
      "100/100 [==============================] - 286s 3s/step - loss: 0.2871 - acc: 0.8765 - val_loss: 0.2361 - val_acc: 0.9030\n",
      "Epoch 24/30\n",
      "100/100 [==============================] - 284s 3s/step - loss: 0.2886 - acc: 0.8785 - val_loss: 0.0524 - val_acc: 0.9020\n",
      "Epoch 25/30\n",
      "100/100 [==============================] - 287s 3s/step - loss: 0.2898 - acc: 0.8735 - val_loss: 0.2041 - val_acc: 0.9050\n",
      "Epoch 26/30\n",
      "100/100 [==============================] - 288s 3s/step - loss: 0.2902 - acc: 0.8745 - val_loss: 0.1061 - val_acc: 0.9000\n",
      "Epoch 27/30\n",
      "100/100 [==============================] - 284s 3s/step - loss: 0.2767 - acc: 0.8785 - val_loss: 0.2466 - val_acc: 0.9040\n",
      "Epoch 28/30\n",
      "100/100 [==============================] - 287s 3s/step - loss: 0.2843 - acc: 0.8755 - val_loss: 0.4384 - val_acc: 0.9030\n",
      "Epoch 29/30\n",
      "100/100 [==============================] - 288s 3s/step - loss: 0.2763 - acc: 0.8805 - val_loss: 0.1107 - val_acc: 0.9060\n",
      "Epoch 30/30\n",
      "100/100 [==============================] - 293s 3s/step - loss: 0.2770 - acc: 0.8790 - val_loss: 0.1589 - val_acc: 0.9070\n"
     ]
    }
   ],
   "source": [
    "history = model.fit_generator(train_generator,steps_per_epoch=100,epochs=30,validation_data=validation_generator,validation_steps=50)"
   ]
  },
  {
   "cell_type": "markdown",
   "metadata": {},
   "source": [
    "# Displaying curves of loss and accuracy during training"
   ]
  },
  {
   "cell_type": "code",
   "execution_count": 42,
   "metadata": {},
   "outputs": [
    {
     "data": {
      "text/plain": [
       "<matplotlib.legend.Legend at 0x19216b97780>"
      ]
     },
     "execution_count": 42,
     "metadata": {},
     "output_type": "execute_result"
    },
    {
     "data": {
      "image/png": "[encoded data removed]",
      "text/plain": [
       "<Figure size 432x288 with 1 Axes>"
      ]
     },
     "metadata": {
      "needs_background": "light"
     },
     "output_type": "display_data"
    },
    {
     "data": {
      "image/png": "[encoded data removed]",
      "text/plain": [
       "<Figure size 432x288 with 1 Axes>"
      ]
     },
     "metadata": {
      "needs_background": "light"
     },
     "output_type": "display_data"
    }
   ],
   "source": [
    "import matplotlib.pyplot as plt\n",
    "acc = history.history['acc']\n",
    "val_acc = history.history['val_acc']\n",
    "loss = history.history['loss']\n",
    "val_loss = history.history['val_loss']\n",
    "epochs = range(1, len(acc) + 1)\n",
    "plt.plot(epochs, acc, 'bo', label='Training acc')\n",
    "plt.plot(epochs, val_acc, 'b', label='Validation acc')\n",
    "plt.title('Training and validation accuracy')\n",
    "plt.legend()\n",
    "plt.figure()\n",
    "plt.plot(epochs, loss, 'bo', label='Training loss')\n",
    "plt.plot(epochs, val_loss, 'b', label='Validation loss')\n",
    "plt.title('Training and validation loss')\n",
    "plt.legend()"
   ]
  },
  {
   "cell_type": "code",
   "execution_count": 43,
   "metadata": {},
   "outputs": [],
   "source": [
    "model.save(\"Cat_N_Dog_Pretrained.h5\")"
   ]
  },
  {
   "cell_type": "code",
   "execution_count": null,
   "metadata": {},
   "outputs": [],
   "source": []
  }
 ],
 "metadata": {
  "kernelspec": {
   "display_name": "Python 3",
   "language": "python",
   "name": "python3"
  },
  "language_info": {
   "codemirror_mode": {
    "name": "ipython",
    "version": 3
   },
   "file_extension": ".py",
   "mimetype": "text/x-python",
   "name": "python",
   "nbconvert_exporter": "python",
   "pygments_lexer": "ipython3",
   "version": "3.7.3"
  }
 },
 "nbformat": 4,
 "nbformat_minor": 2
}
