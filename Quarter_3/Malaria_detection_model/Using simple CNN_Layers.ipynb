{
 "cells": [
  {
   "cell_type": "code",
   "execution_count": 1,
   "metadata": {},
   "outputs": [],
   "source": [
    "from PIL import Image\n",
    "import numpy as np\n",
    "import os, shutil"
   ]
  },
  {
   "cell_type": "markdown",
   "metadata": {},
   "source": [
    "# Making Directories for Working"
   ]
  },
  {
   "cell_type": "code",
   "execution_count": 2,
   "metadata": {},
   "outputs": [],
   "source": [
    "original_dataset_dir = 'C:/Users/REHMAN COMPUTER/Desktop/Internship/irfan bhai_work/cell-images-for-detecting-malaria/cell_images'\n",
    "base_dir = \"D:/c/Desktop/PIAIC/Artificial Intelligent/3rd Quarter/deep learning/sir nasir/Complte chptrs 5 material/working_Malaria_Dataset\"\n",
    "os.mkdir(base_dir)\n",
    "train_dir = os.path.join(base_dir, 'train') \n",
    "os.mkdir(train_dir)\n",
    "validation_dir = os.path.join(base_dir, 'validation') \n",
    "os.mkdir(validation_dir) \n",
    "test_dir = os.path.join(base_dir, 'test')\n",
    "os.mkdir(test_dir)"
   ]
  },
  {
   "cell_type": "code",
   "execution_count": 3,
   "metadata": {},
   "outputs": [],
   "source": [
    "train_parasitized_dir = os.path.join(train_dir, 'parasitized')\n",
    "os.mkdir(train_parasitized_dir)\n",
    "train_uninfected_dir = os.path.join(train_dir, 'uninfected')\n",
    "os.mkdir(train_uninfected_dir)\n",
    "validation_parasitized_dir = os.path.join(validation_dir, 'parasitized') #Directory with \n",
    "os.mkdir(validation_parasitized_dir) #validation cat pictures\n",
    "validation_uninfected_dir = os.path.join(validation_dir, 'uninfected') #Directory with \n",
    "os.mkdir(validation_uninfected_dir) #validation dog pictures\n",
    "test_parasitized_dir = os.path.join(test_dir, 'parasitized')\n",
    "#Directory with test cat pictures\n",
    "os.mkdir(test_parasitized_dir)\n",
    "test_uninfected_dir = os.path.join(test_dir, 'uninfected')\n",
    "os.mkdir(test_uninfected_dir)"
   ]
  },
  {
   "cell_type": "markdown",
   "metadata": {},
   "source": [
    "# Checking length of Original Dataset"
   ]
  },
  {
   "cell_type": "code",
   "execution_count": 4,
   "metadata": {},
   "outputs": [
    {
     "data": {
      "text/plain": [
       "13780"
      ]
     },
     "execution_count": 4,
     "metadata": {},
     "output_type": "execute_result"
    }
   ],
   "source": [
    "len(os.listdir(\"C:/Users/REHMAN COMPUTER/Desktop/Internship/irfan bhai_work/cell-images-for-detecting-malaria/cell_images/uninfected\"))"
   ]
  },
  {
   "cell_type": "markdown",
   "metadata": {},
   "source": [
    "# Tranfering data from Original to Working Directory"
   ]
  },
  {
   "cell_type": "code",
   "execution_count": 5,
   "metadata": {},
   "outputs": [],
   "source": [
    "fnames=os.listdir(\"C:/Users/REHMAN COMPUTER/Desktop/Internship/irfan bhai_work/cell-images-for-detecting-malaria/cell_images/parasitized\")\n",
    "train=fnames[:1000]\n",
    "validate=fnames[1000:1500]\n",
    "test=fnames[1500:2000]"
   ]
  },
  {
   "cell_type": "code",
   "execution_count": 6,
   "metadata": {},
   "outputs": [],
   "source": [
    "original_dataset_dir = 'C:/Users/REHMAN COMPUTER/Desktop/Internship/irfan bhai_work/cell-images-for-detecting-malaria/cell_images/parasitized'\n",
    "fnames = ['{}'.format(i) for i in train]\n",
    "for fname in fnames:#Copies the first \n",
    "    src = os.path.join(original_dataset_dir, fname)#000 cat images to train_cats_dir\n",
    "    dst = os.path.join(train_parasitized_dir, fname) \n",
    "    shutil.copyfile(src, dst)\n"
   ]
  },
  {
   "cell_type": "code",
   "execution_count": 8,
   "metadata": {},
   "outputs": [],
   "source": [
    "fnames = ['{}'.format(i) for i in validate]\n",
    "for fname in fnames:#Copies the first \n",
    "    src = os.path.join(original_dataset_dir, fname)#000 cat images to train_cats_dir\n",
    "    dst = os.path.join(validation_parasitized_dir, fname) \n",
    "    shutil.copyfile(src, dst)"
   ]
  },
  {
   "cell_type": "code",
   "execution_count": 10,
   "metadata": {},
   "outputs": [],
   "source": [
    "fnames = ['{}'.format(i) for i in test]\n",
    "for fname in fnames:#Copies the first \n",
    "    src = os.path.join(original_dataset_dir, fname)#000 cat images to train_cats_dir\n",
    "    dst = os.path.join(test_parasitized_dir, fname) \n",
    "    shutil.copyfile(src, dst)"
   ]
  },
  {
   "cell_type": "code",
   "execution_count": 11,
   "metadata": {},
   "outputs": [],
   "source": [
    "fnames=os.listdir(\"C:/Users/REHMAN COMPUTER/Desktop/Internship/irfan bhai_work/cell-images-for-detecting-malaria/cell_images/uninfected\")\n",
    "train=fnames[:1000]\n",
    "validate=fnames[1000:1500]\n",
    "test=fnames[1500:2000]"
   ]
  },
  {
   "cell_type": "code",
   "execution_count": 12,
   "metadata": {},
   "outputs": [],
   "source": [
    "original_dataset_dir = 'C:/Users/REHMAN COMPUTER/Desktop/Internship/irfan bhai_work/cell-images-for-detecting-malaria/cell_images/uninfected'\n",
    "fnames = ['{}'.format(i) for i in train]\n",
    "for fname in fnames:#Copies the first \n",
    "    src = os.path.join(original_dataset_dir, fname)#000 cat images to train_cats_dir\n",
    "    dst = os.path.join(train_uninfected_dir, fname) \n",
    "    shutil.copyfile(src, dst)\n"
   ]
  },
  {
   "cell_type": "code",
   "execution_count": 13,
   "metadata": {},
   "outputs": [],
   "source": [
    "fnames = ['{}'.format(i) for i in validate]\n",
    "for fname in fnames:#Copies the first \n",
    "    src = os.path.join(original_dataset_dir, fname)#000 cat images to train_cats_dir\n",
    "    dst = os.path.join(validation_uninfected_dir, fname) \n",
    "    shutil.copyfile(src, dst)"
   ]
  },
  {
   "cell_type": "code",
   "execution_count": 14,
   "metadata": {},
   "outputs": [],
   "source": [
    "fnames = ['{}'.format(i) for i in test]\n",
    "for fname in fnames:#Copies the first \n",
    "    src = os.path.join(original_dataset_dir, fname)#000 cat images to train_cats_dir\n",
    "    dst = os.path.join(test_uninfected_dir, fname) \n",
    "    shutil.copyfile(src, dst)"
   ]
  },
  {
   "cell_type": "code",
   "execution_count": 15,
   "metadata": {},
   "outputs": [
    {
     "name": "stdout",
     "output_type": "stream",
     "text": [
      "total training cat images: 1000\n",
      "total training dog images: 1000\n",
      "total validation cat images: 500\n",
      "total validation dog images: 500\n",
      "total test cat images: 1000\n",
      "total test dog images: 500\n"
     ]
    }
   ],
   "source": [
    "print('total training cat images:', len(os.listdir(train_parasitized_dir)))\n",
    "\n",
    "print('total training dog images:', len(os.listdir(train_uninfected_dir)))\n",
    "\n",
    "print('total validation cat images:', len(os.listdir(validation_parasitized_dir)))\n",
    "\n",
    "print('total validation dog images:', len(os.listdir(validation_uninfected_dir)))\n",
    "\n",
    "print('total test cat images:', len(os.listdir(test_parasitized_dir)))\n",
    "\n",
    "print('total test dog images:', len(os.listdir(test_uninfected_dir)))"
   ]
  },
  {
   "cell_type": "markdown",
   "metadata": {},
   "source": [
    "# Building your network"
   ]
  },
  {
   "cell_type": "code",
   "execution_count": 24,
   "metadata": {},
   "outputs": [],
   "source": [
    "from keras import layers\n",
    "from keras import models\n",
    "model = models.Sequential()\n",
    "model.add(layers.Conv2D(32, (3, 3), activation='relu',\n",
    "input_shape=(150, 150, 3)))\n",
    "model.add(layers.MaxPooling2D((2, 2)))\n",
    "model.add(layers.Conv2D(64, (3, 3), activation='relu'))\n",
    "model.add(layers.MaxPooling2D((2, 2)))\n",
    "model.add(layers.Conv2D(128, (3, 3), activation='relu'))\n",
    "model.add(layers.MaxPooling2D((2, 2)))\n",
    "model.add(layers.Conv2D(128, (3, 3), activation='relu'))\n",
    "model.add(layers.MaxPooling2D((2, 2)))\n",
    "# Dense Classifier\n",
    "model.add(layers.Flatten())\n",
    "model.add(layers.Dropout(0.5))\n",
    "model.add(layers.Dense(512, activation='relu'))\n",
    "model.add(layers.Dense(1, activation='sigmoid'))"
   ]
  },
  {
   "cell_type": "code",
   "execution_count": 25,
   "metadata": {},
   "outputs": [
    {
     "name": "stdout",
     "output_type": "stream",
     "text": [
      "Model: \"sequential_2\"\n",
      "_________________________________________________________________\n",
      "Layer (type)                 Output Shape              Param #   \n",
      "=================================================================\n",
      "conv2d_5 (Conv2D)            (None, 148, 148, 32)      896       \n",
      "_________________________________________________________________\n",
      "max_pooling2d_5 (MaxPooling2 (None, 74, 74, 32)        0         \n",
      "_________________________________________________________________\n",
      "conv2d_6 (Conv2D)            (None, 72, 72, 64)        18496     \n",
      "_________________________________________________________________\n",
      "max_pooling2d_6 (MaxPooling2 (None, 36, 36, 64)        0         \n",
      "_________________________________________________________________\n",
      "conv2d_7 (Conv2D)            (None, 34, 34, 128)       73856     \n",
      "_________________________________________________________________\n",
      "max_pooling2d_7 (MaxPooling2 (None, 17, 17, 128)       0         \n",
      "_________________________________________________________________\n",
      "conv2d_8 (Conv2D)            (None, 15, 15, 128)       147584    \n",
      "_________________________________________________________________\n",
      "max_pooling2d_8 (MaxPooling2 (None, 7, 7, 128)         0         \n",
      "_________________________________________________________________\n",
      "flatten_2 (Flatten)          (None, 6272)              0         \n",
      "_________________________________________________________________\n",
      "dropout_1 (Dropout)          (None, 6272)              0         \n",
      "_________________________________________________________________\n",
      "dense_3 (Dense)              (None, 512)               3211776   \n",
      "_________________________________________________________________\n",
      "dense_4 (Dense)              (None, 1)                 513       \n",
      "=================================================================\n",
      "Total params: 3,453,121\n",
      "Trainable params: 3,453,121\n",
      "Non-trainable params: 0\n",
      "_________________________________________________________________\n"
     ]
    }
   ],
   "source": [
    "model.summary()"
   ]
  },
  {
   "cell_type": "markdown",
   "metadata": {},
   "source": [
    "# Configuring the model for training"
   ]
  },
  {
   "cell_type": "code",
   "execution_count": 26,
   "metadata": {},
   "outputs": [],
   "source": [
    "from keras import optimizers\n",
    "model.compile(loss='binary_crossentropy',\n",
    "optimizer=optimizers.RMSprop(lr=1e-4),\n",
    "metrics=['acc'])"
   ]
  },
  {
   "cell_type": "markdown",
   "metadata": {},
   "source": [
    "# Data preprocessing"
   ]
  },
  {
   "cell_type": "code",
   "execution_count": 27,
   "metadata": {},
   "outputs": [
    {
     "name": "stdout",
     "output_type": "stream",
     "text": [
      "Found 2000 images belonging to 2 classes.\n",
      "Found 1000 images belonging to 2 classes.\n"
     ]
    }
   ],
   "source": [
    "from keras.preprocessing.image import ImageDataGenerator\n",
    "train_datagen = ImageDataGenerator(rescale=1./255)\n",
    "test_datagen = ImageDataGenerator(rescale=1./255)\n",
    "train_generator = train_datagen.flow_from_directory(train_dir,\n",
    "                                                    target_size=(150, 150),\n",
    "                                                    batch_size=20,\n",
    "                                                    class_mode='binary')\n",
    "validation_generator = test_datagen.flow_from_directory(validation_dir,\n",
    "                                                        target_size=(150, 150),\n",
    "                                                        batch_size=20,\n",
    "                                                        class_mode='binary')"
   ]
  },
  {
   "cell_type": "code",
   "execution_count": 28,
   "metadata": {},
   "outputs": [
    {
     "name": "stdout",
     "output_type": "stream",
     "text": [
      "data batch shape: (20, 150, 150, 3)\n",
      "labels batch shape: (20,)\n"
     ]
    }
   ],
   "source": [
    "for data_batch, labels_batch in train_generator:\n",
    "    print('data batch shape:', data_batch.shape)\n",
    "    print('labels batch shape:', labels_batch.shape) \n",
    "    break"
   ]
  },
  {
   "cell_type": "markdown",
   "metadata": {},
   "source": [
    "# Fitting the model using a batch generator"
   ]
  },
  {
   "cell_type": "code",
   "execution_count": 29,
   "metadata": {},
   "outputs": [
    {
     "name": "stdout",
     "output_type": "stream",
     "text": [
      "Epoch 1/30\n",
      "100/100 [==============================] - 69s 692ms/step - loss: 0.6470 - acc: 0.6140 - val_loss: 0.7147 - val_acc: 0.7450\n",
      "Epoch 2/30\n",
      "100/100 [==============================] - 70s 703ms/step - loss: 0.5519 - acc: 0.7305 - val_loss: 0.6439 - val_acc: 0.7800\n",
      "Epoch 3/30\n",
      "100/100 [==============================] - 69s 686ms/step - loss: 0.5033 - acc: 0.7765 - val_loss: 0.4354 - val_acc: 0.7570\n",
      "Epoch 4/30\n",
      "100/100 [==============================] - 67s 671ms/step - loss: 0.4585 - acc: 0.8025 - val_loss: 0.4341 - val_acc: 0.7810\n",
      "Epoch 5/30\n",
      "100/100 [==============================] - 67s 671ms/step - loss: 0.4169 - acc: 0.8195 - val_loss: 0.3501 - val_acc: 0.8070\n",
      "Epoch 6/30\n",
      "100/100 [==============================] - 64s 643ms/step - loss: 0.3632 - acc: 0.8510 - val_loss: 0.3865 - val_acc: 0.8170\n",
      "Epoch 7/30\n",
      "100/100 [==============================] - 64s 640ms/step - loss: 0.3048 - acc: 0.8800 - val_loss: 0.4826 - val_acc: 0.8580\n",
      "Epoch 8/30\n",
      "100/100 [==============================] - 64s 636ms/step - loss: 0.2648 - acc: 0.8955 - val_loss: 0.3948 - val_acc: 0.8690\n",
      "Epoch 9/30\n",
      "100/100 [==============================] - 64s 640ms/step - loss: 0.2389 - acc: 0.9025 - val_loss: 0.2705 - val_acc: 0.8950\n",
      "Epoch 10/30\n",
      "100/100 [==============================] - 64s 641ms/step - loss: 0.2113 - acc: 0.9130 - val_loss: 0.1866 - val_acc: 0.8790\n",
      "Epoch 11/30\n",
      "100/100 [==============================] - 64s 639ms/step - loss: 0.1969 - acc: 0.9215 - val_loss: 0.3581 - val_acc: 0.8970\n",
      "Epoch 12/30\n",
      "100/100 [==============================] - 64s 641ms/step - loss: 0.1807 - acc: 0.9315 - val_loss: 0.2303 - val_acc: 0.8760\n",
      "Epoch 13/30\n",
      "100/100 [==============================] - 64s 637ms/step - loss: 0.1717 - acc: 0.9310 - val_loss: 0.2310 - val_acc: 0.9140\n",
      "Epoch 14/30\n",
      "100/100 [==============================] - 64s 641ms/step - loss: 0.1639 - acc: 0.9345 - val_loss: 0.0690 - val_acc: 0.9110\n",
      "Epoch 15/30\n",
      "100/100 [==============================] - 64s 641ms/step - loss: 0.1568 - acc: 0.9380 - val_loss: 0.2615 - val_acc: 0.9340\n",
      "Epoch 16/30\n",
      "100/100 [==============================] - 64s 640ms/step - loss: 0.1580 - acc: 0.9370 - val_loss: 0.7299 - val_acc: 0.9130\n",
      "Epoch 17/30\n",
      "100/100 [==============================] - 64s 637ms/step - loss: 0.1485 - acc: 0.9440 - val_loss: 0.1395 - val_acc: 0.9380\n",
      "Epoch 18/30\n",
      "100/100 [==============================] - 66s 658ms/step - loss: 0.1411 - acc: 0.9470 - val_loss: 1.0975 - val_acc: 0.9300\n",
      "Epoch 19/30\n",
      "100/100 [==============================] - 64s 640ms/step - loss: 0.1387 - acc: 0.9465 - val_loss: 0.1102 - val_acc: 0.9370\n",
      "Epoch 20/30\n",
      "100/100 [==============================] - 64s 637ms/step - loss: 0.1328 - acc: 0.9495 - val_loss: 0.0902 - val_acc: 0.9430\n",
      "Epoch 21/30\n",
      "100/100 [==============================] - 64s 641ms/step - loss: 0.1311 - acc: 0.9505 - val_loss: 0.1165 - val_acc: 0.9370\n",
      "Epoch 22/30\n",
      "100/100 [==============================] - 64s 638ms/step - loss: 0.1246 - acc: 0.9540 - val_loss: 0.3169 - val_acc: 0.9340\n",
      "Epoch 23/30\n",
      "100/100 [==============================] - 64s 638ms/step - loss: 0.1199 - acc: 0.9505 - val_loss: 0.5165 - val_acc: 0.9080\n",
      "Epoch 24/30\n",
      "100/100 [==============================] - 64s 645ms/step - loss: 0.1202 - acc: 0.9535 - val_loss: 0.3295 - val_acc: 0.9420\n",
      "Epoch 25/30\n",
      "100/100 [==============================] - 64s 643ms/step - loss: 0.1123 - acc: 0.9595 - val_loss: 0.8753 - val_acc: 0.9380\n",
      "Epoch 26/30\n",
      "100/100 [==============================] - 64s 642ms/step - loss: 0.1047 - acc: 0.9595 - val_loss: 0.0613 - val_acc: 0.9380\n",
      "Epoch 27/30\n",
      "100/100 [==============================] - 65s 648ms/step - loss: 0.1013 - acc: 0.9655 - val_loss: 0.1019 - val_acc: 0.9420\n",
      "Epoch 28/30\n",
      "100/100 [==============================] - 65s 652ms/step - loss: 0.0977 - acc: 0.9605 - val_loss: 0.0566 - val_acc: 0.9100\n",
      "Epoch 29/30\n",
      "100/100 [==============================] - 65s 647ms/step - loss: 0.1016 - acc: 0.9600 - val_loss: 0.0784 - val_acc: 0.9280\n",
      "Epoch 30/30\n",
      "100/100 [==============================] - 67s 666ms/step - loss: 0.0949 - acc: 0.9655 - val_loss: 0.0468 - val_acc: 0.9300\n"
     ]
    }
   ],
   "source": [
    "history = model.fit_generator(train_generator,steps_per_epoch=100,\n",
    "                              epochs=30,validation_data=validation_generator,\n",
    "                              validation_steps=50)"
   ]
  },
  {
   "cell_type": "code",
   "execution_count": 30,
   "metadata": {},
   "outputs": [
    {
     "data": {
      "text/plain": [
       "<matplotlib.legend.Legend at 0x29282578eb8>"
      ]
     },
     "execution_count": 30,
     "metadata": {},
     "output_type": "execute_result"
    },
    {
     "data": {
      "image/png": "[encoded data removed]",
      "text/plain": [
       "<Figure size 432x288 with 1 Axes>"
      ]
     },
     "metadata": {
      "needs_background": "light"
     },
     "output_type": "display_data"
    },
    {
     "data": {
      "image/png": "[encoded data removed]",
      "text/plain": [
       "<Figure size 432x288 with 1 Axes>"
      ]
     },
     "metadata": {
      "needs_background": "light"
     },
     "output_type": "display_data"
    }
   ],
   "source": [
    "import matplotlib.pyplot as plt\n",
    "acc = history.history['acc']\n",
    "val_acc = history.history['val_acc']\n",
    "loss = history.history['loss']\n",
    "val_loss = history.history['val_loss']\n",
    "epochs = range(1, len(acc) + 1)\n",
    "plt.plot(epochs, acc, 'bo', label='Training acc')\n",
    "plt.plot(epochs, val_acc, 'b', label='Validation acc')\n",
    "plt.title('Training and validation accuracy')\n",
    "plt.legend()\n",
    "plt.figure()\n",
    "plt.plot(epochs, loss, 'bo', label='Training loss')\n",
    "plt.plot(epochs, val_loss, 'b', label='Validation loss')\n",
    "plt.title('Training and validation loss')\n",
    "plt.legend()"
   ]
  },
  {
   "cell_type": "markdown",
   "metadata": {},
   "source": [
    "# Using data augmentation\n",
    "###### Defining a new convnet that includes dropout"
   ]
  },
  {
   "cell_type": "code",
   "execution_count": 31,
   "metadata": {},
   "outputs": [],
   "source": [
    "model = models.Sequential()\n",
    "model.add(layers.Conv2D(32, (3, 3), activation='relu',\n",
    "input_shape=(150, 150, 3)))\n",
    "model.add(layers.MaxPooling2D((2, 2)))\n",
    "model.add(layers.Conv2D(64, (3, 3), activation='relu'))\n",
    "model.add(layers.MaxPooling2D((2, 2)))\n",
    "model.add(layers.Conv2D(128, (3, 3), activation='relu'))\n",
    "model.add(layers.MaxPooling2D((2, 2)))\n",
    "model.add(layers.Conv2D(128, (3, 3), activation='relu'))\n",
    "model.add(layers.MaxPooling2D((2, 2)))\n",
    "model.add(layers.Flatten())\n",
    "model.add(layers.Dropout(0.5))\n",
    "model.add(layers.Dense(512, activation='relu'))\n",
    "model.add(layers.Dense(1, activation='sigmoid'))"
   ]
  },
  {
   "cell_type": "code",
   "execution_count": 32,
   "metadata": {},
   "outputs": [],
   "source": [
    "model.compile(loss='binary_crossentropy',\n",
    "optimizer=optimizers.RMSprop(lr=1e-4),\n",
    "metrics=['acc'])"
   ]
  },
  {
   "cell_type": "code",
   "execution_count": 33,
   "metadata": {},
   "outputs": [],
   "source": [
    "train_datagen = ImageDataGenerator(\n",
    "rescale=1./255,\n",
    "rotation_range=40,\n",
    "width_shift_range=0.2,\n",
    "height_shift_range=0.2,\n",
    "shear_range=0.2,\n",
    "zoom_range=0.2,\n",
    "horizontal_flip=True,)"
   ]
  },
  {
   "cell_type": "code",
   "execution_count": 34,
   "metadata": {},
   "outputs": [
    {
     "name": "stdout",
     "output_type": "stream",
     "text": [
      "Found 2000 images belonging to 2 classes.\n",
      "Found 1000 images belonging to 2 classes.\n"
     ]
    }
   ],
   "source": [
    "test_datagen = ImageDataGenerator(rescale=1./255)\n",
    "train_generator = train_datagen.flow_from_directory(\n",
    "train_dir,\n",
    "target_size=(150, 150),\n",
    "batch_size=32,\n",
    "class_mode='binary')\n",
    "validation_generator = test_datagen.flow_from_directory(\n",
    "validation_dir,\n",
    "target_size=(150, 150),\n",
    "batch_size=32,\n",
    "class_mode='binary')"
   ]
  },
  {
   "cell_type": "code",
   "execution_count": 35,
   "metadata": {},
   "outputs": [
    {
     "name": "stdout",
     "output_type": "stream",
     "text": [
      "Epoch 1/100\n",
      "100/100 [==============================] - 99s 990ms/step - loss: 0.6931 - acc: 0.5186 - val_loss: 0.6707 - val_acc: 0.5114\n",
      "Epoch 2/100\n",
      "100/100 [==============================] - 99s 988ms/step - loss: 0.6285 - acc: 0.6518 - val_loss: 0.6587 - val_acc: 0.7268\n",
      "Epoch 3/100\n",
      "100/100 [==============================] - 100s 996ms/step - loss: 0.5754 - acc: 0.7134 - val_loss: 0.4279 - val_acc: 0.7659\n",
      "Epoch 4/100\n",
      "100/100 [==============================] - 98s 981ms/step - loss: 0.5362 - acc: 0.7395 - val_loss: 0.4370 - val_acc: 0.7726\n",
      "Epoch 5/100\n",
      "100/100 [==============================] - 99s 993ms/step - loss: 0.5035 - acc: 0.7714 - val_loss: 0.6392 - val_acc: 0.6948\n",
      "Epoch 6/100\n",
      "100/100 [==============================] - 101s 1s/step - loss: 0.4660 - acc: 0.8008 - val_loss: 0.5501 - val_acc: 0.7584\n",
      "Epoch 7/100\n",
      "100/100 [==============================] - 101s 1s/step - loss: 0.4239 - acc: 0.8392 - val_loss: 0.3198 - val_acc: 0.8154\n",
      "Epoch 8/100\n",
      "100/100 [==============================] - 100s 1s/step - loss: 0.3690 - acc: 0.8598 - val_loss: 0.3795 - val_acc: 0.8473\n",
      "Epoch 9/100\n",
      "100/100 [==============================] - 100s 997ms/step - loss: 0.3322 - acc: 0.8725 - val_loss: 0.3663 - val_acc: 0.8795\n",
      "Epoch 10/100\n",
      "100/100 [==============================] - 100s 1s/step - loss: 0.2893 - acc: 0.8938 - val_loss: 0.2360 - val_acc: 0.8775\n",
      "Epoch 11/100\n",
      "100/100 [==============================] - 100s 1s/step - loss: 0.2985 - acc: 0.8867 - val_loss: 0.3585 - val_acc: 0.8808\n",
      "Epoch 12/100\n",
      "100/100 [==============================] - 101s 1s/step - loss: 0.2745 - acc: 0.8986 - val_loss: 0.1197 - val_acc: 0.8966\n",
      "Epoch 13/100\n",
      "100/100 [==============================] - 100s 998ms/step - loss: 0.2698 - acc: 0.9018 - val_loss: 0.1728 - val_acc: 0.8531\n",
      "Epoch 14/100\n",
      "100/100 [==============================] - 100s 1s/step - loss: 0.2583 - acc: 0.9064 - val_loss: 0.1743 - val_acc: 0.9016\n",
      "Epoch 15/100\n",
      "100/100 [==============================] - 102s 1s/step - loss: 0.2501 - acc: 0.9040 - val_loss: 0.1759 - val_acc: 0.8930\n",
      "Epoch 16/100\n",
      "100/100 [==============================] - 101s 1s/step - loss: 0.2567 - acc: 0.8971 - val_loss: 0.0493 - val_acc: 0.8924\n",
      "Epoch 17/100\n",
      "100/100 [==============================] - 100s 1s/step - loss: 0.2508 - acc: 0.9052 - val_loss: 0.2401 - val_acc: 0.8820\n",
      "Epoch 18/100\n",
      "100/100 [==============================] - 101s 1s/step - loss: 0.2527 - acc: 0.9064 - val_loss: 0.1581 - val_acc: 0.8840\n",
      "Epoch 19/100\n",
      "100/100 [==============================] - 99s 988ms/step - loss: 0.2458 - acc: 0.9105 - val_loss: 0.2879 - val_acc: 0.8623\n",
      "Epoch 20/100\n",
      "100/100 [==============================] - 99s 993ms/step - loss: 0.2403 - acc: 0.9108 - val_loss: 0.1379 - val_acc: 0.8930\n",
      "Epoch 21/100\n",
      "100/100 [==============================] - 105s 1s/step - loss: 0.2385 - acc: 0.9114 - val_loss: 0.3780 - val_acc: 0.8706\n",
      "Epoch 22/100\n",
      "100/100 [==============================] - 97s 972ms/step - loss: 0.2384 - acc: 0.9091 - val_loss: 0.3916 - val_acc: 0.8885\n",
      "Epoch 23/100\n",
      "100/100 [==============================] - 98s 982ms/step - loss: 0.2304 - acc: 0.9080 - val_loss: 0.7244 - val_acc: 0.8839\n",
      "Epoch 24/100\n",
      "100/100 [==============================] - 98s 976ms/step - loss: 0.2335 - acc: 0.9119 - val_loss: 0.3137 - val_acc: 0.8976\n",
      "Epoch 25/100\n",
      "100/100 [==============================] - 98s 983ms/step - loss: 0.2381 - acc: 0.9062 - val_loss: 0.2668 - val_acc: 0.8995\n",
      "Epoch 26/100\n",
      "100/100 [==============================] - 99s 986ms/step - loss: 0.2308 - acc: 0.9124 - val_loss: 0.0859 - val_acc: 0.8953\n",
      "Epoch 27/100\n",
      "100/100 [==============================] - 98s 977ms/step - loss: 0.2297 - acc: 0.9091 - val_loss: 0.2296 - val_acc: 0.9001\n",
      "Epoch 28/100\n",
      "100/100 [==============================] - 99s 989ms/step - loss: 0.2223 - acc: 0.9127 - val_loss: 0.1425 - val_acc: 0.8966\n",
      "Epoch 29/100\n",
      "100/100 [==============================] - 99s 994ms/step - loss: 0.2103 - acc: 0.9182 - val_loss: 0.4093 - val_acc: 0.9079\n",
      "Epoch 30/100\n",
      "100/100 [==============================] - 1114s 11s/step - loss: 0.2285 - acc: 0.9129 - val_loss: 0.2993 - val_acc: 0.8972\n",
      "Epoch 31/100\n",
      "100/100 [==============================] - 98s 978ms/step - loss: 0.2080 - acc: 0.9234 - val_loss: 0.1859 - val_acc: 0.8821\n",
      "Epoch 32/100\n",
      "100/100 [==============================] - 96s 960ms/step - loss: 0.2203 - acc: 0.9154 - val_loss: 0.3337 - val_acc: 0.9046\n",
      "Epoch 33/100\n",
      "100/100 [==============================] - 96s 962ms/step - loss: 0.2292 - acc: 0.9099 - val_loss: 0.1507 - val_acc: 0.9016\n",
      "Epoch 34/100\n",
      "100/100 [==============================] - 97s 965ms/step - loss: 0.1996 - acc: 0.9196 - val_loss: 0.2305 - val_acc: 0.8930\n",
      "Epoch 35/100\n",
      "100/100 [==============================] - 97s 970ms/step - loss: 0.2234 - acc: 0.9179 - val_loss: 0.0985 - val_acc: 0.9220\n",
      "Epoch 36/100\n",
      "100/100 [==============================] - 96s 965ms/step - loss: 0.2201 - acc: 0.9167 - val_loss: 0.0900 - val_acc: 0.9175\n",
      "Epoch 37/100\n",
      "100/100 [==============================] - 98s 976ms/step - loss: 0.2201 - acc: 0.9143 - val_loss: 0.2573 - val_acc: 0.9162\n",
      "Epoch 38/100\n",
      "100/100 [==============================] - 96s 959ms/step - loss: 0.2201 - acc: 0.9143 - val_loss: 0.5408 - val_acc: 0.9111\n",
      "Epoch 39/100\n",
      "100/100 [==============================] - 97s 968ms/step - loss: 0.2100 - acc: 0.9196 - val_loss: 0.2323 - val_acc: 0.9042\n",
      "Epoch 40/100\n",
      "100/100 [==============================] - 97s 975ms/step - loss: 0.2186 - acc: 0.9160 - val_loss: 0.9291 - val_acc: 0.9066\n",
      "Epoch 41/100\n",
      "100/100 [==============================] - 97s 972ms/step - loss: 0.2129 - acc: 0.9165 - val_loss: 0.1324 - val_acc: 0.8995\n",
      "Epoch 42/100\n",
      "100/100 [==============================] - 476s 5s/step - loss: 0.2142 - acc: 0.9182 - val_loss: 0.5877 - val_acc: 0.8978\n",
      "Epoch 43/100\n",
      "100/100 [==============================] - 96s 962ms/step - loss: 0.2128 - acc: 0.9161 - val_loss: 0.1251 - val_acc: 0.9040\n",
      "Epoch 44/100\n",
      "100/100 [==============================] - 97s 970ms/step - loss: 0.1962 - acc: 0.9262 - val_loss: 0.2550 - val_acc: 0.9137\n",
      "Epoch 45/100\n",
      "100/100 [==============================] - 97s 973ms/step - loss: 0.2013 - acc: 0.9233 - val_loss: 0.3925 - val_acc: 0.9008\n",
      "Epoch 46/100\n",
      "100/100 [==============================] - 102s 1s/step - loss: 0.1961 - acc: 0.9255 - val_loss: 0.1076 - val_acc: 0.9080\n",
      "Epoch 47/100\n",
      "100/100 [==============================] - 99s 994ms/step - loss: 0.1976 - acc: 0.9265 - val_loss: 0.3707 - val_acc: 0.9143\n",
      "Epoch 48/100\n",
      "100/100 [==============================] - 109s 1s/step - loss: 0.2026 - acc: 0.9209 - val_loss: 0.0994 - val_acc: 0.8982\n",
      "Epoch 49/100\n",
      "100/100 [==============================] - 100s 1s/step - loss: 0.2027 - acc: 0.9258 - val_loss: 1.1207 - val_acc: 0.9023\n",
      "Epoch 50/100\n",
      "100/100 [==============================] - 103s 1s/step - loss: 0.2013 - acc: 0.9211 - val_loss: 0.1370 - val_acc: 0.9053\n",
      "Epoch 51/100\n",
      "100/100 [==============================] - 99s 994ms/step - loss: 0.1973 - acc: 0.9259 - val_loss: 0.3542 - val_acc: 0.9118\n",
      "Epoch 52/100\n",
      "100/100 [==============================] - 98s 981ms/step - loss: 0.1973 - acc: 0.9262 - val_loss: 0.3692 - val_acc: 0.9053\n",
      "Epoch 53/100\n",
      "100/100 [==============================] - 97s 975ms/step - loss: 0.2099 - acc: 0.9255 - val_loss: 0.2232 - val_acc: 0.9023\n",
      "Epoch 54/100\n",
      "100/100 [==============================] - 100s 1s/step - loss: 0.1991 - acc: 0.9347 - val_loss: 0.1608 - val_acc: 0.9046\n",
      "Epoch 55/100\n",
      "100/100 [==============================] - 98s 983ms/step - loss: 0.2013 - acc: 0.9306 - val_loss: 0.1908 - val_acc: 0.9162\n",
      "Epoch 56/100\n",
      "100/100 [==============================] - 98s 984ms/step - loss: 0.2052 - acc: 0.9293 - val_loss: 0.0963 - val_acc: 0.9227\n",
      "Epoch 57/100\n",
      "100/100 [==============================] - 99s 990ms/step - loss: 0.2015 - acc: 0.9315 - val_loss: 0.2358 - val_acc: 0.8982\n",
      "Epoch 58/100\n",
      "100/100 [==============================] - 98s 981ms/step - loss: 0.2052 - acc: 0.9274 - val_loss: 0.6929 - val_acc: 0.9016\n",
      "Epoch 59/100\n",
      "100/100 [==============================] - 98s 981ms/step - loss: 0.1926 - acc: 0.9303 - val_loss: 0.2721 - val_acc: 0.9162\n",
      "Epoch 60/100\n",
      "100/100 [==============================] - 98s 980ms/step - loss: 0.1897 - acc: 0.9366 - val_loss: 0.4396 - val_acc: 0.9010\n",
      "Epoch 61/100\n"
     ]
    },
    {
     "name": "stdout",
     "output_type": "stream",
     "text": [
      "100/100 [==============================] - 97s 973ms/step - loss: 0.1916 - acc: 0.9309 - val_loss: 0.0625 - val_acc: 0.9098\n",
      "Epoch 62/100\n",
      "100/100 [==============================] - 100s 998ms/step - loss: 0.2011 - acc: 0.9309 - val_loss: 0.1231 - val_acc: 0.9004\n",
      "Epoch 63/100\n",
      "100/100 [==============================] - 105s 1s/step - loss: 0.1873 - acc: 0.9331 - val_loss: 0.9750 - val_acc: 0.8988\n",
      "Epoch 64/100\n",
      "100/100 [==============================] - 105s 1s/step - loss: 0.1879 - acc: 0.9369 - val_loss: 0.0560 - val_acc: 0.9117\n",
      "Epoch 65/100\n",
      "100/100 [==============================] - 105s 1s/step - loss: 0.1973 - acc: 0.9309 - val_loss: 0.2470 - val_acc: 0.9169\n",
      "Epoch 66/100\n",
      "100/100 [==============================] - 104s 1s/step - loss: 0.1843 - acc: 0.9353 - val_loss: 0.4634 - val_acc: 0.8892\n",
      "Epoch 67/100\n",
      "100/100 [==============================] - 100s 998ms/step - loss: 0.1990 - acc: 0.9296 - val_loss: 1.4664 - val_acc: 0.9258\n",
      "Epoch 68/100\n",
      "100/100 [==============================] - 100s 1s/step - loss: 0.2026 - acc: 0.9331 - val_loss: 0.1546 - val_acc: 0.9040\n",
      "Epoch 69/100\n",
      "100/100 [==============================] - 100s 998ms/step - loss: 0.1890 - acc: 0.9375 - val_loss: 0.5894 - val_acc: 0.9131\n",
      "Epoch 70/100\n",
      "100/100 [==============================] - 102s 1s/step - loss: 0.1886 - acc: 0.9325 - val_loss: 0.4830 - val_acc: 0.9034\n",
      "Epoch 71/100\n",
      "100/100 [==============================] - 100s 1s/step - loss: 0.1863 - acc: 0.9356 - val_loss: 0.2399 - val_acc: 0.9055\n",
      "Epoch 72/100\n",
      "100/100 [==============================] - 100s 1s/step - loss: 0.1879 - acc: 0.9334 - val_loss: 0.2135 - val_acc: 0.8918\n",
      "Epoch 73/100\n",
      "100/100 [==============================] - 100s 1s/step - loss: 0.1976 - acc: 0.9334 - val_loss: 0.2535 - val_acc: 0.9053\n",
      "Epoch 74/100\n",
      "100/100 [==============================] - 104s 1s/step - loss: 0.1963 - acc: 0.9318 - val_loss: 0.4716 - val_acc: 0.9150\n",
      "Epoch 75/100\n",
      "100/100 [==============================] - 102s 1s/step - loss: 0.1870 - acc: 0.9356 - val_loss: 0.3730 - val_acc: 0.9149\n",
      "Epoch 76/100\n",
      "100/100 [==============================] - 99s 991ms/step - loss: 0.1940 - acc: 0.9334 - val_loss: 1.4723 - val_acc: 0.9099\n",
      "Epoch 77/100\n",
      "100/100 [==============================] - 103s 1s/step - loss: 0.2020 - acc: 0.9340 - val_loss: 0.8063 - val_acc: 0.9040\n",
      "Epoch 78/100\n",
      "100/100 [==============================] - 102s 1s/step - loss: 0.1801 - acc: 0.9454 - val_loss: 0.1555 - val_acc: 0.9036\n",
      "Epoch 79/100\n",
      "100/100 [==============================] - 104s 1s/step - loss: 0.1935 - acc: 0.9309 - val_loss: 1.1910 - val_acc: 0.9072\n",
      "Epoch 80/100\n",
      "100/100 [==============================] - 103s 1s/step - loss: 0.1854 - acc: 0.9362 - val_loss: 0.3229 - val_acc: 0.9091\n",
      "Epoch 81/100\n",
      "100/100 [==============================] - 105s 1s/step - loss: 0.2041 - acc: 0.9328 - val_loss: 0.2007 - val_acc: 0.9074\n",
      "Epoch 82/100\n",
      "100/100 [==============================] - 104s 1s/step - loss: 0.1933 - acc: 0.9362 - val_loss: 0.0470 - val_acc: 0.9149\n",
      "Epoch 83/100\n",
      "100/100 [==============================] - 101s 1s/step - loss: 0.1978 - acc: 0.9318 - val_loss: 0.4136 - val_acc: 0.8934\n",
      "Epoch 84/100\n",
      "100/100 [==============================] - 104s 1s/step - loss: 0.1920 - acc: 0.9321 - val_loss: 0.3742 - val_acc: 0.9111\n",
      "Epoch 85/100\n",
      "100/100 [==============================] - 103s 1s/step - loss: 0.1866 - acc: 0.9366 - val_loss: 0.0987 - val_acc: 0.9201\n",
      "Epoch 86/100\n",
      "100/100 [==============================] - 100s 1s/step - loss: 0.1894 - acc: 0.9347 - val_loss: 0.1348 - val_acc: 0.8982\n",
      "Epoch 87/100\n",
      "100/100 [==============================] - 102s 1s/step - loss: 0.1903 - acc: 0.9331 - val_loss: 0.1012 - val_acc: 0.9270\n",
      "Epoch 88/100\n",
      "100/100 [==============================] - 102s 1s/step - loss: 0.1856 - acc: 0.9388 - val_loss: 0.6371 - val_acc: 0.9066\n",
      "Epoch 89/100\n",
      "100/100 [==============================] - 104s 1s/step - loss: 0.1896 - acc: 0.9359 - val_loss: 0.6495 - val_acc: 0.9046\n",
      "Epoch 90/100\n",
      "100/100 [==============================] - 104s 1s/step - loss: 0.1827 - acc: 0.9413 - val_loss: 0.4178 - val_acc: 0.8985\n",
      "Epoch 91/100\n",
      "100/100 [==============================] - 103s 1s/step - loss: 0.1835 - acc: 0.9356 - val_loss: 0.1072 - val_acc: 0.9046\n",
      "Epoch 92/100\n",
      "100/100 [==============================] - 106s 1s/step - loss: 0.1805 - acc: 0.9359 - val_loss: 0.0323 - val_acc: 0.9143\n",
      "Epoch 93/100\n",
      "100/100 [==============================] - 100s 1s/step - loss: 0.1983 - acc: 0.9315 - val_loss: 1.7337 - val_acc: 0.9059\n",
      "Epoch 94/100\n",
      "100/100 [==============================] - 100s 999ms/step - loss: 0.1851 - acc: 0.9359 - val_loss: 0.2832 - val_acc: 0.9036\n",
      "Epoch 95/100\n",
      "100/100 [==============================] - 99s 988ms/step - loss: 0.1743 - acc: 0.9388 - val_loss: 0.3183 - val_acc: 0.8982\n",
      "Epoch 96/100\n",
      "100/100 [==============================] - 99s 991ms/step - loss: 0.1885 - acc: 0.9353 - val_loss: 0.0863 - val_acc: 0.9111\n",
      "Epoch 97/100\n",
      "100/100 [==============================] - 99s 992ms/step - loss: 0.2515 - acc: 0.9198 - val_loss: 0.2859 - val_acc: 0.9048\n",
      "Epoch 98/100\n",
      "100/100 [==============================] - 100s 1s/step - loss: 0.2325 - acc: 0.9202 - val_loss: 0.0666 - val_acc: 0.9104\n",
      "Epoch 99/100\n",
      "100/100 [==============================] - 103s 1s/step - loss: 0.2142 - acc: 0.9223 - val_loss: 0.0981 - val_acc: 0.9080\n",
      "Epoch 100/100\n",
      "100/100 [==============================] - 104s 1s/step - loss: 0.2007 - acc: 0.9378 - val_loss: 0.5337 - val_acc: 0.9027\n"
     ]
    }
   ],
   "source": [
    "history = model.fit_generator(\n",
    "train_generator,\n",
    "steps_per_epoch=100,\n",
    "epochs=100,\n",
    "validation_data=validation_generator,\n",
    "validation_steps=50)"
   ]
  },
  {
   "cell_type": "code",
   "execution_count": 36,
   "metadata": {},
   "outputs": [
    {
     "data": {
      "text/plain": [
       "<matplotlib.legend.Legend at 0x292e5ea6a20>"
      ]
     },
     "execution_count": 36,
     "metadata": {},
     "output_type": "execute_result"
    },
    {
     "data": {
      "image/png": "[encoded data removed]",
      "text/plain": [
       "<Figure size 432x288 with 1 Axes>"
      ]
     },
     "metadata": {
      "needs_background": "light"
     },
     "output_type": "display_data"
    },
    {
     "data": {
      "image/png": "[encoded data removed]",
      "text/plain": [
       "<Figure size 432x288 with 1 Axes>"
      ]
     },
     "metadata": {
      "needs_background": "light"
     },
     "output_type": "display_data"
    }
   ],
   "source": [
    "import matplotlib.pyplot as plt\n",
    "acc = history.history['acc']\n",
    "val_acc = history.history['val_acc']\n",
    "loss = history.history['loss']\n",
    "val_loss = history.history['val_loss']\n",
    "epochs = range(1, len(acc) + 1)\n",
    "plt.plot(epochs, acc, 'bo', label='Training acc')\n",
    "plt.plot(epochs, val_acc, 'b', label='Validation acc')\n",
    "plt.title('Training and validation accuracy')\n",
    "plt.legend()\n",
    "plt.figure()\n",
    "plt.plot(epochs, loss, 'bo', label='Training loss')\n",
    "plt.plot(epochs, val_loss, 'b', label='Validation loss')\n",
    "plt.title('Training and validation loss')\n",
    "plt.legend()"
   ]
  },
  {
   "cell_type": "code",
   "execution_count": 37,
   "metadata": {},
   "outputs": [],
   "source": [
    "model.save(\"Malaria_detection.h5\")"
   ]
  },
  {
   "cell_type": "code",
   "execution_count": null,
   "metadata": {},
   "outputs": [],
   "source": []
  }
 ],
 "metadata": {
  "kernelspec": {
   "display_name": "Python 3",
   "language": "python",
   "name": "python3"
  },
  "language_info": {
   "codemirror_mode": {
    "name": "ipython",
    "version": 3
   },
   "file_extension": ".py",
   "mimetype": "text/x-python",
   "name": "python",
   "nbconvert_exporter": "python",
   "pygments_lexer": "ipython3",
   "version": "3.7.3"
  }
 },
 "nbformat": 4,
 "nbformat_minor": 2
}
