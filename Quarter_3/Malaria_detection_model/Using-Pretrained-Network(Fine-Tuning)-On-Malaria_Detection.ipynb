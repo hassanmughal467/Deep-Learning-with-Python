{
 "cells": [
  {
   "cell_type": "markdown",
   "metadata": {},
   "source": [
    "# Using a pretrained convnet"
   ]
  },
  {
   "cell_type": "code",
   "execution_count": 1,
   "metadata": {},
   "outputs": [
    {
     "name": "stderr",
     "output_type": "stream",
     "text": [
      "Using TensorFlow backend.\n"
     ]
    }
   ],
   "source": [
    "from keras.applications import VGG16\n",
    "conv_base = VGG16(weights='imagenet',\n",
    "include_top=False,\n",
    "input_shape=(150, 150, 3))"
   ]
  },
  {
   "cell_type": "code",
   "execution_count": 2,
   "metadata": {},
   "outputs": [],
   "source": [
    "import os\n",
    "import numpy as np\n",
    "from keras.preprocessing.image import ImageDataGenerator\n",
    "base_dir = \"D:/c/Desktop/PIAIC/Artificial Intelligent/3rd Quarter/deep learning/sir nasir/Complte chptrs 5 material/working_Malaria_Dataset\"\n",
    "train_dir = os.path.join(base_dir, 'train')\n",
    "validation_dir = os.path.join(base_dir, 'validation')\n",
    "test_dir = os.path.join(base_dir, 'test')"
   ]
  },
  {
   "cell_type": "markdown",
   "metadata": {},
   "source": [
    "# Unfreezed Conv2D top layer for Fine Tuning"
   ]
  },
  {
   "cell_type": "code",
   "execution_count": 3,
   "metadata": {},
   "outputs": [],
   "source": [
    "from keras import models\n",
    "from keras import layers\n",
    "model = models.Sequential()\n",
    "model.add(conv_base)\n",
    "model.add(layers.Flatten())\n",
    "model.add(layers.Dropout(0.5))\n",
    "model.add(layers.Dense(256, activation='relu'))\n",
    "model.add(layers.Dense(1, activation='sigmoid'))"
   ]
  },
  {
   "cell_type": "markdown",
   "metadata": {},
   "source": [
    "# Freezing all layers up to a specific one"
   ]
  },
  {
   "cell_type": "code",
   "execution_count": 4,
   "metadata": {},
   "outputs": [],
   "source": [
    "conv_base.trainable = True\n",
    "set_trainable = False\n",
    "for layer in conv_base.layers:\n",
    "    if layer.name == 'block5_conv1':\n",
    "        set_trainable = True\n",
    "    if set_trainable:\n",
    "        layer.trainable = True\n",
    "    else:\n",
    "        layer.trainable = False"
   ]
  },
  {
   "cell_type": "markdown",
   "metadata": {},
   "source": [
    "# Training the model end to end with a frozen convolutional base"
   ]
  },
  {
   "cell_type": "code",
   "execution_count": 5,
   "metadata": {},
   "outputs": [
    {
     "name": "stdout",
     "output_type": "stream",
     "text": [
      "Found 2000 images belonging to 2 classes.\n",
      "Found 1000 images belonging to 2 classes.\n"
     ]
    }
   ],
   "source": [
    "from keras.preprocessing.image import ImageDataGenerator\n",
    "from keras import optimizers\n",
    "train_datagen = ImageDataGenerator(\n",
    "        rescale=1./255,\n",
    "        rotation_range=40,\n",
    "        width_shift_range=0.2,\n",
    "        height_shift_range=0.2,\n",
    "        shear_range=0.2,\n",
    "        zoom_range=0.2,\n",
    "        horizontal_flip=True,\n",
    "        fill_mode='nearest')\n",
    "test_datagen = ImageDataGenerator(rescale=1./255)\n",
    "train_generator = train_datagen.flow_from_directory(\n",
    "        train_dir,\n",
    "        target_size=(150, 150),\n",
    "        batch_size=20,\n",
    "        class_mode='binary')\n",
    "validation_generator = test_datagen.flow_from_directory(\n",
    "            validation_dir,\n",
    "            target_size=(150, 150),\n",
    "            batch_size=20,\n",
    "            class_mode='binary')"
   ]
  },
  {
   "cell_type": "code",
   "execution_count": 6,
   "metadata": {},
   "outputs": [],
   "source": [
    "model.compile(loss='binary_crossentropy',\n",
    "            optimizer=optimizers.RMSprop(lr=2e-5),\n",
    "            metrics=['acc'])"
   ]
  },
  {
   "cell_type": "code",
   "execution_count": 7,
   "metadata": {},
   "outputs": [
    {
     "name": "stdout",
     "output_type": "stream",
     "text": [
      "Epoch 1/30\n",
      "100/100 [==============================] - 320s 3s/step - loss: 0.5515 - acc: 0.7015 - val_loss: 0.4382 - val_acc: 0.8630\n",
      "Epoch 2/30\n",
      "100/100 [==============================] - 330s 3s/step - loss: 0.3499 - acc: 0.8415 - val_loss: 0.3846 - val_acc: 0.8510\n",
      "Epoch 3/30\n",
      "100/100 [==============================] - 324s 3s/step - loss: 0.2720 - acc: 0.8920 - val_loss: 0.1234 - val_acc: 0.8720\n",
      "Epoch 4/30\n",
      "100/100 [==============================] - 329s 3s/step - loss: 0.2544 - acc: 0.9045 - val_loss: 0.2347 - val_acc: 0.8920\n",
      "Epoch 5/30\n",
      "100/100 [==============================] - 335s 3s/step - loss: 0.2299 - acc: 0.9085 - val_loss: 0.2536 - val_acc: 0.9120\n",
      "Epoch 6/30\n",
      "100/100 [==============================] - 333s 3s/step - loss: 0.2381 - acc: 0.9130 - val_loss: 0.3044 - val_acc: 0.9180\n",
      "Epoch 7/30\n",
      "100/100 [==============================] - 333s 3s/step - loss: 0.2277 - acc: 0.9130 - val_loss: 0.3334 - val_acc: 0.9090\n",
      "Epoch 8/30\n",
      "100/100 [==============================] - 330s 3s/step - loss: 0.2120 - acc: 0.9220 - val_loss: 0.0702 - val_acc: 0.9150\n",
      "Epoch 9/30\n",
      "100/100 [==============================] - 323s 3s/step - loss: 0.2163 - acc: 0.9230 - val_loss: 0.0989 - val_acc: 0.9120\n",
      "Epoch 10/30\n",
      "100/100 [==============================] - 323s 3s/step - loss: 0.2118 - acc: 0.9225 - val_loss: 0.1958 - val_acc: 0.9130\n",
      "Epoch 11/30\n",
      "100/100 [==============================] - 507s 5s/step - loss: 0.2069 - acc: 0.9265 - val_loss: 0.2001 - val_acc: 0.9140\n",
      "Epoch 12/30\n",
      "100/100 [==============================] - 329s 3s/step - loss: 0.2052 - acc: 0.9260 - val_loss: 0.5108 - val_acc: 0.9120\n",
      "Epoch 13/30\n",
      "100/100 [==============================] - 346s 3s/step - loss: 0.1979 - acc: 0.9300 - val_loss: 0.3502 - val_acc: 0.9130\n",
      "Epoch 14/30\n",
      "100/100 [==============================] - 368s 4s/step - loss: 0.2020 - acc: 0.9260 - val_loss: 0.3343 - val_acc: 0.9180\n",
      "Epoch 15/30\n",
      "100/100 [==============================] - 358s 4s/step - loss: 0.1805 - acc: 0.9370 - val_loss: 0.3966 - val_acc: 0.9090\n",
      "Epoch 16/30\n",
      "100/100 [==============================] - 353s 4s/step - loss: 0.1847 - acc: 0.9350 - val_loss: 0.0867 - val_acc: 0.9230\n",
      "Epoch 17/30\n",
      "100/100 [==============================] - 345s 3s/step - loss: 0.2005 - acc: 0.9305 - val_loss: 0.2238 - val_acc: 0.9110\n",
      "Epoch 18/30\n",
      "100/100 [==============================] - 359s 4s/step - loss: 0.1879 - acc: 0.9375 - val_loss: 0.2078 - val_acc: 0.9260\n",
      "Epoch 19/30\n",
      "100/100 [==============================] - 350s 3s/step - loss: 0.1783 - acc: 0.9360 - val_loss: 0.3878 - val_acc: 0.9150\n",
      "Epoch 20/30\n",
      "100/100 [==============================] - 352s 4s/step - loss: 0.2026 - acc: 0.9295 - val_loss: 0.0928 - val_acc: 0.9120\n",
      "Epoch 21/30\n",
      "100/100 [==============================] - 320s 3s/step - loss: 0.1751 - acc: 0.9440 - val_loss: 0.0913 - val_acc: 0.9150\n",
      "Epoch 22/30\n",
      "100/100 [==============================] - 337s 3s/step - loss: 0.1896 - acc: 0.9325 - val_loss: 0.2108 - val_acc: 0.9060\n",
      "Epoch 23/30\n",
      "100/100 [==============================] - 329s 3s/step - loss: 0.1792 - acc: 0.9405 - val_loss: 0.4561 - val_acc: 0.9120\n",
      "Epoch 24/30\n",
      "100/100 [==============================] - 318s 3s/step - loss: 0.1703 - acc: 0.9420 - val_loss: 0.2166 - val_acc: 0.9240\n",
      "Epoch 25/30\n",
      "100/100 [==============================] - 332s 3s/step - loss: 0.1987 - acc: 0.9315 - val_loss: 0.3962 - val_acc: 0.9210\n",
      "Epoch 26/30\n",
      "100/100 [==============================] - 332s 3s/step - loss: 0.1799 - acc: 0.9360 - val_loss: 0.0588 - val_acc: 0.9100\n",
      "Epoch 27/30\n",
      "100/100 [==============================] - 327s 3s/step - loss: 0.1619 - acc: 0.9455 - val_loss: 1.3034 - val_acc: 0.8550\n",
      "Epoch 28/30\n",
      "100/100 [==============================] - 331s 3s/step - loss: 0.1635 - acc: 0.9445 - val_loss: 0.3726 - val_acc: 0.9020\n",
      "Epoch 29/30\n",
      "100/100 [==============================] - 321s 3s/step - loss: 0.1622 - acc: 0.9345 - val_loss: 0.1793 - val_acc: 0.9180\n",
      "Epoch 30/30\n",
      "100/100 [==============================] - 335s 3s/step - loss: 0.1854 - acc: 0.9310 - val_loss: 0.4446 - val_acc: 0.9130\n"
     ]
    }
   ],
   "source": [
    "history = model.fit_generator(train_generator,steps_per_epoch=100,epochs=30,validation_data=validation_generator,validation_steps=50)"
   ]
  },
  {
   "cell_type": "code",
   "execution_count": 9,
   "metadata": {},
   "outputs": [
    {
     "data": {
      "text/plain": [
       "<matplotlib.legend.Legend at 0x2060b27cac8>"
      ]
     },
     "execution_count": 9,
     "metadata": {},
     "output_type": "execute_result"
    },
    {
     "data": {
      "image/png": "[encoded data removed]",
      "text/plain": [
       "<Figure size 432x288 with 1 Axes>"
      ]
     },
     "metadata": {
      "needs_background": "light"
     },
     "output_type": "display_data"
    },
    {
     "data": {
      "image/png": "[encoded data removed]",
      "text/plain": [
       "<Figure size 432x288 with 1 Axes>"
      ]
     },
     "metadata": {
      "needs_background": "light"
     },
     "output_type": "display_data"
    }
   ],
   "source": [
    "import matplotlib.pyplot as plt\n",
    "acc = history.history['acc']\n",
    "val_acc = history.history['val_acc']\n",
    "loss = history.history['loss']\n",
    "val_loss = history.history['val_loss']\n",
    "epochs = range(1, len(acc) + 1)\n",
    "plt.plot(epochs, acc, 'bo', label='Training acc')\n",
    "plt.plot(epochs, val_acc, 'b', label='Validation acc')\n",
    "plt.title('Training and validation accuracy')\n",
    "plt.legend()\n",
    "plt.figure()\n",
    "plt.plot(epochs, loss, 'bo', label='Training loss')\n",
    "plt.plot(epochs, val_loss, 'b', label='Validation loss')\n",
    "plt.title('Training and validation loss')\n",
    "plt.legend()"
   ]
  },
  {
   "cell_type": "code",
   "execution_count": 10,
   "metadata": {},
   "outputs": [],
   "source": [
    "model.save(\"Malaria_detection1.h5\")"
   ]
  },
  {
   "cell_type": "code",
   "execution_count": null,
   "metadata": {},
   "outputs": [],
   "source": []
  }
 ],
 "metadata": {
  "kernelspec": {
   "display_name": "Python 3",
   "language": "python",
   "name": "python3"
  },
  "language_info": {
   "codemirror_mode": {
    "name": "ipython",
    "version": 3
   },
   "file_extension": ".py",
   "mimetype": "text/x-python",
   "name": "python",
   "nbconvert_exporter": "python",
   "pygments_lexer": "ipython3",
   "version": "3.7.3"
  }
 },
 "nbformat": 4,
 "nbformat_minor": 2
}
