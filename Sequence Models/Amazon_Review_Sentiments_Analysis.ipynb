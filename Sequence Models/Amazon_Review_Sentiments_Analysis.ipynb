{
 "cells": [
  {
   "cell_type": "markdown",
   "metadata": {},
   "source": [
    "# Amazon Reviews DataSet"
   ]
  },
  {
   "cell_type": "code",
   "execution_count": 1,
   "metadata": {},
   "outputs": [],
   "source": [
    "import numpy as np\n",
    "import pandas as pd\n",
    "import os\n",
    "import random\n",
    "import string"
   ]
  },
  {
   "cell_type": "code",
   "execution_count": 2,
   "metadata": {},
   "outputs": [],
   "source": [
    "amazon_review_dir = 'D:/c/Desktop/PIAIC/Artificial Intelligent/3rd Quarter/deep learning/sir nasir/Complte 6 chptr material/assignments/amazon_review_sentiments_analyses/train.ft.txt'\n",
    "train_dir =open(os.path.join(amazon_review_dir, 'train.ft.txt'),encoding=\"utf8\")"
   ]
  },
  {
   "cell_type": "markdown",
   "metadata": {},
   "source": [
    "# Preprocessing Dataset\n",
    "#### Texts And Labels Splits separately in lists"
   ]
  },
  {
   "cell_type": "code",
   "execution_count": 3,
   "metadata": {},
   "outputs": [],
   "source": [
    "texts=[]\n",
    "labels=[]"
   ]
  },
  {
   "cell_type": "code",
   "execution_count": 4,
   "metadata": {},
   "outputs": [],
   "source": [
    "for line in train_dir:\n",
    "    line=line.rstrip()\n",
    "    label=line[0:10]\n",
    "    text=line[10:]\n",
    "    l=[]\n",
    "    if label==\"__label__2\":\n",
    "        labels.append(1)\n",
    "    else:\n",
    "        labels.append(0)\n",
    "    texts.append(text)"
   ]
  },
  {
   "cell_type": "code",
   "execution_count": 5,
   "metadata": {},
   "outputs": [
    {
     "name": "stdout",
     "output_type": "stream",
     "text": [
      "3600000\n",
      "3600000\n"
     ]
    }
   ],
   "source": [
    "print(len(texts))\n",
    "print(len(labels))"
   ]
  },
  {
   "cell_type": "code",
   "execution_count": 6,
   "metadata": {},
   "outputs": [
    {
     "data": {
      "text/plain": [
       "' Stuning even for the non-gamer: This sound track was beautiful! It paints the senery in your mind so well I would recomend it even to people who hate vid. game music! I have played the game Chrono Cross but out of all of the games I have ever played it has the best music! It backs away from crude keyboarding and takes a fresher step with grate guitars and soulful orchestras. It would impress anyone who cares to listen! ^_^'"
      ]
     },
     "execution_count": 6,
     "metadata": {},
     "output_type": "execute_result"
    }
   ],
   "source": [
    "texts[0]"
   ]
  },
  {
   "cell_type": "code",
   "execution_count": 7,
   "metadata": {},
   "outputs": [
    {
     "data": {
      "text/plain": [
       "80"
      ]
     },
     "execution_count": 7,
     "metadata": {},
     "output_type": "execute_result"
    }
   ],
   "source": [
    "text=texts[0].split()\n",
    "len(text)"
   ]
  },
  {
   "cell_type": "code",
   "execution_count": 8,
   "metadata": {},
   "outputs": [],
   "source": [
    "text=texts[:200000]"
   ]
  },
  {
   "cell_type": "code",
   "execution_count": 9,
   "metadata": {},
   "outputs": [
    {
     "name": "stdout",
     "output_type": "stream",
     "text": [
      "200000\n"
     ]
    }
   ],
   "source": [
    "print(len(text))"
   ]
  },
  {
   "cell_type": "code",
   "execution_count": 10,
   "metadata": {},
   "outputs": [],
   "source": [
    "cleaned_text=[]"
   ]
  },
  {
   "cell_type": "code",
   "execution_count": 11,
   "metadata": {},
   "outputs": [
    {
     "name": "stdout",
     "output_type": "stream",
     "text": [
      "200000\n"
     ]
    }
   ],
   "source": [
    "c=0\n",
    "f = open(\"clean.txt\",encoding=\"utf8\")\n",
    "for lis in f:\n",
    "    lis=lis.rstrip()\n",
    "    cleaned_text.append(lis)\n",
    "    c+=1\n",
    "f.close()\n",
    "print(c)"
   ]
  },
  {
   "cell_type": "code",
   "execution_count": 12,
   "metadata": {},
   "outputs": [
    {
     "name": "stdout",
     "output_type": "stream",
     "text": [
      "excellent soundtrack truly like soundtrack enjoy video game music played game music enjoy truly relaxing peacefulon disk one favorites scars time life death forest illusion fortress ancient dragons lost fragment drowned valleydisk two draggons galdorb home chronomantique prisoners fate gale girlfriend likes zelbessdisk three best three garden god chronopolis fates jellyfish sea burning orphange dragons prayer tower stars dragon god radical dreamers unstealable jeweloverall excellent soundtrack brought like video game musicxander cross\n",
      "72\n"
     ]
    }
   ],
   "source": [
    "s=cleaned_text[3]\n",
    "print(s)\n",
    "\n",
    "s=s.split()\n",
    "print(len(s))"
   ]
  },
  {
   "cell_type": "markdown",
   "metadata": {},
   "source": [
    "# Preprocessing Data"
   ]
  },
  {
   "cell_type": "code",
   "execution_count": 13,
   "metadata": {},
   "outputs": [
    {
     "name": "stderr",
     "output_type": "stream",
     "text": [
      "Using TensorFlow backend.\n"
     ]
    }
   ],
   "source": [
    "from keras.preprocessing.text import Tokenizer\n",
    "from keras.preprocessing.sequence import pad_sequences\n",
    "\n"
   ]
  },
  {
   "cell_type": "code",
   "execution_count": 14,
   "metadata": {},
   "outputs": [],
   "source": [
    "tokenizer = Tokenizer(num_words=20000)\n",
    "tokenizer.fit_on_texts(cleaned_text)\n",
    "sequences = tokenizer.texts_to_sequences(cleaned_text)\n",
    "data = pad_sequences(sequences, maxlen=60)\n",
    "labels = np.asarray(labels)"
   ]
  },
  {
   "cell_type": "code",
   "execution_count": 15,
   "metadata": {},
   "outputs": [],
   "source": [
    "maxlen = 60 #ts off reviews after 100 words\n",
    "training_samples = 160000#Trains on 200 samples\n",
    "validation_samples = 30000\n",
    "test_sample=10000#Validates on 10,000 samples\n",
    "max_words = 20000 #Considers only the top20,000 words in the dataset\n"
   ]
  },
  {
   "cell_type": "code",
   "execution_count": 16,
   "metadata": {},
   "outputs": [
    {
     "name": "stdout",
     "output_type": "stream",
     "text": [
      "Found 295599 unique tokens.\n",
      "Shape of data tensor: (200000, 60)\n",
      "Shape of label tensor: (3600000,)\n"
     ]
    }
   ],
   "source": [
    "word_index = tokenizer.word_index\n",
    "print('Found %s unique tokens.' % len(word_index))\n",
    "print('Shape of data tensor:', data.shape)\n",
    "print('Shape of label tensor:', labels.shape)\n"
   ]
  },
  {
   "cell_type": "code",
   "execution_count": 17,
   "metadata": {},
   "outputs": [
    {
     "data": {
      "text/plain": [
       "{'book': 1,\n",
       " 'one': 2,\n",
       " 'like': 3,\n",
       " 'great': 4,\n",
       " 'good': 5,\n",
       " 'movie': 6,\n",
       " 'read': 7,\n",
       " 'would': 8,\n",
       " 'time': 9,\n",
       " 'get': 10,\n",
       " 'dont': 11,\n",
       " 'really': 12,\n",
       " 'first': 13,\n",
       " 'even': 14,\n",
       " 'much': 15,\n",
       " 'love': 16,\n",
       " 'well': 17,\n",
       " 'best': 18,\n",
       " 'story': 19,\n",
       " 'album': 20,\n",
       " 'better': 21,\n",
       " 'cd': 22,\n",
       " 'buy': 23,\n",
       " 'could': 24,\n",
       " 'think': 25,\n",
       " 'also': 26,\n",
       " 'way': 27,\n",
       " 'many': 28,\n",
       " 'im': 29,\n",
       " 'film': 30,\n",
       " 'new': 31,\n",
       " 'little': 32,\n",
       " 'ever': 33,\n",
       " 'work': 34,\n",
       " 'see': 35,\n",
       " 'books': 36,\n",
       " 'never': 37,\n",
       " 'music': 38,\n",
       " 'bad': 39,\n",
       " 'know': 40,\n",
       " 'make': 41,\n",
       " 'still': 42,\n",
       " 'product': 43,\n",
       " 'people': 44,\n",
       " 'bought': 45,\n",
       " 'back': 46,\n",
       " 'use': 47,\n",
       " 'made': 48,\n",
       " 'two': 49,\n",
       " 'got': 50,\n",
       " 'reading': 51,\n",
       " 'want': 52,\n",
       " 'dvd': 53,\n",
       " 'money': 54,\n",
       " 'years': 55,\n",
       " 'didnt': 56,\n",
       " 'old': 57,\n",
       " 'ive': 58,\n",
       " 'find': 59,\n",
       " 'say': 60,\n",
       " 'recommend': 61,\n",
       " 'life': 62,\n",
       " 'cant': 63,\n",
       " 'go': 64,\n",
       " 'songs': 65,\n",
       " 'every': 66,\n",
       " 'found': 67,\n",
       " 'another': 68,\n",
       " 'characters': 69,\n",
       " 'quality': 70,\n",
       " 'thought': 71,\n",
       " 'worth': 72,\n",
       " 'put': 73,\n",
       " 'something': 74,\n",
       " 'used': 75,\n",
       " 'thing': 76,\n",
       " '2': 77,\n",
       " 'doesnt': 78,\n",
       " 'long': 79,\n",
       " 'series': 80,\n",
       " 'give': 81,\n",
       " 'must': 82,\n",
       " 'going': 83,\n",
       " 'lot': 84,\n",
       " 'nothing': 85,\n",
       " 'end': 86,\n",
       " 'version': 87,\n",
       " 'hard': 88,\n",
       " 'sound': 89,\n",
       " 'makes': 90,\n",
       " 'excellent': 91,\n",
       " 'since': 92,\n",
       " 'however': 93,\n",
       " 'real': 94,\n",
       " 'times': 95,\n",
       " 'watch': 96,\n",
       " 'fan': 97,\n",
       " 'last': 98,\n",
       " 'anyone': 99,\n",
       " 'written': 100,\n",
       " 'waste': 101,\n",
       " 'enough': 102,\n",
       " 'though': 103,\n",
       " 'look': 104,\n",
       " 'right': 105,\n",
       " 'looking': 106,\n",
       " 'different': 107,\n",
       " 'need': 108,\n",
       " 'movies': 109,\n",
       " 'year': 110,\n",
       " 'song': 111,\n",
       " 'plot': 112,\n",
       " 'without': 113,\n",
       " 'take': 114,\n",
       " 'easy': 115,\n",
       " 'disappointed': 116,\n",
       " 'big': 117,\n",
       " 'interesting': 118,\n",
       " 'price': 119,\n",
       " 'works': 120,\n",
       " 'nice': 121,\n",
       " 'day': 122,\n",
       " 'far': 123,\n",
       " 'feel': 124,\n",
       " 'us': 125,\n",
       " 'boring': 126,\n",
       " 'game': 127,\n",
       " 'fun': 128,\n",
       " 'always': 129,\n",
       " 'amazon': 130,\n",
       " 'world': 131,\n",
       " 'come': 132,\n",
       " 'original': 133,\n",
       " 'classic': 134,\n",
       " 'author': 135,\n",
       " 'set': 136,\n",
       " 'things': 137,\n",
       " 'pretty': 138,\n",
       " 'actually': 139,\n",
       " 'seen': 140,\n",
       " 'may': 141,\n",
       " 'around': 142,\n",
       " 'loved': 143,\n",
       " 'wonderful': 144,\n",
       " 'sure': 145,\n",
       " 'reviews': 146,\n",
       " '3': 147,\n",
       " 'stars': 148,\n",
       " 'part': 149,\n",
       " 'play': 150,\n",
       " 'novel': 151,\n",
       " 'favorite': 152,\n",
       " 'worst': 153,\n",
       " 'enjoy': 154,\n",
       " 'away': 155,\n",
       " 'bit': 156,\n",
       " 'anything': 157,\n",
       " 'keep': 158,\n",
       " 'almost': 159,\n",
       " 'seems': 160,\n",
       " 'thats': 161,\n",
       " 'writing': 162,\n",
       " 'review': 163,\n",
       " 'character': 164,\n",
       " 'quite': 165,\n",
       " '5': 166,\n",
       " 'whole': 167,\n",
       " 'man': 168,\n",
       " 'said': 169,\n",
       " 'yet': 170,\n",
       " 'purchased': 171,\n",
       " 'try': 172,\n",
       " 'came': 173,\n",
       " 'show': 174,\n",
       " 'poor': 175,\n",
       " 'next': 176,\n",
       " 'done': 177,\n",
       " 'believe': 178,\n",
       " 'problem': 179,\n",
       " 'video': 180,\n",
       " 'isnt': 181,\n",
       " 'true': 182,\n",
       " 'funny': 183,\n",
       " 'youre': 184,\n",
       " 'instead': 185,\n",
       " 'heard': 186,\n",
       " 'small': 187,\n",
       " 'perfect': 188,\n",
       " 'might': 189,\n",
       " 'getting': 190,\n",
       " 'using': 191,\n",
       " 'least': 192,\n",
       " 'everything': 193,\n",
       " 'probably': 194,\n",
       " 'high': 195,\n",
       " 'couldnt': 196,\n",
       " 'highly': 197,\n",
       " 'wont': 198,\n",
       " 'listen': 199,\n",
       " 'maybe': 200,\n",
       " 'enjoyed': 201,\n",
       " 'wanted': 202,\n",
       " '1': 203,\n",
       " 'second': 204,\n",
       " '4': 205,\n",
       " 'tried': 206,\n",
       " 'less': 207,\n",
       " 'understand': 208,\n",
       " 'live': 209,\n",
       " 'trying': 210,\n",
       " 'wrong': 211,\n",
       " 'pages': 212,\n",
       " 'star': 213,\n",
       " 'point': 214,\n",
       " 'amazing': 215,\n",
       " 'saw': 216,\n",
       " 'wasnt': 217,\n",
       " 'help': 218,\n",
       " 'fact': 219,\n",
       " 'several': 220,\n",
       " 'kids': 221,\n",
       " 'band': 222,\n",
       " 'family': 223,\n",
       " 'gets': 224,\n",
       " 'three': 225,\n",
       " 'ago': 226,\n",
       " 'others': 227,\n",
       " 'someone': 228,\n",
       " 'full': 229,\n",
       " 'job': 230,\n",
       " 'days': 231,\n",
       " 'liked': 232,\n",
       " 'short': 233,\n",
       " 'definitely': 234,\n",
       " 'wish': 235,\n",
       " 'able': 236,\n",
       " 'item': 237,\n",
       " 'watching': 238,\n",
       " 'although': 239,\n",
       " 'beautiful': 240,\n",
       " 'let': 241,\n",
       " 'buying': 242,\n",
       " 'purchase': 243,\n",
       " 'together': 244,\n",
       " 'months': 245,\n",
       " 'else': 246,\n",
       " 'style': 247,\n",
       " 'everyone': 248,\n",
       " 'especially': 249,\n",
       " 'history': 250,\n",
       " 'already': 251,\n",
       " 'kind': 252,\n",
       " 'fine': 253,\n",
       " 'went': 254,\n",
       " 'gave': 255,\n",
       " 'cover': 256,\n",
       " 'received': 257,\n",
       " 'terrible': 258,\n",
       " 'happy': 259,\n",
       " 'reason': 260,\n",
       " 'took': 261,\n",
       " 'collection': 262,\n",
       " 'case': 263,\n",
       " 'voice': 264,\n",
       " 'started': 265,\n",
       " 'hope': 266,\n",
       " 'action': 267,\n",
       " 'minutes': 268,\n",
       " 'information': 269,\n",
       " 'left': 270,\n",
       " 'stuff': 271,\n",
       " 'simply': 272,\n",
       " 'young': 273,\n",
       " 'place': 274,\n",
       " 'top': 275,\n",
       " 'comes': 276,\n",
       " 'rather': 277,\n",
       " 'picture': 278,\n",
       " 'order': 279,\n",
       " 'looks': 280,\n",
       " 'id': 281,\n",
       " 'acting': 282,\n",
       " 'start': 283,\n",
       " 'horrible': 284,\n",
       " 'ordered': 285,\n",
       " 'edition': 286,\n",
       " 'making': 287,\n",
       " 'stories': 288,\n",
       " 'home': 289,\n",
       " 'fit': 290,\n",
       " '10': 291,\n",
       " 'fans': 292,\n",
       " 'piece': 293,\n",
       " 'half': 294,\n",
       " 'tell': 295,\n",
       " 'sounds': 296,\n",
       " 'copy': 297,\n",
       " 'awesome': 298,\n",
       " 'truly': 299,\n",
       " 'line': 300,\n",
       " 'hear': 301,\n",
       " 'youll': 302,\n",
       " 'ok': 303,\n",
       " 'rock': 304,\n",
       " 'special': 305,\n",
       " 'son': 306,\n",
       " 'rest': 307,\n",
       " 'school': 308,\n",
       " 'please': 309,\n",
       " 'reader': 310,\n",
       " 'mind': 311,\n",
       " 'children': 312,\n",
       " 'worked': 313,\n",
       " 'takes': 314,\n",
       " 'absolutely': 315,\n",
       " 'either': 316,\n",
       " 'along': 317,\n",
       " 'scenes': 318,\n",
       " 'seem': 319,\n",
       " 'ending': 320,\n",
       " 'completely': 321,\n",
       " 'lost': 322,\n",
       " 'words': 323,\n",
       " 'light': 324,\n",
       " 'box': 325,\n",
       " 'goes': 326,\n",
       " 'christmas': 327,\n",
       " 'page': 328,\n",
       " 'couple': 329,\n",
       " 'wait': 330,\n",
       " 'finally': 331,\n",
       " 'save': 332,\n",
       " 'person': 333,\n",
       " 'idea': 334,\n",
       " 'night': 335,\n",
       " 'friends': 336,\n",
       " 'problems': 337,\n",
       " 'felt': 338,\n",
       " 'size': 339,\n",
       " 'theres': 340,\n",
       " 'wouldnt': 341,\n",
       " 'shows': 342,\n",
       " 'return': 343,\n",
       " 'american': 344,\n",
       " 'main': 345,\n",
       " 'overall': 346,\n",
       " 'ill': 347,\n",
       " 'simple': 348,\n",
       " 'track': 349,\n",
       " 'expected': 350,\n",
       " 'black': 351,\n",
       " 'tv': 352,\n",
       " 'player': 353,\n",
       " 'ones': 354,\n",
       " 'thinking': 355,\n",
       " 'gift': 356,\n",
       " 'course': 357,\n",
       " 'cannot': 358,\n",
       " 'experience': 359,\n",
       " 'loves': 360,\n",
       " 'cheap': 361,\n",
       " 'title': 362,\n",
       " 'side': 363,\n",
       " 'albums': 364,\n",
       " 'mr': 365,\n",
       " 'disappointing': 366,\n",
       " 'etc': 367,\n",
       " 'sense': 368,\n",
       " 'past': 369,\n",
       " 'guess': 370,\n",
       " 'write': 371,\n",
       " 'tracks': 372,\n",
       " 'playing': 373,\n",
       " 'difficult': 374,\n",
       " 'complete': 375,\n",
       " 'needs': 376,\n",
       " 'hours': 377,\n",
       " 'daughter': 378,\n",
       " 'given': 379,\n",
       " 'parts': 380,\n",
       " 'name': 381,\n",
       " 'guy': 382,\n",
       " 'care': 383,\n",
       " 'power': 384,\n",
       " 'release': 385,\n",
       " 'working': 386,\n",
       " 'entire': 387,\n",
       " 'films': 388,\n",
       " 'gives': 389,\n",
       " 'extremely': 390,\n",
       " 'easily': 391,\n",
       " 'learn': 392,\n",
       " 'turn': 393,\n",
       " 'water': 394,\n",
       " 'yes': 395,\n",
       " 'girl': 396,\n",
       " 'later': 397,\n",
       " 'child': 398,\n",
       " 'house': 399,\n",
       " 'totally': 400,\n",
       " 'cut': 401,\n",
       " 'fast': 402,\n",
       " 'unit': 403,\n",
       " 'needed': 404,\n",
       " 'single': 405,\n",
       " 'cool': 406,\n",
       " 'disc': 407,\n",
       " 'baby': 408,\n",
       " 'slow': 409,\n",
       " 'awful': 410,\n",
       " 'listening': 411,\n",
       " 'says': 412,\n",
       " 'phone': 413,\n",
       " 'called': 414,\n",
       " 'stop': 415,\n",
       " 'remember': 416,\n",
       " 'havent': 417,\n",
       " 'hold': 418,\n",
       " 'material': 419,\n",
       " 'god': 420,\n",
       " 'free': 421,\n",
       " 'friend': 422,\n",
       " 'hes': 423,\n",
       " 'played': 424,\n",
       " 'told': 425,\n",
       " 'scene': 426,\n",
       " 'stay': 427,\n",
       " 'war': 428,\n",
       " 'kept': 429,\n",
       " 'white': 430,\n",
       " 'today': 431,\n",
       " 'based': 432,\n",
       " 'watched': 433,\n",
       " 'service': 434,\n",
       " 'finish': 435,\n",
       " 'often': 436,\n",
       " 'entertaining': 437,\n",
       " 'expect': 438,\n",
       " 'huge': 439,\n",
       " 'change': 440,\n",
       " 'seemed': 441,\n",
       " 'recommended': 442,\n",
       " 'mean': 443,\n",
       " 'women': 444,\n",
       " 'english': 445,\n",
       " 'clear': 446,\n",
       " 'heart': 447,\n",
       " 'sorry': 448,\n",
       " 'type': 449,\n",
       " 'disappointment': 450,\n",
       " 'unfortunately': 451,\n",
       " 'head': 452,\n",
       " '6': 453,\n",
       " 'toy': 454,\n",
       " 'close': 455,\n",
       " 'stupid': 456,\n",
       " 'company': 457,\n",
       " 'woman': 458,\n",
       " 'beginning': 459,\n",
       " 'word': 460,\n",
       " 'greatest': 461,\n",
       " 'class': 462,\n",
       " 'authors': 463,\n",
       " 'happened': 464,\n",
       " 'weeks': 465,\n",
       " 'sometimes': 466,\n",
       " 'store': 467,\n",
       " 'opinion': 468,\n",
       " 'early': 469,\n",
       " 'interested': 470,\n",
       " 'plastic': 471,\n",
       " 'glad': 472,\n",
       " 'hate': 473,\n",
       " 'sad': 474,\n",
       " 'run': 475,\n",
       " 'low': 476,\n",
       " '20': 477,\n",
       " 'fantastic': 478,\n",
       " 'previous': 479,\n",
       " 'lots': 480,\n",
       " '12': 481,\n",
       " 'matter': 482,\n",
       " 'five': 483,\n",
       " 'deal': 484,\n",
       " 'within': 485,\n",
       " 'four': 486,\n",
       " 'dark': 487,\n",
       " 'certainly': 488,\n",
       " 'age': 489,\n",
       " 'become': 490,\n",
       " 'battery': 491,\n",
       " 'guys': 492,\n",
       " 'check': 493,\n",
       " 'available': 494,\n",
       " 'computer': 495,\n",
       " 'performance': 496,\n",
       " 'pay': 497,\n",
       " 'cds': 498,\n",
       " 'john': 499,\n",
       " 'horror': 500,\n",
       " 'longer': 501,\n",
       " 'lyrics': 502,\n",
       " 'worse': 503,\n",
       " 'number': 504,\n",
       " 'add': 505,\n",
       " 'decided': 506,\n",
       " 'perhaps': 507,\n",
       " 'unless': 508,\n",
       " 'effects': 509,\n",
       " 'missing': 510,\n",
       " 'hand': 511,\n",
       " 'strong': 512,\n",
       " 'language': 513,\n",
       " 'forward': 514,\n",
       " 'screen': 515,\n",
       " 'season': 516,\n",
       " 'hot': 517,\n",
       " 'week': 518,\n",
       " 'support': 519,\n",
       " 'record': 520,\n",
       " 'oh': 521,\n",
       " 'looked': 522,\n",
       " 'call': 523,\n",
       " 'metal': 524,\n",
       " 'system': 525,\n",
       " 'month': 526,\n",
       " 'quickly': 527,\n",
       " 'boy': 528,\n",
       " 'pick': 529,\n",
       " 'pictures': 530,\n",
       " 'large': 531,\n",
       " 'car': 532,\n",
       " 'color': 533,\n",
       " 'follow': 534,\n",
       " 'important': 535,\n",
       " 'camera': 536,\n",
       " 'open': 537,\n",
       " 'agree': 538,\n",
       " 'sent': 539,\n",
       " 'actors': 540,\n",
       " 'exactly': 541,\n",
       " 'poorly': 542,\n",
       " 'seeing': 543,\n",
       " 'supposed': 544,\n",
       " 'arrived': 545,\n",
       " 'king': 546,\n",
       " 'fiction': 547,\n",
       " 'broke': 548,\n",
       " 'soon': 549,\n",
       " 'features': 550,\n",
       " 'wife': 551,\n",
       " 'enjoyable': 552,\n",
       " 'knew': 553,\n",
       " 'dead': 554,\n",
       " 'view': 555,\n",
       " 'text': 556,\n",
       " 'cast': 557,\n",
       " 'husband': 558,\n",
       " 'usually': 559,\n",
       " 'recording': 560,\n",
       " 'writer': 561,\n",
       " 'stand': 562,\n",
       " 'pop': 563,\n",
       " 'interest': 564,\n",
       " 'death': 565,\n",
       " 'readers': 566,\n",
       " 'chapter': 567,\n",
       " 'except': 568,\n",
       " 'example': 569,\n",
       " 'wonder': 570,\n",
       " 'released': 571,\n",
       " 'novels': 572,\n",
       " 'eyes': 573,\n",
       " 'human': 574,\n",
       " 'turned': 575,\n",
       " 'humor': 576,\n",
       " 'decent': 577,\n",
       " 'art': 578,\n",
       " 'extra': 579,\n",
       " 'design': 580,\n",
       " 'machine': 581,\n",
       " 'hit': 582,\n",
       " 'room': 583,\n",
       " 'inside': 584,\n",
       " 'theyre': 585,\n",
       " 'men': 586,\n",
       " 'taking': 587,\n",
       " 'level': 588,\n",
       " 'gone': 589,\n",
       " 'value': 590,\n",
       " 'dog': 591,\n",
       " 'coming': 592,\n",
       " 'plus': 593,\n",
       " 'feeling': 594,\n",
       " 'comedy': 595,\n",
       " 'older': 596,\n",
       " 'leave': 597,\n",
       " 'useful': 598,\n",
       " 'lives': 599,\n",
       " 'description': 600,\n",
       " 'face': 601,\n",
       " 'heavy': 602,\n",
       " 'brand': 603,\n",
       " 'thank': 604,\n",
       " 'waiting': 605,\n",
       " 'attention': 606,\n",
       " 'group': 607,\n",
       " 'future': 608,\n",
       " 'products': 609,\n",
       " 'coffee': 610,\n",
       " 'customer': 611,\n",
       " 'wants': 612,\n",
       " 'mine': 613,\n",
       " 'library': 614,\n",
       " 'annoying': 615,\n",
       " 'modern': 616,\n",
       " 'spend': 617,\n",
       " 'wrote': 618,\n",
       " 'move': 619,\n",
       " 'garbage': 620,\n",
       " 'effort': 621,\n",
       " 'fall': 622,\n",
       " 'throughout': 623,\n",
       " 'saying': 624,\n",
       " 'due': 625,\n",
       " 'audio': 626,\n",
       " 'hair': 627,\n",
       " 'happen': 628,\n",
       " 'shipping': 629,\n",
       " 'tape': 630,\n",
       " 'finished': 631,\n",
       " 'guitar': 632,\n",
       " 'quick': 633,\n",
       " 'taken': 634,\n",
       " 'giving': 635,\n",
       " 'production': 636,\n",
       " 'personal': 637,\n",
       " 'ideas': 638,\n",
       " 'major': 639,\n",
       " 'spent': 640,\n",
       " 'returned': 641,\n",
       " '30': 642,\n",
       " 'weak': 643,\n",
       " 'junk': 644,\n",
       " 'third': 645,\n",
       " 'keeps': 646,\n",
       " 'hoping': 647,\n",
       " '15': 648,\n",
       " '50': 649,\n",
       " 'clean': 650,\n",
       " 'none': 651,\n",
       " 'mother': 652,\n",
       " 'tale': 653,\n",
       " 'helpful': 654,\n",
       " 'cost': 655,\n",
       " 'alone': 656,\n",
       " 'print': 657,\n",
       " 'okay': 658,\n",
       " 'talent': 659,\n",
       " 'pieces': 660,\n",
       " 'middle': 661,\n",
       " 'paper': 662,\n",
       " 'plays': 663,\n",
       " 'brilliant': 664,\n",
       " 'paid': 665,\n",
       " 'miss': 666,\n",
       " 'issues': 667,\n",
       " 'whats': 668,\n",
       " 'serious': 669,\n",
       " 'basic': 670,\n",
       " 'replacement': 671,\n",
       " 'card': 672,\n",
       " 'arent': 673,\n",
       " 'list': 674,\n",
       " 'recently': 675,\n",
       " 'stick': 676,\n",
       " 'lack': 677,\n",
       " 'detail': 678,\n",
       " 'otherwise': 679,\n",
       " 'kindle': 680,\n",
       " 'romance': 681,\n",
       " 'hour': 682,\n",
       " 'suggest': 683,\n",
       " 'known': 684,\n",
       " 'radio': 685,\n",
       " 'reviewers': 686,\n",
       " 'surprised': 687,\n",
       " 'total': 688,\n",
       " 'running': 689,\n",
       " 'country': 690,\n",
       " 'anyway': 691,\n",
       " 'living': 692,\n",
       " 'guide': 693,\n",
       " 'sex': 694,\n",
       " 'subject': 695,\n",
       " 'behind': 696,\n",
       " 'kid': 697,\n",
       " 'thanks': 698,\n",
       " '100': 699,\n",
       " 'musical': 700,\n",
       " 'seller': 701,\n",
       " 'mystery': 702,\n",
       " 'including': 703,\n",
       " 'expensive': 704,\n",
       " 'break': 705,\n",
       " '8': 706,\n",
       " 'boys': 707,\n",
       " 'content': 708,\n",
       " 'space': 709,\n",
       " 'beyond': 710,\n",
       " 'uses': 711,\n",
       " 'included': 712,\n",
       " 'stopped': 713,\n",
       " 'red': 714,\n",
       " 'twice': 715,\n",
       " 'expecting': 716,\n",
       " 'games': 717,\n",
       " 'software': 718,\n",
       " 'crap': 719,\n",
       " 'wow': 720,\n",
       " 'business': 721,\n",
       " 'food': 722,\n",
       " 'singing': 723,\n",
       " 'actual': 724,\n",
       " 'bring': 725,\n",
       " 'condition': 726,\n",
       " 'model': 727,\n",
       " 'cute': 728,\n",
       " 'dull': 729,\n",
       " 'sort': 730,\n",
       " 'dry': 731,\n",
       " 'bother': 732,\n",
       " 'girls': 733,\n",
       " 'alot': 734,\n",
       " 'exciting': 735,\n",
       " 'avoid': 736,\n",
       " 'somewhat': 737,\n",
       " 'incredible': 738,\n",
       " 'handle': 739,\n",
       " 'chance': 740,\n",
       " 'fell': 741,\n",
       " 'youve': 742,\n",
       " 'ended': 743,\n",
       " 'obviously': 744,\n",
       " 'solid': 745,\n",
       " 'de': 746,\n",
       " 'deep': 747,\n",
       " 'bands': 748,\n",
       " 'pleased': 749,\n",
       " 'laugh': 750,\n",
       " 'rating': 751,\n",
       " 'changed': 752,\n",
       " 'knows': 753,\n",
       " 'similar': 754,\n",
       " 'figure': 755,\n",
       " 'chapters': 756,\n",
       " 'hell': 757,\n",
       " 'moving': 758,\n",
       " 'mostly': 759,\n",
       " 'clearly': 760,\n",
       " 'adventure': 761,\n",
       " 'nearly': 762,\n",
       " 'taste': 763,\n",
       " 'dvds': 764,\n",
       " 'shes': 765,\n",
       " 'means': 766,\n",
       " 'air': 767,\n",
       " 'apart': 768,\n",
       " 'ms': 769,\n",
       " 'excited': 770,\n",
       " 'historical': 771,\n",
       " 'fantasy': 772,\n",
       " 'talk': 773,\n",
       " 'starts': 774,\n",
       " 'basically': 775,\n",
       " 'forget': 776,\n",
       " 'late': 777,\n",
       " 'bottom': 778,\n",
       " 'advice': 779,\n",
       " 'talking': 780,\n",
       " 'lines': 781,\n",
       " 'useless': 782,\n",
       " 'issue': 783,\n",
       " 'bluray': 784,\n",
       " 'jazz': 785,\n",
       " 'details': 786,\n",
       " 'unique': 787,\n",
       " 'possible': 788,\n",
       " 'parents': 789,\n",
       " 'hands': 790,\n",
       " 'local': 791,\n",
       " 'send': 792,\n",
       " 'rate': 793,\n",
       " 'comfortable': 794,\n",
       " 'listened': 795,\n",
       " 'choice': 796,\n",
       " 'sweet': 797,\n",
       " 'happens': 798,\n",
       " 'likes': 799,\n",
       " 'drive': 800,\n",
       " '7': 801,\n",
       " 'control': 802,\n",
       " 'across': 803,\n",
       " 'period': 804,\n",
       " 'broken': 805,\n",
       " 'dialogue': 806,\n",
       " 'front': 807,\n",
       " 'general': 808,\n",
       " 'lets': 809,\n",
       " 'questions': 810,\n",
       " 'masterpiece': 811,\n",
       " 'learning': 812,\n",
       " 'truth': 813,\n",
       " 'upon': 814,\n",
       " 'form': 815,\n",
       " 'science': 816,\n",
       " 'dance': 817,\n",
       " 'plain': 818,\n",
       " 'mix': 819,\n",
       " 'shame': 820,\n",
       " 'loud': 821,\n",
       " 'blue': 822,\n",
       " 'magazine': 823,\n",
       " 'addition': 824,\n",
       " 'attempt': 825,\n",
       " 'impressed': 826,\n",
       " 'package': 827,\n",
       " 'soul': 828,\n",
       " 'realize': 829,\n",
       " 'turns': 830,\n",
       " 'role': 831,\n",
       " 'beat': 832,\n",
       " 'online': 833,\n",
       " 'amount': 834,\n",
       " 'super': 835,\n",
       " 'message': 836,\n",
       " 'powerful': 837,\n",
       " 'wear': 838,\n",
       " 'perfectly': 839,\n",
       " 'replace': 840,\n",
       " 'average': 841,\n",
       " 'scary': 842,\n",
       " 'pure': 843,\n",
       " 'learned': 844,\n",
       " 'skip': 845,\n",
       " 'setting': 846,\n",
       " 'trash': 847,\n",
       " 'became': 848,\n",
       " 'present': 849,\n",
       " 'date': 850,\n",
       " 'research': 851,\n",
       " 'picked': 852,\n",
       " 'doubt': 853,\n",
       " 'beware': 854,\n",
       " 'trouble': 855,\n",
       " 'volume': 856,\n",
       " 'script': 857,\n",
       " 'imagine': 858,\n",
       " 'body': 859,\n",
       " 'despite': 860,\n",
       " 'seriously': 861,\n",
       " 'predictable': 862,\n",
       " 'bible': 863,\n",
       " 'sing': 864,\n",
       " 'vocals': 865,\n",
       " 'tells': 866,\n",
       " 'feels': 867,\n",
       " 'plan': 868,\n",
       " 'u': 869,\n",
       " 'development': 870,\n",
       " 'consider': 871,\n",
       " 'whether': 872,\n",
       " 'cause': 873,\n",
       " 'contains': 874,\n",
       " 'filled': 875,\n",
       " 'ways': 876,\n",
       " 'brought': 877,\n",
       " 'reference': 878,\n",
       " 'mention': 879,\n",
       " 'bag': 880,\n",
       " 'appreciate': 881,\n",
       " 'evil': 882,\n",
       " 'sit': 883,\n",
       " 'versions': 884,\n",
       " 'soundtrack': 885,\n",
       " 'straight': 886,\n",
       " 'background': 887,\n",
       " 'wasted': 888,\n",
       " 'particular': 889,\n",
       " 'earlier': 890,\n",
       " 'students': 891,\n",
       " 'literature': 892,\n",
       " 'pass': 893,\n",
       " 'touch': 894,\n",
       " 'admit': 895,\n",
       " 'michael': 896,\n",
       " 'father': 897,\n",
       " 'compared': 898,\n",
       " 'stuck': 899,\n",
       " 'trip': 900,\n",
       " 'fire': 901,\n",
       " 'usual': 902,\n",
       " 'batteries': 903,\n",
       " 'events': 904,\n",
       " 'genre': 905,\n",
       " 'thin': 906,\n",
       " 'points': 907,\n",
       " 'america': 908,\n",
       " 'tool': 909,\n",
       " 'final': 910,\n",
       " 'immediately': 911,\n",
       " 'filter': 912,\n",
       " 'standard': 913,\n",
       " 'flat': 914,\n",
       " 'lead': 915,\n",
       " 'program': 916,\n",
       " 'la': 917,\n",
       " 'tired': 918,\n",
       " 'putting': 919,\n",
       " 'depth': 920,\n",
       " 'near': 921,\n",
       " 'instructions': 922,\n",
       " 'hits': 923,\n",
       " 'sell': 924,\n",
       " 'christian': 925,\n",
       " 'sucks': 926,\n",
       " 'note': 927,\n",
       " 'director': 928,\n",
       " 'ask': 929,\n",
       " 'sleep': 930,\n",
       " 'continue': 931,\n",
       " 'die': 932,\n",
       " 'study': 933,\n",
       " 'barely': 934,\n",
       " 'impossible': 935,\n",
       " 'tom': 936,\n",
       " 'digital': 937,\n",
       " 'society': 938,\n",
       " 'certain': 939,\n",
       " 'artist': 940,\n",
       " 'ten': 941,\n",
       " 'storyline': 942,\n",
       " 'six': 943,\n",
       " 'college': 944,\n",
       " 'windows': 945,\n",
       " 'anymore': 946,\n",
       " 'feature': 947,\n",
       " 'understanding': 948,\n",
       " 'test': 949,\n",
       " 'leaves': 950,\n",
       " 'rich': 951,\n",
       " 'jack': 952,\n",
       " 'reviewer': 953,\n",
       " 'outstanding': 954,\n",
       " 'died': 955,\n",
       " 'earth': 956,\n",
       " 'device': 957,\n",
       " 'century': 958,\n",
       " 'difference': 959,\n",
       " 'format': 960,\n",
       " 'feet': 961,\n",
       " 'mistake': 962,\n",
       " 'diapers': 963,\n",
       " 'regular': 964,\n",
       " 'confusing': 965,\n",
       " 'bunch': 966,\n",
       " 'negative': 967,\n",
       " 'summer': 968,\n",
       " 'vhs': 969,\n",
       " 'moments': 970,\n",
       " 'forever': 971,\n",
       " 'charge': 972,\n",
       " 'covers': 973,\n",
       " 'various': 974,\n",
       " 'area': 975,\n",
       " 'cable': 976,\n",
       " 'lord': 977,\n",
       " 'ends': 978,\n",
       " 'george': 979,\n",
       " 'city': 980,\n",
       " 'obvious': 981,\n",
       " 'self': 982,\n",
       " 'shot': 983,\n",
       " 'hearing': 984,\n",
       " 'purchasing': 985,\n",
       " 'described': 986,\n",
       " 'sequel': 987,\n",
       " 'recipes': 988,\n",
       " 'correct': 989,\n",
       " 'writers': 990,\n",
       " 'james': 991,\n",
       " 'bored': 992,\n",
       " 'fresh': 993,\n",
       " 'particularly': 994,\n",
       " 'fairly': 995,\n",
       " 'places': 996,\n",
       " 'hollywood': 997,\n",
       " 'master': 998,\n",
       " 'pain': 999,\n",
       " 'outside': 1000,\n",
       " ...}"
      ]
     },
     "execution_count": 17,
     "metadata": {},
     "output_type": "execute_result"
    }
   ],
   "source": [
    "word_index"
   ]
  },
  {
   "cell_type": "code",
   "execution_count": 18,
   "metadata": {},
   "outputs": [],
   "source": [
    "indices = np.arange(data.shape[0]) #Splits the data into a training set and a validation set, but first shuffles the data,because you’re starting with data in whichsamples are ordered (all negative first, then/all positive)\n",
    "np.random.shuffle(indices)\n",
    "data = data[indices]\n",
    "labels = labels[indices]\n",
    "x_train = data[:training_samples]\n",
    "y_train = labels[:training_samples]\n",
    "x_val = data[training_samples: training_samples + validation_samples]\n",
    "y_val = labels[training_samples: training_samples + validation_samples]\n",
    "x_test=data[190000:200000]\n",
    "y_test=labels[190000:200000]"
   ]
  },
  {
   "cell_type": "code",
   "execution_count": 19,
   "metadata": {},
   "outputs": [
    {
     "name": "stdout",
     "output_type": "stream",
     "text": [
      "160000\n",
      "160000\n",
      "10000\n",
      "10000\n"
     ]
    }
   ],
   "source": [
    "print(len(x_train))\n",
    "print(len(y_train))\n",
    "print(len(x_test))\n",
    "print(len(y_test))"
   ]
  },
  {
   "cell_type": "markdown",
   "metadata": {},
   "source": [
    "# Parsing the GloVe word-embeddings file"
   ]
  },
  {
   "cell_type": "code",
   "execution_count": 22,
   "metadata": {},
   "outputs": [
    {
     "name": "stdout",
     "output_type": "stream",
     "text": [
      "Found 400000 word vectors.\n"
     ]
    }
   ],
   "source": [
    "glove_dir = 'D:/c/Desktop/PIAIC/Artificial Intelligent/3rd Quarter/deep learning/sir nasir/Complte 6 chptr material/datasets/glove.6B'\n",
    "embeddings_index = {}\n",
    "f = open(os.path.join(glove_dir, 'glove.6B.100d.txt'),encoding=\"utf8\")\n",
    "for line in f:\n",
    "    values = line.split()\n",
    "    word = values[0]\n",
    "    coefs = np.asarray(values[1:], dtype='float32')\n",
    "    embeddings_index[word] = coefs\n",
    "f.close()\n",
    "print('Found %s word vectors.' % len(embeddings_index))\n"
   ]
  },
  {
   "cell_type": "markdown",
   "metadata": {},
   "source": [
    "# Preparing the GloVe word-embeddings matrix¶"
   ]
  },
  {
   "cell_type": "code",
   "execution_count": 23,
   "metadata": {},
   "outputs": [],
   "source": [
    "embedding_dim = 100\n",
    "embedding_matrix = np.zeros((max_words, embedding_dim))\n",
    "for word, i in word_index.items():\n",
    "    if i < max_words:\n",
    "        embedding_vector = embeddings_index.get(word)\n",
    "        if embedding_vector is not None:\n",
    "            embedding_matrix[i] = embedding_vector #Words not found in the embedding index will be all zeros."
   ]
  },
  {
   "cell_type": "markdown",
   "metadata": {},
   "source": [
    "# Model definition"
   ]
  },
  {
   "cell_type": "code",
   "execution_count": 21,
   "metadata": {},
   "outputs": [
    {
     "ename": "NameError",
     "evalue": "name 'embedding_dim' is not defined",
     "output_type": "error",
     "traceback": [
      "\u001b[1;31m---------------------------------------------------------------------------\u001b[0m",
      "\u001b[1;31mNameError\u001b[0m                                 Traceback (most recent call last)",
      "\u001b[1;32m<ipython-input-21-b288316a2b1c>\u001b[0m in \u001b[0;36m<module>\u001b[1;34m\u001b[0m\n\u001b[0;32m      4\u001b[0m \u001b[1;31m#kernel_regularizer=regularizers.l2(0.001),\u001b[0m\u001b[1;33m\u001b[0m\u001b[1;33m\u001b[0m\u001b[1;33m\u001b[0m\u001b[0m\n\u001b[0;32m      5\u001b[0m \u001b[0mpre_model\u001b[0m \u001b[1;33m=\u001b[0m \u001b[0mSequential\u001b[0m\u001b[1;33m(\u001b[0m\u001b[1;33m)\u001b[0m\u001b[1;33m\u001b[0m\u001b[1;33m\u001b[0m\u001b[0m\n\u001b[1;32m----> 6\u001b[1;33m \u001b[0mpre_model\u001b[0m\u001b[1;33m.\u001b[0m\u001b[0madd\u001b[0m\u001b[1;33m(\u001b[0m\u001b[0mEmbedding\u001b[0m\u001b[1;33m(\u001b[0m\u001b[0mmax_words\u001b[0m\u001b[1;33m,\u001b[0m \u001b[0membedding_dim\u001b[0m\u001b[1;33m,\u001b[0m \u001b[0minput_length\u001b[0m\u001b[1;33m=\u001b[0m\u001b[0mmaxlen\u001b[0m\u001b[1;33m)\u001b[0m\u001b[1;33m)\u001b[0m\u001b[1;33m\u001b[0m\u001b[1;33m\u001b[0m\u001b[0m\n\u001b[0m\u001b[0;32m      7\u001b[0m \u001b[0mpre_model\u001b[0m\u001b[1;33m.\u001b[0m\u001b[0madd\u001b[0m\u001b[1;33m(\u001b[0m\u001b[0mFlatten\u001b[0m\u001b[1;33m(\u001b[0m\u001b[1;33m)\u001b[0m\u001b[1;33m)\u001b[0m\u001b[1;33m\u001b[0m\u001b[1;33m\u001b[0m\u001b[0m\n\u001b[0;32m      8\u001b[0m \u001b[0mpre_model\u001b[0m\u001b[1;33m.\u001b[0m\u001b[0madd\u001b[0m\u001b[1;33m(\u001b[0m\u001b[0mDropout\u001b[0m\u001b[1;33m(\u001b[0m\u001b[1;36m0.5\u001b[0m\u001b[1;33m)\u001b[0m\u001b[1;33m)\u001b[0m\u001b[1;33m\u001b[0m\u001b[1;33m\u001b[0m\u001b[0m\n",
      "\u001b[1;31mNameError\u001b[0m: name 'embedding_dim' is not defined"
     ]
    }
   ],
   "source": [
    "from keras.models import Sequential\n",
    "from keras.layers import Embedding, Flatten, Dense,Dropout\n",
    "from keras import regularizers\n",
    "#kernel_regularizer=regularizers.l2(0.001),\n",
    "pre_model = Sequential()\n",
    "pre_model.add(Embedding(max_words, embedding_dim, input_length=maxlen))\n",
    "pre_model.add(Flatten())\n",
    "pre_model.add(Dropout(0.5))\n",
    "pre_model.add(Dense(64, activation='relu'))\n",
    "pre_model.add(Dense(1, activation='sigmoid'))\n",
    "pre_model.summary()"
   ]
  },
  {
   "cell_type": "markdown",
   "metadata": {},
   "source": [
    "# Loading pretrained word embeddings into the Embedding layer"
   ]
  },
  {
   "cell_type": "code",
   "execution_count": 25,
   "metadata": {},
   "outputs": [
    {
     "name": "stdout",
     "output_type": "stream",
     "text": [
      "Model: \"sequential_1\"\n",
      "_________________________________________________________________\n",
      "Layer (type)                 Output Shape              Param #   \n",
      "=================================================================\n",
      "embedding_1 (Embedding)      (None, 60, 100)           2000000   \n",
      "_________________________________________________________________\n",
      "flatten_1 (Flatten)          (None, 6000)              0         \n",
      "_________________________________________________________________\n",
      "dropout_1 (Dropout)          (None, 6000)              0         \n",
      "_________________________________________________________________\n",
      "dense_1 (Dense)              (None, 64)                384064    \n",
      "_________________________________________________________________\n",
      "dense_2 (Dense)              (None, 1)                 65        \n",
      "=================================================================\n",
      "Total params: 2,384,129\n",
      "Trainable params: 384,129\n",
      "Non-trainable params: 2,000,000\n",
      "_________________________________________________________________\n"
     ]
    }
   ],
   "source": [
    "pre_model.layers[0].set_weights([embedding_matrix])\n",
    "pre_model.layers[0].trainable = False\n",
    "pre_model.summary()"
   ]
  },
  {
   "cell_type": "markdown",
   "metadata": {},
   "source": [
    "# Training and evaluation¶"
   ]
  },
  {
   "cell_type": "code",
   "execution_count": 26,
   "metadata": {},
   "outputs": [],
   "source": [
    "pre_model.compile(optimizer='rmsprop',\n",
    "loss='binary_crossentropy',\n",
    "metrics=['acc'])\n"
   ]
  },
  {
   "cell_type": "code",
   "execution_count": 27,
   "metadata": {},
   "outputs": [
    {
     "name": "stdout",
     "output_type": "stream",
     "text": [
      "Train on 160000 samples, validate on 30000 samples\n",
      "Epoch 1/10\n",
      "160000/160000 [==============================] - 22s 137us/step - loss: 0.5460 - acc: 0.7224 - val_loss: 0.4825 - val_acc: 0.7732\n",
      "Epoch 2/10\n",
      "160000/160000 [==============================] - 21s 134us/step - loss: 0.5052 - acc: 0.7509 - val_loss: 0.4764 - val_acc: 0.7766\n",
      "Epoch 3/10\n",
      "160000/160000 [==============================] - 21s 133us/step - loss: 0.4877 - acc: 0.7640 - val_loss: 0.4700 - val_acc: 0.7834\n",
      "Epoch 4/10\n",
      "160000/160000 [==============================] - 21s 133us/step - loss: 0.4720 - acc: 0.7737 - val_loss: 0.4679 - val_acc: 0.7789\n",
      "Epoch 5/10\n",
      "160000/160000 [==============================] - 21s 133us/step - loss: 0.4568 - acc: 0.7831 - val_loss: 0.4607 - val_acc: 0.7836\n",
      "Epoch 6/10\n",
      "160000/160000 [==============================] - 21s 133us/step - loss: 0.4455 - acc: 0.7893 - val_loss: 0.4727 - val_acc: 0.7688\n",
      "Epoch 7/10\n",
      "160000/160000 [==============================] - 21s 134us/step - loss: 0.4320 - acc: 0.7979 - val_loss: 0.4564 - val_acc: 0.7828\n",
      "Epoch 8/10\n",
      "160000/160000 [==============================] - 22s 136us/step - loss: 0.4232 - acc: 0.8040 - val_loss: 0.4604 - val_acc: 0.7800\n",
      "Epoch 9/10\n",
      "160000/160000 [==============================] - 23s 142us/step - loss: 0.4144 - acc: 0.8086 - val_loss: 0.4706 - val_acc: 0.7706\n",
      "Epoch 10/10\n",
      "160000/160000 [==============================] - 21s 132us/step - loss: 0.4043 - acc: 0.8138 - val_loss: 0.4719 - val_acc: 0.7699\n"
     ]
    }
   ],
   "source": [
    "pre_history = pre_model.fit(x_train, y_train,\n",
    "epochs=10,\n",
    "batch_size=128,\n",
    "validation_data=(x_val, y_val))"
   ]
  },
  {
   "cell_type": "markdown",
   "metadata": {},
   "source": [
    "# Plotting the results"
   ]
  },
  {
   "cell_type": "code",
   "execution_count": 30,
   "metadata": {},
   "outputs": [
    {
     "data": {
      "image/png": "[encoded data removed]",
      "text/plain": [
       "<Figure size 432x288 with 1 Axes>"
      ]
     },
     "metadata": {
      "needs_background": "light"
     },
     "output_type": "display_data"
    },
    {
     "data": {
      "image/png": "[encoded data removed]",
      "text/plain": [
       "<Figure size 432x288 with 1 Axes>"
      ]
     },
     "metadata": {
      "needs_background": "light"
     },
     "output_type": "display_data"
    }
   ],
   "source": [
    "import matplotlib.pyplot as plt\n",
    "acc = pre_history.history['acc']\n",
    "val_acc = pre_history.history['val_acc']\n",
    "loss = pre_history.history['loss']\n",
    "val_loss = pre_history.history['val_loss']\n",
    "epochs = range(1, len(acc) + 1)\n",
    "plt.plot(epochs, acc, 'bo', label='Training acc')\n",
    "plt.plot(epochs, val_acc, 'b', label='Validation acc')\n",
    "plt.title('Training and validation accuracy')\n",
    "plt.legend()\n",
    "plt.figure()\n",
    "plt.plot(epochs, loss, 'bo', label='Training loss')\n",
    "plt.plot(epochs, val_loss, 'b', label='Validation loss')\n",
    "plt.title('Training and validation loss')\n",
    "plt.legend()\n",
    "plt.show()"
   ]
  },
  {
   "cell_type": "code",
   "execution_count": 31,
   "metadata": {},
   "outputs": [
    {
     "name": "stdout",
     "output_type": "stream",
     "text": [
      "10000/10000 [==============================] - 0s 39us/step\n"
     ]
    },
    {
     "data": {
      "text/plain": [
       "[0.47590928773880004, 0.7699000239372253]"
      ]
     },
     "execution_count": 31,
     "metadata": {},
     "output_type": "execute_result"
    }
   ],
   "source": [
    "pre_model.evaluate(x_test, y_test)"
   ]
  },
  {
   "cell_type": "code",
   "execution_count": 32,
   "metadata": {},
   "outputs": [],
   "source": [
    "#pre_model.load_weights('pre_trained_Amazon_model.h5')\n",
    "#pre_model.evaluate(x_test, y_test)"
   ]
  },
  {
   "cell_type": "markdown",
   "metadata": {},
   "source": [
    "# Training the same model without pretrained word embeddings"
   ]
  },
  {
   "cell_type": "code",
   "execution_count": 36,
   "metadata": {},
   "outputs": [
    {
     "name": "stdout",
     "output_type": "stream",
     "text": [
      "Model: \"sequential_4\"\n",
      "_________________________________________________________________\n",
      "Layer (type)                 Output Shape              Param #   \n",
      "=================================================================\n",
      "embedding_4 (Embedding)      (None, 60, 100)           2000000   \n",
      "_________________________________________________________________\n",
      "flatten_4 (Flatten)          (None, 6000)              0         \n",
      "_________________________________________________________________\n",
      "dropout_4 (Dropout)          (None, 6000)              0         \n",
      "_________________________________________________________________\n",
      "dense_7 (Dense)              (None, 128)               768128    \n",
      "_________________________________________________________________\n",
      "dense_8 (Dense)              (None, 1)                 129       \n",
      "=================================================================\n",
      "Total params: 2,768,257\n",
      "Trainable params: 2,768,257\n",
      "Non-trainable params: 0\n",
      "_________________________________________________________________\n"
     ]
    }
   ],
   "source": [
    "from keras.models import Sequential\n",
    "from keras.layers import Embedding, Flatten, Dense\n",
    "from keras import regularizers\n",
    "#kernel_regularizer=regularizers.l2(0.001),\n",
    "Notpre_model = Sequential()\n",
    "Notpre_model.add(Embedding(max_words, embedding_dim, input_length=maxlen))\n",
    "Notpre_model.add(Flatten())\n",
    "Notpre_model.add(Dropout(0.5))\n",
    "Notpre_model.add(Dense(128,kernel_regularizer=regularizers.l2(0.1),activation='relu'))\n",
    "Notpre_model.add(Dense(1, activation='sigmoid'))\n",
    "Notpre_model.summary()\n"
   ]
  },
  {
   "cell_type": "code",
   "execution_count": 37,
   "metadata": {},
   "outputs": [],
   "source": [
    "Notpre_model.compile(optimizer='rmsprop',\n",
    "loss='binary_crossentropy',\n",
    "metrics=['acc'])\n"
   ]
  },
  {
   "cell_type": "code",
   "execution_count": 38,
   "metadata": {},
   "outputs": [
    {
     "name": "stderr",
     "output_type": "stream",
     "text": [
      "C:\\Users\\REHMAN COMPUTER\\Anaconda3\\lib\\site-packages\\tensorflow_core\\python\\framework\\indexed_slices.py:424: UserWarning: Converting sparse IndexedSlices to a dense Tensor of unknown shape. This may consume a large amount of memory.\n",
      "  \"Converting sparse IndexedSlices to a dense Tensor of unknown shape. \"\n"
     ]
    },
    {
     "name": "stdout",
     "output_type": "stream",
     "text": [
      "Train on 160000 samples, validate on 30000 samples\n",
      "Epoch 1/10\n",
      "160000/160000 [==============================] - 28s 174us/step - loss: 1.4490 - acc: 0.7444 - val_loss: 0.4875 - val_acc: 0.8568\n",
      "Epoch 2/10\n",
      "160000/160000 [==============================] - 28s 174us/step - loss: 0.4365 - acc: 0.8640 - val_loss: 0.4122 - val_acc: 0.8652\n",
      "Epoch 3/10\n",
      "160000/160000 [==============================] - 28s 175us/step - loss: 0.3889 - acc: 0.8754 - val_loss: 0.4047 - val_acc: 0.8633\n",
      "Epoch 4/10\n",
      "160000/160000 [==============================] - 28s 176us/step - loss: 0.3743 - acc: 0.8807 - val_loss: 0.4054 - val_acc: 0.8647\n",
      "Epoch 5/10\n",
      "160000/160000 [==============================] - 28s 173us/step - loss: 0.3666 - acc: 0.8825 - val_loss: 0.3955 - val_acc: 0.8715\n",
      "Epoch 6/10\n",
      "160000/160000 [==============================] - 28s 177us/step - loss: 0.3604 - acc: 0.8853 - val_loss: 0.3860 - val_acc: 0.8697\n",
      "Epoch 7/10\n",
      "160000/160000 [==============================] - 28s 177us/step - loss: 0.3563 - acc: 0.8870 - val_loss: 0.3840 - val_acc: 0.8724\n",
      "Epoch 8/10\n",
      "160000/160000 [==============================] - 28s 172us/step - loss: 0.3524 - acc: 0.8887 - val_loss: 0.3666 - val_acc: 0.8796\n",
      "Epoch 9/10\n",
      "160000/160000 [==============================] - 28s 172us/step - loss: 0.3480 - acc: 0.8904 - val_loss: 0.3889 - val_acc: 0.8732\n",
      "Epoch 10/10\n",
      "160000/160000 [==============================] - 28s 173us/step - loss: 0.3432 - acc: 0.8920 - val_loss: 0.3848 - val_acc: 0.8727\n"
     ]
    }
   ],
   "source": [
    "Notpre_history = Notpre_model.fit(x_train, y_train,\n",
    "epochs=10,\n",
    "batch_size=1000,\n",
    "validation_data=(x_val, y_val))"
   ]
  },
  {
   "cell_type": "code",
   "execution_count": 39,
   "metadata": {},
   "outputs": [
    {
     "data": {
      "image/png": "[encoded data removed]",
      "text/plain": [
       "<Figure size 432x288 with 1 Axes>"
      ]
     },
     "metadata": {
      "needs_background": "light"
     },
     "output_type": "display_data"
    },
    {
     "data": {
      "image/png": "[encoded data removed]",
      "text/plain": [
       "<Figure size 432x288 with 1 Axes>"
      ]
     },
     "metadata": {
      "needs_background": "light"
     },
     "output_type": "display_data"
    }
   ],
   "source": [
    "import matplotlib.pyplot as plt\n",
    "acc = Notpre_history.history['acc']\n",
    "val_acc = Notpre_history.history['val_acc']\n",
    "loss = Notpre_history.history['loss']\n",
    "val_loss = Notpre_history.history['val_loss']\n",
    "epochs = range(1, len(acc) + 1)\n",
    "plt.plot(epochs, acc, 'bo', label='Training acc')\n",
    "plt.plot(epochs, val_acc, 'b', label='Validation acc')\n",
    "plt.title('Training and validation accuracy')\n",
    "plt.legend()\n",
    "plt.figure()\n",
    "plt.plot(epochs, loss, 'bo', label='Training loss')\n",
    "plt.plot(epochs, val_loss, 'b', label='Validation loss')\n",
    "plt.title('Training and validation loss')\n",
    "plt.legend()\n",
    "plt.show()"
   ]
  },
  {
   "cell_type": "code",
   "execution_count": 40,
   "metadata": {},
   "outputs": [
    {
     "name": "stdout",
     "output_type": "stream",
     "text": [
      "10000/10000 [==============================] - 1s 93us/step\n"
     ]
    },
    {
     "data": {
      "text/plain": [
       "[0.39725998764038084, 0.8715000152587891]"
      ]
     },
     "execution_count": 40,
     "metadata": {},
     "output_type": "execute_result"
    }
   ],
   "source": [
    "Notpre_model.evaluate(x_test, y_test)"
   ]
  },
  {
   "cell_type": "markdown",
   "metadata": {},
   "source": [
    "# We can see that it takes more epochs before the reduced model starts overfitting. The validation loss also goes up slower than our first model."
   ]
  },
  {
   "cell_type": "code",
   "execution_count": 41,
   "metadata": {},
   "outputs": [
    {
     "data": {
      "text/plain": [
       "\"def compare_models_by_metric(model_1, model_2, model_hist_1, model_hist_2, metric):\\n    \\n    Function to compare a metric between two models \\n    \\n    Parameters:\\n        model_hist_1 : training history of model 1\\n        model_hist_2 : training history of model 2\\n        metrix : metric to compare, loss, acc, val_loss or val_acc\\n        \\n    Output:\\n        plot of metrics of both models\\n    \\n    metric_model_1 = model_hist_1.history[metric]\\n    metric_model_2 = model_hist_2.history[metric]\\n    e = range(1, 10 + 1)\\n    \\n    metrics_dict = {\\n        'acc' : 'Training Accuracy',\\n        'loss' : 'Training Loss',\\n        'val_acc' : 'Validation accuracy',\\n        'val_loss' : 'Validation loss'\\n    }\\nmetric_label = metrics_dict[metric]\\nplt.plot(e, metric_model_1, 'bo', label=model_1.name)\\nplt.plot(e, metric_model_2, 'b', label=model_2.name)\\nplt.xlabel('Epoch number')\\nplt.ylabel(metric_label)\\nplt.title('Comparing ' + metric_label + ' between models')\\nplt.legend()\\nplt.show()\""
      ]
     },
     "execution_count": 41,
     "metadata": {},
     "output_type": "execute_result"
    }
   ],
   "source": [
    "'''def compare_models_by_metric(model_1, model_2, model_hist_1, model_hist_2, metric):\n",
    "    \n",
    "    Function to compare a metric between two models \n",
    "    \n",
    "    Parameters:\n",
    "        model_hist_1 : training history of model 1\n",
    "        model_hist_2 : training history of model 2\n",
    "        metrix : metric to compare, loss, acc, val_loss or val_acc\n",
    "        \n",
    "    Output:\n",
    "        plot of metrics of both models\n",
    "    \n",
    "    metric_model_1 = model_hist_1.history[metric]\n",
    "    metric_model_2 = model_hist_2.history[metric]\n",
    "    e = range(1, 10 + 1)\n",
    "    \n",
    "    metrics_dict = {\n",
    "        'acc' : 'Training Accuracy',\n",
    "        'loss' : 'Training Loss',\n",
    "        'val_acc' : 'Validation accuracy',\n",
    "        'val_loss' : 'Validation loss'\n",
    "    }\n",
    "metric_label = metrics_dict[metric]\n",
    "plt.plot(e, metric_model_1, 'bo', label=model_1.name)\n",
    "plt.plot(e, metric_model_2, 'b', label=model_2.name)\n",
    "plt.xlabel('Epoch number')\n",
    "plt.ylabel(metric_label)\n",
    "plt.title('Comparing ' + metric_label + ' between models')\n",
    "plt.legend()\n",
    "plt.show()'''"
   ]
  },
  {
   "cell_type": "code",
   "execution_count": 42,
   "metadata": {},
   "outputs": [],
   "source": [
    "#compare_models_by_metric(pre_model, Notpre_model, pre_history, Notpre_history, 'val_loss')"
   ]
  },
  {
   "cell_type": "markdown",
   "metadata": {},
   "source": [
    "# Training the model with Embedding and SimpleRNN layers\n"
   ]
  },
  {
   "cell_type": "code",
   "execution_count": 45,
   "metadata": {},
   "outputs": [],
   "source": [
    "from keras.models import Sequential\n",
    "from keras.layers import Embedding, Flatten, Dense,SimpleRNN\n",
    "model = Sequential()\n",
    "model.add(Embedding(max_words, 32))\n",
    "model.add(SimpleRNN(512,dropout=0.5, recurrent_dropout=0.5,return_sequences=True))\n",
    "model.add(SimpleRNN(32,dropout=0.5))\n",
    "model.add(Dense(1, activation='sigmoid'))\n",
    "model.compile(optimizer='rmsprop', loss='binary_crossentropy', metrics=['acc'])\n"
   ]
  },
  {
   "cell_type": "code",
   "execution_count": 46,
   "metadata": {},
   "outputs": [
    {
     "name": "stderr",
     "output_type": "stream",
     "text": [
      "C:\\Users\\REHMAN COMPUTER\\Anaconda3\\lib\\site-packages\\tensorflow_core\\python\\framework\\indexed_slices.py:424: UserWarning: Converting sparse IndexedSlices to a dense Tensor of unknown shape. This may consume a large amount of memory.\n",
      "  \"Converting sparse IndexedSlices to a dense Tensor of unknown shape. \"\n"
     ]
    },
    {
     "name": "stdout",
     "output_type": "stream",
     "text": [
      "Train on 160000 samples, validate on 30000 samples\n",
      "Epoch 1/15\n",
      "160000/160000 [==============================] - 592s 4ms/step - loss: 0.7021 - acc: 0.5001 - val_loss: 0.6944 - val_acc: 0.4963\n",
      "Epoch 2/15\n",
      "160000/160000 [==============================] - 565s 4ms/step - loss: 0.6833 - acc: 0.5357 - val_loss: 0.6317 - val_acc: 0.6548\n",
      "Epoch 3/15\n",
      "160000/160000 [==============================] - 566s 4ms/step - loss: 0.5781 - acc: 0.6992 - val_loss: 0.5164 - val_acc: 0.7560\n",
      "Epoch 4/15\n",
      "160000/160000 [==============================] - 573s 4ms/step - loss: 0.5339 - acc: 0.7398 - val_loss: 0.5014 - val_acc: 0.7630\n",
      "Epoch 5/15\n",
      "160000/160000 [==============================] - 584s 4ms/step - loss: 0.5030 - acc: 0.7609 - val_loss: 0.4497 - val_acc: 0.8014\n",
      "Epoch 6/15\n",
      "160000/160000 [==============================] - 590s 4ms/step - loss: 0.4854 - acc: 0.7760 - val_loss: 0.4934 - val_acc: 0.7822\n",
      "Epoch 7/15\n",
      "160000/160000 [==============================] - 596s 4ms/step - loss: 0.4773 - acc: 0.7802 - val_loss: 0.4236 - val_acc: 0.8138\n",
      "Epoch 8/15\n",
      "160000/160000 [==============================] - 590s 4ms/step - loss: 0.4785 - acc: 0.7784 - val_loss: 0.4356 - val_acc: 0.8035\n",
      "Epoch 9/15\n",
      "160000/160000 [==============================] - 586s 4ms/step - loss: 0.4756 - acc: 0.7814 - val_loss: 0.4446 - val_acc: 0.7983\n",
      "Epoch 10/15\n",
      "160000/160000 [==============================] - 571s 4ms/step - loss: 0.4706 - acc: 0.7844 - val_loss: 0.4164 - val_acc: 0.8227\n",
      "Epoch 11/15\n",
      "160000/160000 [==============================] - 551s 3ms/step - loss: 0.4616 - acc: 0.7903 - val_loss: 0.4486 - val_acc: 0.8029\n",
      "Epoch 12/15\n",
      "160000/160000 [==============================] - 541s 3ms/step - loss: 0.4492 - acc: 0.7993 - val_loss: 0.4208 - val_acc: 0.8191\n",
      "Epoch 13/15\n",
      "160000/160000 [==============================] - 541s 3ms/step - loss: 0.4377 - acc: 0.8085 - val_loss: 0.4116 - val_acc: 0.8245\n",
      "Epoch 14/15\n",
      "160000/160000 [==============================] - 1022s 6ms/step - loss: 0.4331 - acc: 0.8088 - val_loss: 0.4044 - val_acc: 0.8265\n",
      "Epoch 15/15\n",
      "160000/160000 [==============================] - 544s 3ms/step - loss: 0.4369 - acc: 0.8069 - val_loss: 0.4068 - val_acc: 0.8247\n"
     ]
    }
   ],
   "source": [
    "history = model.fit(x_train, y_train,\n",
    "epochs=15,\n",
    "batch_size=64,\n",
    "validation_data=(x_val, y_val))"
   ]
  },
  {
   "cell_type": "code",
   "execution_count": 47,
   "metadata": {},
   "outputs": [
    {
     "data": {
      "image/png": "[encoded data removed]",
      "text/plain": [
       "<Figure size 432x288 with 1 Axes>"
      ]
     },
     "metadata": {
      "needs_background": "light"
     },
     "output_type": "display_data"
    },
    {
     "data": {
      "image/png": "[encoded data removed]",
      "text/plain": [
       "<Figure size 432x288 with 1 Axes>"
      ]
     },
     "metadata": {
      "needs_background": "light"
     },
     "output_type": "display_data"
    }
   ],
   "source": [
    "import matplotlib.pyplot as plt\n",
    "acc = history.history['acc']\n",
    "val_acc = history.history['val_acc']\n",
    "loss = history.history['loss']\n",
    "val_loss = history.history['val_loss']\n",
    "epochs = range(1, len(acc) + 1)\n",
    "plt.plot(epochs, acc, 'bo', label='Training acc')\n",
    "plt.plot(epochs, val_acc, 'b', label='Validation acc')\n",
    "plt.title('Training and validation accuracy')\n",
    "plt.legend()\n",
    "plt.figure()\n",
    "plt.plot(epochs, loss, 'bo', label='Training loss')\n",
    "plt.plot(epochs, val_loss, 'b', label='Validation loss')\n",
    "plt.title('Training and validation loss')\n",
    "plt.legend()\n",
    "plt.show()"
   ]
  },
  {
   "cell_type": "code",
   "execution_count": 48,
   "metadata": {},
   "outputs": [
    {
     "name": "stdout",
     "output_type": "stream",
     "text": [
      "10000/10000 [==============================] - 9s 945us/step\n"
     ]
    },
    {
     "data": {
      "text/plain": [
       "[0.40835702576637267, 0.8203999996185303]"
      ]
     },
     "execution_count": 48,
     "metadata": {},
     "output_type": "execute_result"
    }
   ],
   "source": [
    "model.evaluate(x_test, y_test)"
   ]
  },
  {
   "cell_type": "markdown",
   "metadata": {},
   "source": [
    "# Training the model with Embedding and LSTM layers"
   ]
  },
  {
   "cell_type": "code",
   "execution_count": 20,
   "metadata": {},
   "outputs": [],
   "source": [
    "from keras.layers import LSTM\n",
    "from keras.models import Sequential\n",
    "from keras.layers import Embedding, Flatten, Dense,SimpleRNN\n",
    "from keras.layers import Dropout\n",
    "model = Sequential()\n",
    "model.add(Embedding(max_words, 100))\n",
    "model.add(LSTM(512, dropout=0.5,return_sequences=True, recurrent_dropout=0.5))\n",
    "model.add(LSTM(128, dropout=0.5,return_sequences=True, recurrent_dropout=0.5))\n",
    "model.add(LSTM(128, dropout=0.5,return_sequences=True, recurrent_dropout=0.5))\n",
    "model.add(LSTM(64, dropout=0.5))\n",
    "model.add(Dense(1, activation='sigmoid'))\n"
   ]
  },
  {
   "cell_type": "code",
   "execution_count": 21,
   "metadata": {},
   "outputs": [],
   "source": [
    "model.compile(optimizer='rmsprop',\n",
    "loss='binary_crossentropy',\n",
    "metrics=['acc'])\n"
   ]
  },
  {
   "cell_type": "code",
   "execution_count": 22,
   "metadata": {},
   "outputs": [
    {
     "name": "stderr",
     "output_type": "stream",
     "text": [
      "C:\\Users\\REHMAN COMPUTER\\Anaconda3\\lib\\site-packages\\tensorflow_core\\python\\framework\\indexed_slices.py:424: UserWarning: Converting sparse IndexedSlices to a dense Tensor of unknown shape. This may consume a large amount of memory.\n",
      "  \"Converting sparse IndexedSlices to a dense Tensor of unknown shape. \"\n"
     ]
    },
    {
     "name": "stdout",
     "output_type": "stream",
     "text": [
      "Train on 160000 samples, validate on 30000 samples\n",
      "Epoch 1/10\n",
      "160000/160000 [==============================] - 3513s 22ms/step - loss: 0.3573 - acc: 0.8451 - val_loss: 0.2834 - val_acc: 0.8827\n",
      "Epoch 2/10\n",
      "160000/160000 [==============================] - 4218s 26ms/step - loss: 0.2800 - acc: 0.8877 - val_loss: 0.2803 - val_acc: 0.8874\n",
      "Epoch 3/10\n",
      "160000/160000 [==============================] - 3418s 21ms/step - loss: 0.2641 - acc: 0.8956 - val_loss: 0.2636 - val_acc: 0.8953\n",
      "Epoch 4/10\n",
      "160000/160000 [==============================] - 3483s 22ms/step - loss: 0.2559 - acc: 0.9001 - val_loss: 0.2718 - val_acc: 0.8925\n",
      "Epoch 5/10\n",
      "160000/160000 [==============================] - 3399s 21ms/step - loss: 0.2507 - acc: 0.9027 - val_loss: 0.2672 - val_acc: 0.8960\n",
      "Epoch 6/10\n",
      "160000/160000 [==============================] - 3855s 24ms/step - loss: 0.2468 - acc: 0.9053 - val_loss: 0.2685 - val_acc: 0.8953\n",
      "Epoch 7/10\n",
      "160000/160000 [==============================] - 3579s 22ms/step - loss: 0.2436 - acc: 0.9074 - val_loss: 0.2664 - val_acc: 0.8977\n",
      "Epoch 8/10\n",
      "160000/160000 [==============================] - 3572s 22ms/step - loss: 0.2401 - acc: 0.9086 - val_loss: 0.2624 - val_acc: 0.8997\n",
      "Epoch 9/10\n",
      "160000/160000 [==============================] - 3534s 22ms/step - loss: 0.2356 - acc: 0.9112 - val_loss: 0.2686 - val_acc: 0.8990\n",
      "Epoch 10/10\n",
      "160000/160000 [==============================] - 5673s 35ms/step - loss: 0.2336 - acc: 0.9118 - val_loss: 0.2606 - val_acc: 0.9000\n"
     ]
    }
   ],
   "source": [
    "history = model.fit(x_train, y_train,\n",
    "epochs=10,\n",
    "batch_size=64,\n",
    "validation_data=(x_val, y_val))\n"
   ]
  },
  {
   "cell_type": "code",
   "execution_count": 24,
   "metadata": {},
   "outputs": [
    {
     "data": {
      "image/png": "[encoded data removed]",
      "text/plain": [
       "<Figure size 432x288 with 1 Axes>"
      ]
     },
     "metadata": {
      "needs_background": "light"
     },
     "output_type": "display_data"
    },
    {
     "data": {
      "image/png": "[encoded data removed]",
      "text/plain": [
       "<Figure size 432x288 with 1 Axes>"
      ]
     },
     "metadata": {
      "needs_background": "light"
     },
     "output_type": "display_data"
    }
   ],
   "source": [
    "import matplotlib.pyplot as plt\n",
    "acc = history.history['acc']\n",
    "val_acc = history.history['val_acc']\n",
    "loss = history.history['loss']\n",
    "val_loss = history.history['val_loss']\n",
    "epochs = range(1, len(acc) + 1)\n",
    "plt.plot(epochs, acc, 'bo', label='Training acc')\n",
    "plt.plot(epochs, val_acc, 'b', label='Validation acc')\n",
    "plt.title('Training and validation accuracy')\n",
    "plt.legend()\n",
    "plt.figure()\n",
    "plt.plot(epochs, loss, 'bo', label='Training loss')\n",
    "plt.plot(epochs, val_loss, 'b', label='Validation loss')\n",
    "plt.title('Training and validation loss')\n",
    "plt.legend()\n",
    "plt.show()"
   ]
  },
  {
   "cell_type": "code",
   "execution_count": 25,
   "metadata": {},
   "outputs": [
    {
     "name": "stdout",
     "output_type": "stream",
     "text": [
      "10000/10000 [==============================] - 101s 10ms/step\n"
     ]
    },
    {
     "data": {
      "text/plain": [
       "[0.2551916035294533, 0.9027000069618225]"
      ]
     },
     "execution_count": 25,
     "metadata": {},
     "output_type": "execute_result"
    }
   ],
   "source": [
    "model.evaluate(x_test, y_test)"
   ]
  },
  {
   "cell_type": "code",
   "execution_count": 26,
   "metadata": {},
   "outputs": [],
   "source": [
    "model.save('Amazon_text_classification.h5')"
   ]
  },
  {
   "cell_type": "markdown",
   "metadata": {},
   "source": [
    "# Listing 6.43 Training and evaluating a bidirectional LSTM"
   ]
  },
  {
   "cell_type": "code",
   "execution_count": 30,
   "metadata": {},
   "outputs": [],
   "source": [
    "from keras.models import Sequential\n",
    "from keras.layers import Embedding, Flatten, Dense,Dropout\n",
    "from keras import layers\n",
    "from keras import regularizers\n",
    "model = Sequential()\n",
    "model.add(layers.Embedding(max_words, 100))\n",
    "model.add(layers.Bidirectional(layers.LSTM(512,dropout=0.5,return_sequences=True, recurrent_dropout=0.5)))\n",
    "model.add(layers.Bidirectional(layers.LSTM(128)))\n",
    "model.add(layers.Dense(1, activation='sigmoid'))"
   ]
  },
  {
   "cell_type": "code",
   "execution_count": 31,
   "metadata": {},
   "outputs": [],
   "source": [
    "model.compile(optimizer='rmsprop', loss='binary_crossentropy', metrics=['acc'])\n"
   ]
  },
  {
   "cell_type": "code",
   "execution_count": null,
   "metadata": {},
   "outputs": [
    {
     "name": "stderr",
     "output_type": "stream",
     "text": [
      "C:\\Users\\REHMAN COMPUTER\\Anaconda3\\lib\\site-packages\\tensorflow_core\\python\\framework\\indexed_slices.py:424: UserWarning: Converting sparse IndexedSlices to a dense Tensor of unknown shape. This may consume a large amount of memory.\n",
      "  \"Converting sparse IndexedSlices to a dense Tensor of unknown shape. \"\n"
     ]
    },
    {
     "name": "stdout",
     "output_type": "stream",
     "text": [
      "Train on 160000 samples, validate on 30000 samples\n",
      "Epoch 1/10\n",
      "160000/160000 [==============================] - 18623s 116ms/step - loss: 0.3205 - acc: 0.8634 - val_loss: 0.2696 - val_acc: 0.8886\n",
      "Epoch 2/10\n",
      "126464/160000 [======================>.......] - ETA: 1:37:08 - loss: 0.2580 - acc: 0.8953"
     ]
    }
   ],
   "source": [
    "history = model.fit(x_train, y_train,\n",
    "epochs=10,\n",
    "batch_size=64,\n",
    "validation_data=(x_val, y_val))"
   ]
  },
  {
   "cell_type": "code",
   "execution_count": null,
   "metadata": {},
   "outputs": [],
   "source": [
    "import matplotlib.pyplot as plt\n",
    "acc = history.history['acc']\n",
    "val_acc = history.history['val_acc']\n",
    "loss = history.history['loss']\n",
    "val_loss = history.history['val_loss']\n",
    "epochs = range(1, len(acc) + 1)\n",
    "plt.plot(epochs, acc, 'bo', label='Training acc')\n",
    "plt.plot(epochs, val_acc, 'b', label='Validation acc')\n",
    "plt.title('Training and validation accuracy')\n",
    "plt.legend()\n",
    "plt.figure()\n",
    "plt.plot(epochs, loss, 'bo', label='Training loss')\n",
    "plt.plot(epochs, val_loss, 'b', label='Validation loss')\n",
    "plt.title('Training and validation loss')\n",
    "plt.legend()\n",
    "plt.show()"
   ]
  },
  {
   "cell_type": "code",
   "execution_count": null,
   "metadata": {},
   "outputs": [],
   "source": [
    "model.evaluate(x_test, y_test)\n"
   ]
  },
  {
   "cell_type": "code",
   "execution_count": null,
   "metadata": {},
   "outputs": [],
   "source": []
  },
  {
   "cell_type": "code",
   "execution_count": 27,
   "metadata": {},
   "outputs": [],
   "source": [
    "from keras.layers import GRU\n",
    "model = Sequential()\n",
    "model.add(Embedding(max_words, 32))\n",
    "model.add(GRU(128,dropout=0.5,return_sequences=True,recurrent_dropout=0.5))\n",
    "model.add(GRU(128,dropout=0.5,return_sequences=True,recurrent_dropout=0.5))\n",
    "model.add(GRU(64, activation='relu',dropout=0.5))\n",
    "model.add(Dense(1, activation='sigmoid'))\n",
    "\n",
    "model.compile(optimizer='rmsprop',\n",
    "loss='binary_crossentropy',\n",
    "metrics=['acc'])\n"
   ]
  },
  {
   "cell_type": "code",
   "execution_count": null,
   "metadata": {},
   "outputs": [
    {
     "name": "stderr",
     "output_type": "stream",
     "text": [
      "C:\\Users\\REHMAN COMPUTER\\Anaconda3\\lib\\site-packages\\tensorflow_core\\python\\framework\\indexed_slices.py:424: UserWarning: Converting sparse IndexedSlices to a dense Tensor of unknown shape. This may consume a large amount of memory.\n",
      "  \"Converting sparse IndexedSlices to a dense Tensor of unknown shape. \"\n"
     ]
    },
    {
     "name": "stdout",
     "output_type": "stream",
     "text": [
      "Train on 160000 samples, validate on 30000 samples\n",
      "Epoch 1/10\n",
      "160000/160000 [==============================] - 1143s 7ms/step - loss: 14526207226.9091 - acc: 0.5017 - val_loss: 0.6931 - val_acc: 0.5067\n",
      "Epoch 2/10\n",
      "160000/160000 [==============================] - 1130s 7ms/step - loss: 80559.6752 - acc: 0.5006 - val_loss: 0.6929 - val_acc: 0.5067\n",
      "Epoch 3/10\n",
      "  3200/160000 [..............................] - ETA: 17:23 - loss: 0.7143 - acc: 0.5069"
     ]
    }
   ],
   "source": [
    "history = model.fit(x_train, y_train,\n",
    "epochs=10,\n",
    "batch_size=128,\n",
    "validation_data=(x_val, y_val))\n"
   ]
  },
  {
   "cell_type": "code",
   "execution_count": null,
   "metadata": {},
   "outputs": [],
   "source": [
    "import matplotlib.pyplot as plt\n",
    "acc = history.history['acc']\n",
    "val_acc = history.history['val_acc']\n",
    "loss = history.history['loss']\n",
    "val_loss = history.history['val_loss']\n",
    "epochs = range(1, len(acc) + 1)\n",
    "plt.plot(epochs, acc, 'bo', label='Training acc')\n",
    "plt.plot(epochs, val_acc, 'b', label='Validation acc')\n",
    "plt.title('Training and validation accuracy')\n",
    "plt.legend()\n",
    "plt.figure()\n",
    "plt.plot(epochs, loss, 'bo', label='Training loss')\n",
    "plt.plot(epochs, val_loss, 'b', label='Validation loss')\n",
    "plt.title('Training and validation loss')\n",
    "plt.legend()\n",
    "plt.show()"
   ]
  },
  {
   "cell_type": "code",
   "execution_count": null,
   "metadata": {},
   "outputs": [],
   "source": [
    "from keras import layers\n",
    "model = Sequential()\n",
    "model.add(Embedding(max_words, 32))\n",
    "model.add(layers.Bidirectional(layers.LSTM(32,dropout=0.3,return_sequences=True,recurrent_dropout=0.5)))\n",
    "model.add(layers.Bidirectional(layers.LSTM(32)))\n",
    "model.add(Dense(1, activation='sigmoid'))"
   ]
  },
  {
   "cell_type": "code",
   "execution_count": null,
   "metadata": {},
   "outputs": [],
   "source": [
    "model.compile(optimizer='rmsprop',\n",
    "loss='binary_crossentropy',\n",
    "metrics=['acc'])\n"
   ]
  },
  {
   "cell_type": "code",
   "execution_count": null,
   "metadata": {},
   "outputs": [],
   "source": [
    "history = model.fit(x_train, y_train,\n",
    "epochs=10,\n",
    "batch_size=128,\n",
    "validation_data=(x_val, y_val))"
   ]
  },
  {
   "cell_type": "code",
   "execution_count": null,
   "metadata": {},
   "outputs": [],
   "source": [
    "model.evaluate(x_test,y_test)"
   ]
  },
  {
   "cell_type": "code",
   "execution_count": null,
   "metadata": {},
   "outputs": [],
   "source": [
    "from keras.models import Sequential\n",
    "from keras import layers\n",
    "from keras.optimizers import RMSprop\n",
    "model = Sequential()\n",
    "model.add(layers.Embedding(max_words, 32, input_length=maxlen))\n",
    "model.add(layers.Conv1D(32,1, activation='relu'))\n",
    "model.add(layers.MaxPooling1D(5))\n",
    "model.add(layers.Conv1D(32, 1, activation='relu'))\n",
    "model.add(layers.GlobalMaxPooling1D())\n",
    "model.add(layers.Dense(1))\n",
    "model.summary()\n",
    "model.compile(optimizer=RMSprop(lr=1e-4),\n",
    "loss='binary_crossentropy',\n",
    "metrics=['acc'])\n"
   ]
  },
  {
   "cell_type": "code",
   "execution_count": null,
   "metadata": {},
   "outputs": [],
   "source": [
    "history = model.fit(x_train, y_train,\n",
    "epochs=10,\n",
    "batch_size=128,\n",
    "validation_data=(x_val, y_val))"
   ]
  },
  {
   "cell_type": "code",
   "execution_count": null,
   "metadata": {},
   "outputs": [],
   "source": []
  }
 ],
 "metadata": {
  "kernelspec": {
   "display_name": "Python 3",
   "language": "python",
   "name": "python3"
  },
  "language_info": {
   "codemirror_mode": {
    "name": "ipython",
    "version": 3
   },
   "file_extension": ".py",
   "mimetype": "text/x-python",
   "name": "python",
   "nbconvert_exporter": "python",
   "pygments_lexer": "ipython3",
   "version": "3.7.3"
  }
 },
 "nbformat": 4,
 "nbformat_minor": 2
}
