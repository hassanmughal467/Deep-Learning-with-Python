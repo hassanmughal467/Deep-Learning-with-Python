{
 "cells": [
  {
   "cell_type": "markdown",
   "metadata": {},
   "source": [
    "# Import Required libraries"
   ]
  },
  {
   "cell_type": "code",
   "execution_count": 349,
   "metadata": {},
   "outputs": [],
   "source": [
    "import tensorflow as tf\n",
    "from tensorflow.keras.datasets import reuters\n",
    "from tensorflow.keras import models,layers,optimizers,utils\n",
    "import pandas as pd\n",
    "import numpy as np\n",
    "import matplotlib.pyplot as plt\n",
    "from keras.wrappers.scikit_learn import KerasClassifier\n",
    "from sklearn.model_selection import cross_val_score\n",
    "from sklearn.model_selection import StratifiedKFold\n",
    "from sklearn.preprocessing import StandardScaler\n",
    "from sklearn.pipeline import Pipeline"
   ]
  },
  {
   "cell_type": "markdown",
   "metadata": {},
   "source": [
    "# Data Preparation"
   ]
  },
  {
   "cell_type": "code",
   "execution_count": 350,
   "metadata": {},
   "outputs": [
    {
     "data": {
      "text/html": [
       "<div>\n",
       "<style scoped>\n",
       "    .dataframe tbody tr th:only-of-type {\n",
       "        vertical-align: middle;\n",
       "    }\n",
       "\n",
       "    .dataframe tbody tr th {\n",
       "        vertical-align: top;\n",
       "    }\n",
       "\n",
       "    .dataframe thead th {\n",
       "        text-align: right;\n",
       "    }\n",
       "</style>\n",
       "<table border=\"1\" class=\"dataframe\">\n",
       "  <thead>\n",
       "    <tr style=\"text-align: right;\">\n",
       "      <th></th>\n",
       "      <th>0</th>\n",
       "      <th>1</th>\n",
       "      <th>2</th>\n",
       "      <th>3</th>\n",
       "      <th>4</th>\n",
       "      <th>5</th>\n",
       "      <th>6</th>\n",
       "      <th>7</th>\n",
       "      <th>8</th>\n",
       "      <th>9</th>\n",
       "      <th>...</th>\n",
       "      <th>51</th>\n",
       "      <th>52</th>\n",
       "      <th>53</th>\n",
       "      <th>54</th>\n",
       "      <th>55</th>\n",
       "      <th>56</th>\n",
       "      <th>57</th>\n",
       "      <th>58</th>\n",
       "      <th>59</th>\n",
       "      <th>60</th>\n",
       "    </tr>\n",
       "  </thead>\n",
       "  <tbody>\n",
       "    <tr>\n",
       "      <th>0</th>\n",
       "      <td>0.0200</td>\n",
       "      <td>0.0371</td>\n",
       "      <td>0.0428</td>\n",
       "      <td>0.0207</td>\n",
       "      <td>0.0954</td>\n",
       "      <td>0.0986</td>\n",
       "      <td>0.1539</td>\n",
       "      <td>0.1601</td>\n",
       "      <td>0.3109</td>\n",
       "      <td>0.2111</td>\n",
       "      <td>...</td>\n",
       "      <td>0.0027</td>\n",
       "      <td>0.0065</td>\n",
       "      <td>0.0159</td>\n",
       "      <td>0.0072</td>\n",
       "      <td>0.0167</td>\n",
       "      <td>0.0180</td>\n",
       "      <td>0.0084</td>\n",
       "      <td>0.0090</td>\n",
       "      <td>0.0032</td>\n",
       "      <td>R</td>\n",
       "    </tr>\n",
       "    <tr>\n",
       "      <th>1</th>\n",
       "      <td>0.0453</td>\n",
       "      <td>0.0523</td>\n",
       "      <td>0.0843</td>\n",
       "      <td>0.0689</td>\n",
       "      <td>0.1183</td>\n",
       "      <td>0.2583</td>\n",
       "      <td>0.2156</td>\n",
       "      <td>0.3481</td>\n",
       "      <td>0.3337</td>\n",
       "      <td>0.2872</td>\n",
       "      <td>...</td>\n",
       "      <td>0.0084</td>\n",
       "      <td>0.0089</td>\n",
       "      <td>0.0048</td>\n",
       "      <td>0.0094</td>\n",
       "      <td>0.0191</td>\n",
       "      <td>0.0140</td>\n",
       "      <td>0.0049</td>\n",
       "      <td>0.0052</td>\n",
       "      <td>0.0044</td>\n",
       "      <td>R</td>\n",
       "    </tr>\n",
       "    <tr>\n",
       "      <th>2</th>\n",
       "      <td>0.0262</td>\n",
       "      <td>0.0582</td>\n",
       "      <td>0.1099</td>\n",
       "      <td>0.1083</td>\n",
       "      <td>0.0974</td>\n",
       "      <td>0.2280</td>\n",
       "      <td>0.2431</td>\n",
       "      <td>0.3771</td>\n",
       "      <td>0.5598</td>\n",
       "      <td>0.6194</td>\n",
       "      <td>...</td>\n",
       "      <td>0.0232</td>\n",
       "      <td>0.0166</td>\n",
       "      <td>0.0095</td>\n",
       "      <td>0.0180</td>\n",
       "      <td>0.0244</td>\n",
       "      <td>0.0316</td>\n",
       "      <td>0.0164</td>\n",
       "      <td>0.0095</td>\n",
       "      <td>0.0078</td>\n",
       "      <td>R</td>\n",
       "    </tr>\n",
       "    <tr>\n",
       "      <th>3</th>\n",
       "      <td>0.0100</td>\n",
       "      <td>0.0171</td>\n",
       "      <td>0.0623</td>\n",
       "      <td>0.0205</td>\n",
       "      <td>0.0205</td>\n",
       "      <td>0.0368</td>\n",
       "      <td>0.1098</td>\n",
       "      <td>0.1276</td>\n",
       "      <td>0.0598</td>\n",
       "      <td>0.1264</td>\n",
       "      <td>...</td>\n",
       "      <td>0.0121</td>\n",
       "      <td>0.0036</td>\n",
       "      <td>0.0150</td>\n",
       "      <td>0.0085</td>\n",
       "      <td>0.0073</td>\n",
       "      <td>0.0050</td>\n",
       "      <td>0.0044</td>\n",
       "      <td>0.0040</td>\n",
       "      <td>0.0117</td>\n",
       "      <td>R</td>\n",
       "    </tr>\n",
       "    <tr>\n",
       "      <th>4</th>\n",
       "      <td>0.0762</td>\n",
       "      <td>0.0666</td>\n",
       "      <td>0.0481</td>\n",
       "      <td>0.0394</td>\n",
       "      <td>0.0590</td>\n",
       "      <td>0.0649</td>\n",
       "      <td>0.1209</td>\n",
       "      <td>0.2467</td>\n",
       "      <td>0.3564</td>\n",
       "      <td>0.4459</td>\n",
       "      <td>...</td>\n",
       "      <td>0.0031</td>\n",
       "      <td>0.0054</td>\n",
       "      <td>0.0105</td>\n",
       "      <td>0.0110</td>\n",
       "      <td>0.0015</td>\n",
       "      <td>0.0072</td>\n",
       "      <td>0.0048</td>\n",
       "      <td>0.0107</td>\n",
       "      <td>0.0094</td>\n",
       "      <td>R</td>\n",
       "    </tr>\n",
       "  </tbody>\n",
       "</table>\n",
       "<p>5 rows × 61 columns</p>\n",
       "</div>"
      ],
      "text/plain": [
       "       0       1       2       3       4       5       6       7       8   \\\n",
       "0  0.0200  0.0371  0.0428  0.0207  0.0954  0.0986  0.1539  0.1601  0.3109   \n",
       "1  0.0453  0.0523  0.0843  0.0689  0.1183  0.2583  0.2156  0.3481  0.3337   \n",
       "2  0.0262  0.0582  0.1099  0.1083  0.0974  0.2280  0.2431  0.3771  0.5598   \n",
       "3  0.0100  0.0171  0.0623  0.0205  0.0205  0.0368  0.1098  0.1276  0.0598   \n",
       "4  0.0762  0.0666  0.0481  0.0394  0.0590  0.0649  0.1209  0.2467  0.3564   \n",
       "\n",
       "       9   ...      51      52      53      54      55      56      57  \\\n",
       "0  0.2111  ...  0.0027  0.0065  0.0159  0.0072  0.0167  0.0180  0.0084   \n",
       "1  0.2872  ...  0.0084  0.0089  0.0048  0.0094  0.0191  0.0140  0.0049   \n",
       "2  0.6194  ...  0.0232  0.0166  0.0095  0.0180  0.0244  0.0316  0.0164   \n",
       "3  0.1264  ...  0.0121  0.0036  0.0150  0.0085  0.0073  0.0050  0.0044   \n",
       "4  0.4459  ...  0.0031  0.0054  0.0105  0.0110  0.0015  0.0072  0.0048   \n",
       "\n",
       "       58      59  60  \n",
       "0  0.0090  0.0032   R  \n",
       "1  0.0052  0.0044   R  \n",
       "2  0.0095  0.0078   R  \n",
       "3  0.0040  0.0117   R  \n",
       "4  0.0107  0.0094   R  \n",
       "\n",
       "[5 rows x 61 columns]"
      ]
     },
     "execution_count": 350,
     "metadata": {},
     "output_type": "execute_result"
    }
   ],
   "source": [
    "frame=pd.read_csv('sonar.csv',header=None)\n",
    "frame.head()"
   ]
  },
  {
   "cell_type": "code",
   "execution_count": 351,
   "metadata": {},
   "outputs": [
    {
     "data": {
      "text/html": [
       "<div>\n",
       "<style scoped>\n",
       "    .dataframe tbody tr th:only-of-type {\n",
       "        vertical-align: middle;\n",
       "    }\n",
       "\n",
       "    .dataframe tbody tr th {\n",
       "        vertical-align: top;\n",
       "    }\n",
       "\n",
       "    .dataframe thead th {\n",
       "        text-align: right;\n",
       "    }\n",
       "</style>\n",
       "<table border=\"1\" class=\"dataframe\">\n",
       "  <thead>\n",
       "    <tr style=\"text-align: right;\">\n",
       "      <th></th>\n",
       "      <th>0</th>\n",
       "      <th>1</th>\n",
       "      <th>2</th>\n",
       "      <th>3</th>\n",
       "      <th>4</th>\n",
       "      <th>5</th>\n",
       "      <th>6</th>\n",
       "      <th>7</th>\n",
       "      <th>8</th>\n",
       "      <th>9</th>\n",
       "      <th>...</th>\n",
       "      <th>51</th>\n",
       "      <th>52</th>\n",
       "      <th>53</th>\n",
       "      <th>54</th>\n",
       "      <th>55</th>\n",
       "      <th>56</th>\n",
       "      <th>57</th>\n",
       "      <th>58</th>\n",
       "      <th>59</th>\n",
       "      <th>60</th>\n",
       "    </tr>\n",
       "  </thead>\n",
       "  <tbody>\n",
       "    <tr>\n",
       "      <th>178</th>\n",
       "      <td>0.0197</td>\n",
       "      <td>0.0394</td>\n",
       "      <td>0.0384</td>\n",
       "      <td>0.0076</td>\n",
       "      <td>0.0251</td>\n",
       "      <td>0.0629</td>\n",
       "      <td>0.0747</td>\n",
       "      <td>0.0578</td>\n",
       "      <td>0.1357</td>\n",
       "      <td>0.1695</td>\n",
       "      <td>...</td>\n",
       "      <td>0.0134</td>\n",
       "      <td>0.0097</td>\n",
       "      <td>0.0042</td>\n",
       "      <td>0.0058</td>\n",
       "      <td>0.0072</td>\n",
       "      <td>0.0041</td>\n",
       "      <td>0.0045</td>\n",
       "      <td>0.0047</td>\n",
       "      <td>0.0054</td>\n",
       "      <td>M</td>\n",
       "    </tr>\n",
       "    <tr>\n",
       "      <th>143</th>\n",
       "      <td>0.0516</td>\n",
       "      <td>0.0944</td>\n",
       "      <td>0.0622</td>\n",
       "      <td>0.0415</td>\n",
       "      <td>0.0995</td>\n",
       "      <td>0.2431</td>\n",
       "      <td>0.1777</td>\n",
       "      <td>0.2018</td>\n",
       "      <td>0.2611</td>\n",
       "      <td>0.1294</td>\n",
       "      <td>...</td>\n",
       "      <td>0.0432</td>\n",
       "      <td>0.0274</td>\n",
       "      <td>0.0152</td>\n",
       "      <td>0.0120</td>\n",
       "      <td>0.0129</td>\n",
       "      <td>0.0020</td>\n",
       "      <td>0.0109</td>\n",
       "      <td>0.0074</td>\n",
       "      <td>0.0078</td>\n",
       "      <td>M</td>\n",
       "    </tr>\n",
       "    <tr>\n",
       "      <th>151</th>\n",
       "      <td>0.0231</td>\n",
       "      <td>0.0315</td>\n",
       "      <td>0.0170</td>\n",
       "      <td>0.0226</td>\n",
       "      <td>0.0410</td>\n",
       "      <td>0.0116</td>\n",
       "      <td>0.0223</td>\n",
       "      <td>0.0805</td>\n",
       "      <td>0.2365</td>\n",
       "      <td>0.2461</td>\n",
       "      <td>...</td>\n",
       "      <td>0.0125</td>\n",
       "      <td>0.0036</td>\n",
       "      <td>0.0123</td>\n",
       "      <td>0.0043</td>\n",
       "      <td>0.0114</td>\n",
       "      <td>0.0052</td>\n",
       "      <td>0.0091</td>\n",
       "      <td>0.0008</td>\n",
       "      <td>0.0092</td>\n",
       "      <td>M</td>\n",
       "    </tr>\n",
       "    <tr>\n",
       "      <th>23</th>\n",
       "      <td>0.0115</td>\n",
       "      <td>0.0150</td>\n",
       "      <td>0.0136</td>\n",
       "      <td>0.0076</td>\n",
       "      <td>0.0211</td>\n",
       "      <td>0.1058</td>\n",
       "      <td>0.1023</td>\n",
       "      <td>0.0440</td>\n",
       "      <td>0.0931</td>\n",
       "      <td>0.0734</td>\n",
       "      <td>...</td>\n",
       "      <td>0.0091</td>\n",
       "      <td>0.0016</td>\n",
       "      <td>0.0084</td>\n",
       "      <td>0.0064</td>\n",
       "      <td>0.0026</td>\n",
       "      <td>0.0029</td>\n",
       "      <td>0.0037</td>\n",
       "      <td>0.0070</td>\n",
       "      <td>0.0041</td>\n",
       "      <td>R</td>\n",
       "    </tr>\n",
       "    <tr>\n",
       "      <th>48</th>\n",
       "      <td>0.0190</td>\n",
       "      <td>0.0038</td>\n",
       "      <td>0.0642</td>\n",
       "      <td>0.0452</td>\n",
       "      <td>0.0333</td>\n",
       "      <td>0.0690</td>\n",
       "      <td>0.0901</td>\n",
       "      <td>0.1454</td>\n",
       "      <td>0.0740</td>\n",
       "      <td>0.0349</td>\n",
       "      <td>...</td>\n",
       "      <td>0.0093</td>\n",
       "      <td>0.0118</td>\n",
       "      <td>0.0112</td>\n",
       "      <td>0.0094</td>\n",
       "      <td>0.0140</td>\n",
       "      <td>0.0072</td>\n",
       "      <td>0.0022</td>\n",
       "      <td>0.0055</td>\n",
       "      <td>0.0122</td>\n",
       "      <td>R</td>\n",
       "    </tr>\n",
       "  </tbody>\n",
       "</table>\n",
       "<p>5 rows × 61 columns</p>\n",
       "</div>"
      ],
      "text/plain": [
       "         0       1       2       3       4       5       6       7       8   \\\n",
       "178  0.0197  0.0394  0.0384  0.0076  0.0251  0.0629  0.0747  0.0578  0.1357   \n",
       "143  0.0516  0.0944  0.0622  0.0415  0.0995  0.2431  0.1777  0.2018  0.2611   \n",
       "151  0.0231  0.0315  0.0170  0.0226  0.0410  0.0116  0.0223  0.0805  0.2365   \n",
       "23   0.0115  0.0150  0.0136  0.0076  0.0211  0.1058  0.1023  0.0440  0.0931   \n",
       "48   0.0190  0.0038  0.0642  0.0452  0.0333  0.0690  0.0901  0.1454  0.0740   \n",
       "\n",
       "         9   ...      51      52      53      54      55      56      57  \\\n",
       "178  0.1695  ...  0.0134  0.0097  0.0042  0.0058  0.0072  0.0041  0.0045   \n",
       "143  0.1294  ...  0.0432  0.0274  0.0152  0.0120  0.0129  0.0020  0.0109   \n",
       "151  0.2461  ...  0.0125  0.0036  0.0123  0.0043  0.0114  0.0052  0.0091   \n",
       "23   0.0734  ...  0.0091  0.0016  0.0084  0.0064  0.0026  0.0029  0.0037   \n",
       "48   0.0349  ...  0.0093  0.0118  0.0112  0.0094  0.0140  0.0072  0.0022   \n",
       "\n",
       "         58      59  60  \n",
       "178  0.0047  0.0054   M  \n",
       "143  0.0074  0.0078   M  \n",
       "151  0.0008  0.0092   M  \n",
       "23   0.0070  0.0041   R  \n",
       "48   0.0055  0.0122   R  \n",
       "\n",
       "[5 rows x 61 columns]"
      ]
     },
     "execution_count": 351,
     "metadata": {},
     "output_type": "execute_result"
    }
   ],
   "source": [
    "df = frame.sample(frac=1)\n",
    "df.head()\n"
   ]
  },
  {
   "cell_type": "code",
   "execution_count": 352,
   "metadata": {},
   "outputs": [
    {
     "data": {
      "text/plain": [
       "1"
      ]
     },
     "execution_count": 352,
     "metadata": {},
     "output_type": "execute_result"
    }
   ],
   "source": [
    "sonar=df.values\n",
    "data = sonar[:,0:60].astype('float')\n",
    "labels = sonar[:,60]\n",
    "from sklearn.preprocessing import LabelEncoder\n",
    "# encode class values as integers\n",
    "le = LabelEncoder()\n",
    "encoded_Y = le.fit_transform(labels)\n",
    "encoded_Y.ndim"
   ]
  },
  {
   "cell_type": "code",
   "execution_count": 353,
   "metadata": {},
   "outputs": [
    {
     "name": "stdout",
     "output_type": "stream",
     "text": [
      "1\n"
     ]
    }
   ],
   "source": [
    "x_train = sonar[:167,:60].astype('float')\n",
    "train_labels = encoded_Y[:167]\n",
    "y_test = sonar[167:,:60].astype('float')\n",
    "test_labels = encoded_Y[167:]\n",
    "print(train_labels.ndim)"
   ]
  },
  {
   "cell_type": "code",
   "execution_count": 354,
   "metadata": {},
   "outputs": [
    {
     "name": "stdout",
     "output_type": "stream",
     "text": [
      "(167, 60)\n",
      "(167,)\n",
      "(41, 60)\n",
      "(41,)\n"
     ]
    }
   ],
   "source": [
    "print(x_train.shape)\n",
    "print(train_labels.shape)\n",
    "print(y_test.shape)\n",
    "print(test_labels.shape)"
   ]
  },
  {
   "cell_type": "markdown",
   "metadata": {},
   "source": [
    "# Step 3:Slicing for Validation"
   ]
  },
  {
   "cell_type": "code",
   "execution_count": 355,
   "metadata": {},
   "outputs": [],
   "source": [
    "x_val=x_train[:21] \n",
    "partial_x_train=x_train[21:] \n",
    "val_label=train_labels[:21]\n",
    "partial_train_label=train_labels[21:]"
   ]
  },
  {
   "cell_type": "code",
   "execution_count": 356,
   "metadata": {},
   "outputs": [
    {
     "name": "stdout",
     "output_type": "stream",
     "text": [
      "(21, 60)\n",
      "1\n",
      "(146, 60)\n"
     ]
    },
    {
     "data": {
      "text/plain": [
       "60"
      ]
     },
     "execution_count": 356,
     "metadata": {},
     "output_type": "execute_result"
    }
   ],
   "source": [
    "print(x_val.shape)\n",
    "print(val_label.ndim)\n",
    "print(partial_x_train.shape)\n",
    "partial_x_train.shape[1]"
   ]
  },
  {
   "cell_type": "markdown",
   "metadata": {},
   "source": [
    "# Step 4:Building Model Network"
   ]
  },
  {
   "cell_type": "code",
   "execution_count": 357,
   "metadata": {},
   "outputs": [],
   "source": [
    "def build_model():\n",
    "    model=models.Sequential()\n",
    "    model.add(layers.Dense(40,activation='relu',input_dim=60))\n",
    "    model.add(layers.Dense(30, activation='relu'))\n",
    "    model.add(layers.Dense(1,activation='sigmoid'))\n",
    "    model.compile(optimizer='adam',\n",
    "                  loss='binary_crossentropy',\n",
    "                  metrics=['accuracy'])\n",
    "    return model\n"
   ]
  },
  {
   "cell_type": "markdown",
   "metadata": {},
   "source": [
    "# K-FOLD"
   ]
  },
  {
   "cell_type": "code",
   "execution_count": 358,
   "metadata": {},
   "outputs": [
    {
     "name": "stdout",
     "output_type": "stream",
     "text": [
      "proccessing fold # 0\n",
      "proccessing fold # 1\n",
      "proccessing fold # 2\n",
      "proccessing fold # 3\n",
      "proccessing fold # 4\n",
      "proccessing fold # 5\n",
      "proccessing fold # 6\n",
      "proccessing fold # 7\n",
      "proccessing fold # 8\n",
      "proccessing fold # 9\n"
     ]
    }
   ],
   "source": [
    "k=10\n",
    "num_val_samples=len(partial_x_train)//k\n",
    "num_epochs=50\n",
    "all_scores=[]\n",
    "all_mae_histories=[]\n",
    "for i in range(k):\n",
    "    print(\"proccessing fold #\",i)\n",
    "    val_data=partial_x_train[i*num_val_samples:(i+1)*num_val_samples]\n",
    "    val_labels=partial_train_label[i*num_val_samples:(i+1)*num_val_samples]\n",
    "    partial_train_data=np.concatenate([partial_x_train[:i*num_val_samples],partial_x_train[(i+1)*num_val_samples:]],axis=0)\n",
    "    partial_train_labels=np.concatenate([partial_train_label[:i*num_val_samples],partial_train_label[(i+1)*num_val_samples:]],axis=0)\n",
    "    model=build_model()\n",
    "    history=model.fit(partial_train_data, partial_train_labels,\n",
    "                      epochs=num_epochs, batch_size=30, verbose=0)\n",
    "    val_mse, val_mae = model.evaluate(val_data, val_labels, verbose=0)\n",
    "    all_scores.append(val_mae)\n",
    "    mae_history = history.history['accuracy']\n",
    "    all_mae_histories.append(mae_history)"
   ]
  },
  {
   "cell_type": "code",
   "execution_count": 359,
   "metadata": {},
   "outputs": [
    {
     "name": "stdout",
     "output_type": "stream",
     "text": [
      "all fold validation error [0.5714286, 0.78571427, 0.85714287, 0.78571427, 0.78571427, 0.5714286, 0.9285714, 1.0, 0.9285714, 0.71428573]\n",
      "Mean of all fold validation error 0.7928571\n",
      "Average mae history [0.5174242, 0.56666666, 0.589394, 0.6181818, 0.6371212, 0.6522727, 0.6545454, 0.6681818, 0.6939394, 0.7113637, 0.7280303, 0.7272727, 0.7272727, 0.7386364, 0.7507576, 0.7643939, 0.7681818, 0.7659091, 0.7628788, 0.7651515, 0.7719697, 0.78787875, 0.7780302, 0.78030294, 0.7901515, 0.8007576, 0.8060606, 0.8121212, 0.8098485, 0.8174242, 0.8227273, 0.8181819, 0.8287879, 0.8325758, 0.8424242, 0.8431818, 0.8484849, 0.8492424, 0.8613637, 0.8575758, 0.8590909, 0.8681818, 0.8643939, 0.8727273, 0.8674242, 0.8689394, 0.8818182, 0.8840909, 0.8795455, 0.8848485]\n"
     ]
    }
   ],
   "source": [
    "avg_mae_history=[np.mean([x[i] for x in all_mae_histories]) for i in range(num_epochs)]\n",
    "print('all fold validation error',all_scores)\n",
    "print('Mean of all fold validation error',np.mean(all_scores))\n",
    "print('Average mae history',avg_mae_history)"
   ]
  },
  {
   "cell_type": "code",
   "execution_count": 360,
   "metadata": {},
   "outputs": [
    {
     "data": {
      "text/plain": [
       "[50, 50, 50, 50, 50, 50, 50, 50, 50, 50]"
      ]
     },
     "execution_count": 360,
     "metadata": {},
     "output_type": "execute_result"
    }
   ],
   "source": [
    "[len(x) for x in all_mae_histories]"
   ]
  },
  {
   "cell_type": "code",
   "execution_count": 361,
   "metadata": {
    "scrolled": true
   },
   "outputs": [
    {
     "name": "stdout",
     "output_type": "stream",
     "text": [
      "Train on 146 samples, validate on 21 samples\n",
      "Epoch 1/30\n",
      "146/146 [==============================] - 0s 246us/sample - loss: 0.3233 - accuracy: 0.8630 - val_loss: 0.5502 - val_accuracy: 0.7143\n",
      "Epoch 2/30\n",
      "146/146 [==============================] - 0s 247us/sample - loss: 0.3092 - accuracy: 0.8904 - val_loss: 0.5061 - val_accuracy: 0.6190\n",
      "Epoch 3/30\n",
      "146/146 [==============================] - 0s 301us/sample - loss: 0.2881 - accuracy: 0.8767 - val_loss: 0.5007 - val_accuracy: 0.7143\n",
      "Epoch 4/30\n",
      "146/146 [==============================] - 0s 301us/sample - loss: 0.2785 - accuracy: 0.8973 - val_loss: 0.4896 - val_accuracy: 0.7143\n",
      "Epoch 5/30\n",
      "146/146 [==============================] - 0s 247us/sample - loss: 0.2678 - accuracy: 0.9041 - val_loss: 0.5106 - val_accuracy: 0.7143\n",
      "Epoch 6/30\n",
      "146/146 [==============================] - 0s 247us/sample - loss: 0.2561 - accuracy: 0.8767 - val_loss: 0.4851 - val_accuracy: 0.7143\n",
      "Epoch 7/30\n",
      "146/146 [==============================] - 0s 247us/sample - loss: 0.2479 - accuracy: 0.8904 - val_loss: 0.4971 - val_accuracy: 0.7143\n",
      "Epoch 8/30\n",
      "146/146 [==============================] - 0s 219us/sample - loss: 0.2365 - accuracy: 0.9110 - val_loss: 0.4929 - val_accuracy: 0.7619\n",
      "Epoch 9/30\n",
      "146/146 [==============================] - 0s 246us/sample - loss: 0.2221 - accuracy: 0.9041 - val_loss: 0.4838 - val_accuracy: 0.7143\n",
      "Epoch 10/30\n",
      "146/146 [==============================] - 0s 247us/sample - loss: 0.2383 - accuracy: 0.8973 - val_loss: 0.5270 - val_accuracy: 0.7143\n",
      "Epoch 11/30\n",
      "146/146 [==============================] - 0s 247us/sample - loss: 0.2240 - accuracy: 0.9178 - val_loss: 0.5135 - val_accuracy: 0.7619\n",
      "Epoch 12/30\n",
      "146/146 [==============================] - 0s 274us/sample - loss: 0.2093 - accuracy: 0.9178 - val_loss: 0.4984 - val_accuracy: 0.7619\n",
      "Epoch 13/30\n",
      "146/146 [==============================] - 0s 247us/sample - loss: 0.2034 - accuracy: 0.9247 - val_loss: 0.5026 - val_accuracy: 0.7619\n",
      "Epoch 14/30\n",
      "146/146 [==============================] - 0s 247us/sample - loss: 0.1896 - accuracy: 0.9315 - val_loss: 0.5200 - val_accuracy: 0.7143\n",
      "Epoch 15/30\n",
      "146/146 [==============================] - 0s 247us/sample - loss: 0.1934 - accuracy: 0.9315 - val_loss: 0.4999 - val_accuracy: 0.7619\n",
      "Epoch 16/30\n",
      "146/146 [==============================] - 0s 247us/sample - loss: 0.2038 - accuracy: 0.9315 - val_loss: 0.4831 - val_accuracy: 0.7619\n",
      "Epoch 17/30\n",
      "146/146 [==============================] - 0s 274us/sample - loss: 0.2007 - accuracy: 0.9315 - val_loss: 0.5435 - val_accuracy: 0.7619\n",
      "Epoch 18/30\n",
      "146/146 [==============================] - 0s 247us/sample - loss: 0.1710 - accuracy: 0.9452 - val_loss: 0.5147 - val_accuracy: 0.7619\n",
      "Epoch 19/30\n",
      "146/146 [==============================] - 0s 219us/sample - loss: 0.1626 - accuracy: 0.9521 - val_loss: 0.4966 - val_accuracy: 0.7619\n",
      "Epoch 20/30\n",
      "146/146 [==============================] - 0s 274us/sample - loss: 0.1536 - accuracy: 0.9726 - val_loss: 0.5166 - val_accuracy: 0.7619\n",
      "Epoch 21/30\n",
      "146/146 [==============================] - 0s 246us/sample - loss: 0.1465 - accuracy: 0.9795 - val_loss: 0.5344 - val_accuracy: 0.7143\n",
      "Epoch 22/30\n",
      "146/146 [==============================] - 0s 247us/sample - loss: 0.1353 - accuracy: 0.9726 - val_loss: 0.5268 - val_accuracy: 0.7619\n",
      "Epoch 23/30\n",
      "146/146 [==============================] - 0s 247us/sample - loss: 0.1288 - accuracy: 0.9795 - val_loss: 0.5269 - val_accuracy: 0.7619\n",
      "Epoch 24/30\n",
      "146/146 [==============================] - 0s 246us/sample - loss: 0.1237 - accuracy: 0.9726 - val_loss: 0.5149 - val_accuracy: 0.7619\n",
      "Epoch 25/30\n",
      "146/146 [==============================] - 0s 246us/sample - loss: 0.1232 - accuracy: 0.9795 - val_loss: 0.5505 - val_accuracy: 0.7619\n",
      "Epoch 26/30\n",
      "146/146 [==============================] - 0s 247us/sample - loss: 0.1254 - accuracy: 0.9658 - val_loss: 0.5381 - val_accuracy: 0.7619\n",
      "Epoch 27/30\n",
      "146/146 [==============================] - 0s 219us/sample - loss: 0.1153 - accuracy: 0.9726 - val_loss: 0.5729 - val_accuracy: 0.7619\n",
      "Epoch 28/30\n",
      "146/146 [==============================] - 0s 247us/sample - loss: 0.1356 - accuracy: 0.9521 - val_loss: 0.5357 - val_accuracy: 0.7619\n",
      "Epoch 29/30\n",
      "146/146 [==============================] - 0s 246us/sample - loss: 0.1128 - accuracy: 0.9726 - val_loss: 0.5808 - val_accuracy: 0.7619\n",
      "Epoch 30/30\n",
      "146/146 [==============================] - 0s 246us/sample - loss: 0.1006 - accuracy: 0.9863 - val_loss: 0.5659 - val_accuracy: 0.6667\n"
     ]
    }
   ],
   "source": [
    "history=model.fit(partial_x_train,partial_train_label,epochs=30,batch_size=10,validation_data=(x_val,val_label))"
   ]
  },
  {
   "cell_type": "code",
   "execution_count": 362,
   "metadata": {},
   "outputs": [
    {
     "name": "stdout",
     "output_type": "stream",
     "text": [
      "\r",
      "41/1 [==============================================================================================================================================================================================================================================================================================================================================================================================================================================================================================================================================================================================================================================================================================================================================================================================================================================================================================================================================================================================================================================================================================================================================================================================================================================================================] - 0s 98us/sample - loss: 0.4209 - accuracy: 0.8049\n"
     ]
    }
   ],
   "source": [
    "\n",
    "test_mse_score, test_mae_score = model.evaluate(y_test,test_labels)"
   ]
  },
  {
   "cell_type": "code",
   "execution_count": 363,
   "metadata": {},
   "outputs": [],
   "source": [
    "history_dict=history.history"
   ]
  },
  {
   "cell_type": "markdown",
   "metadata": {},
   "source": [
    "# Plot Graph"
   ]
  },
  {
   "cell_type": "code",
   "execution_count": 364,
   "metadata": {},
   "outputs": [
    {
     "data": {
      "image/png": "[encoded data removed]",
      "text/plain": [
       "<Figure size 432x288 with 1 Axes>"
      ]
     },
     "metadata": {
      "needs_background": "light"
     },
     "output_type": "display_data"
    },
    {
     "data": {
      "image/png": "[encoded data removed]",
      "text/plain": [
       "<Figure size 432x288 with 1 Axes>"
      ]
     },
     "metadata": {
      "needs_background": "light"
     },
     "output_type": "display_data"
    },
    {
     "data": {
      "text/plain": [
       "<function matplotlib.pyplot.clf()>"
      ]
     },
     "execution_count": 364,
     "metadata": {},
     "output_type": "execute_result"
    }
   ],
   "source": [
    "\n",
    "loss_values=history_dict['loss']\n",
    "val_loss_values=history_dict['val_loss']\n",
    "epochs=range(1,len(loss_values)+1)\n",
    "plt.plot(epochs,loss_values,'bo',label='Training loss')\n",
    "plt.plot(epochs,val_loss_values,'b',label='Validation loss')\n",
    "plt.title('Training and Validation loss')\n",
    "plt.xlabel('Epochs')\n",
    "plt.ylabel('Loss')\n",
    "plt.legend()\n",
    "plt.show()\n",
    "plt.clf\n",
    "acc_values=history_dict['accuracy']\n",
    "val_acc_values=history_dict['val_accuracy']\n",
    "epochs=range(1,len(acc_values)+1)\n",
    "plt.plot(epochs,acc_values,'bo',label='Training acc')\n",
    "plt.plot(epochs,val_acc_values,'b',label='Validation acc')\n",
    "plt.title('Training and Validation accuracy')\n",
    "plt.xlabel('Epochs')\n",
    "plt.ylabel('acc')\n",
    "plt.legend()\n",
    "plt.show()s\n",
    "plt.clf"
   ]
  },
  {
   "cell_type": "code",
   "execution_count": null,
   "metadata": {},
   "outputs": [],
   "source": []
  }
 ],
 "metadata": {
  "kernelspec": {
   "display_name": "Python 3",
   "language": "python",
   "name": "python3"
  },
  "language_info": {
   "codemirror_mode": {
    "name": "ipython",
    "version": 3
   },
   "file_extension": ".py",
   "mimetype": "text/x-python",
   "name": "python",
   "nbconvert_exporter": "python",
   "pygments_lexer": "ipython3",
   "version": "3.7.3"
  }
 },
 "nbformat": 4,
 "nbformat_minor": 2
}
