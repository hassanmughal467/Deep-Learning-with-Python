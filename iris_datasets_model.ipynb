{
 "cells": [
  {
   "cell_type": "markdown",
   "metadata": {},
   "source": [
    "# ASSIGNMENT : IRIS MULTI-CLASS CLASSIFICATION\n",
    "\n",
    "###### Purpose :\n",
    "To predict the species of flower .\n",
    "###### Description :\n",
    "The dataset contains a set of 150 records under 5 attributes - Petal Length, Petal Width, Sepal Length, Sepal width and Class(Species).\n",
    "###### Requirements :\n",
    "1) Code must be in tf 2.0 .\n",
    "\n",
    "2) Accuracy must be in between 95-97% .\n",
    "\n",
    "3) Model shouldn't be Overfit (You can add drop out layer for this) ."
   ]
  },
  {
   "cell_type": "markdown",
   "metadata": {},
   "source": [
    "### STEP 1 : Load all the necessary libraries "
   ]
  },
  {
   "cell_type": "code",
   "execution_count": 4,
   "metadata": {},
   "outputs": [
    {
     "name": "stdout",
     "output_type": "stream",
     "text": [
      "2.0.0\n"
     ]
    }
   ],
   "source": [
    "import tensorflow as tf\n",
    "from tensorflow.keras.datasets import reuters\n",
    "from tensorflow.keras import models,layers,optimizers,utils\n",
    "import pandas as pd\n",
    "import numpy as np\n",
    "import matplotlib.pyplot as plt\n",
    "if tf.__version__<\"2.0.0\":\n",
    "    !pip install --upgrade tensorflow_gpu==2.0\n",
    "print(tf.__version__)"
   ]
  },
  {
   "cell_type": "markdown",
   "metadata": {},
   "source": [
    "### STEP 2 : Data Preparation\n",
    "This step consists of multiple sub steps from data loading [download](https://github.com/ramsha275/PIAIC-Sir-Anees-Quarter-2/blob/master/Deep%20Learning/iris.csv),shuffling ,spliting in **Train** and **Test** sets to one-hot-enconding on labels . \n"
   ]
  },
  {
   "cell_type": "code",
   "execution_count": 5,
   "metadata": {},
   "outputs": [
    {
     "name": "stdout",
     "output_type": "stream",
     "text": [
      "   sepal.length  sepal.width  petal.length  petal.width variety\n",
      "0           5.1          3.5           1.4          0.2  Setosa\n",
      "1           4.9          3.0           1.4          0.2  Setosa\n",
      "2           4.7          3.2           1.3          0.2  Setosa\n",
      "3           4.6          3.1           1.5          0.2  Setosa\n",
      "4           5.0          3.6           1.4          0.2  Setosa\n",
      "(150, 5)\n"
     ]
    }
   ],
   "source": [
    "iris=pd.read_csv('iris.csv')\n",
    "print(iris.head())\n",
    "print(iris.shape)"
   ]
  },
  {
   "cell_type": "code",
   "execution_count": 6,
   "metadata": {},
   "outputs": [],
   "source": [
    "iris = iris.sample(frac=1)\n",
    "iris=iris.values\n"
   ]
  },
  {
   "cell_type": "code",
   "execution_count": 7,
   "metadata": {},
   "outputs": [],
   "source": [
    "x_train = iris[:90,:4].astype('float')\n",
    "train_labels = iris[:90,4]\n",
    "y_test = iris[90:,:4].astype('float')\n",
    "test_labels = iris[90:,4]"
   ]
  },
  {
   "cell_type": "code",
   "execution_count": 8,
   "metadata": {},
   "outputs": [
    {
     "name": "stdout",
     "output_type": "stream",
     "text": [
      "(90, 4)\n",
      "(90,)\n",
      "(60, 4)\n",
      "(60,)\n"
     ]
    }
   ],
   "source": [
    "print(x_train.shape)\n",
    "print(train_labels.shape)\n",
    "print(y_test.shape)\n",
    "print(test_labels.shape)"
   ]
  },
  {
   "cell_type": "markdown",
   "metadata": {},
   "source": [
    "# Encoding"
   ]
  },
  {
   "cell_type": "code",
   "execution_count": 9,
   "metadata": {},
   "outputs": [],
   "source": [
    "from sklearn.preprocessing import LabelEncoder\n",
    "# encode class values as integers\n",
    "le = LabelEncoder()\n",
    "encoded_Y = le.fit_transform(train_labels)\n",
    "encoded_train_labels = tf.keras.utils.to_categorical(encoded_Y)\n",
    "encoded_Y = le.fit_transform(test_labels)\n",
    "encoded_test_labels = tf.keras.utils.to_categorical(encoded_Y)"
   ]
  },
  {
   "cell_type": "markdown",
   "metadata": {},
   "source": [
    "\n",
    "\n",
    "\n",
    "\n",
    "\n",
    "\n",
    "\n",
    "\n",
    "\n",
    "\n",
    "\n",
    "\n",
    "\n",
    "\n",
    "### STEP 3 : Model Architecture \n",
    "\n",
    "\n",
    "###### Input : 4 \n",
    "###### 1 hidden Layer : 8 nodes\n",
    "###### Output : 3"
   ]
  },
  {
   "cell_type": "code",
   "execution_count": 10,
   "metadata": {},
   "outputs": [],
   "source": [
    "model = tf.keras.models.Sequential([\n",
    "  tf.keras.layers.Input(shape=(4,)),\n",
    "  tf.keras.layers.Dense(8, activation='relu'),\n",
    "  tf.keras.layers.Dense(3, activation='softmax')\n",
    "])"
   ]
  },
  {
   "cell_type": "markdown",
   "metadata": {},
   "source": [
    "### STEP 4 : Compilation Step "
   ]
  },
  {
   "cell_type": "code",
   "execution_count": 11,
   "metadata": {},
   "outputs": [],
   "source": [
    "model.compile(optimizer='adam',\n",
    "             loss='categorical_crossentropy',\n",
    "             metrics=['accuracy'])"
   ]
  },
  {
   "cell_type": "markdown",
   "metadata": {},
   "source": [
    "### STEP 5 : Evaluation "
   ]
  },
  {
   "cell_type": "code",
   "execution_count": 13,
   "metadata": {},
   "outputs": [
    {
     "name": "stdout",
     "output_type": "stream",
     "text": [
      "Train on 90 samples\n",
      "Epoch 1/200\n",
      "90/90 [==============================] - 0s 133us/sample - loss: 0.5879 - accuracy: 0.8889\n",
      "Epoch 2/200\n",
      "90/90 [==============================] - 0s 89us/sample - loss: 0.5864 - accuracy: 0.8889\n",
      "Epoch 3/200\n",
      "90/90 [==============================] - 0s 89us/sample - loss: 0.5850 - accuracy: 0.8889\n",
      "Epoch 4/200\n",
      "90/90 [==============================] - 0s 89us/sample - loss: 0.5835 - accuracy: 0.8889\n",
      "Epoch 5/200\n",
      "90/90 [==============================] - 0s 89us/sample - loss: 0.5821 - accuracy: 0.8889\n",
      "Epoch 6/200\n",
      "90/90 [==============================] - 0s 89us/sample - loss: 0.5807 - accuracy: 0.8889\n",
      "Epoch 7/200\n",
      "90/90 [==============================] - 0s 89us/sample - loss: 0.5791 - accuracy: 0.9000\n",
      "Epoch 8/200\n",
      "90/90 [==============================] - 0s 89us/sample - loss: 0.5777 - accuracy: 0.8889\n",
      "Epoch 9/200\n",
      "90/90 [==============================] - 0s 89us/sample - loss: 0.5763 - accuracy: 0.8889\n",
      "Epoch 10/200\n",
      "90/90 [==============================] - 0s 89us/sample - loss: 0.5748 - accuracy: 0.8889\n",
      "Epoch 11/200\n",
      "90/90 [==============================] - 0s 89us/sample - loss: 0.5735 - accuracy: 0.8889\n",
      "Epoch 12/200\n",
      "90/90 [==============================] - 0s 89us/sample - loss: 0.5721 - accuracy: 0.8889\n",
      "Epoch 13/200\n",
      "90/90 [==============================] - 0s 44us/sample - loss: 0.5706 - accuracy: 0.8889\n",
      "Epoch 14/200\n",
      "90/90 [==============================] - 0s 89us/sample - loss: 0.5691 - accuracy: 0.8889\n",
      "Epoch 15/200\n",
      "90/90 [==============================] - 0s 89us/sample - loss: 0.5677 - accuracy: 0.8889\n",
      "Epoch 16/200\n",
      "90/90 [==============================] - 0s 89us/sample - loss: 0.5663 - accuracy: 0.8889\n",
      "Epoch 17/200\n",
      "90/90 [==============================] - 0s 89us/sample - loss: 0.5648 - accuracy: 0.8889\n",
      "Epoch 18/200\n",
      "90/90 [==============================] - 0s 89us/sample - loss: 0.5635 - accuracy: 0.8889\n",
      "Epoch 19/200\n",
      "90/90 [==============================] - 0s 44us/sample - loss: 0.5620 - accuracy: 0.8889\n",
      "Epoch 20/200\n",
      "90/90 [==============================] - 0s 45us/sample - loss: 0.5606 - accuracy: 0.8889\n",
      "Epoch 21/200\n",
      "90/90 [==============================] - 0s 89us/sample - loss: 0.5591 - accuracy: 0.8889\n",
      "Epoch 22/200\n",
      "90/90 [==============================] - 0s 89us/sample - loss: 0.5577 - accuracy: 0.8889\n",
      "Epoch 23/200\n",
      "90/90 [==============================] - 0s 89us/sample - loss: 0.5563 - accuracy: 0.8889\n",
      "Epoch 24/200\n",
      "90/90 [==============================] - 0s 89us/sample - loss: 0.5549 - accuracy: 0.8889\n",
      "Epoch 25/200\n",
      "90/90 [==============================] - 0s 44us/sample - loss: 0.5536 - accuracy: 0.8889\n",
      "Epoch 26/200\n",
      "90/90 [==============================] - 0s 89us/sample - loss: 0.5520 - accuracy: 0.8889\n",
      "Epoch 27/200\n",
      "90/90 [==============================] - 0s 89us/sample - loss: 0.5506 - accuracy: 0.8889\n",
      "Epoch 28/200\n",
      "90/90 [==============================] - 0s 89us/sample - loss: 0.5492 - accuracy: 0.8889\n",
      "Epoch 29/200\n",
      "90/90 [==============================] - 0s 89us/sample - loss: 0.5478 - accuracy: 0.8889\n",
      "Epoch 30/200\n",
      "90/90 [==============================] - 0s 89us/sample - loss: 0.5463 - accuracy: 0.8889\n",
      "Epoch 31/200\n",
      "90/90 [==============================] - 0s 89us/sample - loss: 0.5450 - accuracy: 0.8889\n",
      "Epoch 32/200\n",
      "90/90 [==============================] - 0s 89us/sample - loss: 0.5435 - accuracy: 0.8889\n",
      "Epoch 33/200\n",
      "90/90 [==============================] - 0s 45us/sample - loss: 0.5421 - accuracy: 0.8889\n",
      "Epoch 34/200\n",
      "90/90 [==============================] - 0s 89us/sample - loss: 0.5407 - accuracy: 0.8889\n",
      "Epoch 35/200\n",
      "90/90 [==============================] - 0s 89us/sample - loss: 0.5392 - accuracy: 0.8889\n",
      "Epoch 36/200\n",
      "90/90 [==============================] - 0s 89us/sample - loss: 0.5378 - accuracy: 0.8889\n",
      "Epoch 37/200\n",
      "90/90 [==============================] - 0s 89us/sample - loss: 0.5364 - accuracy: 0.8889\n",
      "Epoch 38/200\n",
      "90/90 [==============================] - 0s 89us/sample - loss: 0.5349 - accuracy: 0.8889\n",
      "Epoch 39/200\n",
      "90/90 [==============================] - 0s 89us/sample - loss: 0.5335 - accuracy: 0.8889\n",
      "Epoch 40/200\n",
      "90/90 [==============================] - 0s 89us/sample - loss: 0.5322 - accuracy: 0.8889\n",
      "Epoch 41/200\n",
      "90/90 [==============================] - 0s 44us/sample - loss: 0.5307 - accuracy: 0.8889\n",
      "Epoch 42/200\n",
      "90/90 [==============================] - 0s 89us/sample - loss: 0.5293 - accuracy: 0.8889\n",
      "Epoch 43/200\n",
      "90/90 [==============================] - 0s 89us/sample - loss: 0.5278 - accuracy: 0.8889\n",
      "Epoch 44/200\n",
      "90/90 [==============================] - 0s 89us/sample - loss: 0.5265 - accuracy: 0.8889\n",
      "Epoch 45/200\n",
      "90/90 [==============================] - 0s 89us/sample - loss: 0.5250 - accuracy: 0.8889\n",
      "Epoch 46/200\n",
      "90/90 [==============================] - 0s 89us/sample - loss: 0.5236 - accuracy: 0.8889\n",
      "Epoch 47/200\n",
      "90/90 [==============================] - 0s 89us/sample - loss: 0.5222 - accuracy: 0.8889\n",
      "Epoch 48/200\n",
      "90/90 [==============================] - 0s 89us/sample - loss: 0.5208 - accuracy: 0.8889\n",
      "Epoch 49/200\n",
      "90/90 [==============================] - 0s 89us/sample - loss: 0.5193 - accuracy: 0.8889\n",
      "Epoch 50/200\n",
      "90/90 [==============================] - 0s 45us/sample - loss: 0.5179 - accuracy: 0.8889\n",
      "Epoch 51/200\n",
      "90/90 [==============================] - 0s 44us/sample - loss: 0.5165 - accuracy: 0.8889\n",
      "Epoch 52/200\n",
      "90/90 [==============================] - 0s 89us/sample - loss: 0.5149 - accuracy: 0.8889\n",
      "Epoch 53/200\n",
      "90/90 [==============================] - 0s 89us/sample - loss: 0.5135 - accuracy: 0.8889\n",
      "Epoch 54/200\n",
      "90/90 [==============================] - 0s 89us/sample - loss: 0.5120 - accuracy: 0.8889\n",
      "Epoch 55/200\n",
      "90/90 [==============================] - 0s 89us/sample - loss: 0.5105 - accuracy: 0.8889\n",
      "Epoch 56/200\n",
      "90/90 [==============================] - 0s 89us/sample - loss: 0.5090 - accuracy: 0.9000\n",
      "Epoch 57/200\n",
      "90/90 [==============================] - 0s 89us/sample - loss: 0.5076 - accuracy: 0.9000\n",
      "Epoch 58/200\n",
      "90/90 [==============================] - 0s 89us/sample - loss: 0.5061 - accuracy: 0.9000\n",
      "Epoch 59/200\n",
      "90/90 [==============================] - 0s 89us/sample - loss: 0.5046 - accuracy: 0.9111\n",
      "Epoch 60/200\n",
      "90/90 [==============================] - 0s 89us/sample - loss: 0.5032 - accuracy: 0.9111\n",
      "Epoch 61/200\n",
      "90/90 [==============================] - 0s 89us/sample - loss: 0.5017 - accuracy: 0.9111\n",
      "Epoch 62/200\n",
      "90/90 [==============================] - 0s 89us/sample - loss: 0.5002 - accuracy: 0.9111\n",
      "Epoch 63/200\n",
      "90/90 [==============================] - 0s 133us/sample - loss: 0.4988 - accuracy: 0.9111\n",
      "Epoch 64/200\n",
      "90/90 [==============================] - 0s 89us/sample - loss: 0.4972 - accuracy: 0.9111\n",
      "Epoch 65/200\n",
      "90/90 [==============================] - 0s 133us/sample - loss: 0.4957 - accuracy: 0.9222\n",
      "Epoch 66/200\n",
      "90/90 [==============================] - 0s 89us/sample - loss: 0.4941 - accuracy: 0.9222\n",
      "Epoch 67/200\n",
      "90/90 [==============================] - 0s 89us/sample - loss: 0.4927 - accuracy: 0.9222\n",
      "Epoch 68/200\n",
      "90/90 [==============================] - 0s 89us/sample - loss: 0.4910 - accuracy: 0.9222\n",
      "Epoch 69/200\n",
      "90/90 [==============================] - 0s 89us/sample - loss: 0.4896 - accuracy: 0.9222\n",
      "Epoch 70/200\n",
      "90/90 [==============================] - 0s 89us/sample - loss: 0.4880 - accuracy: 0.9222\n",
      "Epoch 71/200\n",
      "90/90 [==============================] - 0s 89us/sample - loss: 0.4865 - accuracy: 0.9222\n",
      "Epoch 72/200\n",
      "90/90 [==============================] - 0s 89us/sample - loss: 0.4849 - accuracy: 0.9111\n",
      "Epoch 73/200\n",
      "90/90 [==============================] - 0s 44us/sample - loss: 0.4834 - accuracy: 0.9111\n",
      "Epoch 74/200\n",
      "90/90 [==============================] - 0s 89us/sample - loss: 0.4818 - accuracy: 0.9111\n",
      "Epoch 75/200\n",
      "90/90 [==============================] - 0s 89us/sample - loss: 0.4803 - accuracy: 0.9111\n",
      "Epoch 76/200\n",
      "90/90 [==============================] - 0s 89us/sample - loss: 0.4788 - accuracy: 0.9333\n",
      "Epoch 77/200\n",
      "90/90 [==============================] - 0s 89us/sample - loss: 0.4772 - accuracy: 0.9333\n",
      "Epoch 78/200\n",
      "90/90 [==============================] - 0s 45us/sample - loss: 0.4756 - accuracy: 0.9444\n",
      "Epoch 79/200\n",
      "90/90 [==============================] - 0s 89us/sample - loss: 0.4741 - accuracy: 0.9556\n",
      "Epoch 80/200\n"
     ]
    },
    {
     "name": "stdout",
     "output_type": "stream",
     "text": [
      "90/90 [==============================] - 0s 89us/sample - loss: 0.4726 - accuracy: 0.9556\n",
      "Epoch 81/200\n",
      "90/90 [==============================] - 0s 89us/sample - loss: 0.4710 - accuracy: 0.9556\n",
      "Epoch 82/200\n",
      "90/90 [==============================] - 0s 89us/sample - loss: 0.4695 - accuracy: 0.9556\n",
      "Epoch 83/200\n",
      "90/90 [==============================] - 0s 89us/sample - loss: 0.4680 - accuracy: 0.9556\n",
      "Epoch 84/200\n",
      "90/90 [==============================] - 0s 44us/sample - loss: 0.4664 - accuracy: 0.9556\n",
      "Epoch 85/200\n",
      "90/90 [==============================] - 0s 89us/sample - loss: 0.4650 - accuracy: 0.9556\n",
      "Epoch 86/200\n",
      "90/90 [==============================] - 0s 89us/sample - loss: 0.4633 - accuracy: 0.9556\n",
      "Epoch 87/200\n",
      "90/90 [==============================] - 0s 44us/sample - loss: 0.4617 - accuracy: 0.9556\n",
      "Epoch 88/200\n",
      "90/90 [==============================] - 0s 89us/sample - loss: 0.4603 - accuracy: 0.9556\n",
      "Epoch 89/200\n",
      "90/90 [==============================] - 0s 44us/sample - loss: 0.4587 - accuracy: 0.9556\n",
      "Epoch 90/200\n",
      "90/90 [==============================] - 0s 44us/sample - loss: 0.4570 - accuracy: 0.9556\n",
      "Epoch 91/200\n",
      "90/90 [==============================] - 0s 44us/sample - loss: 0.4555 - accuracy: 0.9778\n",
      "Epoch 92/200\n",
      "90/90 [==============================] - 0s 89us/sample - loss: 0.4539 - accuracy: 0.9778\n",
      "Epoch 93/200\n",
      "90/90 [==============================] - 0s 89us/sample - loss: 0.4524 - accuracy: 0.9778\n",
      "Epoch 94/200\n",
      "90/90 [==============================] - 0s 89us/sample - loss: 0.4508 - accuracy: 0.9778\n",
      "Epoch 95/200\n",
      "90/90 [==============================] - 0s 89us/sample - loss: 0.4492 - accuracy: 0.9778\n",
      "Epoch 96/200\n",
      "90/90 [==============================] - 0s 89us/sample - loss: 0.4476 - accuracy: 0.9778\n",
      "Epoch 97/200\n",
      "90/90 [==============================] - 0s 133us/sample - loss: 0.4460 - accuracy: 0.9778\n",
      "Epoch 98/200\n",
      "90/90 [==============================] - 0s 89us/sample - loss: 0.4444 - accuracy: 0.9778\n",
      "Epoch 99/200\n",
      "90/90 [==============================] - 0s 89us/sample - loss: 0.4428 - accuracy: 0.9778\n",
      "Epoch 100/200\n",
      "90/90 [==============================] - 0s 45us/sample - loss: 0.4413 - accuracy: 0.9778\n",
      "Epoch 101/200\n",
      "90/90 [==============================] - 0s 44us/sample - loss: 0.4396 - accuracy: 0.9778\n",
      "Epoch 102/200\n",
      "90/90 [==============================] - 0s 44us/sample - loss: 0.4380 - accuracy: 0.9778\n",
      "Epoch 103/200\n",
      "90/90 [==============================] - 0s 89us/sample - loss: 0.4365 - accuracy: 0.9778\n",
      "Epoch 104/200\n",
      "90/90 [==============================] - 0s 44us/sample - loss: 0.4348 - accuracy: 0.9778\n",
      "Epoch 105/200\n",
      "90/90 [==============================] - 0s 89us/sample - loss: 0.4333 - accuracy: 0.9778\n",
      "Epoch 106/200\n",
      "90/90 [==============================] - 0s 89us/sample - loss: 0.4316 - accuracy: 0.9778\n",
      "Epoch 107/200\n",
      "90/90 [==============================] - 0s 45us/sample - loss: 0.4299 - accuracy: 0.9778\n",
      "Epoch 108/200\n",
      "90/90 [==============================] - 0s 44us/sample - loss: 0.4285 - accuracy: 0.9778\n",
      "Epoch 109/200\n",
      "90/90 [==============================] - 0s 89us/sample - loss: 0.4268 - accuracy: 0.9778\n",
      "Epoch 110/200\n",
      "90/90 [==============================] - 0s 89us/sample - loss: 0.4252 - accuracy: 0.9778\n",
      "Epoch 111/200\n",
      "90/90 [==============================] - 0s 45us/sample - loss: 0.4236 - accuracy: 0.9778\n",
      "Epoch 112/200\n",
      "90/90 [==============================] - 0s 89us/sample - loss: 0.4220 - accuracy: 0.9778\n",
      "Epoch 113/200\n",
      "90/90 [==============================] - 0s 89us/sample - loss: 0.4205 - accuracy: 0.9778\n",
      "Epoch 114/200\n",
      "90/90 [==============================] - 0s 89us/sample - loss: 0.4188 - accuracy: 0.9778\n",
      "Epoch 115/200\n",
      "90/90 [==============================] - 0s 89us/sample - loss: 0.4172 - accuracy: 0.9889\n",
      "Epoch 116/200\n",
      "90/90 [==============================] - 0s 89us/sample - loss: 0.4157 - accuracy: 0.9889\n",
      "Epoch 117/200\n",
      "90/90 [==============================] - 0s 89us/sample - loss: 0.4142 - accuracy: 0.9889\n",
      "Epoch 118/200\n",
      "90/90 [==============================] - 0s 89us/sample - loss: 0.4125 - accuracy: 0.9889\n",
      "Epoch 119/200\n",
      "90/90 [==============================] - 0s 44us/sample - loss: 0.4110 - accuracy: 0.9889\n",
      "Epoch 120/200\n",
      "90/90 [==============================] - 0s 44us/sample - loss: 0.4095 - accuracy: 0.9889\n",
      "Epoch 121/200\n",
      "90/90 [==============================] - 0s 44us/sample - loss: 0.4079 - accuracy: 0.9889\n",
      "Epoch 122/200\n",
      "90/90 [==============================] - 0s 89us/sample - loss: 0.4063 - accuracy: 0.9889\n",
      "Epoch 123/200\n",
      "90/90 [==============================] - 0s 89us/sample - loss: 0.4047 - accuracy: 0.9778\n",
      "Epoch 124/200\n",
      "90/90 [==============================] - 0s 89us/sample - loss: 0.4032 - accuracy: 0.9778\n",
      "Epoch 125/200\n",
      "90/90 [==============================] - 0s 89us/sample - loss: 0.4019 - accuracy: 0.9778\n",
      "Epoch 126/200\n",
      "90/90 [==============================] - 0s 89us/sample - loss: 0.4002 - accuracy: 0.9778\n",
      "Epoch 127/200\n",
      "90/90 [==============================] - 0s 133us/sample - loss: 0.3985 - accuracy: 0.9778\n",
      "Epoch 128/200\n",
      "90/90 [==============================] - 0s 44us/sample - loss: 0.3970 - accuracy: 0.9778\n",
      "Epoch 129/200\n",
      "90/90 [==============================] - 0s 44us/sample - loss: 0.3955 - accuracy: 0.9778\n",
      "Epoch 130/200\n",
      "90/90 [==============================] - 0s 44us/sample - loss: 0.3941 - accuracy: 0.9778\n",
      "Epoch 131/200\n",
      "90/90 [==============================] - 0s 89us/sample - loss: 0.3925 - accuracy: 0.9778\n",
      "Epoch 132/200\n",
      "90/90 [==============================] - 0s 89us/sample - loss: 0.3910 - accuracy: 0.9778\n",
      "Epoch 133/200\n",
      "90/90 [==============================] - 0s 89us/sample - loss: 0.3894 - accuracy: 0.9667\n",
      "Epoch 134/200\n",
      "90/90 [==============================] - 0s 89us/sample - loss: 0.3879 - accuracy: 0.9778\n",
      "Epoch 135/200\n",
      "90/90 [==============================] - 0s 89us/sample - loss: 0.3864 - accuracy: 0.9778\n",
      "Epoch 136/200\n",
      "90/90 [==============================] - 0s 89us/sample - loss: 0.3849 - accuracy: 0.9778\n",
      "Epoch 137/200\n",
      "90/90 [==============================] - 0s 44us/sample - loss: 0.3833 - accuracy: 0.9778\n",
      "Epoch 138/200\n",
      "90/90 [==============================] - 0s 89us/sample - loss: 0.3818 - accuracy: 0.9778\n",
      "Epoch 139/200\n",
      "90/90 [==============================] - 0s 44us/sample - loss: 0.3803 - accuracy: 0.9778\n",
      "Epoch 140/200\n",
      "90/90 [==============================] - 0s 89us/sample - loss: 0.3790 - accuracy: 0.9778\n",
      "Epoch 141/200\n",
      "90/90 [==============================] - 0s 44us/sample - loss: 0.3774 - accuracy: 0.9778\n",
      "Epoch 142/200\n",
      "90/90 [==============================] - 0s 89us/sample - loss: 0.3757 - accuracy: 0.9778\n",
      "Epoch 143/200\n",
      "90/90 [==============================] - 0s 89us/sample - loss: 0.3743 - accuracy: 0.9778\n",
      "Epoch 144/200\n",
      "90/90 [==============================] - 0s 89us/sample - loss: 0.3728 - accuracy: 0.9778\n",
      "Epoch 145/200\n",
      "90/90 [==============================] - 0s 89us/sample - loss: 0.3714 - accuracy: 0.9778\n",
      "Epoch 146/200\n",
      "90/90 [==============================] - 0s 89us/sample - loss: 0.3699 - accuracy: 0.9778\n",
      "Epoch 147/200\n",
      "90/90 [==============================] - 0s 89us/sample - loss: 0.3686 - accuracy: 0.9778\n",
      "Epoch 148/200\n",
      "90/90 [==============================] - 0s 89us/sample - loss: 0.3669 - accuracy: 0.9667\n",
      "Epoch 149/200\n",
      "90/90 [==============================] - 0s 89us/sample - loss: 0.3654 - accuracy: 0.9667\n",
      "Epoch 150/200\n",
      "90/90 [==============================] - 0s 44us/sample - loss: 0.3640 - accuracy: 0.9667\n",
      "Epoch 151/200\n",
      "90/90 [==============================] - 0s 44us/sample - loss: 0.3625 - accuracy: 0.9556\n",
      "Epoch 152/200\n",
      "90/90 [==============================] - 0s 44us/sample - loss: 0.3613 - accuracy: 0.9556\n",
      "Epoch 153/200\n",
      "90/90 [==============================] - 0s 44us/sample - loss: 0.3597 - accuracy: 0.9556\n",
      "Epoch 154/200\n",
      "90/90 [==============================] - 0s 89us/sample - loss: 0.3583 - accuracy: 0.9667\n",
      "Epoch 155/200\n",
      "90/90 [==============================] - 0s 89us/sample - loss: 0.3568 - accuracy: 0.9778\n",
      "Epoch 156/200\n",
      "90/90 [==============================] - 0s 89us/sample - loss: 0.3554 - accuracy: 0.9778\n",
      "Epoch 157/200\n",
      "90/90 [==============================] - 0s 89us/sample - loss: 0.3540 - accuracy: 0.9778\n",
      "Epoch 158/200\n",
      "90/90 [==============================] - 0s 44us/sample - loss: 0.3525 - accuracy: 0.9778\n",
      "Epoch 159/200\n"
     ]
    },
    {
     "name": "stdout",
     "output_type": "stream",
     "text": [
      "90/90 [==============================] - 0s 44us/sample - loss: 0.3511 - accuracy: 0.9778\n",
      "Epoch 160/200\n",
      "90/90 [==============================] - 0s 89us/sample - loss: 0.3496 - accuracy: 0.9778\n",
      "Epoch 161/200\n",
      "90/90 [==============================] - 0s 89us/sample - loss: 0.3482 - accuracy: 0.9778\n",
      "Epoch 162/200\n",
      "90/90 [==============================] - 0s 89us/sample - loss: 0.3469 - accuracy: 0.9778\n",
      "Epoch 163/200\n",
      "90/90 [==============================] - 0s 89us/sample - loss: 0.3452 - accuracy: 0.9778\n",
      "Epoch 164/200\n",
      "90/90 [==============================] - 0s 44us/sample - loss: 0.3439 - accuracy: 0.9778\n",
      "Epoch 165/200\n",
      "90/90 [==============================] - 0s 89us/sample - loss: 0.3427 - accuracy: 0.9778\n",
      "Epoch 166/200\n",
      "90/90 [==============================] - 0s 89us/sample - loss: 0.3411 - accuracy: 0.9778\n",
      "Epoch 167/200\n",
      "90/90 [==============================] - 0s 89us/sample - loss: 0.3397 - accuracy: 0.9778\n",
      "Epoch 168/200\n",
      "90/90 [==============================] - 0s 89us/sample - loss: 0.3382 - accuracy: 0.9778\n",
      "Epoch 169/200\n",
      "90/90 [==============================] - 0s 44us/sample - loss: 0.3368 - accuracy: 0.9778\n",
      "Epoch 170/200\n",
      "90/90 [==============================] - 0s 44us/sample - loss: 0.3354 - accuracy: 0.9778\n",
      "Epoch 171/200\n",
      "90/90 [==============================] - 0s 44us/sample - loss: 0.3340 - accuracy: 0.9778\n",
      "Epoch 172/200\n",
      "90/90 [==============================] - 0s 133us/sample - loss: 0.3327 - accuracy: 0.9778\n",
      "Epoch 173/200\n",
      "90/90 [==============================] - 0s 45us/sample - loss: 0.3312 - accuracy: 0.9778\n",
      "Epoch 174/200\n",
      "90/90 [==============================] - 0s 89us/sample - loss: 0.3301 - accuracy: 0.9556\n",
      "Epoch 175/200\n",
      "90/90 [==============================] - 0s 45us/sample - loss: 0.3286 - accuracy: 0.9556\n",
      "Epoch 176/200\n",
      "90/90 [==============================] - 0s 89us/sample - loss: 0.3272 - accuracy: 0.9667\n",
      "Epoch 177/200\n",
      "90/90 [==============================] - 0s 44us/sample - loss: 0.3258 - accuracy: 0.9778\n",
      "Epoch 178/200\n",
      "90/90 [==============================] - 0s 89us/sample - loss: 0.3245 - accuracy: 0.9778\n",
      "Epoch 179/200\n",
      "90/90 [==============================] - 0s 89us/sample - loss: 0.3231 - accuracy: 0.9778\n",
      "Epoch 180/200\n",
      "90/90 [==============================] - 0s 89us/sample - loss: 0.3219 - accuracy: 0.9778\n",
      "Epoch 181/200\n",
      "90/90 [==============================] - 0s 89us/sample - loss: 0.3204 - accuracy: 0.9778\n",
      "Epoch 182/200\n",
      "90/90 [==============================] - 0s 89us/sample - loss: 0.3192 - accuracy: 0.9778\n",
      "Epoch 183/200\n",
      "90/90 [==============================] - 0s 89us/sample - loss: 0.3180 - accuracy: 0.9778\n",
      "Epoch 184/200\n",
      "90/90 [==============================] - 0s 89us/sample - loss: 0.3165 - accuracy: 0.9778\n",
      "Epoch 185/200\n",
      "90/90 [==============================] - 0s 89us/sample - loss: 0.3151 - accuracy: 0.9778\n",
      "Epoch 186/200\n",
      "90/90 [==============================] - 0s 89us/sample - loss: 0.3138 - accuracy: 0.9778\n",
      "Epoch 187/200\n",
      "90/90 [==============================] - 0s 89us/sample - loss: 0.3126 - accuracy: 0.9778\n",
      "Epoch 188/200\n",
      "90/90 [==============================] - 0s 45us/sample - loss: 0.3114 - accuracy: 0.9778\n",
      "Epoch 189/200\n",
      "90/90 [==============================] - 0s 89us/sample - loss: 0.3100 - accuracy: 0.9778\n",
      "Epoch 190/200\n",
      "90/90 [==============================] - 0s 89us/sample - loss: 0.3090 - accuracy: 0.9778\n",
      "Epoch 191/200\n",
      "90/90 [==============================] - 0s 89us/sample - loss: 0.3079 - accuracy: 0.9778\n",
      "Epoch 192/200\n",
      "90/90 [==============================] - 0s 89us/sample - loss: 0.3063 - accuracy: 0.9778\n",
      "Epoch 193/200\n",
      "90/90 [==============================] - 0s 89us/sample - loss: 0.3055 - accuracy: 0.9778\n",
      "Epoch 194/200\n",
      "90/90 [==============================] - 0s 89us/sample - loss: 0.3039 - accuracy: 0.9778\n",
      "Epoch 195/200\n",
      "90/90 [==============================] - 0s 133us/sample - loss: 0.3024 - accuracy: 0.9778\n",
      "Epoch 196/200\n",
      "90/90 [==============================] - 0s 133us/sample - loss: 0.3012 - accuracy: 0.9778\n",
      "Epoch 197/200\n",
      "90/90 [==============================] - 0s 133us/sample - loss: 0.3000 - accuracy: 0.9778\n",
      "Epoch 198/200\n",
      "90/90 [==============================] - 0s 133us/sample - loss: 0.2987 - accuracy: 0.9778\n",
      "Epoch 199/200\n",
      "90/90 [==============================] - 0s 133us/sample - loss: 0.2975 - accuracy: 0.9778\n",
      "Epoch 200/200\n",
      "90/90 [==============================] - 0s 89us/sample - loss: 0.2963 - accuracy: 0.9778\n"
     ]
    },
    {
     "data": {
      "text/plain": [
       "<tensorflow.python.keras.callbacks.History at 0x1e9fe2e47f0>"
      ]
     },
     "execution_count": 13,
     "metadata": {},
     "output_type": "execute_result"
    }
   ],
   "source": [
    "model.fit(x_train , encoded_train_labels , epochs=200)"
   ]
  },
  {
   "cell_type": "markdown",
   "metadata": {},
   "source": [
    "### STEP 6 : Prediction "
   ]
  },
  {
   "cell_type": "code",
   "execution_count": 14,
   "metadata": {},
   "outputs": [
    {
     "name": "stdout",
     "output_type": "stream",
     "text": [
      "60/1 - 0s - loss: 0.3594 - accuracy: 0.9667\n"
     ]
    },
    {
     "data": {
      "text/plain": [
       "[0.3612510621547699, 0.96666664]"
      ]
     },
     "execution_count": 14,
     "metadata": {},
     "output_type": "execute_result"
    }
   ],
   "source": [
    "results = model.evaluate(y_test, encoded_test_labels,verbose=2)\n",
    "results"
   ]
  },
  {
   "cell_type": "code",
   "execution_count": 15,
   "metadata": {},
   "outputs": [
    {
     "data": {
      "text/plain": [
       "array([[1.24926334e-02, 2.67272264e-01, 7.20235109e-01],\n",
       "       [9.62990701e-01, 3.69924009e-02, 1.69179348e-05],\n",
       "       [9.64837521e-03, 2.67685145e-01, 7.22666442e-01],\n",
       "       [9.30198967e-01, 6.97141737e-02, 8.68107963e-05],\n",
       "       [1.31884208e-02, 2.91883022e-01, 6.94928586e-01],\n",
       "       [9.85507481e-03, 2.67658532e-01, 7.22486377e-01],\n",
       "       [1.96955204e-02, 3.71938080e-01, 6.08366430e-01],\n",
       "       [5.06408587e-02, 5.41252971e-01, 4.08106238e-01],\n",
       "       [5.11573721e-03, 2.87070423e-01, 7.07813859e-01],\n",
       "       [6.23123385e-02, 6.66474879e-01, 2.71212846e-01],\n",
       "       [9.96654853e-02, 6.21801496e-01, 2.78533041e-01],\n",
       "       [9.56891894e-01, 4.30883057e-02, 1.98512007e-05],\n",
       "       [9.81826067e-01, 1.81695689e-02, 4.27598388e-06],\n",
       "       [9.99662746e-03, 2.67639935e-01, 7.22363412e-01],\n",
       "       [1.44495377e-02, 2.66943276e-01, 7.18607187e-01],\n",
       "       [3.53342034e-02, 4.43015277e-01, 5.21650553e-01],\n",
       "       [9.28228736e-01, 7.16922209e-02, 7.91581333e-05],\n",
       "       [1.35392891e-02, 3.55537683e-01, 6.30922973e-01],\n",
       "       [6.53087050e-02, 6.16095722e-01, 3.18595558e-01],\n",
       "       [7.52302306e-03, 2.75539756e-01, 7.16937184e-01],\n",
       "       [1.46948611e-02, 3.54590178e-01, 6.30714893e-01],\n",
       "       [7.13825971e-02, 6.74361527e-01, 2.54255861e-01],\n",
       "       [9.01303254e-03, 3.06778789e-01, 6.84208274e-01],\n",
       "       [1.76525936e-02, 3.30369681e-01, 6.51977777e-01],\n",
       "       [7.89536461e-02, 5.34022331e-01, 3.87024015e-01],\n",
       "       [9.34884965e-01, 6.50697500e-02, 4.52489221e-05],\n",
       "       [1.00744240e-01, 6.84492111e-01, 2.14763626e-01],\n",
       "       [9.51990843e-01, 4.79803048e-02, 2.87871771e-05],\n",
       "       [1.03896335e-01, 7.10478127e-01, 1.85625508e-01],\n",
       "       [9.65673745e-01, 3.43149789e-02, 1.12474572e-05],\n",
       "       [8.12880788e-03, 2.67859489e-01, 7.24011719e-01],\n",
       "       [4.35745940e-02, 5.47109485e-01, 4.09315825e-01],\n",
       "       [8.47517885e-03, 2.96509027e-01, 6.95015728e-01],\n",
       "       [1.00359850e-01, 6.46657944e-01, 2.52982169e-01],\n",
       "       [3.57854128e-01, 5.74153900e-01, 6.79919794e-02],\n",
       "       [9.28154886e-01, 7.17381313e-02, 1.07005537e-04],\n",
       "       [1.10395581e-01, 6.50739372e-01, 2.38865018e-01],\n",
       "       [6.26465492e-03, 3.19296211e-01, 6.74439132e-01],\n",
       "       [2.94728447e-02, 4.98028874e-01, 4.72498327e-01],\n",
       "       [1.43610790e-01, 6.78900361e-01, 1.77488908e-01],\n",
       "       [7.08284462e-03, 3.24782342e-01, 6.68134868e-01],\n",
       "       [1.88562885e-01, 6.31380916e-01, 1.80056125e-01],\n",
       "       [7.65054747e-02, 5.62527478e-01, 3.60966951e-01],\n",
       "       [9.62749004e-01, 3.72356810e-02, 1.53859382e-05],\n",
       "       [4.79297899e-02, 5.78119218e-01, 3.73950988e-01],\n",
       "       [9.26764786e-01, 7.31349513e-02, 1.00176956e-04],\n",
       "       [2.38799639e-02, 3.87370199e-01, 5.88749826e-01],\n",
       "       [2.96978746e-02, 4.43568856e-01, 5.26733220e-01],\n",
       "       [9.10738930e-02, 6.63816392e-01, 2.45109737e-01],\n",
       "       [5.35729863e-02, 5.88693559e-01, 3.57733458e-01],\n",
       "       [1.12196945e-01, 6.46131516e-01, 2.41671607e-01],\n",
       "       [8.93453043e-03, 2.67772108e-01, 7.23293424e-01],\n",
       "       [9.51972425e-01, 4.79963534e-02, 3.12448974e-05],\n",
       "       [1.06185218e-02, 2.82321364e-01, 7.07060099e-01],\n",
       "       [6.48609474e-02, 5.29896617e-01, 4.05242413e-01],\n",
       "       [9.43863988e-01, 5.60837314e-02, 5.23004855e-05],\n",
       "       [9.70640481e-01, 2.93505583e-02, 8.93593551e-06],\n",
       "       [9.07430828e-01, 9.24163684e-02, 1.52890876e-04],\n",
       "       [9.52681005e-01, 4.72806692e-02, 3.82803410e-05],\n",
       "       [5.04852533e-02, 6.46495819e-01, 3.03018838e-01]], dtype=float32)"
      ]
     },
     "execution_count": 15,
     "metadata": {},
     "output_type": "execute_result"
    }
   ],
   "source": [
    "prediction=model.predict(y_test)\n",
    "prediction"
   ]
  },
  {
   "cell_type": "code",
   "execution_count": 16,
   "metadata": {},
   "outputs": [
    {
     "data": {
      "text/plain": [
       "1.0"
      ]
     },
     "execution_count": 16,
     "metadata": {},
     "output_type": "execute_result"
    }
   ],
   "source": [
    "prediction[0].sum()"
   ]
  },
  {
   "cell_type": "code",
   "execution_count": 17,
   "metadata": {},
   "outputs": [
    {
     "ename": "NameError",
     "evalue": "name 'train_images' is not defined",
     "output_type": "error",
     "traceback": [
      "\u001b[1;31m---------------------------------------------------------------------------\u001b[0m",
      "\u001b[1;31mNameError\u001b[0m                                 Traceback (most recent call last)",
      "\u001b[1;32m<ipython-input-17-94619515d07b>\u001b[0m in \u001b[0;36m<module>\u001b[1;34m\u001b[0m\n\u001b[1;32m----> 1\u001b[1;33m \u001b[0mdigit\u001b[0m\u001b[1;33m=\u001b[0m\u001b[0mtrain_images\u001b[0m\u001b[1;33m[\u001b[0m\u001b[1;36m5\u001b[0m\u001b[1;33m]\u001b[0m\u001b[1;33m\u001b[0m\u001b[1;33m\u001b[0m\u001b[0m\n\u001b[0m\u001b[0;32m      2\u001b[0m \u001b[1;32mimport\u001b[0m \u001b[0mmatplotlib\u001b[0m\u001b[1;33m.\u001b[0m\u001b[0mpyplot\u001b[0m \u001b[1;32mas\u001b[0m \u001b[0mplt\u001b[0m\u001b[1;33m\u001b[0m\u001b[1;33m\u001b[0m\u001b[0m\n\u001b[0;32m      3\u001b[0m \u001b[0mplt\u001b[0m\u001b[1;33m.\u001b[0m\u001b[0mimshow\u001b[0m\u001b[1;33m(\u001b[0m\u001b[0mdigit\u001b[0m\u001b[1;33m,\u001b[0m\u001b[0mcmap\u001b[0m\u001b[1;33m=\u001b[0m\u001b[0mplt\u001b[0m\u001b[1;33m.\u001b[0m\u001b[0mcm\u001b[0m\u001b[1;33m.\u001b[0m\u001b[0mbinary\u001b[0m\u001b[1;33m)\u001b[0m\u001b[1;33m\u001b[0m\u001b[1;33m\u001b[0m\u001b[0m\n\u001b[0;32m      4\u001b[0m \u001b[0mplt\u001b[0m\u001b[1;33m.\u001b[0m\u001b[0mshow\u001b[0m\u001b[1;33m(\u001b[0m\u001b[1;33m)\u001b[0m\u001b[1;33m\u001b[0m\u001b[1;33m\u001b[0m\u001b[0m\n",
      "\u001b[1;31mNameError\u001b[0m: name 'train_images' is not defined"
     ]
    }
   ],
   "source": [
    "digit=train_images[5]\n",
    "import matplotlib.pyplot as plt\n",
    "plt.imshow(digit,cmap=plt.cm.binary)\n",
    "plt.show()"
   ]
  },
  {
   "cell_type": "code",
   "execution_count": null,
   "metadata": {},
   "outputs": [],
   "source": []
  }
 ],
 "metadata": {
  "kernelspec": {
   "display_name": "Python 3",
   "language": "python",
   "name": "python3"
  },
  "language_info": {
   "codemirror_mode": {
    "name": "ipython",
    "version": 3
   },
   "file_extension": ".py",
   "mimetype": "text/x-python",
   "name": "python",
   "nbconvert_exporter": "python",
   "pygments_lexer": "ipython3",
   "version": "3.7.3"
  }
 },
 "nbformat": 4,
 "nbformat_minor": 2
}
